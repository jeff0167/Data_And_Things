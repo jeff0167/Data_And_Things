{
 "cells": [
  {
   "cell_type": "code",
   "execution_count": 2,
   "metadata": {},
   "outputs": [
    {
     "name": "stdout",
     "output_type": "stream",
     "text": [
      "WARNING:tensorflow:From c:\\Users\\Bobby\\anaconda3\\envs\\Python_3_10_16\\lib\\site-packages\\tf_keras\\src\\losses.py:2976: The name tf.losses.sparse_softmax_cross_entropy is deprecated. Please use tf.compat.v1.losses.sparse_softmax_cross_entropy instead.\n",
      "\n"
     ]
    }
   ],
   "source": [
    "import numpy as np\n",
    "from sentence_transformers import SentenceTransformer\n",
    "from sklearn.metrics.pairwise import cosine_similarity\n",
    "\n",
    "from sklearn.model_selection import train_test_split\n",
    "from sklearn.ensemble import RandomForestClassifier\n",
    "from sklearn.metrics import accuracy_score, classification_report\n",
    "from sentence_transformers import SentenceTransformer\n",
    "from sklearn.feature_extraction.text import TfidfVectorizer\n",
    "from datasets import load_dataset\n",
    "from nltk.tokenize import word_tokenize\n",
    "import re"
   ]
  },
  {
   "cell_type": "markdown",
   "metadata": {},
   "source": [
    "Task\n",
    "1. Creat a RAG pipeline that can take following text and answer following questions\n",
    "2. Try different types of chunking to get better answers?\n",
    "3. Does asking questions differently give better answers? Why?\n",
    "4. Try a different similarity search instead of cosine similarity - do the answers improve?\n",
    "\n"
   ]
  },
  {
   "cell_type": "code",
   "execution_count": 3,
   "metadata": {},
   "outputs": [],
   "source": [
    "sample_text = \"\"\"\n",
    "The Amazon rainforest is the largest tropical rainforest in the world, covering approximately 5.5 million square kilometers. It spans across nine countries, including Brazil, Peru, and Colombia. The rainforest is home to around 10% of the known species on Earth, including jaguars, sloths, and thousands of species of insects and birds.\n",
    "\n",
    "Deforestation is a significant threat to the Amazon, with thousands of square kilometers lost each year due to agriculture, logging, and urbanization. This deforestation contributes to climate change, as the rainforest acts as a major carbon sink, absorbing millions of tons of carbon dioxide annually.\n",
    "\n",
    "Indigenous tribes have lived in the Amazon for thousands of years, relying on its rich biodiversity for food, medicine, and shelter. These tribes have unique languages, traditions, and knowledge of the ecosystem. However, many face threats from illegal land encroachment and industrial activities.\n",
    "\n",
    "Scientists believe that the Amazon plays a crucial role in global weather patterns by releasing water vapor into the atmosphere, which influences rainfall across South America and even other continents. The Amazon River, which flows through the rainforest, is the second longest river in the world and carries more water than any other river.\n",
    "\n",
    "Efforts to protect the Amazon include international agreements, conservation programs, and sustainable development projects that aim to balance economic growth with environmental protection. Many organizations and governments are working to reduce illegal logging and promote reforestation initiatives.\n",
    "\"\"\""
   ]
  },
  {
   "cell_type": "code",
   "execution_count": 4,
   "metadata": {},
   "outputs": [],
   "source": [
    "questions = [\n",
    "    \"What is the Amazon rainforest?\",\n",
    "    \"Which countries does the Amazon span across?\",\n",
    "    \"Why is deforestation a problem in the Amazon?\",\n",
    "    \"How does the Amazon rainforest affect global weather patterns?\",\n",
    "    \"What role do indigenous tribes play in the Amazon?\",\n",
    "    \"What is the importance of the Amazon River?\",\n",
    "    \"What types of wildlife can be found in the Amazon?\",\n",
    "    \"How does deforestation contribute to climate change?\",\n",
    "    \"What efforts are being made to protect the Amazon?\",\n",
    "    \"Why is the Amazon considered a major carbon sink?\"\n",
    "]"
   ]
  },
  {
   "cell_type": "markdown",
   "metadata": {},
   "source": [
    "### 1. Creat a RAG pipeline that can take following text and answer following questions"
   ]
  },
  {
   "cell_type": "code",
   "execution_count": 5,
   "metadata": {},
   "outputs": [],
   "source": [
    "MODEL_NAME = \"sentence-transformers/all-MiniLM-L6-v2\"\n",
    "model = SentenceTransformer(MODEL_NAME)"
   ]
  },
  {
   "cell_type": "code",
   "execution_count": null,
   "metadata": {},
   "outputs": [],
   "source": [
    "# Function to generate embeddings\n",
    "def get_transformer_embeddings(texts):\n",
    "    return model.encode(texts, convert_to_numpy=True)\n",
    "\n",
    "# Function to retrieve relevant passage\n",
    "def retrieve_passage(stored_texts, stored_embeddings, query):\n",
    "    query_embedding = get_transformer_embeddings([query])\n",
    "\n",
    "    similarities = cosine_similarity(query_embedding, stored_embeddings)[0]  # Ensure correct shape\n",
    "    best_match_idx = np.argmax(similarities)\n",
    "    return stored_texts[best_match_idx]\n",
    "\n",
    "# Function to answer questions based on stored content\n",
    "def answer_question(stored_texts, stored_embeddings, query):\n",
    "    relevant_passage = retrieve_passage(stored_texts, stored_embeddings, query)\n",
    "    return relevant_passage"
   ]
  },
  {
   "cell_type": "code",
   "execution_count": 7,
   "metadata": {},
   "outputs": [],
   "source": [
    "def RAG_pipeline(stored_texts, stored_embeddings):\n",
    "    \n",
    "    print(\"\\nSample Questions and Answers:\\n\")\n",
    "    for question in questions:        \n",
    "        response = answer_question(stored_texts, stored_embeddings, question)\n",
    "        print(f\"Q: {question}\\nA: {response}\\n\")"
   ]
  },
  {
   "cell_type": "markdown",
   "metadata": {},
   "source": [
    "### 2. Try different types of chunking to get better answers?"
   ]
  },
  {
   "cell_type": "code",
   "execution_count": 8,
   "metadata": {},
   "outputs": [],
   "source": [
    "# Function to split text into meaningful chunks (paragraphs)\n",
    "def split_text(text):\n",
    "    return [para.strip() for para in re.split(\"\\n+\", text) if para.strip()]\n",
    "\n",
    "# Store document embeddings\n",
    "stored_texts = split_text(sample_text)  # Store each paragraph separately\n",
    "stored_embeddings = model.encode(stored_texts, convert_to_numpy=True)  # Store embeddings for each chunk"
   ]
  },
  {
   "cell_type": "code",
   "execution_count": 39,
   "metadata": {},
   "outputs": [
    {
     "data": {
      "text/plain": [
       "['The Amazon rainforest is the largest tropical rainforest in the world, covering approximately 5.5 million square kilometers. It spans across nine countries, including Brazil, Peru, and Colombia. The rainforest is home to around 10% of the known species on Earth, including jaguars, sloths, and thousands of species of insects and birds.',\n",
       " 'Deforestation is a significant threat to the Amazon, with thousands of square kilometers lost each year due to agriculture, logging, and urbanization. This deforestation contributes to climate change, as the rainforest acts as a major carbon sink, absorbing millions of tons of carbon dioxide annually.',\n",
       " 'Indigenous tribes have lived in the Amazon for thousands of years, relying on its rich biodiversity for food, medicine, and shelter. These tribes have unique languages, traditions, and knowledge of the ecosystem. However, many face threats from illegal land encroachment and industrial activities.',\n",
       " 'Scientists believe that the Amazon plays a crucial role in global weather patterns by releasing water vapor into the atmosphere, which influences rainfall across South America and even other continents. The Amazon River, which flows through the rainforest, is the second longest river in the world and carries more water than any other river.',\n",
       " 'Efforts to protect the Amazon include international agreements, conservation programs, and sustainable development projects that aim to balance economic growth with environmental protection. Many organizations and governments are working to reduce illegal logging and promote reforestation initiatives.']"
      ]
     },
     "execution_count": 39,
     "metadata": {},
     "output_type": "execute_result"
    }
   ],
   "source": [
    "stored_texts"
   ]
  },
  {
   "cell_type": "code",
   "execution_count": 11,
   "metadata": {},
   "outputs": [
    {
     "name": "stdout",
     "output_type": "stream",
     "text": [
      "\n",
      "Sample Questions and Answers:\n",
      "\n",
      "Q: What is the Amazon rainforest?\n",
      "A: The Amazon rainforest is the largest tropical rainforest in the world, covering approximately 5.5 million square kilometers. It spans across nine countries, including Brazil, Peru, and Colombia. The rainforest is home to around 10% of the known species on Earth, including jaguars, sloths, and thousands of species of insects and birds.\n",
      "\n",
      "Q: Which countries does the Amazon span across?\n",
      "A: The Amazon rainforest is the largest tropical rainforest in the world, covering approximately 5.5 million square kilometers. It spans across nine countries, including Brazil, Peru, and Colombia. The rainforest is home to around 10% of the known species on Earth, including jaguars, sloths, and thousands of species of insects and birds.\n",
      "\n",
      "Q: Why is deforestation a problem in the Amazon?\n",
      "A: The Amazon rainforest is the largest tropical rainforest in the world, covering approximately 5.5 million square kilometers. It spans across nine countries, including Brazil, Peru, and Colombia. The rainforest is home to around 10% of the known species on Earth, including jaguars, sloths, and thousands of species of insects and birds.\n",
      "\n",
      "Q: How does the Amazon rainforest affect global weather patterns?\n",
      "A: The Amazon rainforest is the largest tropical rainforest in the world, covering approximately 5.5 million square kilometers. It spans across nine countries, including Brazil, Peru, and Colombia. The rainforest is home to around 10% of the known species on Earth, including jaguars, sloths, and thousands of species of insects and birds.\n",
      "\n",
      "Q: What role do indigenous tribes play in the Amazon?\n",
      "A: The Amazon rainforest is the largest tropical rainforest in the world, covering approximately 5.5 million square kilometers. It spans across nine countries, including Brazil, Peru, and Colombia. The rainforest is home to around 10% of the known species on Earth, including jaguars, sloths, and thousands of species of insects and birds.\n",
      "\n",
      "Q: What is the importance of the Amazon River?\n",
      "A: The Amazon rainforest is the largest tropical rainforest in the world, covering approximately 5.5 million square kilometers. It spans across nine countries, including Brazil, Peru, and Colombia. The rainforest is home to around 10% of the known species on Earth, including jaguars, sloths, and thousands of species of insects and birds.\n",
      "\n",
      "Q: What types of wildlife can be found in the Amazon?\n",
      "A: The Amazon rainforest is the largest tropical rainforest in the world, covering approximately 5.5 million square kilometers. It spans across nine countries, including Brazil, Peru, and Colombia. The rainforest is home to around 10% of the known species on Earth, including jaguars, sloths, and thousands of species of insects and birds.\n",
      "\n",
      "Q: How does deforestation contribute to climate change?\n",
      "A: The Amazon rainforest is the largest tropical rainforest in the world, covering approximately 5.5 million square kilometers. It spans across nine countries, including Brazil, Peru, and Colombia. The rainforest is home to around 10% of the known species on Earth, including jaguars, sloths, and thousands of species of insects and birds.\n",
      "\n",
      "Q: What efforts are being made to protect the Amazon?\n",
      "A: The Amazon rainforest is the largest tropical rainforest in the world, covering approximately 5.5 million square kilometers. It spans across nine countries, including Brazil, Peru, and Colombia. The rainforest is home to around 10% of the known species on Earth, including jaguars, sloths, and thousands of species of insects and birds.\n",
      "\n",
      "Q: Why is the Amazon considered a major carbon sink?\n",
      "A: The Amazon rainforest is the largest tropical rainforest in the world, covering approximately 5.5 million square kilometers. It spans across nine countries, including Brazil, Peru, and Colombia. The rainforest is home to around 10% of the known species on Earth, including jaguars, sloths, and thousands of species of insects and birds.\n",
      "\n"
     ]
    }
   ],
   "source": [
    "RAG_pipeline(stored_texts, stored_embeddings)"
   ]
  },
  {
   "cell_type": "code",
   "execution_count": 46,
   "metadata": {},
   "outputs": [],
   "source": [
    "#Alternative form of chunking\n",
    "\n",
    "# Function to split text into meaningful chunks (sentences)\n",
    "def split_text(text):\n",
    "    sentences = re.split(r'(?<!\\w\\.\\w.)(?<![A-Z][a-z]\\.)(?<=\\.|\\?)\\s', text)\n",
    "    return [sentence.strip() for sentence in sentences if sentence.strip()]\n",
    "\n",
    "# Store document embeddings\n",
    "stored_texts = split_text(sample_text)  # Store each sentence separately\n",
    "stored_embeddings = model.encode(stored_texts, convert_to_numpy=True)  # Store embeddings for each chunk"
   ]
  },
  {
   "cell_type": "code",
   "execution_count": 35,
   "metadata": {},
   "outputs": [
    {
     "data": {
      "text/plain": [
       "['The Amazon rainforest is the largest tropical rainforest in the world, covering approximately 5.5 million square kilometers.',\n",
       " 'It spans across nine countries, including Brazil, Peru, and Colombia.',\n",
       " 'The rainforest is home to around 10% of the known species on Earth, including jaguars, sloths, and thousands of species of insects and birds.',\n",
       " 'Deforestation is a significant threat to the Amazon, with thousands of square kilometers lost each year due to agriculture, logging, and urbanization.',\n",
       " 'This deforestation contributes to climate change, as the rainforest acts as a major carbon sink, absorbing millions of tons of carbon dioxide annually.',\n",
       " 'Indigenous tribes have lived in the Amazon for thousands of years, relying on its rich biodiversity for food, medicine, and shelter.',\n",
       " 'These tribes have unique languages, traditions, and knowledge of the ecosystem.',\n",
       " 'However, many face threats from illegal land encroachment and industrial activities.',\n",
       " 'Scientists believe that the Amazon plays a crucial role in global weather patterns by releasing water vapor into the atmosphere, which influences rainfall across South America and even other continents.',\n",
       " 'The Amazon River, which flows through the rainforest, is the second longest river in the world and carries more water than any other river.',\n",
       " 'Efforts to protect the Amazon include international agreements, conservation programs, and sustainable development projects that aim to balance economic growth with environmental protection.',\n",
       " 'Many organizations and governments are working to reduce illegal logging and promote reforestation initiatives.']"
      ]
     },
     "execution_count": 35,
     "metadata": {},
     "output_type": "execute_result"
    }
   ],
   "source": [
    "stored_texts"
   ]
  },
  {
   "cell_type": "code",
   "execution_count": 47,
   "metadata": {},
   "outputs": [
    {
     "name": "stdout",
     "output_type": "stream",
     "text": [
      "\n",
      "Sample Questions and Answers:\n",
      "\n",
      "Q: What is the Amazon rainforest?\n",
      "A: The Amazon rainforest is the largest tropical rainforest in the world, covering approximately 5.5 million square kilometers.\n",
      "\n",
      "Q: Which countries does the Amazon span across?\n",
      "A: It spans across nine countries, including Brazil, Peru, and Colombia.\n",
      "\n",
      "Q: Why is deforestation a problem in the Amazon?\n",
      "A: Deforestation is a significant threat to the Amazon, with thousands of square kilometers lost each year due to agriculture, logging, and urbanization.\n",
      "\n",
      "Q: How does the Amazon rainforest affect global weather patterns?\n",
      "A: Scientists believe that the Amazon plays a crucial role in global weather patterns by releasing water vapor into the atmosphere, which influences rainfall across South America and even other continents.\n",
      "\n",
      "Q: What role do indigenous tribes play in the Amazon?\n",
      "A: Indigenous tribes have lived in the Amazon for thousands of years, relying on its rich biodiversity for food, medicine, and shelter.\n",
      "\n",
      "Q: What is the importance of the Amazon River?\n",
      "A: The Amazon River, which flows through the rainforest, is the second longest river in the world and carries more water than any other river.\n",
      "\n",
      "Q: What types of wildlife can be found in the Amazon?\n",
      "A: Indigenous tribes have lived in the Amazon for thousands of years, relying on its rich biodiversity for food, medicine, and shelter.\n",
      "\n",
      "Q: How does deforestation contribute to climate change?\n",
      "A: This deforestation contributes to climate change, as the rainforest acts as a major carbon sink, absorbing millions of tons of carbon dioxide annually.\n",
      "\n",
      "Q: What efforts are being made to protect the Amazon?\n",
      "A: Efforts to protect the Amazon include international agreements, conservation programs, and sustainable development projects that aim to balance economic growth with environmental protection.\n",
      "\n",
      "Q: Why is the Amazon considered a major carbon sink?\n",
      "A: This deforestation contributes to climate change, as the rainforest acts as a major carbon sink, absorbing millions of tons of carbon dioxide annually.\n",
      "\n"
     ]
    }
   ],
   "source": [
    "RAG_pipeline(stored_texts, stored_embeddings)"
   ]
  },
  {
   "cell_type": "code",
   "execution_count": null,
   "metadata": {},
   "outputs": [],
   "source": [
    "#Alternative form of chunking\n",
    "\n",
    "# Function to split text into meaningful chunks (sentences)\n",
    "def split_text(text):\n",
    "    sentences = re.split(r'(?<!\\w\\.\\w.)(?<![A-Z][a-z]\\.)(?<=\\.|\\?)\\s', text)\n",
    "    return [sentence.strip() for sentence in sentences if sentence.strip()]\n",
    "\n",
    "# Store document embeddings\n",
    "stored_texts = split_text(sample_text)  # Store each sentence separately\n",
    "stored_embeddings = model.encode(stored_texts, convert_to_numpy=True)  # Store embeddings for each chunk"
   ]
  },
  {
   "cell_type": "code",
   "execution_count": null,
   "metadata": {},
   "outputs": [],
   "source": [
    "stored_texts"
   ]
  },
  {
   "cell_type": "code",
   "execution_count": null,
   "metadata": {},
   "outputs": [],
   "source": [
    "RAG_pipeline(stored_texts, stored_embeddings)"
   ]
  },
  {
   "cell_type": "markdown",
   "metadata": {},
   "source": [
    "### 4. Try a different similarity search instead of cosine similarity - do the answers improve?"
   ]
  },
  {
   "cell_type": "code",
   "execution_count": null,
   "metadata": {},
   "outputs": [],
   "source": [
    "# try for one tf_idf, more, need to find what else"
   ]
  },
  {
   "cell_type": "code",
   "execution_count": null,
   "metadata": {},
   "outputs": [],
   "source": [
    "def euclidean_distance(vec1, vec2):\n",
    "    #Calculates the Euclidean distance between two vectors\n",
    "    return np.linalg.norm(vec1 - vec2)\n",
    "\n",
    "# Function to generate embeddings\n",
    "def get_transformer_embeddings2(texts):\n",
    "    return model.encode(texts, convert_to_numpy=True)\n",
    "\n",
    "# Function to retrieve relevant passage\n",
    "def retrieve_passage2(stored_texts, stored_embeddings, query):\n",
    "    query_embedding = get_transformer_embeddings2([query])\n",
    "    distances = [euclidean_distance(query_embedding, stored_vec) for stored_vec in stored_embeddings]\n",
    "    best_match_idx = np.argmin(distances)\n",
    "\n",
    "    return stored_texts[best_match_idx]\n",
    "\n",
    "# Function to answer questions based on stored content\n",
    "def answer_question2(stored_texts, stored_embeddings, query):\n",
    "    relevant_passage = retrieve_passage2(stored_texts, stored_embeddings, query)\n",
    "    return relevant_passage"
   ]
  },
  {
   "cell_type": "code",
   "execution_count": null,
   "metadata": {},
   "outputs": [],
   "source": [
    "def tf_idf(_max_features=5000): # how would you use this?, send this INTO the cosine similarity\n",
    "    vectorizer = TfidfVectorizer(max_features=_max_features) # max_features: Builds a vocabulary that only considers the top max_features ordered by term frequency across the corpus.\n",
    "    X_train_tfidf = vectorizer.fit_transform(train_texts).toarray() # The optimal value depends on the size and characteristics of your dataset.\n",
    "    X_test_tfidf = vectorizer.transform(test_texts).toarray()\n",
    "    return X_train_tfidf, X_test_tfidf"
   ]
  },
  {
   "cell_type": "markdown",
   "metadata": {},
   "source": [
    "# something like this example "
   ]
  },
  {
   "cell_type": "code",
   "execution_count": null,
   "metadata": {},
   "outputs": [],
   "source": [
    "vectorizer = TfidfVectorizer()\n",
    "tfidf_matrix = vectorizer.fit_transform(stored_texts)\n",
    "\n",
    "query = \"The sky is very blue.\"\n",
    "query_vector = vectorizer.transform([query])\n",
    "\n",
    "similarities = cosine_similarity(query_vector, tfidf_matrix)\n",
    "\n",
    "# Get the most similar document\n",
    "most_similar_index = similarities.argmax()\n",
    "stored_texts[most_similar_index]"
   ]
  }
 ],
 "metadata": {
  "kernelspec": {
   "display_name": "Python_3_10_16",
   "language": "python",
   "name": "python3"
  },
  "language_info": {
   "codemirror_mode": {
    "name": "ipython",
    "version": 3
   },
   "file_extension": ".py",
   "mimetype": "text/x-python",
   "name": "python",
   "nbconvert_exporter": "python",
   "pygments_lexer": "ipython3",
   "version": "3.10.16"
  }
 },
 "nbformat": 4,
 "nbformat_minor": 4
}
