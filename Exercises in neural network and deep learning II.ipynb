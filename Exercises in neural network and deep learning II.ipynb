{
 "cells": [
  {
   "cell_type": "markdown",
   "id": "5499e3da-49fb-40eb-ac1b-472cf868e000",
   "metadata": {},
   "source": [
    "# Exercises in neural network and deep learning II"
   ]
  },
  {
   "cell_type": "code",
   "execution_count": 239,
   "id": "6cbcd5e5-5836-48d4-bce6-bb9f1e72db14",
   "metadata": {},
   "outputs": [],
   "source": [
    "import numpy as np\n",
    "import pandas as pd\n",
    "import matplotlib.pyplot as plt\n",
    "from sklearn import metrics\n",
    "from sklearn.preprocessing import StandardScaler\n",
    "from sklearn.model_selection import train_test_split\n",
    "from sklearn.metrics import confusion_matrix, f1_score\n",
    "from sklearn.metrics import ConfusionMatrixDisplay\n",
    "\n",
    "from tensorflow import keras\n",
    "from tensorflow.keras import layers"
   ]
  },
  {
   "cell_type": "markdown",
   "id": "1d345f40-333b-4d72-b05c-ec4068174d62",
   "metadata": {},
   "source": [
    "## Exercise 1\n",
    "\n",
    "In this exercise, we will use the titanic dataset to build a neural network classifier for the target variable `Survived`. In this exercise, all the necessary steps are broken down to small individual task you should do. So, do the following tasks:\n",
    "\n",
    "1. Load in the titanic dataset (on Moodle as \"titanic_survival_data.csv\"), select the columns \"Pclass\", \"Sex\", \"Age\", and \"Fare\" for the feature set X and \"Survived\" for the target variable y.\n",
    "2. For the columns \"Age\" and \"Fare\", replace the missing values with the column's mean.\n",
    "3. Turn the variables \"Pclass\" and \"Sex\" into dummy variables.\n",
    "4. Do a train-test split of the data\n",
    "5. Scale the X training dataset, using the standard scaler.\n",
    "6. Transform the X test dataset with the same scaler fitted in task 5.\n",
    "7. Turn the training and test data (both Xs and ys) into numpy arrays using the method `.to_numpy()`.\n",
    "8. Create a neural network model with two hidden dense layers with 16 neurons in each and the `relu` activation function. The final output layer should have one neuron and the `sigmoid` activation function.\n",
    "9. Train the model for 50 epochs with a batch size of 64. Instead of creating a validation set before training the model, we can give it as an argument to the fit method, that it should set aside, let's say, 20% of the training data for validation. Do this by providing the argument `validation_split=0.2` to the fit method.\n",
    "10. Plot the training and validation loss and decide on a best number of epochs.\n",
    "11. Rebuild and retrain the model for the number of epochs decided in task 10 above.\n",
    "12. Evaluate the model on the test dataset to get the test accuracy.\n",
    "13. Calculate precision, recall, and f1-score for the model on the test dataset.\n",
    "14. Plot the Confusion matrix for the test dataset."
   ]
  },
  {
   "cell_type": "markdown",
   "id": "dd0d3828-5323-442a-b157-b9de77f8a3fa",
   "metadata": {},
   "source": [
    "### 1. Load in the titanic dataset (on Moodle as \"titanic_survival_data.csv\"), select the columns \"Pclass\", \"Sex\", \"Age\", and \"Fare\" for the feature set X and \"Survived\" for the target variable y."
   ]
  },
  {
   "cell_type": "code",
   "execution_count": 106,
   "id": "1ce3ca37-39dc-4009-8437-eacf43051867",
   "metadata": {},
   "outputs": [],
   "source": [
    "df = pd.read_csv(\"../Notebooks and data-15/titanic_survival_data.csv\")"
   ]
  },
  {
   "cell_type": "code",
   "execution_count": 107,
   "id": "e9982660-776f-45f9-bf0b-38ad0424bfdb",
   "metadata": {},
   "outputs": [
    {
     "data": {
      "text/html": [
       "<div>\n",
       "<style scoped>\n",
       "    .dataframe tbody tr th:only-of-type {\n",
       "        vertical-align: middle;\n",
       "    }\n",
       "\n",
       "    .dataframe tbody tr th {\n",
       "        vertical-align: top;\n",
       "    }\n",
       "\n",
       "    .dataframe thead th {\n",
       "        text-align: right;\n",
       "    }\n",
       "</style>\n",
       "<table border=\"1\" class=\"dataframe\">\n",
       "  <thead>\n",
       "    <tr style=\"text-align: right;\">\n",
       "      <th></th>\n",
       "      <th>Pclass</th>\n",
       "      <th>Sex</th>\n",
       "      <th>Age</th>\n",
       "      <th>Fare</th>\n",
       "    </tr>\n",
       "  </thead>\n",
       "  <tbody>\n",
       "    <tr>\n",
       "      <th>0</th>\n",
       "      <td>3</td>\n",
       "      <td>male</td>\n",
       "      <td>22.0</td>\n",
       "      <td>7.250</td>\n",
       "    </tr>\n",
       "    <tr>\n",
       "      <th>1</th>\n",
       "      <td>1</td>\n",
       "      <td>female</td>\n",
       "      <td>38.0</td>\n",
       "      <td>712.833</td>\n",
       "    </tr>\n",
       "    <tr>\n",
       "      <th>2</th>\n",
       "      <td>3</td>\n",
       "      <td>female</td>\n",
       "      <td>26.0</td>\n",
       "      <td>7.925</td>\n",
       "    </tr>\n",
       "    <tr>\n",
       "      <th>3</th>\n",
       "      <td>1</td>\n",
       "      <td>female</td>\n",
       "      <td>35.0</td>\n",
       "      <td>53.100</td>\n",
       "    </tr>\n",
       "    <tr>\n",
       "      <th>4</th>\n",
       "      <td>3</td>\n",
       "      <td>male</td>\n",
       "      <td>35.0</td>\n",
       "      <td>8.050</td>\n",
       "    </tr>\n",
       "  </tbody>\n",
       "</table>\n",
       "</div>"
      ],
      "text/plain": [
       "   Pclass     Sex   Age     Fare\n",
       "0       3    male  22.0    7.250\n",
       "1       1  female  38.0  712.833\n",
       "2       3  female  26.0    7.925\n",
       "3       1  female  35.0   53.100\n",
       "4       3    male  35.0    8.050"
      ]
     },
     "execution_count": 107,
     "metadata": {},
     "output_type": "execute_result"
    }
   ],
   "source": [
    "X = df[[\"Pclass\", \"Sex\", \"Age\", \"Fare\"]]\n",
    "X.head(5)"
   ]
  },
  {
   "cell_type": "code",
   "execution_count": 108,
   "id": "ebcfb7b5-04a3-4d55-a695-cd53b8f08c5e",
   "metadata": {},
   "outputs": [],
   "source": [
    "y = df[\"Survived\"]"
   ]
  },
  {
   "cell_type": "markdown",
   "id": "7e1cb34e-31a6-4b0d-9754-9b14e4a81711",
   "metadata": {},
   "source": [
    "### 2. For the columns \"Age\" and \"Fare\", replace the missing values with the column's mean."
   ]
  },
  {
   "cell_type": "code",
   "execution_count": 109,
   "id": "2d434bc5-15fa-4d01-9355-d2bbc7885060",
   "metadata": {},
   "outputs": [
    {
     "data": {
      "text/plain": [
       "Pclass      0\n",
       "Sex         0\n",
       "Age       177\n",
       "Fare       23\n",
       "dtype: int64"
      ]
     },
     "execution_count": 109,
     "metadata": {},
     "output_type": "execute_result"
    }
   ],
   "source": [
    "X.isna().sum()"
   ]
  },
  {
   "cell_type": "code",
   "execution_count": 110,
   "id": "8c2db4f2-19e2-41d6-9606-3563322e860a",
   "metadata": {},
   "outputs": [],
   "source": [
    "import warnings\n",
    "warnings.filterwarnings(\"ignore\")\n",
    "X[\"Age\"].fillna((X[\"Age\"].mean()), inplace=True) "
   ]
  },
  {
   "cell_type": "code",
   "execution_count": 111,
   "id": "04d0aace-3c12-44d4-a488-f2540c4d6d3a",
   "metadata": {},
   "outputs": [],
   "source": [
    "X[\"Fare\"].fillna((X[\"Fare\"].mean()), inplace=True)"
   ]
  },
  {
   "cell_type": "markdown",
   "id": "4cfd52a0-0d8d-4b0d-a490-85e603d4abe8",
   "metadata": {},
   "source": [
    "### 3. Turn the variables \"Pclass\" and \"Sex\" into dummy variables."
   ]
  },
  {
   "cell_type": "code",
   "execution_count": 112,
   "id": "4c54ca03-7ed2-46a5-88a4-042a90ffe4da",
   "metadata": {},
   "outputs": [],
   "source": [
    "X = X.join(pd.get_dummies(X[\"Pclass\"], drop_first=True, dtype=int))\n",
    "X = X.join(pd.get_dummies(X[\"Sex\"], drop_first=True, dtype=int))\n",
    "X = X.drop(columns = [\"Pclass\", \"Sex\"])"
   ]
  },
  {
   "cell_type": "code",
   "execution_count": 113,
   "id": "84eea28e-2391-4747-8ec9-5841f86fb463",
   "metadata": {},
   "outputs": [
    {
     "data": {
      "text/html": [
       "<div>\n",
       "<style scoped>\n",
       "    .dataframe tbody tr th:only-of-type {\n",
       "        vertical-align: middle;\n",
       "    }\n",
       "\n",
       "    .dataframe tbody tr th {\n",
       "        vertical-align: top;\n",
       "    }\n",
       "\n",
       "    .dataframe thead th {\n",
       "        text-align: right;\n",
       "    }\n",
       "</style>\n",
       "<table border=\"1\" class=\"dataframe\">\n",
       "  <thead>\n",
       "    <tr style=\"text-align: right;\">\n",
       "      <th></th>\n",
       "      <th>Age</th>\n",
       "      <th>Fare</th>\n",
       "      <th>2</th>\n",
       "      <th>3</th>\n",
       "      <th>male</th>\n",
       "    </tr>\n",
       "  </thead>\n",
       "  <tbody>\n",
       "    <tr>\n",
       "      <th>0</th>\n",
       "      <td>22.000000</td>\n",
       "      <td>7.250</td>\n",
       "      <td>0</td>\n",
       "      <td>1</td>\n",
       "      <td>1</td>\n",
       "    </tr>\n",
       "    <tr>\n",
       "      <th>1</th>\n",
       "      <td>38.000000</td>\n",
       "      <td>712.833</td>\n",
       "      <td>0</td>\n",
       "      <td>0</td>\n",
       "      <td>0</td>\n",
       "    </tr>\n",
       "    <tr>\n",
       "      <th>2</th>\n",
       "      <td>26.000000</td>\n",
       "      <td>7.925</td>\n",
       "      <td>0</td>\n",
       "      <td>1</td>\n",
       "      <td>0</td>\n",
       "    </tr>\n",
       "    <tr>\n",
       "      <th>3</th>\n",
       "      <td>35.000000</td>\n",
       "      <td>53.100</td>\n",
       "      <td>0</td>\n",
       "      <td>0</td>\n",
       "      <td>0</td>\n",
       "    </tr>\n",
       "    <tr>\n",
       "      <th>4</th>\n",
       "      <td>35.000000</td>\n",
       "      <td>8.050</td>\n",
       "      <td>0</td>\n",
       "      <td>1</td>\n",
       "      <td>1</td>\n",
       "    </tr>\n",
       "    <tr>\n",
       "      <th>...</th>\n",
       "      <td>...</td>\n",
       "      <td>...</td>\n",
       "      <td>...</td>\n",
       "      <td>...</td>\n",
       "      <td>...</td>\n",
       "    </tr>\n",
       "    <tr>\n",
       "      <th>886</th>\n",
       "      <td>27.000000</td>\n",
       "      <td>13.000</td>\n",
       "      <td>1</td>\n",
       "      <td>0</td>\n",
       "      <td>1</td>\n",
       "    </tr>\n",
       "    <tr>\n",
       "      <th>887</th>\n",
       "      <td>19.000000</td>\n",
       "      <td>30.000</td>\n",
       "      <td>0</td>\n",
       "      <td>0</td>\n",
       "      <td>0</td>\n",
       "    </tr>\n",
       "    <tr>\n",
       "      <th>888</th>\n",
       "      <td>29.679272</td>\n",
       "      <td>23.450</td>\n",
       "      <td>0</td>\n",
       "      <td>1</td>\n",
       "      <td>0</td>\n",
       "    </tr>\n",
       "    <tr>\n",
       "      <th>889</th>\n",
       "      <td>26.000000</td>\n",
       "      <td>30.000</td>\n",
       "      <td>0</td>\n",
       "      <td>0</td>\n",
       "      <td>1</td>\n",
       "    </tr>\n",
       "    <tr>\n",
       "      <th>890</th>\n",
       "      <td>32.000000</td>\n",
       "      <td>7.750</td>\n",
       "      <td>0</td>\n",
       "      <td>1</td>\n",
       "      <td>1</td>\n",
       "    </tr>\n",
       "  </tbody>\n",
       "</table>\n",
       "<p>891 rows × 5 columns</p>\n",
       "</div>"
      ],
      "text/plain": [
       "           Age     Fare  2  3  male\n",
       "0    22.000000    7.250  0  1     1\n",
       "1    38.000000  712.833  0  0     0\n",
       "2    26.000000    7.925  0  1     0\n",
       "3    35.000000   53.100  0  0     0\n",
       "4    35.000000    8.050  0  1     1\n",
       "..         ...      ... .. ..   ...\n",
       "886  27.000000   13.000  1  0     1\n",
       "887  19.000000   30.000  0  0     0\n",
       "888  29.679272   23.450  0  1     0\n",
       "889  26.000000   30.000  0  0     1\n",
       "890  32.000000    7.750  0  1     1\n",
       "\n",
       "[891 rows x 5 columns]"
      ]
     },
     "execution_count": 113,
     "metadata": {},
     "output_type": "execute_result"
    }
   ],
   "source": [
    "X"
   ]
  },
  {
   "cell_type": "markdown",
   "id": "37e875c0-84ba-4398-b1a5-c446986b7624",
   "metadata": {},
   "source": [
    "### 4. Do a train-test split of the data"
   ]
  },
  {
   "cell_type": "code",
   "execution_count": 114,
   "id": "f1572365-5f63-46f2-8a8b-202842c87531",
   "metadata": {},
   "outputs": [],
   "source": [
    "X_train, X_test, y_train, y_test = train_test_split(X, y, test_size=0.25, random_state=42)"
   ]
  },
  {
   "cell_type": "markdown",
   "id": "e71c2d8c-8b89-4e15-90da-f5fc0d42db8b",
   "metadata": {},
   "source": [
    "### 5. Scale the X training dataset, using the standard scaler"
   ]
  },
  {
   "cell_type": "code",
   "execution_count": 115,
   "id": "d86df392-cb4c-46ba-9189-6b6661e2cf7d",
   "metadata": {},
   "outputs": [],
   "source": [
    "X_train.columns = X_train.columns.astype(str) # all the columns have to be strings"
   ]
  },
  {
   "cell_type": "code",
   "execution_count": 125,
   "id": "d5f9908b-51e5-4075-8218-b30b49c90e96",
   "metadata": {},
   "outputs": [],
   "source": [
    "X_test.columns = X_test.columns.astype(str) # all the columns have to be strings"
   ]
  },
  {
   "cell_type": "code",
   "execution_count": 121,
   "id": "d877068b-e06e-48f7-8358-d0d8ac8c42c8",
   "metadata": {},
   "outputs": [],
   "source": [
    "scaler = StandardScaler()\n",
    "X_train = scaler.fit_transform(X_train)"
   ]
  },
  {
   "cell_type": "code",
   "execution_count": 122,
   "id": "6c7635c1-5f67-438c-a479-a435f587e486",
   "metadata": {},
   "outputs": [
    {
     "data": {
      "text/plain": [
       "array([[ 1.88979087,  2.88005395, -0.51516287, -1.13679712,  0.72677722],\n",
       "       [ 0.01059081, -0.46607945, -0.51516287,  0.87966444,  0.72677722],\n",
       "       [-0.35096447,  2.19614252,  1.94113369, -1.13679712,  0.72677722],\n",
       "       ...,\n",
       "       [ 0.88531434,  0.3691354 , -0.51516287,  0.87966444,  0.72677722],\n",
       "       [-1.20090615,  0.22891869, -0.51516287, -1.13679712, -1.37593746],\n",
       "       [-0.66003417,  4.57099441, -0.51516287, -1.13679712,  0.72677722]])"
      ]
     },
     "execution_count": 122,
     "metadata": {},
     "output_type": "execute_result"
    }
   ],
   "source": [
    "X_train"
   ]
  },
  {
   "cell_type": "markdown",
   "id": "a14be6fc-6f41-4657-9b6e-14d74bd3450e",
   "metadata": {},
   "source": [
    "### 6. Transform the X test dataset with the same scaler fitted in task 5."
   ]
  },
  {
   "cell_type": "code",
   "execution_count": 126,
   "id": "9dabee56-61dd-46ad-999f-0f663e0dfca4",
   "metadata": {},
   "outputs": [
    {
     "data": {
      "text/plain": [
       "array([[ 0.01059081,  0.44478711, -0.51516287,  0.87966444,  0.72677722],\n",
       "       [ 0.11264008, -0.49933295,  1.94113369, -1.13679712,  0.72677722],\n",
       "       [-0.7373016 , -0.51645851, -0.51516287,  0.87966444,  0.72677722],\n",
       "       ...,\n",
       "       [-2.20538269,  0.47776793, -0.51516287,  0.87966444, -1.37593746],\n",
       "       [ 0.01059081,  0.44478711, -0.51516287,  0.87966444, -1.37593746],\n",
       "       [-0.66003417, -0.51645851, -0.51516287,  0.87966444,  0.72677722]])"
      ]
     },
     "execution_count": 126,
     "metadata": {},
     "output_type": "execute_result"
    }
   ],
   "source": [
    "scaler.transform(X_test)"
   ]
  },
  {
   "cell_type": "markdown",
   "id": "6605e94d-ec4b-471d-bf53-9b872db61e9f",
   "metadata": {},
   "source": [
    "### 7. Turn the training and test data (both Xs and ys) into numpy arrays using the method .to_numpy()."
   ]
  },
  {
   "cell_type": "code",
   "execution_count": 129,
   "id": "7262ac18-e49d-4561-8f0a-0b5ae6fbb899",
   "metadata": {},
   "outputs": [],
   "source": [
    "X_train = np.array(X_train)\n",
    "X_test = np.array(X_test)\n",
    "\n",
    "y_train = np.array(y_train)\n",
    "y_test = np.array(y_test)"
   ]
  },
  {
   "cell_type": "code",
   "execution_count": 158,
   "id": "0659a8c8-5aba-413b-b565-59186b4a82bf",
   "metadata": {},
   "outputs": [
    {
     "data": {
      "text/plain": [
       "array([[ 29.67927171, 152.458     ,   0.        ,   1.        ,\n",
       "          1.        ],\n",
       "       [ 31.        ,  10.5       ,   1.        ,   0.        ,\n",
       "          1.        ],\n",
       "       [ 20.        ,   7.925     ,   0.        ,   1.        ,\n",
       "          1.        ],\n",
       "       ...,\n",
       "       [  1.        , 157.417     ,   0.        ,   1.        ,\n",
       "          0.        ],\n",
       "       [ 29.67927171, 152.458     ,   0.        ,   1.        ,\n",
       "          0.        ],\n",
       "       [ 21.        ,   7.925     ,   0.        ,   1.        ,\n",
       "          1.        ]])"
      ]
     },
     "execution_count": 158,
     "metadata": {},
     "output_type": "execute_result"
    }
   ],
   "source": [
    "X_test"
   ]
  },
  {
   "cell_type": "markdown",
   "id": "1391b5fd-dd9a-4112-8aa6-d0b46bd75b74",
   "metadata": {},
   "source": [
    "### 8. Create a neural network model with two hidden dense layers with 16 neurons in each and the relu activation function. The final output layer should have one neuron and the sigmoid activation function."
   ]
  },
  {
   "cell_type": "code",
   "execution_count": 186,
   "id": "edd9152b-dcb4-405b-9b0d-4b48e7929029",
   "metadata": {},
   "outputs": [],
   "source": [
    "def setup_model():\n",
    "    model = keras.Sequential([\n",
    "    layers.Dense(16, activation=\"relu\"),\n",
    "    layers.Dense(16, activation=\"relu\"),\n",
    "    layers.Dense(1, activation=\"sigmoid\")\n",
    "    ])\n",
    "\n",
    "    model.compile(optimizer=\"rmsprop\",\n",
    "              loss=\"binary_crossentropy\",\n",
    "              metrics=[\"accuracy\"])\n",
    "    return model"
   ]
  },
  {
   "cell_type": "code",
   "execution_count": 187,
   "id": "ee57a347-f591-484e-b617-4b06ab28dc94",
   "metadata": {},
   "outputs": [],
   "source": [
    "model = setup_model()"
   ]
  },
  {
   "cell_type": "markdown",
   "id": "4ccc7bee-3ccc-4622-8f39-88bd8ddea215",
   "metadata": {},
   "source": [
    "### 9. Train the model for 50 epochs with a batch size of 64. Instead of creating a validation set before training the model, we can give it as an argument to the fit method, that it should set aside, let's say, 20% of the training data for validation. Do this by providing the argument validation_split=0.2 to the fit method."
   ]
  },
  {
   "cell_type": "code",
   "execution_count": 188,
   "id": "4fb97a02-4fea-44e9-b60d-1cfee3a58dfd",
   "metadata": {},
   "outputs": [
    {
     "name": "stdout",
     "output_type": "stream",
     "text": [
      "Epoch 1/50\n",
      "\u001b[1m8/8\u001b[0m \u001b[32m━━━━━━━━━━━━━━━━━━━━\u001b[0m\u001b[37m\u001b[0m \u001b[1m1s\u001b[0m 29ms/step - accuracy: 0.5264 - loss: 0.7221 - val_accuracy: 0.6417 - val_loss: 0.6629\n",
      "Epoch 2/50\n",
      "\u001b[1m8/8\u001b[0m \u001b[32m━━━━━━━━━━━━━━━━━━━━\u001b[0m\u001b[37m\u001b[0m \u001b[1m0s\u001b[0m 9ms/step - accuracy: 0.5847 - loss: 0.6856 - val_accuracy: 0.6667 - val_loss: 0.6392\n",
      "Epoch 3/50\n",
      "\u001b[1m8/8\u001b[0m \u001b[32m━━━━━━━━━━━━━━━━━━━━\u001b[0m\u001b[37m\u001b[0m \u001b[1m0s\u001b[0m 11ms/step - accuracy: 0.5917 - loss: 0.6633 - val_accuracy: 0.7000 - val_loss: 0.6165\n",
      "Epoch 4/50\n",
      "\u001b[1m8/8\u001b[0m \u001b[32m━━━━━━━━━━━━━━━━━━━━\u001b[0m\u001b[37m\u001b[0m \u001b[1m0s\u001b[0m 9ms/step - accuracy: 0.6332 - loss: 0.6457 - val_accuracy: 0.7167 - val_loss: 0.5962\n",
      "Epoch 5/50\n",
      "\u001b[1m8/8\u001b[0m \u001b[32m━━━━━━━━━━━━━━━━━━━━\u001b[0m\u001b[37m\u001b[0m \u001b[1m0s\u001b[0m 10ms/step - accuracy: 0.6319 - loss: 0.6405 - val_accuracy: 0.7417 - val_loss: 0.5786\n",
      "Epoch 6/50\n",
      "\u001b[1m8/8\u001b[0m \u001b[32m━━━━━━━━━━━━━━━━━━━━\u001b[0m\u001b[37m\u001b[0m \u001b[1m0s\u001b[0m 10ms/step - accuracy: 0.6704 - loss: 0.6223 - val_accuracy: 0.8000 - val_loss: 0.5584\n",
      "Epoch 7/50\n",
      "\u001b[1m8/8\u001b[0m \u001b[32m━━━━━━━━━━━━━━━━━━━━\u001b[0m\u001b[37m\u001b[0m \u001b[1m0s\u001b[0m 10ms/step - accuracy: 0.7166 - loss: 0.6088 - val_accuracy: 0.8250 - val_loss: 0.5419\n",
      "Epoch 8/50\n",
      "\u001b[1m8/8\u001b[0m \u001b[32m━━━━━━━━━━━━━━━━━━━━\u001b[0m\u001b[37m\u001b[0m \u001b[1m0s\u001b[0m 10ms/step - accuracy: 0.7563 - loss: 0.5808 - val_accuracy: 0.8333 - val_loss: 0.5248\n",
      "Epoch 9/50\n",
      "\u001b[1m8/8\u001b[0m \u001b[32m━━━━━━━━━━━━━━━━━━━━\u001b[0m\u001b[37m\u001b[0m \u001b[1m0s\u001b[0m 10ms/step - accuracy: 0.7881 - loss: 0.5615 - val_accuracy: 0.8333 - val_loss: 0.5096\n",
      "Epoch 10/50\n",
      "\u001b[1m8/8\u001b[0m \u001b[32m━━━━━━━━━━━━━━━━━━━━\u001b[0m\u001b[37m\u001b[0m \u001b[1m0s\u001b[0m 10ms/step - accuracy: 0.7622 - loss: 0.5655 - val_accuracy: 0.8250 - val_loss: 0.4956\n",
      "Epoch 11/50\n",
      "\u001b[1m8/8\u001b[0m \u001b[32m━━━━━━━━━━━━━━━━━━━━\u001b[0m\u001b[37m\u001b[0m \u001b[1m0s\u001b[0m 10ms/step - accuracy: 0.7604 - loss: 0.5623 - val_accuracy: 0.8250 - val_loss: 0.4800\n",
      "Epoch 12/50\n",
      "\u001b[1m8/8\u001b[0m \u001b[32m━━━━━━━━━━━━━━━━━━━━\u001b[0m\u001b[37m\u001b[0m \u001b[1m0s\u001b[0m 12ms/step - accuracy: 0.7743 - loss: 0.5386 - val_accuracy: 0.8417 - val_loss: 0.4684\n",
      "Epoch 13/50\n",
      "\u001b[1m8/8\u001b[0m \u001b[32m━━━━━━━━━━━━━━━━━━━━\u001b[0m\u001b[37m\u001b[0m \u001b[1m0s\u001b[0m 10ms/step - accuracy: 0.7792 - loss: 0.5247 - val_accuracy: 0.8333 - val_loss: 0.4569\n",
      "Epoch 14/50\n",
      "\u001b[1m8/8\u001b[0m \u001b[32m━━━━━━━━━━━━━━━━━━━━\u001b[0m\u001b[37m\u001b[0m \u001b[1m0s\u001b[0m 10ms/step - accuracy: 0.7965 - loss: 0.5007 - val_accuracy: 0.8333 - val_loss: 0.4452\n",
      "Epoch 15/50\n",
      "\u001b[1m8/8\u001b[0m \u001b[32m━━━━━━━━━━━━━━━━━━━━\u001b[0m\u001b[37m\u001b[0m \u001b[1m0s\u001b[0m 10ms/step - accuracy: 0.7871 - loss: 0.5024 - val_accuracy: 0.8250 - val_loss: 0.4363\n",
      "Epoch 16/50\n",
      "\u001b[1m8/8\u001b[0m \u001b[32m━━━━━━━━━━━━━━━━━━━━\u001b[0m\u001b[37m\u001b[0m \u001b[1m0s\u001b[0m 10ms/step - accuracy: 0.7833 - loss: 0.4993 - val_accuracy: 0.8250 - val_loss: 0.4289\n",
      "Epoch 17/50\n",
      "\u001b[1m8/8\u001b[0m \u001b[32m━━━━━━━━━━━━━━━━━━━━\u001b[0m\u001b[37m\u001b[0m \u001b[1m0s\u001b[0m 11ms/step - accuracy: 0.7643 - loss: 0.4985 - val_accuracy: 0.8167 - val_loss: 0.4225\n",
      "Epoch 18/50\n",
      "\u001b[1m8/8\u001b[0m \u001b[32m━━━━━━━━━━━━━━━━━━━━\u001b[0m\u001b[37m\u001b[0m \u001b[1m0s\u001b[0m 9ms/step - accuracy: 0.7789 - loss: 0.4818 - val_accuracy: 0.8083 - val_loss: 0.4153\n",
      "Epoch 19/50\n",
      "\u001b[1m8/8\u001b[0m \u001b[32m━━━━━━━━━━━━━━━━━━━━\u001b[0m\u001b[37m\u001b[0m \u001b[1m0s\u001b[0m 11ms/step - accuracy: 0.7580 - loss: 0.4974 - val_accuracy: 0.8250 - val_loss: 0.4075\n",
      "Epoch 20/50\n",
      "\u001b[1m8/8\u001b[0m \u001b[32m━━━━━━━━━━━━━━━━━━━━\u001b[0m\u001b[37m\u001b[0m \u001b[1m0s\u001b[0m 9ms/step - accuracy: 0.7643 - loss: 0.4861 - val_accuracy: 0.8083 - val_loss: 0.4053\n",
      "Epoch 21/50\n",
      "\u001b[1m8/8\u001b[0m \u001b[32m━━━━━━━━━━━━━━━━━━━━\u001b[0m\u001b[37m\u001b[0m \u001b[1m0s\u001b[0m 10ms/step - accuracy: 0.7506 - loss: 0.5083 - val_accuracy: 0.8000 - val_loss: 0.4006\n",
      "Epoch 22/50\n",
      "\u001b[1m8/8\u001b[0m \u001b[32m━━━━━━━━━━━━━━━━━━━━\u001b[0m\u001b[37m\u001b[0m \u001b[1m0s\u001b[0m 10ms/step - accuracy: 0.7601 - loss: 0.4805 - val_accuracy: 0.8083 - val_loss: 0.3995\n",
      "Epoch 23/50\n",
      "\u001b[1m8/8\u001b[0m \u001b[32m━━━━━━━━━━━━━━━━━━━━\u001b[0m\u001b[37m\u001b[0m \u001b[1m0s\u001b[0m 10ms/step - accuracy: 0.7916 - loss: 0.4639 - val_accuracy: 0.8083 - val_loss: 0.3966\n",
      "Epoch 24/50\n",
      "\u001b[1m8/8\u001b[0m \u001b[32m━━━━━━━━━━━━━━━━━━━━\u001b[0m\u001b[37m\u001b[0m \u001b[1m0s\u001b[0m 10ms/step - accuracy: 0.7893 - loss: 0.4591 - val_accuracy: 0.8083 - val_loss: 0.3942\n",
      "Epoch 25/50\n",
      "\u001b[1m8/8\u001b[0m \u001b[32m━━━━━━━━━━━━━━━━━━━━\u001b[0m\u001b[37m\u001b[0m \u001b[1m0s\u001b[0m 10ms/step - accuracy: 0.7736 - loss: 0.4625 - val_accuracy: 0.8083 - val_loss: 0.3922\n",
      "Epoch 26/50\n",
      "\u001b[1m8/8\u001b[0m \u001b[32m━━━━━━━━━━━━━━━━━━━━\u001b[0m\u001b[37m\u001b[0m \u001b[1m0s\u001b[0m 10ms/step - accuracy: 0.8008 - loss: 0.4331 - val_accuracy: 0.8250 - val_loss: 0.3904\n",
      "Epoch 27/50\n",
      "\u001b[1m8/8\u001b[0m \u001b[32m━━━━━━━━━━━━━━━━━━━━\u001b[0m\u001b[37m\u001b[0m \u001b[1m0s\u001b[0m 8ms/step - accuracy: 0.7822 - loss: 0.4464 - val_accuracy: 0.8167 - val_loss: 0.3867\n",
      "Epoch 28/50\n",
      "\u001b[1m8/8\u001b[0m \u001b[32m━━━━━━━━━━━━━━━━━━━━\u001b[0m\u001b[37m\u001b[0m \u001b[1m0s\u001b[0m 12ms/step - accuracy: 0.7635 - loss: 0.4685 - val_accuracy: 0.8167 - val_loss: 0.3846\n",
      "Epoch 29/50\n",
      "\u001b[1m8/8\u001b[0m \u001b[32m━━━━━━━━━━━━━━━━━━━━\u001b[0m\u001b[37m\u001b[0m \u001b[1m0s\u001b[0m 10ms/step - accuracy: 0.7721 - loss: 0.4691 - val_accuracy: 0.8250 - val_loss: 0.3867\n",
      "Epoch 30/50\n",
      "\u001b[1m8/8\u001b[0m \u001b[32m━━━━━━━━━━━━━━━━━━━━\u001b[0m\u001b[37m\u001b[0m \u001b[1m0s\u001b[0m 12ms/step - accuracy: 0.7694 - loss: 0.4401 - val_accuracy: 0.8250 - val_loss: 0.3837\n",
      "Epoch 31/50\n",
      "\u001b[1m8/8\u001b[0m \u001b[32m━━━━━━━━━━━━━━━━━━━━\u001b[0m\u001b[37m\u001b[0m \u001b[1m0s\u001b[0m 12ms/step - accuracy: 0.8068 - loss: 0.4243 - val_accuracy: 0.8250 - val_loss: 0.3858\n",
      "Epoch 32/50\n",
      "\u001b[1m8/8\u001b[0m \u001b[32m━━━━━━━━━━━━━━━━━━━━\u001b[0m\u001b[37m\u001b[0m \u001b[1m0s\u001b[0m 12ms/step - accuracy: 0.7903 - loss: 0.4354 - val_accuracy: 0.8333 - val_loss: 0.3825\n",
      "Epoch 33/50\n",
      "\u001b[1m8/8\u001b[0m \u001b[32m━━━━━━━━━━━━━━━━━━━━\u001b[0m\u001b[37m\u001b[0m \u001b[1m0s\u001b[0m 14ms/step - accuracy: 0.7936 - loss: 0.4381 - val_accuracy: 0.8333 - val_loss: 0.3831\n",
      "Epoch 34/50\n",
      "\u001b[1m8/8\u001b[0m \u001b[32m━━━━━━━━━━━━━━━━━━━━\u001b[0m\u001b[37m\u001b[0m \u001b[1m0s\u001b[0m 12ms/step - accuracy: 0.7704 - loss: 0.4717 - val_accuracy: 0.8333 - val_loss: 0.3811\n",
      "Epoch 35/50\n",
      "\u001b[1m8/8\u001b[0m \u001b[32m━━━━━━━━━━━━━━━━━━━━\u001b[0m\u001b[37m\u001b[0m \u001b[1m0s\u001b[0m 12ms/step - accuracy: 0.7659 - loss: 0.4678 - val_accuracy: 0.8250 - val_loss: 0.3784\n",
      "Epoch 36/50\n",
      "\u001b[1m8/8\u001b[0m \u001b[32m━━━━━━━━━━━━━━━━━━━━\u001b[0m\u001b[37m\u001b[0m \u001b[1m0s\u001b[0m 12ms/step - accuracy: 0.8012 - loss: 0.4192 - val_accuracy: 0.8333 - val_loss: 0.3809\n",
      "Epoch 37/50\n",
      "\u001b[1m8/8\u001b[0m \u001b[32m━━━━━━━━━━━━━━━━━━━━\u001b[0m\u001b[37m\u001b[0m \u001b[1m0s\u001b[0m 12ms/step - accuracy: 0.8052 - loss: 0.4034 - val_accuracy: 0.8333 - val_loss: 0.3841\n",
      "Epoch 38/50\n",
      "\u001b[1m8/8\u001b[0m \u001b[32m━━━━━━━━━━━━━━━━━━━━\u001b[0m\u001b[37m\u001b[0m \u001b[1m0s\u001b[0m 12ms/step - accuracy: 0.7840 - loss: 0.4425 - val_accuracy: 0.8333 - val_loss: 0.3827\n",
      "Epoch 39/50\n",
      "\u001b[1m8/8\u001b[0m \u001b[32m━━━━━━━━━━━━━━━━━━━━\u001b[0m\u001b[37m\u001b[0m \u001b[1m0s\u001b[0m 12ms/step - accuracy: 0.7901 - loss: 0.4291 - val_accuracy: 0.8333 - val_loss: 0.3845\n",
      "Epoch 40/50\n",
      "\u001b[1m8/8\u001b[0m \u001b[32m━━━━━━━━━━━━━━━━━━━━\u001b[0m\u001b[37m\u001b[0m \u001b[1m0s\u001b[0m 10ms/step - accuracy: 0.7955 - loss: 0.4331 - val_accuracy: 0.8417 - val_loss: 0.3825\n",
      "Epoch 41/50\n",
      "\u001b[1m8/8\u001b[0m \u001b[32m━━━━━━━━━━━━━━━━━━━━\u001b[0m\u001b[37m\u001b[0m \u001b[1m0s\u001b[0m 11ms/step - accuracy: 0.7761 - loss: 0.4551 - val_accuracy: 0.8250 - val_loss: 0.3830\n",
      "Epoch 42/50\n",
      "\u001b[1m8/8\u001b[0m \u001b[32m━━━━━━━━━━━━━━━━━━━━\u001b[0m\u001b[37m\u001b[0m \u001b[1m0s\u001b[0m 11ms/step - accuracy: 0.7980 - loss: 0.4527 - val_accuracy: 0.8333 - val_loss: 0.3796\n",
      "Epoch 43/50\n",
      "\u001b[1m8/8\u001b[0m \u001b[32m━━━━━━━━━━━━━━━━━━━━\u001b[0m\u001b[37m\u001b[0m \u001b[1m0s\u001b[0m 9ms/step - accuracy: 0.7940 - loss: 0.4200 - val_accuracy: 0.8333 - val_loss: 0.3793\n",
      "Epoch 44/50\n",
      "\u001b[1m8/8\u001b[0m \u001b[32m━━━━━━━━━━━━━━━━━━━━\u001b[0m\u001b[37m\u001b[0m \u001b[1m0s\u001b[0m 11ms/step - accuracy: 0.8045 - loss: 0.4216 - val_accuracy: 0.8333 - val_loss: 0.3805\n",
      "Epoch 45/50\n",
      "\u001b[1m8/8\u001b[0m \u001b[32m━━━━━━━━━━━━━━━━━━━━\u001b[0m\u001b[37m\u001b[0m \u001b[1m0s\u001b[0m 12ms/step - accuracy: 0.7765 - loss: 0.4518 - val_accuracy: 0.8333 - val_loss: 0.3778\n",
      "Epoch 46/50\n",
      "\u001b[1m8/8\u001b[0m \u001b[32m━━━━━━━━━━━━━━━━━━━━\u001b[0m\u001b[37m\u001b[0m \u001b[1m0s\u001b[0m 12ms/step - accuracy: 0.8000 - loss: 0.4340 - val_accuracy: 0.8417 - val_loss: 0.3795\n",
      "Epoch 47/50\n",
      "\u001b[1m8/8\u001b[0m \u001b[32m━━━━━━━━━━━━━━━━━━━━\u001b[0m\u001b[37m\u001b[0m \u001b[1m0s\u001b[0m 10ms/step - accuracy: 0.7799 - loss: 0.4404 - val_accuracy: 0.8417 - val_loss: 0.3784\n",
      "Epoch 48/50\n",
      "\u001b[1m8/8\u001b[0m \u001b[32m━━━━━━━━━━━━━━━━━━━━\u001b[0m\u001b[37m\u001b[0m \u001b[1m0s\u001b[0m 9ms/step - accuracy: 0.7947 - loss: 0.4683 - val_accuracy: 0.8250 - val_loss: 0.3779\n",
      "Epoch 49/50\n",
      "\u001b[1m8/8\u001b[0m \u001b[32m━━━━━━━━━━━━━━━━━━━━\u001b[0m\u001b[37m\u001b[0m \u001b[1m0s\u001b[0m 11ms/step - accuracy: 0.8101 - loss: 0.4290 - val_accuracy: 0.8333 - val_loss: 0.3789\n",
      "Epoch 50/50\n",
      "\u001b[1m8/8\u001b[0m \u001b[32m━━━━━━━━━━━━━━━━━━━━\u001b[0m\u001b[37m\u001b[0m \u001b[1m0s\u001b[0m 12ms/step - accuracy: 0.7871 - loss: 0.4396 - val_accuracy: 0.8250 - val_loss: 0.3781\n"
     ]
    }
   ],
   "source": [
    "history = model.fit(X_train,\n",
    "                    y_train,\n",
    "                    epochs=50,\n",
    "                    batch_size=64,\n",
    "                    validation_split=0.2)"
   ]
  },
  {
   "cell_type": "code",
   "execution_count": 191,
   "id": "293dc75c-3d02-4864-a3a9-8e105d0acebb",
   "metadata": {},
   "outputs": [
    {
     "name": "stdout",
     "output_type": "stream",
     "text": [
      "Test loss: 3.8805038928985596\n",
      "Test accuracy: 0.5762711763381958\n"
     ]
    }
   ],
   "source": [
    "score = model.evaluate(X_test, y_test, verbose=0)\n",
    "print(\"Test loss:\", score[0])\n",
    "print(\"Test accuracy:\", score[1])"
   ]
  },
  {
   "cell_type": "markdown",
   "id": "a86964fd-a811-4917-aa70-c92db05ad3b2",
   "metadata": {},
   "source": [
    "### 10. Plot the training and validation loss and decide on a best number of epochs."
   ]
  },
  {
   "cell_type": "code",
   "execution_count": 192,
   "id": "c779fb27-2bb1-4d88-8305-b97ccf788f65",
   "metadata": {},
   "outputs": [
    {
     "data": {
      "image/png": "[encoded data removed]",
      "text/plain": [
       "<Figure size 640x480 with 1 Axes>"
      ]
     },
     "metadata": {},
     "output_type": "display_data"
    },
    {
     "data": {
      "image/png": "[encoded data removed]",
      "text/plain": [
       "<Figure size 640x480 with 1 Axes>"
      ]
     },
     "metadata": {},
     "output_type": "display_data"
    }
   ],
   "source": [
    "acc = history.history[\"accuracy\"]\n",
    "val_acc = history.history[\"val_accuracy\"]\n",
    "loss = history.history[\"loss\"]\n",
    "val_loss = history.history[\"val_loss\"]\n",
    "epochs = range(1, len(acc) + 1)\n",
    "plt.plot(epochs, acc, \"bo\", label=\"Training accuracy\")\n",
    "plt.plot(epochs, val_acc, \"b\", label=\"Validation accuracy\")\n",
    "plt.title(\"Training and validation accuracy\")\n",
    "plt.legend()\n",
    "plt.figure()\n",
    "plt.plot(epochs, loss, \"bo\", label=\"Training loss\")\n",
    "plt.plot(epochs, val_loss, \"b\", label=\"Validation loss\")\n",
    "plt.title(\"Training and validation loss\")\n",
    "plt.legend()\n",
    "plt.show()"
   ]
  },
  {
   "cell_type": "markdown",
   "id": "764d18ea-32be-4aa6-aae9-9012c3cc4f69",
   "metadata": {},
   "source": [
    "### 11. Rebuild and retrain the model for the number of epochs decided in task 10 above."
   ]
  },
  {
   "cell_type": "code",
   "execution_count": 189,
   "id": "46682b98-6793-494f-bc12-e5436d55c669",
   "metadata": {},
   "outputs": [],
   "source": [
    "model = setup_model()"
   ]
  },
  {
   "cell_type": "code",
   "execution_count": 190,
   "id": "5658bdc9-4a96-4318-8081-c0d0c7b67869",
   "metadata": {},
   "outputs": [
    {
     "name": "stdout",
     "output_type": "stream",
     "text": [
      "Epoch 1/15\n",
      "\u001b[1m8/8\u001b[0m \u001b[32m━━━━━━━━━━━━━━━━━━━━\u001b[0m\u001b[37m\u001b[0m \u001b[1m1s\u001b[0m 28ms/step - accuracy: 0.3276 - loss: 0.8151 - val_accuracy: 0.2917 - val_loss: 0.7958\n",
      "Epoch 2/15\n",
      "\u001b[1m8/8\u001b[0m \u001b[32m━━━━━━━━━━━━━━━━━━━━\u001b[0m\u001b[37m\u001b[0m \u001b[1m0s\u001b[0m 9ms/step - accuracy: 0.3402 - loss: 0.7842 - val_accuracy: 0.3917 - val_loss: 0.7564\n",
      "Epoch 3/15\n",
      "\u001b[1m8/8\u001b[0m \u001b[32m━━━━━━━━━━━━━━━━━━━━\u001b[0m\u001b[37m\u001b[0m \u001b[1m0s\u001b[0m 11ms/step - accuracy: 0.4086 - loss: 0.7433 - val_accuracy: 0.4833 - val_loss: 0.7206\n",
      "Epoch 4/15\n",
      "\u001b[1m8/8\u001b[0m \u001b[32m━━━━━━━━━━━━━━━━━━━━\u001b[0m\u001b[37m\u001b[0m \u001b[1m0s\u001b[0m 10ms/step - accuracy: 0.5035 - loss: 0.7087 - val_accuracy: 0.5833 - val_loss: 0.6877\n",
      "Epoch 5/15\n",
      "\u001b[1m8/8\u001b[0m \u001b[32m━━━━━━━━━━━━━━━━━━━━\u001b[0m\u001b[37m\u001b[0m \u001b[1m0s\u001b[0m 11ms/step - accuracy: 0.5748 - loss: 0.6851 - val_accuracy: 0.6667 - val_loss: 0.6575\n",
      "Epoch 6/15\n",
      "\u001b[1m8/8\u001b[0m \u001b[32m━━━━━━━━━━━━━━━━━━━━\u001b[0m\u001b[37m\u001b[0m \u001b[1m0s\u001b[0m 9ms/step - accuracy: 0.6393 - loss: 0.6627 - val_accuracy: 0.8000 - val_loss: 0.6285\n",
      "Epoch 7/15\n",
      "\u001b[1m8/8\u001b[0m \u001b[32m━━━━━━━━━━━━━━━━━━━━\u001b[0m\u001b[37m\u001b[0m \u001b[1m0s\u001b[0m 10ms/step - accuracy: 0.7683 - loss: 0.6359 - val_accuracy: 0.8083 - val_loss: 0.6019\n",
      "Epoch 8/15\n",
      "\u001b[1m8/8\u001b[0m \u001b[32m━━━━━━━━━━━━━━━━━━━━\u001b[0m\u001b[37m\u001b[0m \u001b[1m0s\u001b[0m 10ms/step - accuracy: 0.7972 - loss: 0.6109 - val_accuracy: 0.8083 - val_loss: 0.5780\n",
      "Epoch 9/15\n",
      "\u001b[1m8/8\u001b[0m \u001b[32m━━━━━━━━━━━━━━━━━━━━\u001b[0m\u001b[37m\u001b[0m \u001b[1m0s\u001b[0m 10ms/step - accuracy: 0.7614 - loss: 0.5933 - val_accuracy: 0.8167 - val_loss: 0.5564\n",
      "Epoch 10/15\n",
      "\u001b[1m8/8\u001b[0m \u001b[32m━━━━━━━━━━━━━━━━━━━━\u001b[0m\u001b[37m\u001b[0m \u001b[1m0s\u001b[0m 12ms/step - accuracy: 0.7937 - loss: 0.5804 - val_accuracy: 0.8250 - val_loss: 0.5370\n",
      "Epoch 11/15\n",
      "\u001b[1m8/8\u001b[0m \u001b[32m━━━━━━━━━━━━━━━━━━━━\u001b[0m\u001b[37m\u001b[0m \u001b[1m0s\u001b[0m 10ms/step - accuracy: 0.7800 - loss: 0.5617 - val_accuracy: 0.8250 - val_loss: 0.5187\n",
      "Epoch 12/15\n",
      "\u001b[1m8/8\u001b[0m \u001b[32m━━━━━━━━━━━━━━━━━━━━\u001b[0m\u001b[37m\u001b[0m \u001b[1m0s\u001b[0m 10ms/step - accuracy: 0.7855 - loss: 0.5407 - val_accuracy: 0.8417 - val_loss: 0.5014\n",
      "Epoch 13/15\n",
      "\u001b[1m8/8\u001b[0m \u001b[32m━━━━━━━━━━━━━━━━━━━━\u001b[0m\u001b[37m\u001b[0m \u001b[1m0s\u001b[0m 10ms/step - accuracy: 0.7767 - loss: 0.5291 - val_accuracy: 0.8417 - val_loss: 0.4847\n",
      "Epoch 14/15\n",
      "\u001b[1m8/8\u001b[0m \u001b[32m━━━━━━━━━━━━━━━━━━━━\u001b[0m\u001b[37m\u001b[0m \u001b[1m0s\u001b[0m 10ms/step - accuracy: 0.7906 - loss: 0.5096 - val_accuracy: 0.8417 - val_loss: 0.4708\n",
      "Epoch 15/15\n",
      "\u001b[1m8/8\u001b[0m \u001b[32m━━━━━━━━━━━━━━━━━━━━\u001b[0m\u001b[37m\u001b[0m \u001b[1m0s\u001b[0m 10ms/step - accuracy: 0.8143 - loss: 0.4935 - val_accuracy: 0.8333 - val_loss: 0.4589\n"
     ]
    }
   ],
   "source": [
    "history = model.fit(X_train,\n",
    "                    y_train,\n",
    "                    epochs=15,\n",
    "                    batch_size=64,\n",
    "                    validation_split=0.2)"
   ]
  },
  {
   "cell_type": "markdown",
   "id": "cd9672e9-d59f-45c1-a600-20056eaf48a1",
   "metadata": {},
   "source": [
    "### 12. Evaluate the model on the test dataset to get the test accuracy."
   ]
  },
  {
   "cell_type": "code",
   "execution_count": 193,
   "id": "544ee477-bf00-4c1a-bc13-9fb445907e87",
   "metadata": {},
   "outputs": [
    {
     "name": "stdout",
     "output_type": "stream",
     "text": [
      "Test loss: 3.8805038928985596\n",
      "Test accuracy: 0.5762711763381958\n"
     ]
    }
   ],
   "source": [
    "score = model.evaluate(X_test, y_test, verbose=0)\n",
    "print(\"Test loss:\", score[0])\n",
    "print(\"Test accuracy:\", score[1])"
   ]
  },
  {
   "cell_type": "markdown",
   "id": "011875a7-c4a4-471b-929a-d9012928f2b9",
   "metadata": {},
   "source": [
    "    The accuracy is the same but the loss is greater, don't know what that means.\n",
    "    It does improve it's loss above 15 epochs but the accuracy keeps going up and down, but never above 0.825"
   ]
  },
  {
   "cell_type": "markdown",
   "id": "15615114-7299-4f86-9fa4-f6776e48e6ba",
   "metadata": {},
   "source": [
    "### 13. Calculate precision, recall, and f1-score for the model on the test dataset."
   ]
  },
  {
   "cell_type": "code",
   "execution_count": 242,
   "id": "97b545b4-9247-4fd4-add8-21410318e39f",
   "metadata": {},
   "outputs": [],
   "source": [
    "model = keras.Sequential([\n",
    "    layers.Dense(16, activation=\"relu\"),\n",
    "    layers.Dense(16, activation=\"relu\"),\n",
    "    layers.Dense(1, activation=\"sigmoid\")\n",
    "])\n",
    "\n",
    "model.compile(optimizer=\"rmsprop\",\n",
    "              loss=\"binary_crossentropy\",\n",
    "              metrics=[\"precision\", \"recall\"]) # f1_score don't know what it's actual name is"
   ]
  },
  {
   "cell_type": "code",
   "execution_count": 243,
   "id": "a74d2344-d1da-487b-9a1d-dc8ed9723d24",
   "metadata": {},
   "outputs": [
    {
     "name": "stdout",
     "output_type": "stream",
     "text": [
      "Epoch 1/15\n",
      "\u001b[1m8/8\u001b[0m \u001b[32m━━━━━━━━━━━━━━━━━━━━\u001b[0m\u001b[37m\u001b[0m \u001b[1m1s\u001b[0m 49ms/step - loss: 0.6615 - precision: 0.5427 - recall: 0.4616 - val_loss: 0.6143 - val_precision: 0.6774 - val_recall: 0.5250\n",
      "Epoch 2/15\n",
      "\u001b[1m8/8\u001b[0m \u001b[32m━━━━━━━━━━━━━━━━━━━━\u001b[0m\u001b[37m\u001b[0m \u001b[1m0s\u001b[0m 11ms/step - loss: 0.6316 - precision: 0.6211 - recall: 0.3726 - val_loss: 0.5858 - val_precision: 0.6774 - val_recall: 0.5250\n",
      "Epoch 3/15\n",
      "\u001b[1m8/8\u001b[0m \u001b[32m━━━━━━━━━━━━━━━━━━━━\u001b[0m\u001b[37m\u001b[0m \u001b[1m0s\u001b[0m 12ms/step - loss: 0.6170 - precision: 0.6823 - recall: 0.3746 - val_loss: 0.5602 - val_precision: 0.7241 - val_recall: 0.5250\n",
      "Epoch 4/15\n",
      "\u001b[1m8/8\u001b[0m \u001b[32m━━━━━━━━━━━━━━━━━━━━\u001b[0m\u001b[37m\u001b[0m \u001b[1m0s\u001b[0m 12ms/step - loss: 0.5898 - precision: 0.7941 - recall: 0.3539 - val_loss: 0.5419 - val_precision: 0.7000 - val_recall: 0.5250\n",
      "Epoch 5/15\n",
      "\u001b[1m8/8\u001b[0m \u001b[32m━━━━━━━━━━━━━━━━━━━━\u001b[0m\u001b[37m\u001b[0m \u001b[1m0s\u001b[0m 10ms/step - loss: 0.5777 - precision: 0.7921 - recall: 0.3691 - val_loss: 0.5230 - val_precision: 0.7188 - val_recall: 0.5750\n",
      "Epoch 6/15\n",
      "\u001b[1m8/8\u001b[0m \u001b[32m━━━━━━━━━━━━━━━━━━━━\u001b[0m\u001b[37m\u001b[0m \u001b[1m0s\u001b[0m 12ms/step - loss: 0.5828 - precision: 0.8116 - recall: 0.4202 - val_loss: 0.5080 - val_precision: 0.7353 - val_recall: 0.6250\n",
      "Epoch 7/15\n",
      "\u001b[1m8/8\u001b[0m \u001b[32m━━━━━━━━━━━━━━━━━━━━\u001b[0m\u001b[37m\u001b[0m \u001b[1m0s\u001b[0m 10ms/step - loss: 0.5272 - precision: 0.8348 - recall: 0.5319 - val_loss: 0.4951 - val_precision: 0.7429 - val_recall: 0.6500\n",
      "Epoch 8/15\n",
      "\u001b[1m8/8\u001b[0m \u001b[32m━━━━━━━━━━━━━━━━━━━━\u001b[0m\u001b[37m\u001b[0m \u001b[1m0s\u001b[0m 12ms/step - loss: 0.5518 - precision: 0.8059 - recall: 0.5222 - val_loss: 0.4823 - val_precision: 0.7429 - val_recall: 0.6500\n",
      "Epoch 9/15\n",
      "\u001b[1m8/8\u001b[0m \u001b[32m━━━━━━━━━━━━━━━━━━━━\u001b[0m\u001b[37m\u001b[0m \u001b[1m0s\u001b[0m 9ms/step - loss: 0.5396 - precision: 0.7676 - recall: 0.5024 - val_loss: 0.4712 - val_precision: 0.7568 - val_recall: 0.7000\n",
      "Epoch 10/15\n",
      "\u001b[1m8/8\u001b[0m \u001b[32m━━━━━━━━━━━━━━━━━━━━\u001b[0m\u001b[37m\u001b[0m \u001b[1m0s\u001b[0m 11ms/step - loss: 0.5200 - precision: 0.8009 - recall: 0.5549 - val_loss: 0.4635 - val_precision: 0.7368 - val_recall: 0.7000\n",
      "Epoch 11/15\n",
      "\u001b[1m8/8\u001b[0m \u001b[32m━━━━━━━━━━━━━━━━━━━━\u001b[0m\u001b[37m\u001b[0m \u001b[1m0s\u001b[0m 11ms/step - loss: 0.5150 - precision: 0.7983 - recall: 0.5757 - val_loss: 0.4551 - val_precision: 0.7179 - val_recall: 0.7000\n",
      "Epoch 12/15\n",
      "\u001b[1m8/8\u001b[0m \u001b[32m━━━━━━━━━━━━━━━━━━━━\u001b[0m\u001b[37m\u001b[0m \u001b[1m0s\u001b[0m 12ms/step - loss: 0.5265 - precision: 0.7564 - recall: 0.5637 - val_loss: 0.4478 - val_precision: 0.7073 - val_recall: 0.7250\n",
      "Epoch 13/15\n",
      "\u001b[1m8/8\u001b[0m \u001b[32m━━━━━━━━━━━━━━━━━━━━\u001b[0m\u001b[37m\u001b[0m \u001b[1m0s\u001b[0m 10ms/step - loss: 0.5031 - precision: 0.7800 - recall: 0.6091 - val_loss: 0.4402 - val_precision: 0.7073 - val_recall: 0.7250\n",
      "Epoch 14/15\n",
      "\u001b[1m8/8\u001b[0m \u001b[32m━━━━━━━━━━━━━━━━━━━━\u001b[0m\u001b[37m\u001b[0m \u001b[1m0s\u001b[0m 11ms/step - loss: 0.5018 - precision: 0.7497 - recall: 0.6206 - val_loss: 0.4334 - val_precision: 0.7273 - val_recall: 0.8000\n",
      "Epoch 15/15\n",
      "\u001b[1m8/8\u001b[0m \u001b[32m━━━━━━━━━━━━━━━━━━━━\u001b[0m\u001b[37m\u001b[0m \u001b[1m0s\u001b[0m 12ms/step - loss: 0.5132 - precision: 0.6983 - recall: 0.6240 - val_loss: 0.4281 - val_precision: 0.7111 - val_recall: 0.8000\n"
     ]
    }
   ],
   "source": [
    "history = model.fit(X_train,\n",
    "                    y_train,\n",
    "                    epochs=15,\n",
    "                    batch_size=64,\n",
    "                    validation_split=0.2)"
   ]
  },
  {
   "cell_type": "code",
   "execution_count": 247,
   "id": "5978b73a-4691-4ab5-85a5-77e8a9d48a56",
   "metadata": {},
   "outputs": [],
   "source": [
    "#y_pred"
   ]
  },
  {
   "cell_type": "code",
   "execution_count": 256,
   "id": "3d9297ff-6345-4c46-9766-6bd61cc73448",
   "metadata": {},
   "outputs": [
    {
     "name": "stdout",
     "output_type": "stream",
     "text": [
      "Test loss: 5.9980549812316895\n",
      "Test precision: 0.4822694957256317\n",
      "Test recall: 0.5666666626930237\n"
     ]
    }
   ],
   "source": [
    "score = model.evaluate(X_test, y_test, verbose=0)\n",
    "print(\"Test loss:\", score[0])\n",
    "print(\"Test precision:\", score[1])\n",
    "print(\"Test recall:\", score[2])"
   ]
  },
  {
   "cell_type": "markdown",
   "id": "92a916dc-3066-4e2e-ab12-4d1e3ac53ffd",
   "metadata": {},
   "source": [
    "### 14. Plot the Confusion matrix for the test dataset."
   ]
  },
  {
   "cell_type": "code",
   "execution_count": 249,
   "id": "420808e7-693c-47fc-9cff-31040a4b387b",
   "metadata": {},
   "outputs": [
    {
     "name": "stdout",
     "output_type": "stream",
     "text": [
      "\u001b[1m10/10\u001b[0m \u001b[32m━━━━━━━━━━━━━━━━━━━━\u001b[0m\u001b[37m\u001b[0m \u001b[1m0s\u001b[0m 3ms/step \n"
     ]
    }
   ],
   "source": [
    "y_pred = model.predict(X_test)"
   ]
  },
  {
   "cell_type": "code",
   "execution_count": 250,
   "id": "11b9a3b9-7b21-4892-8d01-821d6fd869e7",
   "metadata": {},
   "outputs": [],
   "source": [
    "y_pred = y_pred.flatten()"
   ]
  },
  {
   "cell_type": "code",
   "execution_count": 253,
   "id": "16d9dc0c-b95d-4532-994f-faff7038b095",
   "metadata": {},
   "outputs": [
    {
     "data": {
      "text/plain": [
       "0.5210727969348659"
      ]
     },
     "execution_count": 253,
     "metadata": {},
     "output_type": "execute_result"
    }
   ],
   "source": [
    "f1_score(y_test, y_pred.round())"
   ]
  },
  {
   "cell_type": "code",
   "execution_count": 248,
   "id": "cb1a2a0a-5313-4fb8-93e1-051f4cdab0a9",
   "metadata": {},
   "outputs": [],
   "source": [
    "#y_test"
   ]
  },
  {
   "cell_type": "code",
   "execution_count": 254,
   "id": "609db2c6-25ba-4405-9cc2-ba579fb4b9b1",
   "metadata": {},
   "outputs": [
    {
     "data": {
      "image/png": "[encoded data removed]",
      "text/plain": [
       "<Figure size 640x480 with 2 Axes>"
      ]
     },
     "metadata": {},
     "output_type": "display_data"
    }
   ],
   "source": [
    "ConfusionMatrixDisplay(confusion_matrix(y_test, y_pred.round(), normalize='all')).plot()\n",
    "plt.show()"
   ]
  },
  {
   "cell_type": "markdown",
   "id": "130f32d2-1eca-4f9b-8a1a-be0e85f447bf",
   "metadata": {},
   "source": [
    "## Exercise 2\n",
    "\n",
    "Based on the **adult dataset**, build a neural network classifier for the target variable `income`. "
   ]
  },
  {
   "cell_type": "code",
   "execution_count": null,
   "id": "ad3587ca-8799-4d16-a74d-fb07eaa8d053",
   "metadata": {},
   "outputs": [],
   "source": []
  },
  {
   "cell_type": "markdown",
   "id": "4bde7a13-0e1a-44c0-8d71-e9f2e0d4fa79",
   "metadata": {},
   "source": [
    "## Exercise 3\n",
    "\n",
    "Based on the **AmesHousing dataset** from the class on regression, make a deep learning regression model to predict the sales price variable."
   ]
  },
  {
   "cell_type": "code",
   "execution_count": null,
   "id": "4ad2a0b2-16b6-47fa-bc41-b6e86ff194f5",
   "metadata": {},
   "outputs": [],
   "source": []
  }
 ],
 "metadata": {
  "kernelspec": {
   "display_name": "Python 3 (ipykernel)",
   "language": "python",
   "name": "python3"
  },
  "language_info": {
   "codemirror_mode": {
    "name": "ipython",
    "version": 3
   },
   "file_extension": ".py",
   "mimetype": "text/x-python",
   "name": "python",
   "nbconvert_exporter": "python",
   "pygments_lexer": "ipython3",
   "version": "3.10.16"
  }
 },
 "nbformat": 4,
 "nbformat_minor": 5
}
