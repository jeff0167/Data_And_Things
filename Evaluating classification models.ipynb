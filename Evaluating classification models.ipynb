{
 "cells": [
  {
   "cell_type": "markdown",
   "metadata": {},
   "source": [
    "# Evaluating classification models\n",
    "\n",
    "In this notebook, we will look at how to evaluate classification models in terms of the confusion matrix and measures such as accuracy, precision, and recall, as well as the ROC curve and AUC. \n",
    "\n",
    "We will, again, use the diabetes dataset that can be used to classify whether people have diabetes."
   ]
  },
  {
   "cell_type": "code",
   "execution_count": 2,
   "metadata": {
    "scrolled": true
   },
   "outputs": [],
   "source": [
    "import pandas as pd\n",
    "import numpy as np\n",
    "import matplotlib.pyplot as plt\n",
    "import seaborn as sns\n",
    "\n",
    "from sklearn.model_selection import train_test_split\n",
    "from sklearn.metrics import accuracy_score\n",
    "from sklearn.neighbors import KNeighborsClassifier"
   ]
  },
  {
   "cell_type": "code",
   "execution_count": 3,
   "metadata": {},
   "outputs": [],
   "source": [
    "diab_data = pd.read_csv('../Notebooks and data-8/diabetes.csv')"
   ]
  },
  {
   "cell_type": "code",
   "execution_count": 4,
   "metadata": {},
   "outputs": [
    {
     "data": {
      "text/html": [
       "<div>\n",
       "<style scoped>\n",
       "    .dataframe tbody tr th:only-of-type {\n",
       "        vertical-align: middle;\n",
       "    }\n",
       "\n",
       "    .dataframe tbody tr th {\n",
       "        vertical-align: top;\n",
       "    }\n",
       "\n",
       "    .dataframe thead th {\n",
       "        text-align: right;\n",
       "    }\n",
       "</style>\n",
       "<table border=\"1\" class=\"dataframe\">\n",
       "  <thead>\n",
       "    <tr style=\"text-align: right;\">\n",
       "      <th></th>\n",
       "      <th>Pregnancies</th>\n",
       "      <th>Glucose</th>\n",
       "      <th>BloodPressure</th>\n",
       "      <th>SkinThickness</th>\n",
       "      <th>Insulin</th>\n",
       "      <th>BMI</th>\n",
       "      <th>DiabetesPedigreeFunction</th>\n",
       "      <th>Age</th>\n",
       "      <th>Outcome</th>\n",
       "    </tr>\n",
       "  </thead>\n",
       "  <tbody>\n",
       "    <tr>\n",
       "      <th>0</th>\n",
       "      <td>6</td>\n",
       "      <td>148</td>\n",
       "      <td>72</td>\n",
       "      <td>35</td>\n",
       "      <td>0</td>\n",
       "      <td>33.6</td>\n",
       "      <td>0.627</td>\n",
       "      <td>50</td>\n",
       "      <td>1</td>\n",
       "    </tr>\n",
       "    <tr>\n",
       "      <th>1</th>\n",
       "      <td>1</td>\n",
       "      <td>85</td>\n",
       "      <td>66</td>\n",
       "      <td>29</td>\n",
       "      <td>0</td>\n",
       "      <td>26.6</td>\n",
       "      <td>0.351</td>\n",
       "      <td>31</td>\n",
       "      <td>0</td>\n",
       "    </tr>\n",
       "    <tr>\n",
       "      <th>2</th>\n",
       "      <td>8</td>\n",
       "      <td>183</td>\n",
       "      <td>64</td>\n",
       "      <td>0</td>\n",
       "      <td>0</td>\n",
       "      <td>23.3</td>\n",
       "      <td>0.672</td>\n",
       "      <td>32</td>\n",
       "      <td>1</td>\n",
       "    </tr>\n",
       "    <tr>\n",
       "      <th>3</th>\n",
       "      <td>1</td>\n",
       "      <td>89</td>\n",
       "      <td>66</td>\n",
       "      <td>23</td>\n",
       "      <td>94</td>\n",
       "      <td>28.1</td>\n",
       "      <td>0.167</td>\n",
       "      <td>21</td>\n",
       "      <td>0</td>\n",
       "    </tr>\n",
       "    <tr>\n",
       "      <th>4</th>\n",
       "      <td>0</td>\n",
       "      <td>137</td>\n",
       "      <td>40</td>\n",
       "      <td>35</td>\n",
       "      <td>168</td>\n",
       "      <td>43.1</td>\n",
       "      <td>2.288</td>\n",
       "      <td>33</td>\n",
       "      <td>1</td>\n",
       "    </tr>\n",
       "  </tbody>\n",
       "</table>\n",
       "</div>"
      ],
      "text/plain": [
       "   Pregnancies  Glucose  BloodPressure  SkinThickness  Insulin   BMI  \\\n",
       "0            6      148             72             35        0  33.6   \n",
       "1            1       85             66             29        0  26.6   \n",
       "2            8      183             64              0        0  23.3   \n",
       "3            1       89             66             23       94  28.1   \n",
       "4            0      137             40             35      168  43.1   \n",
       "\n",
       "   DiabetesPedigreeFunction  Age  Outcome  \n",
       "0                     0.627   50        1  \n",
       "1                     0.351   31        0  \n",
       "2                     0.672   32        1  \n",
       "3                     0.167   21        0  \n",
       "4                     2.288   33        1  "
      ]
     },
     "execution_count": 4,
     "metadata": {},
     "output_type": "execute_result"
    }
   ],
   "source": [
    "diab_data.head()"
   ]
  },
  {
   "cell_type": "markdown",
   "metadata": {},
   "source": [
    "## Cross-validation\n",
    "\n",
    "We saw last time that there was a very large variance for the K-Nearest-Neighbor classifier, in the sense that we got very different results dependent on the train-test split (based on what number we used for `random_state`). Let us first visualize that:"
   ]
  },
  {
   "cell_type": "code",
   "execution_count": 5,
   "metadata": {},
   "outputs": [
    {
     "data": {
      "text/plain": [
       "count    50.000000\n",
       "mean      0.711667\n",
       "std       0.030637\n",
       "min       0.635417\n",
       "25%       0.694010\n",
       "50%       0.713542\n",
       "75%       0.729167\n",
       "max       0.781250\n",
       "Name: Test accuracy, dtype: float64"
      ]
     },
     "execution_count": 5,
     "metadata": {},
     "output_type": "execute_result"
    }
   ],
   "source": [
    "y = diab_data[\"Outcome\"]\n",
    "X = diab_data.drop(columns = [\"Age\", \"Outcome\"])\n",
    "acclist = [] \n",
    "\n",
    "random_seeds = np.random.randint(1000, size=50)\n",
    "for seed in random_seeds:\n",
    "    X_train, X_test, y_train, y_test = train_test_split(X, y, test_size=0.25, random_state=seed)\n",
    "    knn5 = KNeighborsClassifier(n_neighbors=5)\n",
    "    knn5.fit(X_train, y_train)\n",
    "    y_pred5_test = knn5.predict(X_test)\n",
    "    acclist.append({\"seed\": seed, \"Test accuracy\": accuracy_score(y_test, y_pred5_test)})\n",
    "\n",
    "accuracyDF = pd.DataFrame(acclist)\n",
    "accuracyDF[\"Test accuracy\"].describe()"
   ]
  },
  {
   "cell_type": "code",
   "execution_count": 6,
   "metadata": {},
   "outputs": [
    {
     "data": {
      "text/plain": [
       "[]"
      ]
     },
     "execution_count": 6,
     "metadata": {},
     "output_type": "execute_result"
    },
    {
     "data": {
      "image/png": "[encoded data removed]",
      "text/plain": [
       "<Figure size 640x480 with 1 Axes>"
      ]
     },
     "metadata": {},
     "output_type": "display_data"
    }
   ],
   "source": [
    "sns.histplot(data = accuracyDF, x = \"Test accuracy\")\n",
    "plt.title(\"The distribution of test accuracy for 50 runs of KNN with K=5\")\n",
    "plt.plot()"
   ]
  },
  {
   "cell_type": "markdown",
   "metadata": {},
   "source": [
    "Let us try to use cross-validation instead. There are multiple ways of doing this, but one is to use the `cross_val_score` from Scikit-learn model_selection module. It makes k-fold cross validation - that is, it trains k different models and evaluate the accuracy on the k hold-out folds. Note that, it only returns the accuracy scores of each fold. We should then train the model afterward on the entire set. (Strictly speaking, we should have done a train test split first and only ran the cross-validation on this training set. Then trained the model on the entire training set, and then finally evaluated the model on the untouched test set.)"
   ]
  },
  {
   "cell_type": "code",
   "execution_count": 10,
   "metadata": {},
   "outputs": [
    {
     "data": {
      "text/plain": [
       "array([0.70779221, 0.66233766, 0.70779221, 0.75816993, 0.67973856])"
      ]
     },
     "execution_count": 10,
     "metadata": {},
     "output_type": "execute_result"
    }
   ],
   "source": [
    "from sklearn.model_selection import cross_val_score\n",
    "\n",
    "knn5 = KNeighborsClassifier(n_neighbors=5)\n",
    "scores = cross_val_score(knn5, X, y, cv = 5)  # cv = 5 means 5-fold cross validation\n",
    "scores"
   ]
  },
  {
   "cell_type": "markdown",
   "metadata": {},
   "source": [
    "We can then use the mean of these as an unbiased estimate of the accuracy of our model on future unseen data:"
   ]
  },
  {
   "cell_type": "code",
   "execution_count": 11,
   "metadata": {},
   "outputs": [
    {
     "data": {
      "text/plain": [
       "0.7031661149308208"
      ]
     },
     "execution_count": 11,
     "metadata": {},
     "output_type": "execute_result"
    }
   ],
   "source": [
    "scores.mean()"
   ]
  },
  {
   "cell_type": "markdown",
   "metadata": {},
   "source": [
    "Let us try out with different K's to see how much variance we have in this estimate:"
   ]
  },
  {
   "cell_type": "code",
   "execution_count": 12,
   "metadata": {},
   "outputs": [
    {
     "data": {
      "text/plain": [
       "count    18.000000\n",
       "mean      0.706617\n",
       "std       0.004688\n",
       "min       0.697917\n",
       "25%       0.703512\n",
       "50%       0.705852\n",
       "75%       0.708414\n",
       "max       0.718750\n",
       "Name: Mean accuracy, dtype: float64"
      ]
     },
     "execution_count": 12,
     "metadata": {},
     "output_type": "execute_result"
    }
   ],
   "source": [
    "kacclist = [] \n",
    "for k in range(2, 20):\n",
    "    scores = cross_val_score(knn5, X, y, cv = k)\n",
    "    kacclist.append({\"Folds\": k, \"Mean accuracy\": scores.mean()})\n",
    "\n",
    "kaccuracyDF = pd.DataFrame(kacclist)\n",
    "kaccuracyDF[\"Mean accuracy\"].describe()"
   ]
  },
  {
   "cell_type": "code",
   "execution_count": 13,
   "metadata": {},
   "outputs": [
    {
     "data": {
      "image/png": "[encoded data removed]",
      "text/plain": [
       "<Figure size 640x480 with 1 Axes>"
      ]
     },
     "metadata": {},
     "output_type": "display_data"
    }
   ],
   "source": [
    "plt.plot(kaccuracyDF[\"Folds\"], kaccuracyDF[\"Mean accuracy\"], label = \"Mean accurcay\", color='blue', marker='o', linestyle='solid')    \n",
    "plt.xlabel('Number of folds (k)')\n",
    "plt.ylabel('Mean acuracy')\n",
    "plt.title(\"Accuracy of different Ks\")\n",
    "plt.legend()\n",
    "\n",
    "plt.show()"
   ]
  },
  {
   "cell_type": "code",
   "execution_count": 14,
   "metadata": {},
   "outputs": [
    {
     "data": {
      "text/plain": [
       "[]"
      ]
     },
     "execution_count": 14,
     "metadata": {},
     "output_type": "execute_result"
    },
    {
     "data": {
      "image/png": "[encoded data removed]",
      "text/plain": [
       "<Figure size 640x480 with 1 Axes>"
      ]
     },
     "metadata": {},
     "output_type": "display_data"
    }
   ],
   "source": [
    "sns.histplot(data = kaccuracyDF, x = \"Mean accuracy\")\n",
    "plt.title(\"The distribution of mean accuracy for 2 to 20 k-fold cross-validation\")\n",
    "plt.plot()"
   ]
  },
  {
   "cell_type": "markdown",
   "metadata": {},
   "source": [
    "We can now use 5-fold cross validation to chose a $K$ for the KNN classifier:"
   ]
  },
  {
   "cell_type": "code",
   "execution_count": 15,
   "metadata": {},
   "outputs": [],
   "source": [
    "def knnSweepCrossValidation(X, y, maxK, folds=5):\n",
    "    kacclist = []\n",
    "    \n",
    "    for k in range(2, maxK):\n",
    "        knn = KNeighborsClassifier(n_neighbors=k)     \n",
    "        scores = cross_val_score(knn, X, y, cv = folds)\n",
    "        kacclist.append({\"K\": k, \"CV accuracy\": scores.mean()})\n",
    "\n",
    "    return pd.DataFrame(kacclist)"
   ]
  },
  {
   "cell_type": "code",
   "execution_count": 16,
   "metadata": {},
   "outputs": [
    {
     "data": {
      "text/html": [
       "<div>\n",
       "<style scoped>\n",
       "    .dataframe tbody tr th:only-of-type {\n",
       "        vertical-align: middle;\n",
       "    }\n",
       "\n",
       "    .dataframe tbody tr th {\n",
       "        vertical-align: top;\n",
       "    }\n",
       "\n",
       "    .dataframe thead th {\n",
       "        text-align: right;\n",
       "    }\n",
       "</style>\n",
       "<table border=\"1\" class=\"dataframe\">\n",
       "  <thead>\n",
       "    <tr style=\"text-align: right;\">\n",
       "      <th></th>\n",
       "      <th>K</th>\n",
       "      <th>CV accuracy</th>\n",
       "    </tr>\n",
       "  </thead>\n",
       "  <tbody>\n",
       "    <tr>\n",
       "      <th>0</th>\n",
       "      <td>2</td>\n",
       "      <td>0.703149</td>\n",
       "    </tr>\n",
       "    <tr>\n",
       "      <th>1</th>\n",
       "      <td>3</td>\n",
       "      <td>0.695357</td>\n",
       "    </tr>\n",
       "    <tr>\n",
       "      <th>2</th>\n",
       "      <td>4</td>\n",
       "      <td>0.713547</td>\n",
       "    </tr>\n",
       "    <tr>\n",
       "      <th>3</th>\n",
       "      <td>5</td>\n",
       "      <td>0.703166</td>\n",
       "    </tr>\n",
       "    <tr>\n",
       "      <th>4</th>\n",
       "      <td>6</td>\n",
       "      <td>0.705747</td>\n",
       "    </tr>\n",
       "    <tr>\n",
       "      <th>5</th>\n",
       "      <td>7</td>\n",
       "      <td>0.716128</td>\n",
       "    </tr>\n",
       "    <tr>\n",
       "      <th>6</th>\n",
       "      <td>8</td>\n",
       "      <td>0.734386</td>\n",
       "    </tr>\n",
       "    <tr>\n",
       "      <th>7</th>\n",
       "      <td>9</td>\n",
       "      <td>0.725261</td>\n",
       "    </tr>\n",
       "    <tr>\n",
       "      <th>8</th>\n",
       "      <td>10</td>\n",
       "      <td>0.744801</td>\n",
       "    </tr>\n",
       "    <tr>\n",
       "      <th>9</th>\n",
       "      <td>11</td>\n",
       "      <td>0.734377</td>\n",
       "    </tr>\n",
       "    <tr>\n",
       "      <th>10</th>\n",
       "      <td>12</td>\n",
       "      <td>0.739581</td>\n",
       "    </tr>\n",
       "    <tr>\n",
       "      <th>11</th>\n",
       "      <td>13</td>\n",
       "      <td>0.740896</td>\n",
       "    </tr>\n",
       "    <tr>\n",
       "      <th>12</th>\n",
       "      <td>14</td>\n",
       "      <td>0.747398</td>\n",
       "    </tr>\n",
       "    <tr>\n",
       "      <th>13</th>\n",
       "      <td>15</td>\n",
       "      <td>0.731780</td>\n",
       "    </tr>\n",
       "    <tr>\n",
       "      <th>14</th>\n",
       "      <td>16</td>\n",
       "      <td>0.744767</td>\n",
       "    </tr>\n",
       "    <tr>\n",
       "      <th>15</th>\n",
       "      <td>17</td>\n",
       "      <td>0.738290</td>\n",
       "    </tr>\n",
       "    <tr>\n",
       "      <th>16</th>\n",
       "      <td>18</td>\n",
       "      <td>0.739572</td>\n",
       "    </tr>\n",
       "    <tr>\n",
       "      <th>17</th>\n",
       "      <td>19</td>\n",
       "      <td>0.738282</td>\n",
       "    </tr>\n",
       "    <tr>\n",
       "      <th>18</th>\n",
       "      <td>20</td>\n",
       "      <td>0.733079</td>\n",
       "    </tr>\n",
       "    <tr>\n",
       "      <th>19</th>\n",
       "      <td>21</td>\n",
       "      <td>0.731788</td>\n",
       "    </tr>\n",
       "    <tr>\n",
       "      <th>20</th>\n",
       "      <td>22</td>\n",
       "      <td>0.740888</td>\n",
       "    </tr>\n",
       "    <tr>\n",
       "      <th>21</th>\n",
       "      <td>23</td>\n",
       "      <td>0.736983</td>\n",
       "    </tr>\n",
       "    <tr>\n",
       "      <th>22</th>\n",
       "      <td>24</td>\n",
       "      <td>0.726585</td>\n",
       "    </tr>\n",
       "  </tbody>\n",
       "</table>\n",
       "</div>"
      ],
      "text/plain": [
       "     K  CV accuracy\n",
       "0    2     0.703149\n",
       "1    3     0.695357\n",
       "2    4     0.713547\n",
       "3    5     0.703166\n",
       "4    6     0.705747\n",
       "5    7     0.716128\n",
       "6    8     0.734386\n",
       "7    9     0.725261\n",
       "8   10     0.744801\n",
       "9   11     0.734377\n",
       "10  12     0.739581\n",
       "11  13     0.740896\n",
       "12  14     0.747398\n",
       "13  15     0.731780\n",
       "14  16     0.744767\n",
       "15  17     0.738290\n",
       "16  18     0.739572\n",
       "17  19     0.738282\n",
       "18  20     0.733079\n",
       "19  21     0.731788\n",
       "20  22     0.740888\n",
       "21  23     0.736983\n",
       "22  24     0.726585"
      ]
     },
     "execution_count": 16,
     "metadata": {},
     "output_type": "execute_result"
    }
   ],
   "source": [
    "knnSweepCrossValidation(X, y, 25)"
   ]
  },
  {
   "cell_type": "markdown",
   "metadata": {},
   "source": [
    "Let us compare it to the `random_state=42` from last time."
   ]
  },
  {
   "cell_type": "code",
   "execution_count": 17,
   "metadata": {},
   "outputs": [],
   "source": [
    "def knnSweep(X, y, maxK):\n",
    "    accuracy_row_list = []\n",
    "    X_train, X_test, y_train, y_test = train_test_split(X, y, test_size=0.25, random_state=42)\n",
    "    for k in range(2, maxK):\n",
    "        knn = KNeighborsClassifier(n_neighbors=k)\n",
    "        knn.fit(X_train, y_train)\n",
    "        y_pred_test = knn.predict(X_test)\n",
    "        accuracy_test = accuracy_score(y_test, y_pred_test)\n",
    "        accuracy_row_list.append({\"K\": k, \"Random42 test accuracy\": accuracy_test})\n",
    "\n",
    "    return pd.DataFrame(accuracy_row_list)"
   ]
  },
  {
   "cell_type": "code",
   "execution_count": 18,
   "metadata": {},
   "outputs": [
    {
     "data": {
      "text/html": [
       "<div>\n",
       "<style scoped>\n",
       "    .dataframe tbody tr th:only-of-type {\n",
       "        vertical-align: middle;\n",
       "    }\n",
       "\n",
       "    .dataframe tbody tr th {\n",
       "        vertical-align: top;\n",
       "    }\n",
       "\n",
       "    .dataframe thead th {\n",
       "        text-align: right;\n",
       "    }\n",
       "</style>\n",
       "<table border=\"1\" class=\"dataframe\">\n",
       "  <thead>\n",
       "    <tr style=\"text-align: right;\">\n",
       "      <th></th>\n",
       "      <th>K</th>\n",
       "      <th>Random42 test accuracy</th>\n",
       "      <th>CV accuracy</th>\n",
       "    </tr>\n",
       "  </thead>\n",
       "  <tbody>\n",
       "    <tr>\n",
       "      <th>0</th>\n",
       "      <td>2</td>\n",
       "      <td>0.713542</td>\n",
       "      <td>0.703149</td>\n",
       "    </tr>\n",
       "    <tr>\n",
       "      <th>1</th>\n",
       "      <td>3</td>\n",
       "      <td>0.635417</td>\n",
       "      <td>0.695357</td>\n",
       "    </tr>\n",
       "    <tr>\n",
       "      <th>2</th>\n",
       "      <td>4</td>\n",
       "      <td>0.708333</td>\n",
       "      <td>0.713547</td>\n",
       "    </tr>\n",
       "    <tr>\n",
       "      <th>3</th>\n",
       "      <td>5</td>\n",
       "      <td>0.682292</td>\n",
       "      <td>0.703166</td>\n",
       "    </tr>\n",
       "    <tr>\n",
       "      <th>4</th>\n",
       "      <td>6</td>\n",
       "      <td>0.666667</td>\n",
       "      <td>0.705747</td>\n",
       "    </tr>\n",
       "  </tbody>\n",
       "</table>\n",
       "</div>"
      ],
      "text/plain": [
       "   K  Random42 test accuracy  CV accuracy\n",
       "0  2                0.713542     0.703149\n",
       "1  3                0.635417     0.695357\n",
       "2  4                0.708333     0.713547\n",
       "3  5                0.682292     0.703166\n",
       "4  6                0.666667     0.705747"
      ]
     },
     "execution_count": 18,
     "metadata": {},
     "output_type": "execute_result"
    }
   ],
   "source": [
    "ran25 = knnSweep(X, y, 25)\n",
    "cv25 = knnSweepCrossValidation(X, y, 25)\n",
    "\n",
    "compareDF = pd.merge(ran25, cv25, on=\"K\")\n",
    "compareDF.head()"
   ]
  },
  {
   "cell_type": "code",
   "execution_count": 19,
   "metadata": {},
   "outputs": [
    {
     "data": {
      "image/png": "[encoded data removed]",
      "text/plain": [
       "<Figure size 640x480 with 1 Axes>"
      ]
     },
     "metadata": {},
     "output_type": "display_data"
    }
   ],
   "source": [
    "plt.plot(compareDF[\"K\"], compareDF[\"Random42 test accuracy\"], label = 'Random 42 test accuracy', color='blue', marker='o', linestyle='solid')\n",
    "plt.plot(compareDF[\"K\"], compareDF[\"CV accuracy\"], label = 'CV accurcay', color='red', marker='o', linestyle='solid')\n",
    "    \n",
    "plt.xlabel('K')\n",
    "plt.ylabel('Accuracy')\n",
    "plt.title(\"Accuracy of different Ks\")\n",
    "plt.legend()\n",
    "\n",
    "plt.show()"
   ]
  },
  {
   "cell_type": "markdown",
   "metadata": {},
   "source": [
    "We clearly see much less variance in the cross-validation accuracy! There is still variation, but that is mainly due to the fact that we have a small dataset and KNN is a model type with high variance. But it looks like that $K=10$ is a sensible choice."
   ]
  },
  {
   "cell_type": "markdown",
   "metadata": {},
   "source": [
    "## The confusion matrix\n",
    "\n",
    "we will now focus on a single model of KNN trained for $K=5$ and $K=10$:"
   ]
  },
  {
   "cell_type": "code",
   "execution_count": 20,
   "metadata": {},
   "outputs": [],
   "source": [
    "knn5 = KNeighborsClassifier(n_neighbors=5)\n",
    "knn5.fit(X, y)\n",
    "y_pred5 = knn5.predict(X)\n",
    "\n",
    "knn10 = KNeighborsClassifier(n_neighbors=10)\n",
    "knn10.fit(X, y)\n",
    "y_pred10 = knn10.predict(X)"
   ]
  },
  {
   "cell_type": "markdown",
   "metadata": {},
   "source": [
    "We can use the `confusion_matrix` function from the Scikit-learn metrics submodule, to get a confusion matrix."
   ]
  },
  {
   "cell_type": "code",
   "execution_count": 21,
   "metadata": {},
   "outputs": [],
   "source": [
    "from sklearn.metrics import confusion_matrix"
   ]
  },
  {
   "cell_type": "code",
   "execution_count": 22,
   "metadata": {},
   "outputs": [
    {
     "data": {
      "text/plain": [
       "array([[448,  52],\n",
       "       [ 98, 170]], dtype=int64)"
      ]
     },
     "execution_count": 22,
     "metadata": {},
     "output_type": "execute_result"
    }
   ],
   "source": [
    "confusion_matrix(y, y_pred5)"
   ]
  },
  {
   "cell_type": "code",
   "execution_count": 23,
   "metadata": {},
   "outputs": [
    {
     "data": {
      "text/plain": [
       "array([[455,  45],\n",
       "       [136, 132]], dtype=int64)"
      ]
     },
     "execution_count": 23,
     "metadata": {},
     "output_type": "execute_result"
    }
   ],
   "source": [
    "confusion_matrix(y, y_pred10)"
   ]
  },
  {
   "cell_type": "markdown",
   "metadata": {},
   "source": [
    "We can also make it visually more appealing with a heatmap style plot using `ConfusionMatrixDisplay` also from Scikit-learn metrics."
   ]
  },
  {
   "cell_type": "code",
   "execution_count": 24,
   "metadata": {},
   "outputs": [],
   "source": [
    "from sklearn.metrics import ConfusionMatrixDisplay"
   ]
  },
  {
   "cell_type": "code",
   "execution_count": 25,
   "metadata": {},
   "outputs": [
    {
     "data": {
      "image/png": "[encoded data removed]",
      "text/plain": [
       "<Figure size 640x480 with 2 Axes>"
      ]
     },
     "metadata": {},
     "output_type": "display_data"
    }
   ],
   "source": [
    "ConfusionMatrixDisplay(confusion_matrix(y, y_pred5)).plot()\n",
    "plt.show()"
   ]
  },
  {
   "cell_type": "code",
   "execution_count": 26,
   "metadata": {},
   "outputs": [
    {
     "data": {
      "image/png": "[encoded data removed]",
      "text/plain": [
       "<Figure size 640x480 with 2 Axes>"
      ]
     },
     "metadata": {},
     "output_type": "display_data"
    }
   ],
   "source": [
    "ConfusionMatrixDisplay(confusion_matrix(y, y_pred10)).plot()\n",
    "plt.show()"
   ]
  },
  {
   "cell_type": "markdown",
   "metadata": {},
   "source": [
    "It looks like the model for $K=10$ make less False Positive predictions (45 instead of 52) than the model for $K=5$. On the other hand, it makes much more False Negative predictions (136 instead of 98). So the $K=10$ model does not seem much better than the $K=5$ model. Let us calculate the various metrics to make a more detailed comparison."
   ]
  },
  {
   "cell_type": "markdown",
   "metadata": {},
   "source": [
    "If one wants to look at percentages instead, we can normalize the values in the cells to sum to one:"
   ]
  },
  {
   "cell_type": "code",
   "execution_count": 27,
   "metadata": {},
   "outputs": [
    {
     "data": {
      "image/png": "[encoded data removed]",
      "text/plain": [
       "<Figure size 640x480 with 2 Axes>"
      ]
     },
     "metadata": {},
     "output_type": "display_data"
    }
   ],
   "source": [
    "ConfusionMatrixDisplay(confusion_matrix(y, y_pred10, normalize='all')).plot()\n",
    "plt.show()"
   ]
  },
  {
   "cell_type": "markdown",
   "metadata": {},
   "source": [
    "## Evaluation metrics\n",
    "\n",
    "We can import all the revelant evaluation metrics from Scikit-learn metrics submodule:"
   ]
  },
  {
   "cell_type": "code",
   "execution_count": 28,
   "metadata": {},
   "outputs": [],
   "source": [
    "from sklearn.metrics import accuracy_score\n",
    "from sklearn.metrics import precision_score\n",
    "from sklearn.metrics import recall_score\n",
    "from sklearn.metrics import f1_score"
   ]
  },
  {
   "cell_type": "code",
   "execution_count": 29,
   "metadata": {},
   "outputs": [
    {
     "data": {
      "text/html": [
       "<div>\n",
       "<style scoped>\n",
       "    .dataframe tbody tr th:only-of-type {\n",
       "        vertical-align: middle;\n",
       "    }\n",
       "\n",
       "    .dataframe tbody tr th {\n",
       "        vertical-align: top;\n",
       "    }\n",
       "\n",
       "    .dataframe thead th {\n",
       "        text-align: right;\n",
       "    }\n",
       "</style>\n",
       "<table border=\"1\" class=\"dataframe\">\n",
       "  <thead>\n",
       "    <tr style=\"text-align: right;\">\n",
       "      <th></th>\n",
       "      <th>K</th>\n",
       "      <th>Accuracy</th>\n",
       "      <th>Precision</th>\n",
       "      <th>Recall</th>\n",
       "      <th>F1</th>\n",
       "    </tr>\n",
       "  </thead>\n",
       "  <tbody>\n",
       "    <tr>\n",
       "      <th>0</th>\n",
       "      <td>5</td>\n",
       "      <td>0.804688</td>\n",
       "      <td>0.765766</td>\n",
       "      <td>0.634328</td>\n",
       "      <td>0.693878</td>\n",
       "    </tr>\n",
       "    <tr>\n",
       "      <th>1</th>\n",
       "      <td>10</td>\n",
       "      <td>0.764323</td>\n",
       "      <td>0.745763</td>\n",
       "      <td>0.492537</td>\n",
       "      <td>0.593258</td>\n",
       "    </tr>\n",
       "  </tbody>\n",
       "</table>\n",
       "</div>"
      ],
      "text/plain": [
       "    K  Accuracy  Precision    Recall        F1\n",
       "0   5  0.804688   0.765766  0.634328  0.693878\n",
       "1  10  0.764323   0.745763  0.492537  0.593258"
      ]
     },
     "execution_count": 29,
     "metadata": {},
     "output_type": "execute_result"
    }
   ],
   "source": [
    "EvaluationScoreDF = pd.DataFrame({\"K\": [5, 10],\n",
    "                                  \"Accuracy\": [accuracy_score(y, y_pred5), accuracy_score(y, y_pred10)],\n",
    "                                  \"Precision\": [precision_score(y, y_pred5), precision_score(y, y_pred10)],\n",
    "                                  \"Recall\": [recall_score(y, y_pred5), recall_score(y, y_pred10)],\n",
    "                                  \"F1\": [f1_score(y, y_pred5), f1_score(y, y_pred10)]})\n",
    "EvaluationScoreDF                            "
   ]
  },
  {
   "cell_type": "markdown",
   "metadata": {},
   "source": [
    "We see that the $K=5$ actually seems to perform better on all metrics."
   ]
  },
  {
   "cell_type": "markdown",
   "metadata": {},
   "source": [
    "## ROC and AUC evaluation\n",
    "\n",
    "We will not look at the ROC curve and calculate AUC for the models. For this we will use our logistic regression model from last time as it naturally can give us class probabilities instead hard labels."
   ]
  },
  {
   "cell_type": "code",
   "execution_count": 30,
   "metadata": {},
   "outputs": [],
   "source": [
    "from sklearn import linear_model"
   ]
  },
  {
   "cell_type": "code",
   "execution_count": 31,
   "metadata": {},
   "outputs": [],
   "source": [
    "logit_model = linear_model.LogisticRegression()"
   ]
  },
  {
   "cell_type": "code",
   "execution_count": 32,
   "metadata": {},
   "outputs": [],
   "source": [
    "X = diab_data[[\"Glucose\", \"BMI\"]]  "
   ]
  },
  {
   "cell_type": "code",
   "execution_count": 33,
   "metadata": {},
   "outputs": [
    {
     "data": {
      "text/html": [
       "<style>#sk-container-id-1 {\n",
       "  /* Definition of color scheme common for light and dark mode */\n",
       "  --sklearn-color-text: black;\n",
       "  --sklearn-color-line: gray;\n",
       "  /* Definition of color scheme for unfitted estimators */\n",
       "  --sklearn-color-unfitted-level-0: #fff5e6;\n",
       "  --sklearn-color-unfitted-level-1: #f6e4d2;\n",
       "  --sklearn-color-unfitted-level-2: #ffe0b3;\n",
       "  --sklearn-color-unfitted-level-3: chocolate;\n",
       "  /* Definition of color scheme for fitted estimators */\n",
       "  --sklearn-color-fitted-level-0: #f0f8ff;\n",
       "  --sklearn-color-fitted-level-1: #d4ebff;\n",
       "  --sklearn-color-fitted-level-2: #b3dbfd;\n",
       "  --sklearn-color-fitted-level-3: cornflowerblue;\n",
       "\n",
       "  /* Specific color for light theme */\n",
       "  --sklearn-color-text-on-default-background: var(--sg-text-color, var(--theme-code-foreground, var(--jp-content-font-color1, black)));\n",
       "  --sklearn-color-background: var(--sg-background-color, var(--theme-background, var(--jp-layout-color0, white)));\n",
       "  --sklearn-color-border-box: var(--sg-text-color, var(--theme-code-foreground, var(--jp-content-font-color1, black)));\n",
       "  --sklearn-color-icon: #696969;\n",
       "\n",
       "  @media (prefers-color-scheme: dark) {\n",
       "    /* Redefinition of color scheme for dark theme */\n",
       "    --sklearn-color-text-on-default-background: var(--sg-text-color, var(--theme-code-foreground, var(--jp-content-font-color1, white)));\n",
       "    --sklearn-color-background: var(--sg-background-color, var(--theme-background, var(--jp-layout-color0, #111)));\n",
       "    --sklearn-color-border-box: var(--sg-text-color, var(--theme-code-foreground, var(--jp-content-font-color1, white)));\n",
       "    --sklearn-color-icon: #878787;\n",
       "  }\n",
       "}\n",
       "\n",
       "#sk-container-id-1 {\n",
       "  color: var(--sklearn-color-text);\n",
       "}\n",
       "\n",
       "#sk-container-id-1 pre {\n",
       "  padding: 0;\n",
       "}\n",
       "\n",
       "#sk-container-id-1 input.sk-hidden--visually {\n",
       "  border: 0;\n",
       "  clip: rect(1px 1px 1px 1px);\n",
       "  clip: rect(1px, 1px, 1px, 1px);\n",
       "  height: 1px;\n",
       "  margin: -1px;\n",
       "  overflow: hidden;\n",
       "  padding: 0;\n",
       "  position: absolute;\n",
       "  width: 1px;\n",
       "}\n",
       "\n",
       "#sk-container-id-1 div.sk-dashed-wrapped {\n",
       "  border: 1px dashed var(--sklearn-color-line);\n",
       "  margin: 0 0.4em 0.5em 0.4em;\n",
       "  box-sizing: border-box;\n",
       "  padding-bottom: 0.4em;\n",
       "  background-color: var(--sklearn-color-background);\n",
       "}\n",
       "\n",
       "#sk-container-id-1 div.sk-container {\n",
       "  /* jupyter's `normalize.less` sets `[hidden] { display: none; }`\n",
       "     but bootstrap.min.css set `[hidden] { display: none !important; }`\n",
       "     so we also need the `!important` here to be able to override the\n",
       "     default hidden behavior on the sphinx rendered scikit-learn.org.\n",
       "     See: https://github.com/scikit-learn/scikit-learn/issues/21755 */\n",
       "  display: inline-block !important;\n",
       "  position: relative;\n",
       "}\n",
       "\n",
       "#sk-container-id-1 div.sk-text-repr-fallback {\n",
       "  display: none;\n",
       "}\n",
       "\n",
       "div.sk-parallel-item,\n",
       "div.sk-serial,\n",
       "div.sk-item {\n",
       "  /* draw centered vertical line to link estimators */\n",
       "  background-image: linear-gradient(var(--sklearn-color-text-on-default-background), var(--sklearn-color-text-on-default-background));\n",
       "  background-size: 2px 100%;\n",
       "  background-repeat: no-repeat;\n",
       "  background-position: center center;\n",
       "}\n",
       "\n",
       "/* Parallel-specific style estimator block */\n",
       "\n",
       "#sk-container-id-1 div.sk-parallel-item::after {\n",
       "  content: \"\";\n",
       "  width: 100%;\n",
       "  border-bottom: 2px solid var(--sklearn-color-text-on-default-background);\n",
       "  flex-grow: 1;\n",
       "}\n",
       "\n",
       "#sk-container-id-1 div.sk-parallel {\n",
       "  display: flex;\n",
       "  align-items: stretch;\n",
       "  justify-content: center;\n",
       "  background-color: var(--sklearn-color-background);\n",
       "  position: relative;\n",
       "}\n",
       "\n",
       "#sk-container-id-1 div.sk-parallel-item {\n",
       "  display: flex;\n",
       "  flex-direction: column;\n",
       "}\n",
       "\n",
       "#sk-container-id-1 div.sk-parallel-item:first-child::after {\n",
       "  align-self: flex-end;\n",
       "  width: 50%;\n",
       "}\n",
       "\n",
       "#sk-container-id-1 div.sk-parallel-item:last-child::after {\n",
       "  align-self: flex-start;\n",
       "  width: 50%;\n",
       "}\n",
       "\n",
       "#sk-container-id-1 div.sk-parallel-item:only-child::after {\n",
       "  width: 0;\n",
       "}\n",
       "\n",
       "/* Serial-specific style estimator block */\n",
       "\n",
       "#sk-container-id-1 div.sk-serial {\n",
       "  display: flex;\n",
       "  flex-direction: column;\n",
       "  align-items: center;\n",
       "  background-color: var(--sklearn-color-background);\n",
       "  padding-right: 1em;\n",
       "  padding-left: 1em;\n",
       "}\n",
       "\n",
       "\n",
       "/* Toggleable style: style used for estimator/Pipeline/ColumnTransformer box that is\n",
       "clickable and can be expanded/collapsed.\n",
       "- Pipeline and ColumnTransformer use this feature and define the default style\n",
       "- Estimators will overwrite some part of the style using the `sk-estimator` class\n",
       "*/\n",
       "\n",
       "/* Pipeline and ColumnTransformer style (default) */\n",
       "\n",
       "#sk-container-id-1 div.sk-toggleable {\n",
       "  /* Default theme specific background. It is overwritten whether we have a\n",
       "  specific estimator or a Pipeline/ColumnTransformer */\n",
       "  background-color: var(--sklearn-color-background);\n",
       "}\n",
       "\n",
       "/* Toggleable label */\n",
       "#sk-container-id-1 label.sk-toggleable__label {\n",
       "  cursor: pointer;\n",
       "  display: block;\n",
       "  width: 100%;\n",
       "  margin-bottom: 0;\n",
       "  padding: 0.5em;\n",
       "  box-sizing: border-box;\n",
       "  text-align: center;\n",
       "}\n",
       "\n",
       "#sk-container-id-1 label.sk-toggleable__label-arrow:before {\n",
       "  /* Arrow on the left of the label */\n",
       "  content: \"▸\";\n",
       "  float: left;\n",
       "  margin-right: 0.25em;\n",
       "  color: var(--sklearn-color-icon);\n",
       "}\n",
       "\n",
       "#sk-container-id-1 label.sk-toggleable__label-arrow:hover:before {\n",
       "  color: var(--sklearn-color-text);\n",
       "}\n",
       "\n",
       "/* Toggleable content - dropdown */\n",
       "\n",
       "#sk-container-id-1 div.sk-toggleable__content {\n",
       "  max-height: 0;\n",
       "  max-width: 0;\n",
       "  overflow: hidden;\n",
       "  text-align: left;\n",
       "  /* unfitted */\n",
       "  background-color: var(--sklearn-color-unfitted-level-0);\n",
       "}\n",
       "\n",
       "#sk-container-id-1 div.sk-toggleable__content.fitted {\n",
       "  /* fitted */\n",
       "  background-color: var(--sklearn-color-fitted-level-0);\n",
       "}\n",
       "\n",
       "#sk-container-id-1 div.sk-toggleable__content pre {\n",
       "  margin: 0.2em;\n",
       "  border-radius: 0.25em;\n",
       "  color: var(--sklearn-color-text);\n",
       "  /* unfitted */\n",
       "  background-color: var(--sklearn-color-unfitted-level-0);\n",
       "}\n",
       "\n",
       "#sk-container-id-1 div.sk-toggleable__content.fitted pre {\n",
       "  /* unfitted */\n",
       "  background-color: var(--sklearn-color-fitted-level-0);\n",
       "}\n",
       "\n",
       "#sk-container-id-1 input.sk-toggleable__control:checked~div.sk-toggleable__content {\n",
       "  /* Expand drop-down */\n",
       "  max-height: 200px;\n",
       "  max-width: 100%;\n",
       "  overflow: auto;\n",
       "}\n",
       "\n",
       "#sk-container-id-1 input.sk-toggleable__control:checked~label.sk-toggleable__label-arrow:before {\n",
       "  content: \"▾\";\n",
       "}\n",
       "\n",
       "/* Pipeline/ColumnTransformer-specific style */\n",
       "\n",
       "#sk-container-id-1 div.sk-label input.sk-toggleable__control:checked~label.sk-toggleable__label {\n",
       "  color: var(--sklearn-color-text);\n",
       "  background-color: var(--sklearn-color-unfitted-level-2);\n",
       "}\n",
       "\n",
       "#sk-container-id-1 div.sk-label.fitted input.sk-toggleable__control:checked~label.sk-toggleable__label {\n",
       "  background-color: var(--sklearn-color-fitted-level-2);\n",
       "}\n",
       "\n",
       "/* Estimator-specific style */\n",
       "\n",
       "/* Colorize estimator box */\n",
       "#sk-container-id-1 div.sk-estimator input.sk-toggleable__control:checked~label.sk-toggleable__label {\n",
       "  /* unfitted */\n",
       "  background-color: var(--sklearn-color-unfitted-level-2);\n",
       "}\n",
       "\n",
       "#sk-container-id-1 div.sk-estimator.fitted input.sk-toggleable__control:checked~label.sk-toggleable__label {\n",
       "  /* fitted */\n",
       "  background-color: var(--sklearn-color-fitted-level-2);\n",
       "}\n",
       "\n",
       "#sk-container-id-1 div.sk-label label.sk-toggleable__label,\n",
       "#sk-container-id-1 div.sk-label label {\n",
       "  /* The background is the default theme color */\n",
       "  color: var(--sklearn-color-text-on-default-background);\n",
       "}\n",
       "\n",
       "/* On hover, darken the color of the background */\n",
       "#sk-container-id-1 div.sk-label:hover label.sk-toggleable__label {\n",
       "  color: var(--sklearn-color-text);\n",
       "  background-color: var(--sklearn-color-unfitted-level-2);\n",
       "}\n",
       "\n",
       "/* Label box, darken color on hover, fitted */\n",
       "#sk-container-id-1 div.sk-label.fitted:hover label.sk-toggleable__label.fitted {\n",
       "  color: var(--sklearn-color-text);\n",
       "  background-color: var(--sklearn-color-fitted-level-2);\n",
       "}\n",
       "\n",
       "/* Estimator label */\n",
       "\n",
       "#sk-container-id-1 div.sk-label label {\n",
       "  font-family: monospace;\n",
       "  font-weight: bold;\n",
       "  display: inline-block;\n",
       "  line-height: 1.2em;\n",
       "}\n",
       "\n",
       "#sk-container-id-1 div.sk-label-container {\n",
       "  text-align: center;\n",
       "}\n",
       "\n",
       "/* Estimator-specific */\n",
       "#sk-container-id-1 div.sk-estimator {\n",
       "  font-family: monospace;\n",
       "  border: 1px dotted var(--sklearn-color-border-box);\n",
       "  border-radius: 0.25em;\n",
       "  box-sizing: border-box;\n",
       "  margin-bottom: 0.5em;\n",
       "  /* unfitted */\n",
       "  background-color: var(--sklearn-color-unfitted-level-0);\n",
       "}\n",
       "\n",
       "#sk-container-id-1 div.sk-estimator.fitted {\n",
       "  /* fitted */\n",
       "  background-color: var(--sklearn-color-fitted-level-0);\n",
       "}\n",
       "\n",
       "/* on hover */\n",
       "#sk-container-id-1 div.sk-estimator:hover {\n",
       "  /* unfitted */\n",
       "  background-color: var(--sklearn-color-unfitted-level-2);\n",
       "}\n",
       "\n",
       "#sk-container-id-1 div.sk-estimator.fitted:hover {\n",
       "  /* fitted */\n",
       "  background-color: var(--sklearn-color-fitted-level-2);\n",
       "}\n",
       "\n",
       "/* Specification for estimator info (e.g. \"i\" and \"?\") */\n",
       "\n",
       "/* Common style for \"i\" and \"?\" */\n",
       "\n",
       ".sk-estimator-doc-link,\n",
       "a:link.sk-estimator-doc-link,\n",
       "a:visited.sk-estimator-doc-link {\n",
       "  float: right;\n",
       "  font-size: smaller;\n",
       "  line-height: 1em;\n",
       "  font-family: monospace;\n",
       "  background-color: var(--sklearn-color-background);\n",
       "  border-radius: 1em;\n",
       "  height: 1em;\n",
       "  width: 1em;\n",
       "  text-decoration: none !important;\n",
       "  margin-left: 1ex;\n",
       "  /* unfitted */\n",
       "  border: var(--sklearn-color-unfitted-level-1) 1pt solid;\n",
       "  color: var(--sklearn-color-unfitted-level-1);\n",
       "}\n",
       "\n",
       ".sk-estimator-doc-link.fitted,\n",
       "a:link.sk-estimator-doc-link.fitted,\n",
       "a:visited.sk-estimator-doc-link.fitted {\n",
       "  /* fitted */\n",
       "  border: var(--sklearn-color-fitted-level-1) 1pt solid;\n",
       "  color: var(--sklearn-color-fitted-level-1);\n",
       "}\n",
       "\n",
       "/* On hover */\n",
       "div.sk-estimator:hover .sk-estimator-doc-link:hover,\n",
       ".sk-estimator-doc-link:hover,\n",
       "div.sk-label-container:hover .sk-estimator-doc-link:hover,\n",
       ".sk-estimator-doc-link:hover {\n",
       "  /* unfitted */\n",
       "  background-color: var(--sklearn-color-unfitted-level-3);\n",
       "  color: var(--sklearn-color-background);\n",
       "  text-decoration: none;\n",
       "}\n",
       "\n",
       "div.sk-estimator.fitted:hover .sk-estimator-doc-link.fitted:hover,\n",
       ".sk-estimator-doc-link.fitted:hover,\n",
       "div.sk-label-container:hover .sk-estimator-doc-link.fitted:hover,\n",
       ".sk-estimator-doc-link.fitted:hover {\n",
       "  /* fitted */\n",
       "  background-color: var(--sklearn-color-fitted-level-3);\n",
       "  color: var(--sklearn-color-background);\n",
       "  text-decoration: none;\n",
       "}\n",
       "\n",
       "/* Span, style for the box shown on hovering the info icon */\n",
       ".sk-estimator-doc-link span {\n",
       "  display: none;\n",
       "  z-index: 9999;\n",
       "  position: relative;\n",
       "  font-weight: normal;\n",
       "  right: .2ex;\n",
       "  padding: .5ex;\n",
       "  margin: .5ex;\n",
       "  width: min-content;\n",
       "  min-width: 20ex;\n",
       "  max-width: 50ex;\n",
       "  color: var(--sklearn-color-text);\n",
       "  box-shadow: 2pt 2pt 4pt #999;\n",
       "  /* unfitted */\n",
       "  background: var(--sklearn-color-unfitted-level-0);\n",
       "  border: .5pt solid var(--sklearn-color-unfitted-level-3);\n",
       "}\n",
       "\n",
       ".sk-estimator-doc-link.fitted span {\n",
       "  /* fitted */\n",
       "  background: var(--sklearn-color-fitted-level-0);\n",
       "  border: var(--sklearn-color-fitted-level-3);\n",
       "}\n",
       "\n",
       ".sk-estimator-doc-link:hover span {\n",
       "  display: block;\n",
       "}\n",
       "\n",
       "/* \"?\"-specific style due to the `<a>` HTML tag */\n",
       "\n",
       "#sk-container-id-1 a.estimator_doc_link {\n",
       "  float: right;\n",
       "  font-size: 1rem;\n",
       "  line-height: 1em;\n",
       "  font-family: monospace;\n",
       "  background-color: var(--sklearn-color-background);\n",
       "  border-radius: 1rem;\n",
       "  height: 1rem;\n",
       "  width: 1rem;\n",
       "  text-decoration: none;\n",
       "  /* unfitted */\n",
       "  color: var(--sklearn-color-unfitted-level-1);\n",
       "  border: var(--sklearn-color-unfitted-level-1) 1pt solid;\n",
       "}\n",
       "\n",
       "#sk-container-id-1 a.estimator_doc_link.fitted {\n",
       "  /* fitted */\n",
       "  border: var(--sklearn-color-fitted-level-1) 1pt solid;\n",
       "  color: var(--sklearn-color-fitted-level-1);\n",
       "}\n",
       "\n",
       "/* On hover */\n",
       "#sk-container-id-1 a.estimator_doc_link:hover {\n",
       "  /* unfitted */\n",
       "  background-color: var(--sklearn-color-unfitted-level-3);\n",
       "  color: var(--sklearn-color-background);\n",
       "  text-decoration: none;\n",
       "}\n",
       "\n",
       "#sk-container-id-1 a.estimator_doc_link.fitted:hover {\n",
       "  /* fitted */\n",
       "  background-color: var(--sklearn-color-fitted-level-3);\n",
       "}\n",
       "</style><div id=\"sk-container-id-1\" class=\"sk-top-container\"><div class=\"sk-text-repr-fallback\"><pre>LogisticRegression()</pre><b>In a Jupyter environment, please rerun this cell to show the HTML representation or trust the notebook. <br />On GitHub, the HTML representation is unable to render, please try loading this page with nbviewer.org.</b></div><div class=\"sk-container\" hidden><div class=\"sk-item\"><div class=\"sk-estimator fitted sk-toggleable\"><input class=\"sk-toggleable__control sk-hidden--visually\" id=\"sk-estimator-id-1\" type=\"checkbox\" checked><label for=\"sk-estimator-id-1\" class=\"sk-toggleable__label fitted sk-toggleable__label-arrow fitted\">&nbsp;&nbsp;LogisticRegression<a class=\"sk-estimator-doc-link fitted\" rel=\"noreferrer\" target=\"_blank\" href=\"https://scikit-learn.org/1.5/modules/generated/sklearn.linear_model.LogisticRegression.html\">?<span>Documentation for LogisticRegression</span></a><span class=\"sk-estimator-doc-link fitted\">i<span>Fitted</span></span></label><div class=\"sk-toggleable__content fitted\"><pre>LogisticRegression()</pre></div> </div></div></div></div>"
      ],
      "text/plain": [
       "LogisticRegression()"
      ]
     },
     "execution_count": 33,
     "metadata": {},
     "output_type": "execute_result"
    }
   ],
   "source": [
    "logit_model.fit(X, y)"
   ]
  },
  {
   "cell_type": "markdown",
   "metadata": {},
   "source": [
    "We want to get the class probabilities (of class 1). We can use the method `.predict_proba` on the logistic model object:"
   ]
  },
  {
   "cell_type": "code",
   "execution_count": 34,
   "metadata": {},
   "outputs": [
    {
     "data": {
      "text/plain": [
       "array([[0.43679195, 0.56320805],\n",
       "       [0.92384478, 0.07615522],\n",
       "       [0.33206106, 0.66793894],\n",
       "       ...,\n",
       "       [0.77906494, 0.22093506],\n",
       "       [0.68711916, 0.31288084],\n",
       "       [0.8726235 , 0.1273765 ]])"
      ]
     },
     "execution_count": 34,
     "metadata": {},
     "output_type": "execute_result"
    }
   ],
   "source": [
    "logit_model.predict_proba(X)"
   ]
  },
  {
   "cell_type": "markdown",
   "metadata": {},
   "source": [
    "Note how it returns two columns of probabilities! The first column is the probability of class 0, while the second column is the probabilities of class 1 (note how the rows sum to 1). Thus, to get the probabilities for class 1, we can take the second column (denoted 1 in Python - I think I mixed it up last time):"
   ]
  },
  {
   "cell_type": "code",
   "execution_count": 35,
   "metadata": {},
   "outputs": [
    {
     "data": {
      "text/plain": [
       "array([0.56320805, 0.07615522, 0.66793894, 0.09616368, 0.64393679,\n",
       "       0.18514527, 0.08270949, 0.31505006, 0.85079302, 0.04231174,\n",
       "       0.3149897 , 0.78472735, 0.36389748, 0.80673779, 0.57244622,\n",
       "       0.15333136, 0.53254938, 0.183463  , 0.35709815, 0.30363517,\n",
       "       0.4789056 , 0.20888125, 0.91800589, 0.24659926, 0.57623708,\n",
       "       0.32179786, 0.65965359, 0.08840442, 0.32706208, 0.31048018,\n",
       "       0.28207451, 0.61140352, 0.07394157, 0.05946755, 0.2463469 ,\n",
       "       0.112926  , 0.46803637, 0.19513129, 0.19240299, 0.31434332,\n",
       "       0.80378606, 0.55735966, 0.11355607, 0.87694327, 0.54184903,\n",
       "       0.88296229, 0.47157028, 0.05308732, 0.28729107, 0.02139786,\n",
       "       0.08223771, 0.1075258 , 0.07187786, 0.77670251, 0.60072704,\n",
       "       0.03944542, 0.87421354, 0.39500431, 0.67052215, 0.34185425,\n",
       "       0.01033961, 0.41902602, 0.01695947, 0.35025582, 0.26842781,\n",
       "       0.13940877, 0.23123377, 0.39585463, 0.0642595 , 0.45638425,\n",
       "       0.18432068, 0.39079087, 0.55688635, 0.42567554, 0.09157211,\n",
       "       0.0035752 , 0.05485426, 0.21470522, 0.59606905, 0.15864511,\n",
       "       0.13804313, 0.00729628, 0.08627335, 0.11049117, 0.73644775,\n",
       "       0.23616481, 0.27014213, 0.25733179, 0.52481195, 0.15062731,\n",
       "       0.03753922, 0.32144037, 0.24933435, 0.27165767, 0.34611086,\n",
       "       0.53405134, 0.13378178, 0.03043086, 0.11363655, 0.63847547,\n",
       "       0.76744127, 0.44700134, 0.19750211, 0.06682935, 0.18191154,\n",
       "       0.29037766, 0.08094998, 0.45030318, 0.12149494, 0.2108694 ,\n",
       "       0.73888385, 0.62969459, 0.11878711, 0.09557133, 0.6081608 ,\n",
       "       0.50016421, 0.36370324, 0.09975116, 0.12437761, 0.09423939,\n",
       "       0.90401635, 0.26869473, 0.2336652 , 0.30415932, 0.26901682,\n",
       "       0.44462178, 0.49483912, 0.30496347, 0.31705427, 0.15536048,\n",
       "       0.69756233, 0.33557041, 0.74962352, 0.16275771, 0.07386772,\n",
       "       0.36832148, 0.16142787, 0.11363655, 0.35498152, 0.26772991,\n",
       "       0.19728684, 0.31593038, 0.22504117, 0.22371274, 0.59968174,\n",
       "       0.01929661, 0.0471    , 0.18853939, 0.55642278, 0.09393622,\n",
       "       0.53051929, 0.13768687, 0.64313001, 0.72399443, 0.94005426,\n",
       "       0.83844697, 0.10376522, 0.14696779, 0.09911772, 0.79231732,\n",
       "       0.51549565, 0.25184855, 0.466942  , 0.15038205, 0.37840055,\n",
       "       0.17141016, 0.54245417, 0.26194874, 0.22934943, 0.19092936,\n",
       "       0.17117757, 0.47482799, 0.09536082, 0.19516895, 0.06844476,\n",
       "       0.78172148, 0.10483301, 0.89502392, 0.7208208 , 0.51024384,\n",
       "       0.06386652, 0.33928731, 0.00449111, 0.05202864, 0.38936463,\n",
       "       0.88569705, 0.75907231, 0.36093318, 0.17472743, 0.44645807,\n",
       "       0.13162002, 0.34002232, 0.59791515, 0.77283908, 0.06514953,\n",
       "       0.7405075 , 0.12260836, 0.11873274, 0.26390047, 0.51202138,\n",
       "       0.23591978, 0.59836665, 0.16335764, 0.07751016, 0.2659161 ,\n",
       "       0.14338218, 0.90378376, 0.74259848, 0.16726726, 0.84094836,\n",
       "       0.07226004, 0.71530302, 0.80062819, 0.65922278, 0.27566128,\n",
       "       0.72822268, 0.27899323, 0.30375348, 0.09008703, 0.33374621,\n",
       "       0.79419836, 0.61140352, 0.19672417, 0.41989216, 0.09999906,\n",
       "       0.14006213, 0.2247068 , 0.73523589, 0.90150812, 0.5123509 ,\n",
       "       0.6978405 , 0.6734028 , 0.05741166, 0.36509168, 0.06623615,\n",
       "       0.86133214, 0.83066222, 0.89528647, 0.64637957, 0.07918386,\n",
       "       0.11043619, 0.1432448 , 0.33782853, 0.22065316, 0.63064462,\n",
       "       0.77651531, 0.30082023, 0.90716301, 0.38877568, 0.21178193,\n",
       "       0.19685051, 0.30122386, 0.07671381, 0.14699786, 0.10217792,\n",
       "       0.27354372, 0.21178193, 0.21155519, 0.77713195, 0.61715127,\n",
       "       0.82640419, 0.43369627, 0.151324  , 0.48789745, 0.32144037,\n",
       "       0.17156347, 0.52712364, 0.50983437, 0.11790725, 0.43001919,\n",
       "       0.38160187, 0.14261325, 0.18704595, 0.07696328, 0.23557416,\n",
       "       0.28756937, 0.14618292, 0.14982632, 0.1671949 , 0.14354915,\n",
       "       0.62529478, 0.44066806, 0.40976447, 0.61470267, 0.16025198,\n",
       "       0.32126605, 0.70882183, 0.53750051, 0.07231632, 0.27653193,\n",
       "       0.12393001, 0.27713199, 0.57229951, 0.51936749, 0.45469918,\n",
       "       0.62357026, 0.43939773, 0.32281045, 0.2306021 , 0.14489572,\n",
       "       0.69490836, 0.49021428, 0.11156407, 0.63803256, 0.34586669,\n",
       "       0.43415766, 0.52325692, 0.30908732, 0.33496476, 0.34450267,\n",
       "       0.06284676, 0.31428302, 0.49151269, 0.21590707, 0.28053129,\n",
       "       0.27413975, 0.07171539, 0.77088267, 0.3628805 , 0.75044771,\n",
       "       0.29325178, 0.23784144, 0.25671362, 0.46899171, 0.2990999 ,\n",
       "       0.49001453, 0.36686288, 0.81136809, 0.38812061, 0.18666948,\n",
       "       0.16765171, 0.1234881 , 0.89283368, 0.12065712, 0.08705151,\n",
       "       0.87474872, 0.30559916, 0.25169798, 0.60841791, 0.85694575,\n",
       "       0.27555755, 0.09997388, 0.00622507, 0.35980011, 0.20334912,\n",
       "       0.46369063, 0.39260965, 0.16217041, 0.08550461, 0.01229811,\n",
       "       0.25753807, 0.42168439, 0.060402  , 0.09328855, 0.25143462,\n",
       "       0.64743849, 0.35948718, 0.51671331, 0.15107781, 0.89693833,\n",
       "       0.81949301, 0.5783046 , 0.28885655, 0.63596255, 0.578899  ,\n",
       "       0.19177038, 0.25963744, 0.0862324 , 0.07124326, 0.41716892,\n",
       "       0.81754584, 0.03338675, 0.1383954 , 0.23887896, 0.38657472,\n",
       "       0.59876037, 0.10475802, 0.16571441, 0.83991936, 0.28251175,\n",
       "       0.19758447, 0.09143922, 0.14889206, 0.08058502, 0.22018618,\n",
       "       0.16406895, 0.27479233, 0.37340338, 0.49784628, 0.16986613,\n",
       "       0.17421513, 0.85946486, 0.2498583 , 0.14816929, 0.6347033 ,\n",
       "       0.28196931, 0.09500974, 0.42794381, 0.04648148, 0.8739144 ,\n",
       "       0.15034631, 0.29939321, 0.48476259, 0.07100827, 0.71179871,\n",
       "       0.50594881, 0.22009013, 0.09180176, 0.80054524, 0.85445377,\n",
       "       0.23089294, 0.27871998, 0.67919452, 0.38071574, 0.49470924,\n",
       "       0.7847746 , 0.11629995, 0.61952799, 0.03889194, 0.2761563 ,\n",
       "       0.53180314, 0.0975234 , 0.3038042 , 0.24599093, 0.74451882,\n",
       "       0.85567215, 0.01463363, 0.81044889, 0.58208143, 0.18199482,\n",
       "       0.08792251, 0.11254225, 0.08225582, 0.33782853, 0.07725622,\n",
       "       0.66367954, 0.56535012, 0.48415371, 0.06209774, 0.2802007 ,\n",
       "       0.85189561, 0.1053969 , 0.29596758, 0.1995369 , 0.24347199,\n",
       "       0.96607106, 0.112299  , 0.1996646 , 0.21530554, 0.27544587,\n",
       "       0.04682097, 0.35504558, 0.21933647, 0.13772008, 0.24725325,\n",
       "       0.76919129, 0.32526148, 0.10103245, 0.63634181, 0.30450623,\n",
       "       0.15347669, 0.03374716, 0.09809824, 0.08997571, 0.16257807,\n",
       "       0.18383448, 0.0578109 , 0.21498162, 0.26789448, 0.80523797,\n",
       "       0.66847058, 0.45929083, 0.40883689, 0.38929812, 0.21411284,\n",
       "       0.35124782, 0.22262498, 0.15582779, 0.24837812, 0.32388597,\n",
       "       0.67937735, 0.37686015, 0.08285514, 0.16172023, 0.72268281,\n",
       "       0.61327243, 0.61766105, 0.89265   , 0.11108172, 0.78574503,\n",
       "       0.14337727, 0.13842876, 0.17797228, 0.28629378, 0.00899496,\n",
       "       0.58732176, 0.1594469 , 0.08554525, 0.77873368, 0.53419056,\n",
       "       0.18584569, 0.15163735, 0.01057533, 0.15871448, 0.2154879 ,\n",
       "       0.08818245, 0.83215229, 0.31853587, 0.09613936, 0.19988821,\n",
       "       0.09159539, 0.28087019, 0.0781354 , 0.09697257, 0.11108172,\n",
       "       0.65227625, 0.4742201 , 0.43798065, 0.08794174, 0.18502471,\n",
       "       0.03857648, 0.34969215, 0.02913309, 0.41749934, 0.33018342,\n",
       "       0.05776738, 0.06209774, 0.19334242, 0.25926887, 0.15007083,\n",
       "       0.27883248, 0.42686796, 0.20775419, 0.11501644, 0.09400428,\n",
       "       0.4104896 , 0.17315976, 0.0207442 , 0.43088141, 0.45009545,\n",
       "       0.27067828, 0.3680054 , 0.1562541 , 0.17562826, 0.1215248 ,\n",
       "       0.84014491, 0.91599232, 0.40568219, 0.68044715, 0.78698038,\n",
       "       0.20677578, 0.10655935, 0.2003232 , 0.10542328, 0.14871489,\n",
       "       0.23002824, 0.23220137, 0.17873363, 0.40935859, 0.0972108 ,\n",
       "       0.36832148, 0.93088684, 0.16997888, 0.12126479, 0.1368114 ,\n",
       "       0.10135596, 0.25210467, 0.1373598 , 0.57190816, 0.34480958,\n",
       "       0.09182176, 0.22820008, 0.20423752, 0.19461712, 0.45293593,\n",
       "       0.34962853, 0.1317754 , 0.4772702 , 0.31493795, 0.88709749,\n",
       "       0.7327311 , 0.14506416, 0.2249018 , 0.26026019, 0.27610038,\n",
       "       0.07396073, 0.54427871, 0.11524037, 0.77136231, 0.03430277,\n",
       "       0.49013439, 0.36143112, 0.4384529 , 0.07898303, 0.34863865,\n",
       "       0.82329217, 0.15428323, 0.09419164, 0.79861754, 0.12798632,\n",
       "       0.16128186, 0.08864627, 0.2625828 , 0.60984519, 0.74803751,\n",
       "       0.39605535, 0.87026348, 0.0577826 , 0.7306441 , 0.14432227,\n",
       "       0.19325517, 0.75308779, 0.78729511, 0.20717592, 0.52331675,\n",
       "       0.13963908, 0.22968866, 0.02686233, 0.19402271, 0.2979032 ,\n",
       "       0.34400648, 0.08070651, 0.88439187, 0.29126786, 0.20321966,\n",
       "       0.18654209, 0.22547358, 0.40128641, 0.40785204, 0.08913177,\n",
       "       0.19547673, 0.21502884, 0.16632307, 0.28601622, 0.09087305,\n",
       "       0.18596666, 0.15981146, 0.14214478, 0.27245707, 0.07514637,\n",
       "       0.15553887, 0.40233344, 0.47653242, 0.09858372, 0.14351476,\n",
       "       0.73369266, 0.53589064, 0.84091094, 0.36068432, 0.14965332,\n",
       "       0.08381374, 0.30559916, 0.35735509, 0.22277026, 0.23557416,\n",
       "       0.70882183, 0.09116733, 0.41922062, 0.48196817, 0.10992683,\n",
       "       0.57351206, 0.94034636, 0.77342088, 0.61701906, 0.28930827,\n",
       "       0.28489945, 0.51617437, 0.18054169, 0.18637841, 0.56441694,\n",
       "       0.70099955, 0.10958319, 0.08209004, 0.76567486, 0.16829403,\n",
       "       0.84566917, 0.46600704, 0.17503884, 0.37468529, 0.1075258 ,\n",
       "       0.02415378, 0.87738249, 0.31645749, 0.34210605, 0.06107686,\n",
       "       0.39065768, 0.23499172, 0.16906178, 0.32031691, 0.74415377,\n",
       "       0.13299642, 0.78073792, 0.43154795, 0.49000455, 0.07198724,\n",
       "       0.44989762, 0.67046917, 0.10663927, 0.39755714, 0.50778683,\n",
       "       0.38115871, 0.26645472, 0.74353696, 0.49000455, 0.18555561,\n",
       "       0.15922208, 0.03014446, 0.39573038, 0.68044715, 0.20681512,\n",
       "       0.60412503, 0.3047348 , 0.54143233, 0.31264891, 0.15755463,\n",
       "       0.83871204, 0.7592696 , 0.07970117, 0.2674636 , 0.19992657,\n",
       "       0.08627335, 0.35478938, 0.49028419, 0.39742315, 0.24822148,\n",
       "       0.36143112, 0.33617661, 0.47911504, 0.59555894, 0.12106052,\n",
       "       0.31523119, 0.24462955, 0.8808605 , 0.17164301, 0.11463056,\n",
       "       0.18658455, 0.27036281, 0.05803333, 0.22442147, 0.28634279,\n",
       "       0.48339519, 0.17117757, 0.18143028, 0.47605393, 0.72399443,\n",
       "       0.15333136, 0.80493695, 0.24366344, 0.86289038, 0.5091652 ,\n",
       "       0.41313232, 0.4296764 , 0.15024423, 0.8961525 , 0.59233009,\n",
       "       0.44328991, 0.43664321, 0.39677252, 0.28389904, 0.86718721,\n",
       "       0.09510256, 0.8607775 , 0.06488472, 0.18966699, 0.39749014,\n",
       "       0.22093506, 0.31288084, 0.1273765 ])"
      ]
     },
     "execution_count": 35,
     "metadata": {},
     "output_type": "execute_result"
    }
   ],
   "source": [
    "y_probs = logit_model.predict_proba(X)[:,1]\n",
    "y_pred = logit_model.predict(X)\n",
    "\n",
    "y_probs"
   ]
  },
  {
   "cell_type": "markdown",
   "metadata": {},
   "source": [
    "To plot the ROC curve, we well use the `roc_curve` from Scikit-learn metrics to calculate the FPR and TPR for us that we can then plot"
   ]
  },
  {
   "cell_type": "code",
   "execution_count": 36,
   "metadata": {},
   "outputs": [],
   "source": [
    "from sklearn.metrics import roc_curve, auc"
   ]
  },
  {
   "cell_type": "code",
   "execution_count": 37,
   "metadata": {},
   "outputs": [
    {
     "data": {
      "image/png": "[encoded data removed]",
      "text/plain": [
       "<Figure size 640x480 with 1 Axes>"
      ]
     },
     "metadata": {},
     "output_type": "display_data"
    }
   ],
   "source": [
    "# Plotting the ROC Curve\n",
    "fpr, tpr, thresholds = roc_curve(y, y_probs)\n",
    "roc_auc = auc(fpr, tpr)\n",
    "\n",
    "plt.figure()\n",
    "plt.plot(fpr, tpr, color='darkorange', lw=2, label=f'ROC curve (AUC = {roc_auc:.2f})')\n",
    "plt.plot([0, 1], [0, 1], color='navy', lw=2, linestyle='--')\n",
    "plt.xlim([0.0, 1.0])\n",
    "plt.ylim([0.0, 1.05])\n",
    "plt.xlabel('False Positive Rate')\n",
    "plt.ylabel('True Positive Rate')\n",
    "plt.title('Receiver Operating Characteristic (ROC)')\n",
    "plt.legend(loc=\"lower right\")\n",
    "plt.show()"
   ]
  },
  {
   "cell_type": "markdown",
   "metadata": {},
   "source": [
    "We can also get the AUC directly using the `roc_auc_score` function from Scikit-learn:"
   ]
  },
  {
   "cell_type": "code",
   "execution_count": 39,
   "metadata": {},
   "outputs": [],
   "source": [
    "from sklearn.metrics import roc_auc_score"
   ]
  },
  {
   "cell_type": "code",
   "execution_count": 40,
   "metadata": {},
   "outputs": [
    {
     "data": {
      "text/plain": [
       "0.8109328358208956"
      ]
     },
     "execution_count": 40,
     "metadata": {},
     "output_type": "execute_result"
    }
   ],
   "source": [
    "roc_auc_score(y, y_probs)"
   ]
  },
  {
   "cell_type": "code",
   "execution_count": null,
   "metadata": {},
   "outputs": [],
   "source": []
  }
 ],
 "metadata": {
  "kernelspec": {
   "display_name": "Python 3 (ipykernel)",
   "language": "python",
   "name": "python3"
  },
  "language_info": {
   "codemirror_mode": {
    "name": "ipython",
    "version": 3
   },
   "file_extension": ".py",
   "mimetype": "text/x-python",
   "name": "python",
   "nbconvert_exporter": "python",
   "pygments_lexer": "ipython3",
   "version": "3.12.7"
  }
 },
 "nbformat": 4,
 "nbformat_minor": 4
}
