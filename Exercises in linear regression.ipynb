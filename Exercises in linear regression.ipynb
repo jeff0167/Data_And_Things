{
 "cells": [
  {
   "cell_type": "code",
   "execution_count": 13,
   "id": "743f8701-a985-4150-9497-58ac3116ddff",
   "metadata": {},
   "outputs": [],
   "source": [
    "import numpy as np\n",
    "import pandas as pd\n",
    "from matplotlib import pyplot as plt\n",
    "import seaborn as sns\n",
    "from scipy import stats\n",
    "\n",
    "from sklearn import linear_model\n",
    "import statsmodels.api as sm"
   ]
  },
  {
   "cell_type": "markdown",
   "id": "5c0c4c36-1ad4-4db9-b370-658331dd0034",
   "metadata": {},
   "source": [
    "# Exercises in linear regression"
   ]
  },
  {
   "attachments": {},
   "cell_type": "markdown",
   "id": "8875b704-4b94-4a43-8c12-619013092474",
   "metadata": {},
   "source": [
    "## Exercise 1\n",
    "\n",
    "Load in the \"EnergyEfficiency.csv\" data (on Moodle). It is data about energy efficiency of buildings, more specifically it is about predicting the heating load and cooling load of building based on a set of features about the buildings. It is retrieved from UCI Machine Learning Repository: [Energy efficiency](https://archive.ics.uci.edu/dataset/242/energy+efficiency).\n",
    "\n",
    "Answer the following questions:\n",
    "1. Do a visualization of the relationship/correlation between the variables `SurfaceArea` and `HeatingLoad`.\n",
    "2. Is there a correlation between `SurfaceArea` and `HeatingLoad`? If so, what is the strength of it and is it statistically significant?\n",
    "3. Does the correlation make sense to you? What if you add `hue = \"OverallHeight\"` to your scatterplot?\n",
    "4. Train a simple linear regression model with `SurfaceArea` as independent variable (x) and `HeatingLoad` as dependent variable (y).\n",
    "5. What does the model say about the change `HeatingLoad` when the `SurfaceArea` goes up by 1 unit?\n",
    "6. Add the linear regression line to a scatterplot of `SurfaceArea` and `HeatingLoad`.\n",
    "7. Evaluate how good your simple linear regression model is. Hint: Chose one or several measures to evaluate your model."
   ]
  },
  {
   "cell_type": "markdown",
   "id": "6e06caf4-334b-440a-894f-f79ab5ba9151",
   "metadata": {},
   "source": [
    "## Exercise 2\n",
    "\n",
    "In this exercise, we will continue from Exercise 1 and keep using the \"EnergyEfficiency.csv\" data (on Moodle).\n",
    "\n",
    "Answer the following questions:\n",
    "1. Train a multiple linear regression model for `HeatingLoad` using at least two other variables from the dataset as feature variables.\n",
    "2. Evaluate our multiple linear regression model and compare its performance to your simple linear regression model. Did you manage to make a better model?\n",
    "3. Check each of the assumptions/problems for linear regression."
   ]
  },
  {
   "cell_type": "markdown",
   "id": "bc857735-5702-42d8-834f-d78df67d1054",
   "metadata": {},
   "source": [
    "## Exercise 3\n",
    "\n",
    "In this exercise, we will use the Ames dataset from the multiple linear regression notebook.\n",
    "\n",
    "Answer the following questions:\n",
    "1. Can you train a linear regression model to achieve a lower RMSE than the models we saw in the multiple linear regression notebook?\n",
    "2. Can you train a linear regression model to achieve a higher R-squared than the final model in the multiple linear regression notebook?\n",
    "3. Do your models satisfy the assumptions of linear regression?"
   ]
  },
  {
   "cell_type": "code",
   "execution_count": 43,
   "id": "d1087b2d-5999-4bc9-9486-0bf4eaf753b1",
   "metadata": {},
   "outputs": [],
   "source": [
    "df = pd.read_csv(\"../Notebooks and data-5/EnergyEfficiency.csv\")"
   ]
  },
  {
   "cell_type": "code",
   "execution_count": 44,
   "id": "8c65174d-e409-4414-a57e-ec755e0b5e9e",
   "metadata": {},
   "outputs": [
    {
     "data": {
      "text/html": [
       "<div>\n",
       "<style scoped>\n",
       "    .dataframe tbody tr th:only-of-type {\n",
       "        vertical-align: middle;\n",
       "    }\n",
       "\n",
       "    .dataframe tbody tr th {\n",
       "        vertical-align: top;\n",
       "    }\n",
       "\n",
       "    .dataframe thead th {\n",
       "        text-align: right;\n",
       "    }\n",
       "</style>\n",
       "<table border=\"1\" class=\"dataframe\">\n",
       "  <thead>\n",
       "    <tr style=\"text-align: right;\">\n",
       "      <th></th>\n",
       "      <th>RelativeCompactness</th>\n",
       "      <th>SurfaceArea</th>\n",
       "      <th>WallArea</th>\n",
       "      <th>RoofArea</th>\n",
       "      <th>OverallHeight</th>\n",
       "      <th>Orientation</th>\n",
       "      <th>GlazingArea</th>\n",
       "      <th>GlazingAreaDistribution</th>\n",
       "      <th>HeatingLoad</th>\n",
       "      <th>CoolingLoad</th>\n",
       "    </tr>\n",
       "  </thead>\n",
       "  <tbody>\n",
       "    <tr>\n",
       "      <th>0</th>\n",
       "      <td>0.98</td>\n",
       "      <td>514.5</td>\n",
       "      <td>294.0</td>\n",
       "      <td>110.25</td>\n",
       "      <td>7.0</td>\n",
       "      <td>2</td>\n",
       "      <td>0.0</td>\n",
       "      <td>0</td>\n",
       "      <td>15.55</td>\n",
       "      <td>21.33</td>\n",
       "    </tr>\n",
       "    <tr>\n",
       "      <th>1</th>\n",
       "      <td>0.98</td>\n",
       "      <td>514.5</td>\n",
       "      <td>294.0</td>\n",
       "      <td>110.25</td>\n",
       "      <td>7.0</td>\n",
       "      <td>3</td>\n",
       "      <td>0.0</td>\n",
       "      <td>0</td>\n",
       "      <td>15.55</td>\n",
       "      <td>21.33</td>\n",
       "    </tr>\n",
       "    <tr>\n",
       "      <th>2</th>\n",
       "      <td>0.98</td>\n",
       "      <td>514.5</td>\n",
       "      <td>294.0</td>\n",
       "      <td>110.25</td>\n",
       "      <td>7.0</td>\n",
       "      <td>4</td>\n",
       "      <td>0.0</td>\n",
       "      <td>0</td>\n",
       "      <td>15.55</td>\n",
       "      <td>21.33</td>\n",
       "    </tr>\n",
       "    <tr>\n",
       "      <th>3</th>\n",
       "      <td>0.98</td>\n",
       "      <td>514.5</td>\n",
       "      <td>294.0</td>\n",
       "      <td>110.25</td>\n",
       "      <td>7.0</td>\n",
       "      <td>5</td>\n",
       "      <td>0.0</td>\n",
       "      <td>0</td>\n",
       "      <td>15.55</td>\n",
       "      <td>21.33</td>\n",
       "    </tr>\n",
       "    <tr>\n",
       "      <th>4</th>\n",
       "      <td>0.90</td>\n",
       "      <td>563.5</td>\n",
       "      <td>318.5</td>\n",
       "      <td>122.50</td>\n",
       "      <td>7.0</td>\n",
       "      <td>2</td>\n",
       "      <td>0.0</td>\n",
       "      <td>0</td>\n",
       "      <td>20.84</td>\n",
       "      <td>28.28</td>\n",
       "    </tr>\n",
       "    <tr>\n",
       "      <th>...</th>\n",
       "      <td>...</td>\n",
       "      <td>...</td>\n",
       "      <td>...</td>\n",
       "      <td>...</td>\n",
       "      <td>...</td>\n",
       "      <td>...</td>\n",
       "      <td>...</td>\n",
       "      <td>...</td>\n",
       "      <td>...</td>\n",
       "      <td>...</td>\n",
       "    </tr>\n",
       "    <tr>\n",
       "      <th>763</th>\n",
       "      <td>0.64</td>\n",
       "      <td>784.0</td>\n",
       "      <td>343.0</td>\n",
       "      <td>220.50</td>\n",
       "      <td>3.5</td>\n",
       "      <td>5</td>\n",
       "      <td>0.4</td>\n",
       "      <td>5</td>\n",
       "      <td>17.88</td>\n",
       "      <td>21.40</td>\n",
       "    </tr>\n",
       "    <tr>\n",
       "      <th>764</th>\n",
       "      <td>0.62</td>\n",
       "      <td>808.5</td>\n",
       "      <td>367.5</td>\n",
       "      <td>220.50</td>\n",
       "      <td>3.5</td>\n",
       "      <td>2</td>\n",
       "      <td>0.4</td>\n",
       "      <td>5</td>\n",
       "      <td>16.54</td>\n",
       "      <td>16.88</td>\n",
       "    </tr>\n",
       "    <tr>\n",
       "      <th>765</th>\n",
       "      <td>0.62</td>\n",
       "      <td>808.5</td>\n",
       "      <td>367.5</td>\n",
       "      <td>220.50</td>\n",
       "      <td>3.5</td>\n",
       "      <td>3</td>\n",
       "      <td>0.4</td>\n",
       "      <td>5</td>\n",
       "      <td>16.44</td>\n",
       "      <td>17.11</td>\n",
       "    </tr>\n",
       "    <tr>\n",
       "      <th>766</th>\n",
       "      <td>0.62</td>\n",
       "      <td>808.5</td>\n",
       "      <td>367.5</td>\n",
       "      <td>220.50</td>\n",
       "      <td>3.5</td>\n",
       "      <td>4</td>\n",
       "      <td>0.4</td>\n",
       "      <td>5</td>\n",
       "      <td>16.48</td>\n",
       "      <td>16.61</td>\n",
       "    </tr>\n",
       "    <tr>\n",
       "      <th>767</th>\n",
       "      <td>0.62</td>\n",
       "      <td>808.5</td>\n",
       "      <td>367.5</td>\n",
       "      <td>220.50</td>\n",
       "      <td>3.5</td>\n",
       "      <td>5</td>\n",
       "      <td>0.4</td>\n",
       "      <td>5</td>\n",
       "      <td>16.64</td>\n",
       "      <td>16.03</td>\n",
       "    </tr>\n",
       "  </tbody>\n",
       "</table>\n",
       "<p>768 rows × 10 columns</p>\n",
       "</div>"
      ],
      "text/plain": [
       "     RelativeCompactness  SurfaceArea  WallArea  RoofArea  OverallHeight  \\\n",
       "0                   0.98        514.5     294.0    110.25            7.0   \n",
       "1                   0.98        514.5     294.0    110.25            7.0   \n",
       "2                   0.98        514.5     294.0    110.25            7.0   \n",
       "3                   0.98        514.5     294.0    110.25            7.0   \n",
       "4                   0.90        563.5     318.5    122.50            7.0   \n",
       "..                   ...          ...       ...       ...            ...   \n",
       "763                 0.64        784.0     343.0    220.50            3.5   \n",
       "764                 0.62        808.5     367.5    220.50            3.5   \n",
       "765                 0.62        808.5     367.5    220.50            3.5   \n",
       "766                 0.62        808.5     367.5    220.50            3.5   \n",
       "767                 0.62        808.5     367.5    220.50            3.5   \n",
       "\n",
       "     Orientation  GlazingArea  GlazingAreaDistribution  HeatingLoad  \\\n",
       "0              2          0.0                        0        15.55   \n",
       "1              3          0.0                        0        15.55   \n",
       "2              4          0.0                        0        15.55   \n",
       "3              5          0.0                        0        15.55   \n",
       "4              2          0.0                        0        20.84   \n",
       "..           ...          ...                      ...          ...   \n",
       "763            5          0.4                        5        17.88   \n",
       "764            2          0.4                        5        16.54   \n",
       "765            3          0.4                        5        16.44   \n",
       "766            4          0.4                        5        16.48   \n",
       "767            5          0.4                        5        16.64   \n",
       "\n",
       "     CoolingLoad  \n",
       "0          21.33  \n",
       "1          21.33  \n",
       "2          21.33  \n",
       "3          21.33  \n",
       "4          28.28  \n",
       "..           ...  \n",
       "763        21.40  \n",
       "764        16.88  \n",
       "765        17.11  \n",
       "766        16.61  \n",
       "767        16.03  \n",
       "\n",
       "[768 rows x 10 columns]"
      ]
     },
     "execution_count": 44,
     "metadata": {},
     "output_type": "execute_result"
    }
   ],
   "source": [
    "df"
   ]
  },
  {
   "cell_type": "code",
   "execution_count": 4,
   "id": "0095ba83-6c65-4331-9545-14198d5a21bc",
   "metadata": {},
   "outputs": [
    {
     "data": {
      "text/html": [
       "<div>\n",
       "<style scoped>\n",
       "    .dataframe tbody tr th:only-of-type {\n",
       "        vertical-align: middle;\n",
       "    }\n",
       "\n",
       "    .dataframe tbody tr th {\n",
       "        vertical-align: top;\n",
       "    }\n",
       "\n",
       "    .dataframe thead th {\n",
       "        text-align: right;\n",
       "    }\n",
       "</style>\n",
       "<table border=\"1\" class=\"dataframe\">\n",
       "  <thead>\n",
       "    <tr style=\"text-align: right;\">\n",
       "      <th></th>\n",
       "      <th>RelativeCompactness</th>\n",
       "      <th>SurfaceArea</th>\n",
       "      <th>WallArea</th>\n",
       "      <th>RoofArea</th>\n",
       "      <th>OverallHeight</th>\n",
       "      <th>Orientation</th>\n",
       "      <th>GlazingArea</th>\n",
       "      <th>GlazingAreaDistribution</th>\n",
       "      <th>HeatingLoad</th>\n",
       "      <th>CoolingLoad</th>\n",
       "    </tr>\n",
       "  </thead>\n",
       "  <tbody>\n",
       "    <tr>\n",
       "      <th>count</th>\n",
       "      <td>768.000000</td>\n",
       "      <td>768.000000</td>\n",
       "      <td>768.000000</td>\n",
       "      <td>768.000000</td>\n",
       "      <td>768.00000</td>\n",
       "      <td>768.000000</td>\n",
       "      <td>768.000000</td>\n",
       "      <td>768.00000</td>\n",
       "      <td>768.000000</td>\n",
       "      <td>768.000000</td>\n",
       "    </tr>\n",
       "    <tr>\n",
       "      <th>mean</th>\n",
       "      <td>0.764167</td>\n",
       "      <td>671.708333</td>\n",
       "      <td>318.500000</td>\n",
       "      <td>176.604167</td>\n",
       "      <td>5.25000</td>\n",
       "      <td>3.500000</td>\n",
       "      <td>0.234375</td>\n",
       "      <td>2.81250</td>\n",
       "      <td>22.307201</td>\n",
       "      <td>24.587760</td>\n",
       "    </tr>\n",
       "    <tr>\n",
       "      <th>std</th>\n",
       "      <td>0.105777</td>\n",
       "      <td>88.086116</td>\n",
       "      <td>43.626481</td>\n",
       "      <td>45.165950</td>\n",
       "      <td>1.75114</td>\n",
       "      <td>1.118763</td>\n",
       "      <td>0.133221</td>\n",
       "      <td>1.55096</td>\n",
       "      <td>10.090196</td>\n",
       "      <td>9.513306</td>\n",
       "    </tr>\n",
       "    <tr>\n",
       "      <th>min</th>\n",
       "      <td>0.620000</td>\n",
       "      <td>514.500000</td>\n",
       "      <td>245.000000</td>\n",
       "      <td>110.250000</td>\n",
       "      <td>3.50000</td>\n",
       "      <td>2.000000</td>\n",
       "      <td>0.000000</td>\n",
       "      <td>0.00000</td>\n",
       "      <td>6.010000</td>\n",
       "      <td>10.900000</td>\n",
       "    </tr>\n",
       "    <tr>\n",
       "      <th>25%</th>\n",
       "      <td>0.682500</td>\n",
       "      <td>606.375000</td>\n",
       "      <td>294.000000</td>\n",
       "      <td>140.875000</td>\n",
       "      <td>3.50000</td>\n",
       "      <td>2.750000</td>\n",
       "      <td>0.100000</td>\n",
       "      <td>1.75000</td>\n",
       "      <td>12.992500</td>\n",
       "      <td>15.620000</td>\n",
       "    </tr>\n",
       "    <tr>\n",
       "      <th>50%</th>\n",
       "      <td>0.750000</td>\n",
       "      <td>673.750000</td>\n",
       "      <td>318.500000</td>\n",
       "      <td>183.750000</td>\n",
       "      <td>5.25000</td>\n",
       "      <td>3.500000</td>\n",
       "      <td>0.250000</td>\n",
       "      <td>3.00000</td>\n",
       "      <td>18.950000</td>\n",
       "      <td>22.080000</td>\n",
       "    </tr>\n",
       "    <tr>\n",
       "      <th>75%</th>\n",
       "      <td>0.830000</td>\n",
       "      <td>741.125000</td>\n",
       "      <td>343.000000</td>\n",
       "      <td>220.500000</td>\n",
       "      <td>7.00000</td>\n",
       "      <td>4.250000</td>\n",
       "      <td>0.400000</td>\n",
       "      <td>4.00000</td>\n",
       "      <td>31.667500</td>\n",
       "      <td>33.132500</td>\n",
       "    </tr>\n",
       "    <tr>\n",
       "      <th>max</th>\n",
       "      <td>0.980000</td>\n",
       "      <td>808.500000</td>\n",
       "      <td>416.500000</td>\n",
       "      <td>220.500000</td>\n",
       "      <td>7.00000</td>\n",
       "      <td>5.000000</td>\n",
       "      <td>0.400000</td>\n",
       "      <td>5.00000</td>\n",
       "      <td>43.100000</td>\n",
       "      <td>48.030000</td>\n",
       "    </tr>\n",
       "  </tbody>\n",
       "</table>\n",
       "</div>"
      ],
      "text/plain": [
       "       RelativeCompactness  SurfaceArea    WallArea    RoofArea  \\\n",
       "count           768.000000   768.000000  768.000000  768.000000   \n",
       "mean              0.764167   671.708333  318.500000  176.604167   \n",
       "std               0.105777    88.086116   43.626481   45.165950   \n",
       "min               0.620000   514.500000  245.000000  110.250000   \n",
       "25%               0.682500   606.375000  294.000000  140.875000   \n",
       "50%               0.750000   673.750000  318.500000  183.750000   \n",
       "75%               0.830000   741.125000  343.000000  220.500000   \n",
       "max               0.980000   808.500000  416.500000  220.500000   \n",
       "\n",
       "       OverallHeight  Orientation  GlazingArea  GlazingAreaDistribution  \\\n",
       "count      768.00000   768.000000   768.000000                768.00000   \n",
       "mean         5.25000     3.500000     0.234375                  2.81250   \n",
       "std          1.75114     1.118763     0.133221                  1.55096   \n",
       "min          3.50000     2.000000     0.000000                  0.00000   \n",
       "25%          3.50000     2.750000     0.100000                  1.75000   \n",
       "50%          5.25000     3.500000     0.250000                  3.00000   \n",
       "75%          7.00000     4.250000     0.400000                  4.00000   \n",
       "max          7.00000     5.000000     0.400000                  5.00000   \n",
       "\n",
       "       HeatingLoad  CoolingLoad  \n",
       "count   768.000000   768.000000  \n",
       "mean     22.307201    24.587760  \n",
       "std      10.090196     9.513306  \n",
       "min       6.010000    10.900000  \n",
       "25%      12.992500    15.620000  \n",
       "50%      18.950000    22.080000  \n",
       "75%      31.667500    33.132500  \n",
       "max      43.100000    48.030000  "
      ]
     },
     "execution_count": 4,
     "metadata": {},
     "output_type": "execute_result"
    }
   ],
   "source": [
    "df.describe()"
   ]
  },
  {
   "cell_type": "code",
   "execution_count": 5,
   "id": "7b22726e-3f3f-4725-a2bc-5d6011fddf50",
   "metadata": {},
   "outputs": [
    {
     "name": "stdout",
     "output_type": "stream",
     "text": [
      "<class 'pandas.core.frame.DataFrame'>\n",
      "RangeIndex: 768 entries, 0 to 767\n",
      "Data columns (total 10 columns):\n",
      " #   Column                   Non-Null Count  Dtype  \n",
      "---  ------                   --------------  -----  \n",
      " 0   RelativeCompactness      768 non-null    float64\n",
      " 1   SurfaceArea              768 non-null    float64\n",
      " 2   WallArea                 768 non-null    float64\n",
      " 3   RoofArea                 768 non-null    float64\n",
      " 4   OverallHeight            768 non-null    float64\n",
      " 5   Orientation              768 non-null    int64  \n",
      " 6   GlazingArea              768 non-null    float64\n",
      " 7   GlazingAreaDistribution  768 non-null    int64  \n",
      " 8   HeatingLoad              768 non-null    float64\n",
      " 9   CoolingLoad              768 non-null    float64\n",
      "dtypes: float64(8), int64(2)\n",
      "memory usage: 60.1 KB\n"
     ]
    }
   ],
   "source": [
    "df.info()"
   ]
  },
  {
   "cell_type": "code",
   "execution_count": 6,
   "id": "cb0ae9fe-469b-422d-93b6-40c5712e0021",
   "metadata": {},
   "outputs": [
    {
     "data": {
      "text/plain": [
       "RelativeCompactness        0\n",
       "SurfaceArea                0\n",
       "WallArea                   0\n",
       "RoofArea                   0\n",
       "OverallHeight              0\n",
       "Orientation                0\n",
       "GlazingArea                0\n",
       "GlazingAreaDistribution    0\n",
       "HeatingLoad                0\n",
       "CoolingLoad                0\n",
       "dtype: int64"
      ]
     },
     "execution_count": 6,
     "metadata": {},
     "output_type": "execute_result"
    }
   ],
   "source": [
    "df.isna().sum()"
   ]
  },
  {
   "cell_type": "code",
   "execution_count": 7,
   "id": "d3a206b2-7339-4db0-ae74-b3c943ee0ca1",
   "metadata": {},
   "outputs": [
    {
     "data": {
      "text/plain": [
       "0"
      ]
     },
     "execution_count": 7,
     "metadata": {},
     "output_type": "execute_result"
    }
   ],
   "source": [
    "df.duplicated().sum()"
   ]
  },
  {
   "cell_type": "markdown",
   "id": "25a941f1-a61c-4664-bf15-153990c0e46e",
   "metadata": {},
   "source": [
    "### 1. Do a visualization of the relationship/correlation between the variables SurfaceArea and HeatingLoad."
   ]
  },
  {
   "cell_type": "code",
   "execution_count": 10,
   "id": "2c3399e4-95d7-4309-8e3f-62afea51669b",
   "metadata": {},
   "outputs": [
    {
     "data": {
      "text/plain": [
       "<Axes: xlabel='SurfaceArea', ylabel='HeatingLoad'>"
      ]
     },
     "execution_count": 10,
     "metadata": {},
     "output_type": "execute_result"
    },
    {
     "data": {
      "image/png": "[encoded data removed]",
      "text/plain": [
       "<Figure size 640x480 with 1 Axes>"
      ]
     },
     "metadata": {},
     "output_type": "display_data"
    }
   ],
   "source": [
    "sns.scatterplot(data=df, x=\"SurfaceArea\", y=\"HeatingLoad\")"
   ]
  },
  {
   "cell_type": "code",
   "execution_count": 11,
   "id": "e461dc3c-6393-4a86-858d-fc8570136b41",
   "metadata": {},
   "outputs": [
    {
     "data": {
      "image/png": "[encoded data removed]",
      "text/plain": [
       "<Figure size 640x480 with 1 Axes>"
      ]
     },
     "metadata": {},
     "output_type": "display_data"
    }
   ],
   "source": [
    "sns.regplot(data=df, x=\"SurfaceArea\", y=\"HeatingLoad\")\n",
    "plt.title(\"Linear regression plot for SurfaceArea and HeatingLoad\")\n",
    "plt.show()"
   ]
  },
  {
   "cell_type": "markdown",
   "id": "138b6ff5-9655-4783-9d3f-c88de11e367c",
   "metadata": {},
   "source": [
    "### 2. Is there a correlation between SurfaceArea and HeatingLoad? If so, what is the strength of it and is it statistically significant?"
   ]
  },
  {
   "cell_type": "markdown",
   "id": "90d9748f-329a-4c52-a3d5-21f9a10739fb",
   "metadata": {},
   "source": [
    "    There seems to be one, but it is hard to say for sure"
   ]
  },
  {
   "cell_type": "code",
   "execution_count": 42,
   "id": "3e63ea9a-0888-4677-9c2f-37ad8dc30c4c",
   "metadata": {},
   "outputs": [
    {
     "data": {
      "text/html": [
       "<div>\n",
       "<style scoped>\n",
       "    .dataframe tbody tr th:only-of-type {\n",
       "        vertical-align: middle;\n",
       "    }\n",
       "\n",
       "    .dataframe tbody tr th {\n",
       "        vertical-align: top;\n",
       "    }\n",
       "\n",
       "    .dataframe thead th {\n",
       "        text-align: right;\n",
       "    }\n",
       "</style>\n",
       "<table border=\"1\" class=\"dataframe\">\n",
       "  <thead>\n",
       "    <tr style=\"text-align: right;\">\n",
       "      <th></th>\n",
       "      <th>PredictMethod</th>\n",
       "      <th>ManuallyCalculated</th>\n",
       "    </tr>\n",
       "  </thead>\n",
       "  <tbody>\n",
       "    <tr>\n",
       "      <th>0</th>\n",
       "      <td>34.158690</td>\n",
       "      <td>71.773112</td>\n",
       "    </tr>\n",
       "    <tr>\n",
       "      <th>1</th>\n",
       "      <td>34.158690</td>\n",
       "      <td>71.773112</td>\n",
       "    </tr>\n",
       "    <tr>\n",
       "      <th>2</th>\n",
       "      <td>34.158690</td>\n",
       "      <td>71.773112</td>\n",
       "    </tr>\n",
       "    <tr>\n",
       "      <th>3</th>\n",
       "      <td>34.158690</td>\n",
       "      <td>71.773112</td>\n",
       "    </tr>\n",
       "    <tr>\n",
       "      <th>4</th>\n",
       "      <td>30.464719</td>\n",
       "      <td>71.374314</td>\n",
       "    </tr>\n",
       "    <tr>\n",
       "      <th>...</th>\n",
       "      <td>...</td>\n",
       "      <td>...</td>\n",
       "    </tr>\n",
       "    <tr>\n",
       "      <th>763</th>\n",
       "      <td>13.841851</td>\n",
       "      <td>71.597460</td>\n",
       "    </tr>\n",
       "    <tr>\n",
       "      <th>764</th>\n",
       "      <td>11.994866</td>\n",
       "      <td>71.698479</td>\n",
       "    </tr>\n",
       "    <tr>\n",
       "      <th>765</th>\n",
       "      <td>11.994866</td>\n",
       "      <td>71.706018</td>\n",
       "    </tr>\n",
       "    <tr>\n",
       "      <th>766</th>\n",
       "      <td>11.994866</td>\n",
       "      <td>71.703002</td>\n",
       "    </tr>\n",
       "    <tr>\n",
       "      <th>767</th>\n",
       "      <td>11.994866</td>\n",
       "      <td>71.690940</td>\n",
       "    </tr>\n",
       "  </tbody>\n",
       "</table>\n",
       "<p>768 rows × 2 columns</p>\n",
       "</div>"
      ],
      "text/plain": [
       "     PredictMethod  ManuallyCalculated\n",
       "0        34.158690           71.773112\n",
       "1        34.158690           71.773112\n",
       "2        34.158690           71.773112\n",
       "3        34.158690           71.773112\n",
       "4        30.464719           71.374314\n",
       "..             ...                 ...\n",
       "763      13.841851           71.597460\n",
       "764      11.994866           71.698479\n",
       "765      11.994866           71.706018\n",
       "766      11.994866           71.703002\n",
       "767      11.994866           71.690940\n",
       "\n",
       "[768 rows x 2 columns]"
      ]
     },
     "execution_count": 42,
     "metadata": {},
     "output_type": "execute_result"
    }
   ],
   "source": [
    "df"
   ]
  },
  {
   "cell_type": "code",
   "execution_count": 45,
   "id": "c03488dc-85a1-4fb5-9d48-2d182580d09b",
   "metadata": {},
   "outputs": [],
   "source": [
    "X = df[\"SurfaceArea\"]"
   ]
  },
  {
   "cell_type": "code",
   "execution_count": 41,
   "id": "7989d3f5-fa84-4261-b9e7-d4702845853f",
   "metadata": {},
   "outputs": [
    {
     "data": {
      "text/html": [
       "<div>\n",
       "<style scoped>\n",
       "    .dataframe tbody tr th:only-of-type {\n",
       "        vertical-align: middle;\n",
       "    }\n",
       "\n",
       "    .dataframe tbody tr th {\n",
       "        vertical-align: top;\n",
       "    }\n",
       "\n",
       "    .dataframe thead th {\n",
       "        text-align: right;\n",
       "    }\n",
       "</style>\n",
       "<table border=\"1\" class=\"dataframe\">\n",
       "  <thead>\n",
       "    <tr style=\"text-align: right;\">\n",
       "      <th></th>\n",
       "      <th>const</th>\n",
       "      <th>SurfaceArea</th>\n",
       "    </tr>\n",
       "  </thead>\n",
       "  <tbody>\n",
       "    <tr>\n",
       "      <th>0</th>\n",
       "      <td>1.0</td>\n",
       "      <td>514.5</td>\n",
       "    </tr>\n",
       "    <tr>\n",
       "      <th>1</th>\n",
       "      <td>1.0</td>\n",
       "      <td>514.5</td>\n",
       "    </tr>\n",
       "    <tr>\n",
       "      <th>2</th>\n",
       "      <td>1.0</td>\n",
       "      <td>514.5</td>\n",
       "    </tr>\n",
       "    <tr>\n",
       "      <th>3</th>\n",
       "      <td>1.0</td>\n",
       "      <td>514.5</td>\n",
       "    </tr>\n",
       "    <tr>\n",
       "      <th>4</th>\n",
       "      <td>1.0</td>\n",
       "      <td>563.5</td>\n",
       "    </tr>\n",
       "    <tr>\n",
       "      <th>...</th>\n",
       "      <td>...</td>\n",
       "      <td>...</td>\n",
       "    </tr>\n",
       "    <tr>\n",
       "      <th>763</th>\n",
       "      <td>1.0</td>\n",
       "      <td>784.0</td>\n",
       "    </tr>\n",
       "    <tr>\n",
       "      <th>764</th>\n",
       "      <td>1.0</td>\n",
       "      <td>808.5</td>\n",
       "    </tr>\n",
       "    <tr>\n",
       "      <th>765</th>\n",
       "      <td>1.0</td>\n",
       "      <td>808.5</td>\n",
       "    </tr>\n",
       "    <tr>\n",
       "      <th>766</th>\n",
       "      <td>1.0</td>\n",
       "      <td>808.5</td>\n",
       "    </tr>\n",
       "    <tr>\n",
       "      <th>767</th>\n",
       "      <td>1.0</td>\n",
       "      <td>808.5</td>\n",
       "    </tr>\n",
       "  </tbody>\n",
       "</table>\n",
       "<p>768 rows × 2 columns</p>\n",
       "</div>"
      ],
      "text/plain": [
       "     const  SurfaceArea\n",
       "0      1.0        514.5\n",
       "1      1.0        514.5\n",
       "2      1.0        514.5\n",
       "3      1.0        514.5\n",
       "4      1.0        563.5\n",
       "..     ...          ...\n",
       "763    1.0        784.0\n",
       "764    1.0        808.5\n",
       "765    1.0        808.5\n",
       "766    1.0        808.5\n",
       "767    1.0        808.5\n",
       "\n",
       "[768 rows x 2 columns]"
      ]
     },
     "execution_count": 41,
     "metadata": {},
     "output_type": "execute_result"
    }
   ],
   "source": [
    "X"
   ]
  },
  {
   "cell_type": "code",
   "execution_count": 16,
   "id": "625670a2-41f6-454a-9a6b-b101d8f53a63",
   "metadata": {},
   "outputs": [],
   "source": [
    "X = sm.add_constant(X)"
   ]
  },
  {
   "cell_type": "code",
   "execution_count": 17,
   "id": "5795c708-4764-4ce9-b8c3-5e33753c18a6",
   "metadata": {},
   "outputs": [
    {
     "data": {
      "text/html": [
       "<div>\n",
       "<style scoped>\n",
       "    .dataframe tbody tr th:only-of-type {\n",
       "        vertical-align: middle;\n",
       "    }\n",
       "\n",
       "    .dataframe tbody tr th {\n",
       "        vertical-align: top;\n",
       "    }\n",
       "\n",
       "    .dataframe thead th {\n",
       "        text-align: right;\n",
       "    }\n",
       "</style>\n",
       "<table border=\"1\" class=\"dataframe\">\n",
       "  <thead>\n",
       "    <tr style=\"text-align: right;\">\n",
       "      <th></th>\n",
       "      <th>const</th>\n",
       "      <th>SurfaceArea</th>\n",
       "    </tr>\n",
       "  </thead>\n",
       "  <tbody>\n",
       "    <tr>\n",
       "      <th>0</th>\n",
       "      <td>1.0</td>\n",
       "      <td>514.5</td>\n",
       "    </tr>\n",
       "    <tr>\n",
       "      <th>1</th>\n",
       "      <td>1.0</td>\n",
       "      <td>514.5</td>\n",
       "    </tr>\n",
       "    <tr>\n",
       "      <th>2</th>\n",
       "      <td>1.0</td>\n",
       "      <td>514.5</td>\n",
       "    </tr>\n",
       "    <tr>\n",
       "      <th>3</th>\n",
       "      <td>1.0</td>\n",
       "      <td>514.5</td>\n",
       "    </tr>\n",
       "    <tr>\n",
       "      <th>4</th>\n",
       "      <td>1.0</td>\n",
       "      <td>563.5</td>\n",
       "    </tr>\n",
       "    <tr>\n",
       "      <th>...</th>\n",
       "      <td>...</td>\n",
       "      <td>...</td>\n",
       "    </tr>\n",
       "    <tr>\n",
       "      <th>763</th>\n",
       "      <td>1.0</td>\n",
       "      <td>784.0</td>\n",
       "    </tr>\n",
       "    <tr>\n",
       "      <th>764</th>\n",
       "      <td>1.0</td>\n",
       "      <td>808.5</td>\n",
       "    </tr>\n",
       "    <tr>\n",
       "      <th>765</th>\n",
       "      <td>1.0</td>\n",
       "      <td>808.5</td>\n",
       "    </tr>\n",
       "    <tr>\n",
       "      <th>766</th>\n",
       "      <td>1.0</td>\n",
       "      <td>808.5</td>\n",
       "    </tr>\n",
       "    <tr>\n",
       "      <th>767</th>\n",
       "      <td>1.0</td>\n",
       "      <td>808.5</td>\n",
       "    </tr>\n",
       "  </tbody>\n",
       "</table>\n",
       "<p>768 rows × 2 columns</p>\n",
       "</div>"
      ],
      "text/plain": [
       "     const  SurfaceArea\n",
       "0      1.0        514.5\n",
       "1      1.0        514.5\n",
       "2      1.0        514.5\n",
       "3      1.0        514.5\n",
       "4      1.0        563.5\n",
       "..     ...          ...\n",
       "763    1.0        784.0\n",
       "764    1.0        808.5\n",
       "765    1.0        808.5\n",
       "766    1.0        808.5\n",
       "767    1.0        808.5\n",
       "\n",
       "[768 rows x 2 columns]"
      ]
     },
     "execution_count": 17,
     "metadata": {},
     "output_type": "execute_result"
    }
   ],
   "source": [
    "X"
   ]
  },
  {
   "cell_type": "code",
   "execution_count": 18,
   "id": "092c2760-8e0a-4059-b538-f2f75492c3fa",
   "metadata": {},
   "outputs": [],
   "source": [
    "y = df[\"HeatingLoad\"]"
   ]
  },
  {
   "cell_type": "code",
   "execution_count": 19,
   "id": "f71f4791-2d2c-4512-875b-966de889a200",
   "metadata": {},
   "outputs": [],
   "source": [
    "linreg_model = sm.OLS(y, X).fit()"
   ]
  },
  {
   "cell_type": "code",
   "execution_count": 20,
   "id": "15c962d3-c547-4a74-a6e4-3a9b63e6d2b0",
   "metadata": {},
   "outputs": [
    {
     "data": {
      "text/html": [
       "<table class=\"simpletable\">\n",
       "<caption>OLS Regression Results</caption>\n",
       "<tr>\n",
       "  <th>Dep. Variable:</th>       <td>HeatingLoad</td>   <th>  R-squared:         </th> <td>   0.433</td>\n",
       "</tr>\n",
       "<tr>\n",
       "  <th>Model:</th>                   <td>OLS</td>       <th>  Adj. R-squared:    </th> <td>   0.432</td>\n",
       "</tr>\n",
       "<tr>\n",
       "  <th>Method:</th>             <td>Least Squares</td>  <th>  F-statistic:       </th> <td>   585.3</td>\n",
       "</tr>\n",
       "<tr>\n",
       "  <th>Date:</th>             <td>Wed, 12 Feb 2025</td> <th>  Prob (F-statistic):</th> <td>1.69e-96</td>\n",
       "</tr>\n",
       "<tr>\n",
       "  <th>Time:</th>                 <td>09:46:35</td>     <th>  Log-Likelihood:    </th> <td> -2646.6</td>\n",
       "</tr>\n",
       "<tr>\n",
       "  <th>No. Observations:</th>      <td>   768</td>      <th>  AIC:               </th> <td>   5297.</td>\n",
       "</tr>\n",
       "<tr>\n",
       "  <th>Df Residuals:</th>          <td>   766</td>      <th>  BIC:               </th> <td>   5306.</td>\n",
       "</tr>\n",
       "<tr>\n",
       "  <th>Df Model:</th>              <td>     1</td>      <th>                     </th>     <td> </td>   \n",
       "</tr>\n",
       "<tr>\n",
       "  <th>Covariance Type:</th>      <td>nonrobust</td>    <th>                     </th>     <td> </td>   \n",
       "</tr>\n",
       "</table>\n",
       "<table class=\"simpletable\">\n",
       "<tr>\n",
       "       <td></td>          <th>coef</th>     <th>std err</th>      <th>t</th>      <th>P>|t|</th>  <th>[0.025</th>    <th>0.975]</th>  \n",
       "</tr>\n",
       "<tr>\n",
       "  <th>const</th>       <td>   72.9454</td> <td>    2.111</td> <td>   34.554</td> <td> 0.000</td> <td>   68.801</td> <td>   77.090</td>\n",
       "</tr>\n",
       "<tr>\n",
       "  <th>SurfaceArea</th> <td>   -0.0754</td> <td>    0.003</td> <td>  -24.192</td> <td> 0.000</td> <td>   -0.082</td> <td>   -0.069</td>\n",
       "</tr>\n",
       "</table>\n",
       "<table class=\"simpletable\">\n",
       "<tr>\n",
       "  <th>Omnibus:</th>       <td>37.973</td> <th>  Durbin-Watson:     </th> <td>   0.321</td>\n",
       "</tr>\n",
       "<tr>\n",
       "  <th>Prob(Omnibus):</th> <td> 0.000</td> <th>  Jarque-Bera (JB):  </th> <td>  42.851</td>\n",
       "</tr>\n",
       "<tr>\n",
       "  <th>Skew:</th>          <td> 0.576</td> <th>  Prob(JB):          </th> <td>4.95e-10</td>\n",
       "</tr>\n",
       "<tr>\n",
       "  <th>Kurtosis:</th>      <td> 2.890</td> <th>  Cond. No.          </th> <td>5.21e+03</td>\n",
       "</tr>\n",
       "</table><br/><br/>Notes:<br/>[1] Standard Errors assume that the covariance matrix of the errors is correctly specified.<br/>[2] The condition number is large, 5.21e+03. This might indicate that there are<br/>strong multicollinearity or other numerical problems."
      ],
      "text/latex": [
       "\\begin{center}\n",
       "\\begin{tabular}{lclc}\n",
       "\\toprule\n",
       "\\textbf{Dep. Variable:}    &   HeatingLoad    & \\textbf{  R-squared:         } &     0.433   \\\\\n",
       "\\textbf{Model:}            &       OLS        & \\textbf{  Adj. R-squared:    } &     0.432   \\\\\n",
       "\\textbf{Method:}           &  Least Squares   & \\textbf{  F-statistic:       } &     585.3   \\\\\n",
       "\\textbf{Date:}             & Wed, 12 Feb 2025 & \\textbf{  Prob (F-statistic):} &  1.69e-96   \\\\\n",
       "\\textbf{Time:}             &     09:46:35     & \\textbf{  Log-Likelihood:    } &   -2646.6   \\\\\n",
       "\\textbf{No. Observations:} &         768      & \\textbf{  AIC:               } &     5297.   \\\\\n",
       "\\textbf{Df Residuals:}     &         766      & \\textbf{  BIC:               } &     5306.   \\\\\n",
       "\\textbf{Df Model:}         &           1      & \\textbf{                     } &             \\\\\n",
       "\\textbf{Covariance Type:}  &    nonrobust     & \\textbf{                     } &             \\\\\n",
       "\\bottomrule\n",
       "\\end{tabular}\n",
       "\\begin{tabular}{lcccccc}\n",
       "                     & \\textbf{coef} & \\textbf{std err} & \\textbf{t} & \\textbf{P$> |$t$|$} & \\textbf{[0.025} & \\textbf{0.975]}  \\\\\n",
       "\\midrule\n",
       "\\textbf{const}       &      72.9454  &        2.111     &    34.554  &         0.000        &       68.801    &       77.090     \\\\\n",
       "\\textbf{SurfaceArea} &      -0.0754  &        0.003     &   -24.192  &         0.000        &       -0.082    &       -0.069     \\\\\n",
       "\\bottomrule\n",
       "\\end{tabular}\n",
       "\\begin{tabular}{lclc}\n",
       "\\textbf{Omnibus:}       & 37.973 & \\textbf{  Durbin-Watson:     } &    0.321  \\\\\n",
       "\\textbf{Prob(Omnibus):} &  0.000 & \\textbf{  Jarque-Bera (JB):  } &   42.851  \\\\\n",
       "\\textbf{Skew:}          &  0.576 & \\textbf{  Prob(JB):          } & 4.95e-10  \\\\\n",
       "\\textbf{Kurtosis:}      &  2.890 & \\textbf{  Cond. No.          } & 5.21e+03  \\\\\n",
       "\\bottomrule\n",
       "\\end{tabular}\n",
       "%\\caption{OLS Regression Results}\n",
       "\\end{center}\n",
       "\n",
       "Notes: \\newline\n",
       " [1] Standard Errors assume that the covariance matrix of the errors is correctly specified. \\newline\n",
       " [2] The condition number is large, 5.21e+03. This might indicate that there are \\newline\n",
       " strong multicollinearity or other numerical problems."
      ],
      "text/plain": [
       "<class 'statsmodels.iolib.summary.Summary'>\n",
       "\"\"\"\n",
       "                            OLS Regression Results                            \n",
       "==============================================================================\n",
       "Dep. Variable:            HeatingLoad   R-squared:                       0.433\n",
       "Model:                            OLS   Adj. R-squared:                  0.432\n",
       "Method:                 Least Squares   F-statistic:                     585.3\n",
       "Date:                Wed, 12 Feb 2025   Prob (F-statistic):           1.69e-96\n",
       "Time:                        09:46:35   Log-Likelihood:                -2646.6\n",
       "No. Observations:                 768   AIC:                             5297.\n",
       "Df Residuals:                     766   BIC:                             5306.\n",
       "Df Model:                           1                                         \n",
       "Covariance Type:            nonrobust                                         \n",
       "===============================================================================\n",
       "                  coef    std err          t      P>|t|      [0.025      0.975]\n",
       "-------------------------------------------------------------------------------\n",
       "const          72.9454      2.111     34.554      0.000      68.801      77.090\n",
       "SurfaceArea    -0.0754      0.003    -24.192      0.000      -0.082      -0.069\n",
       "==============================================================================\n",
       "Omnibus:                       37.973   Durbin-Watson:                   0.321\n",
       "Prob(Omnibus):                  0.000   Jarque-Bera (JB):               42.851\n",
       "Skew:                           0.576   Prob(JB):                     4.95e-10\n",
       "Kurtosis:                       2.890   Cond. No.                     5.21e+03\n",
       "==============================================================================\n",
       "\n",
       "Notes:\n",
       "[1] Standard Errors assume that the covariance matrix of the errors is correctly specified.\n",
       "[2] The condition number is large, 5.21e+03. This might indicate that there are\n",
       "strong multicollinearity or other numerical problems.\n",
       "\"\"\""
      ]
     },
     "execution_count": 20,
     "metadata": {},
     "output_type": "execute_result"
    }
   ],
   "source": [
    "linreg_model.summary()"
   ]
  },
  {
   "cell_type": "markdown",
   "id": "7b47a7b2-2919-478a-b27f-38a3011a30d9",
   "metadata": {},
   "source": [
    "**Interpretation of the model**\n",
    "\n",
    "Here we see general information about the model at the top, such as R-squared (0.433) and  Adjusted R-squared (0.432)\n",
    "The coef for SurfaceArea is -0.0754 for the slope indicating it is negative and not to step.\n",
    "The pvalue is aproximately 0 meaning that the hypothesis can be rejected and that there is a correlation\n"
   ]
  },
  {
   "cell_type": "markdown",
   "id": "3389d913-7af3-4249-b342-fe4ca37e70a3",
   "metadata": {},
   "source": [
    "### 3. Does the correlation make sense to you? What if you add hue = \"OverallHeight\" to your scatterplot?"
   ]
  },
  {
   "cell_type": "code",
   "execution_count": 25,
   "id": "13931f1a-fd29-4b23-8fdc-61fa375a5d37",
   "metadata": {},
   "outputs": [
    {
     "data": {
      "text/plain": [
       "<Axes: xlabel='SurfaceArea', ylabel='HeatingLoad'>"
      ]
     },
     "execution_count": 25,
     "metadata": {},
     "output_type": "execute_result"
    },
    {
     "data": {
      "image/png": "[encoded data removed]",
      "text/plain": [
       "<Figure size 640x480 with 1 Axes>"
      ]
     },
     "metadata": {},
     "output_type": "display_data"
    }
   ],
   "source": [
    "sns.scatterplot(data=df, x=\"SurfaceArea\", y=\"HeatingLoad\", hue=\"OverallHeight\", alpha=0.5)"
   ]
  },
  {
   "cell_type": "markdown",
   "id": "28e6efd4-dc94-4140-b31e-33b95e662fbd",
   "metadata": {},
   "source": [
    "    Given this information it doesn't make sense as there seems to be to different clusters of data. Not sure what to make of it"
   ]
  },
  {
   "cell_type": "markdown",
   "id": "b1630cc2-7423-4c30-bf40-2cbeafbb29f9",
   "metadata": {},
   "source": [
    "### 4. Train a simple linear regression model with SurfaceArea as independent variable (x) and HeatingLoad as dependent variable (y)."
   ]
  },
  {
   "cell_type": "markdown",
   "id": "38c98226-5132-45bf-a940-7a38064e0bbc",
   "metadata": {},
   "source": [
    "### 5. What does the model say about the change HeatingLoad when the SurfaceArea goes up by 1 unit?"
   ]
  },
  {
   "cell_type": "markdown",
   "id": "f78693ca-1d4e-4b01-bbdb-60c1a498b51d",
   "metadata": {},
   "source": [
    "    When going one unit up on the SurfaceArea(x) axes, the correlated HeatingLoad(y) axis change is -0.0754"
   ]
  },
  {
   "cell_type": "markdown",
   "id": "4e3d343b-c0a8-4c0b-8fbe-80168938fa82",
   "metadata": {},
   "source": [
    "### 6. Add the linear regression line to a scatterplot of SurfaceArea and HeatingLoad"
   ]
  },
  {
   "cell_type": "code",
   "execution_count": 46,
   "id": "02ada639-686d-4484-b4bd-705cdb7b2061",
   "metadata": {},
   "outputs": [],
   "source": [
    "pred_y = linreg_model.params[\"const\"] + linreg_model.params[\"SurfaceArea\"]*df[\"SurfaceArea\"]"
   ]
  },
  {
   "cell_type": "code",
   "execution_count": 47,
   "id": "f175b699-9586-47ed-9c5b-fb50ec50e08e",
   "metadata": {},
   "outputs": [
    {
     "data": {
      "image/png": "[encoded data removed]",
      "text/plain": [
       "<Figure size 640x480 with 1 Axes>"
      ]
     },
     "metadata": {},
     "output_type": "display_data"
    }
   ],
   "source": [
    "sns.scatterplot(data = df, x = \"SurfaceArea\", y = \"HeatingLoad\")\n",
    "plt.plot(df[\"SurfaceArea\"], pred_y, color = \"orange\")\n",
    "plt.show()"
   ]
  },
  {
   "cell_type": "markdown",
   "id": "a095f59d-c2ed-4fc5-87ed-ab443cdd948b",
   "metadata": {},
   "source": [
    "### 7. Evaluate how good your simple linear regression model is. Hint: Chose one or several measures to evaluate your model."
   ]
  },
  {
   "cell_type": "code",
   "execution_count": 59,
   "id": "6d3bb8b9-abe6-4aba-b0fc-c37d42d9ed0b",
   "metadata": {},
   "outputs": [],
   "source": [
    "#linreg_model.summary()"
   ]
  },
  {
   "cell_type": "code",
   "execution_count": 58,
   "id": "663af251-8b1b-4440-9f7a-3f4424987898",
   "metadata": {},
   "outputs": [
    {
     "data": {
      "text/plain": [
       "0.43312223289382823"
      ]
     },
     "execution_count": 58,
     "metadata": {},
     "output_type": "execute_result"
    }
   ],
   "source": [
    "# R-squared, with the value 0.433 it tells that it might not be a good fit given it is numerical data of houses, closer to 1 the better\n",
    "linreg_model.rsquared"
   ]
  },
  {
   "cell_type": "code",
   "execution_count": 50,
   "id": "ec30250d-8a61-4243-b3dc-28f4046c06ee",
   "metadata": {},
   "outputs": [
    {
     "data": {
      "text/plain": [
       "0.4323821835895121"
      ]
     },
     "execution_count": 50,
     "metadata": {},
     "output_type": "execute_result"
    }
   ],
   "source": [
    "linreg_model.rsquared_adj # Adj. R-squared"
   ]
  },
  {
   "cell_type": "code",
   "execution_count": 51,
   "id": "156e6fa3-da73-46a9-89b6-6986a39276e6",
   "metadata": {},
   "outputs": [
    {
     "data": {
      "text/plain": [
       "0     -18.608690\n",
       "1     -18.608690\n",
       "2     -18.608690\n",
       "3     -18.608690\n",
       "4      -9.624719\n",
       "         ...    \n",
       "763     4.038149\n",
       "764     4.545134\n",
       "765     4.445134\n",
       "766     4.485134\n",
       "767     4.645134\n",
       "Length: 768, dtype: float64"
      ]
     },
     "execution_count": 51,
     "metadata": {},
     "output_type": "execute_result"
    }
   ],
   "source": [
    "linreg_model.resid"
   ]
  },
  {
   "cell_type": "code",
   "execution_count": 52,
   "id": "36c843d7-4874-438a-8f9e-0b192e81433e",
   "metadata": {},
   "outputs": [
    {
     "data": {
      "text/plain": [
       "6.002338517195693"
      ]
     },
     "execution_count": 52,
     "metadata": {},
     "output_type": "execute_result"
    }
   ],
   "source": [
    "np.mean(np.abs(linreg_model.resid))"
   ]
  },
  {
   "cell_type": "code",
   "execution_count": 53,
   "id": "9b8ffeb9-b0aa-468a-93da-ee1772092e8a",
   "metadata": {},
   "outputs": [
    {
     "data": {
      "text/plain": [
       "57.63983779426343"
      ]
     },
     "execution_count": 53,
     "metadata": {},
     "output_type": "execute_result"
    }
   ],
   "source": [
    "np.mean(linreg_model.resid**2)"
   ]
  },
  {
   "cell_type": "code",
   "execution_count": 54,
   "id": "4db45bca-8bfb-48c1-afb8-748747007cd4",
   "metadata": {},
   "outputs": [
    {
     "data": {
      "text/plain": [
       "7.592090475900786"
      ]
     },
     "execution_count": 54,
     "metadata": {},
     "output_type": "execute_result"
    }
   ],
   "source": [
    "np.sqrt(np.mean(linreg_model.resid**2)) # RMSE"
   ]
  },
  {
   "cell_type": "markdown",
   "id": "1f2e9f49-6a8e-49d0-9319-095329f35750",
   "metadata": {},
   "source": [
    "## Exercise 2"
   ]
  },
  {
   "cell_type": "markdown",
   "id": "4033a516-31bf-401c-850f-d1e11da9064a",
   "metadata": {},
   "source": [
    "### 1. Train a multiple linear regression model for HeatingLoad using at least two other variables from the dataset as feature variables."
   ]
  },
  {
   "cell_type": "code",
   "execution_count": 66,
   "id": "00cfbbc8-2fa7-43f9-8a1b-658f68051fca",
   "metadata": {},
   "outputs": [
    {
     "data": {
      "text/html": [
       "<div>\n",
       "<style scoped>\n",
       "    .dataframe tbody tr th:only-of-type {\n",
       "        vertical-align: middle;\n",
       "    }\n",
       "\n",
       "    .dataframe tbody tr th {\n",
       "        vertical-align: top;\n",
       "    }\n",
       "\n",
       "    .dataframe thead th {\n",
       "        text-align: right;\n",
       "    }\n",
       "</style>\n",
       "<table border=\"1\" class=\"dataframe\">\n",
       "  <thead>\n",
       "    <tr style=\"text-align: right;\">\n",
       "      <th></th>\n",
       "      <th>SurfaceArea</th>\n",
       "      <th>RelativeCompactness</th>\n",
       "      <th>GlazingArea</th>\n",
       "    </tr>\n",
       "  </thead>\n",
       "  <tbody>\n",
       "    <tr>\n",
       "      <th>0</th>\n",
       "      <td>514.5</td>\n",
       "      <td>0.98</td>\n",
       "      <td>0.0</td>\n",
       "    </tr>\n",
       "    <tr>\n",
       "      <th>1</th>\n",
       "      <td>514.5</td>\n",
       "      <td>0.98</td>\n",
       "      <td>0.0</td>\n",
       "    </tr>\n",
       "    <tr>\n",
       "      <th>2</th>\n",
       "      <td>514.5</td>\n",
       "      <td>0.98</td>\n",
       "      <td>0.0</td>\n",
       "    </tr>\n",
       "    <tr>\n",
       "      <th>3</th>\n",
       "      <td>514.5</td>\n",
       "      <td>0.98</td>\n",
       "      <td>0.0</td>\n",
       "    </tr>\n",
       "    <tr>\n",
       "      <th>4</th>\n",
       "      <td>563.5</td>\n",
       "      <td>0.90</td>\n",
       "      <td>0.0</td>\n",
       "    </tr>\n",
       "    <tr>\n",
       "      <th>...</th>\n",
       "      <td>...</td>\n",
       "      <td>...</td>\n",
       "      <td>...</td>\n",
       "    </tr>\n",
       "    <tr>\n",
       "      <th>763</th>\n",
       "      <td>784.0</td>\n",
       "      <td>0.64</td>\n",
       "      <td>0.4</td>\n",
       "    </tr>\n",
       "    <tr>\n",
       "      <th>764</th>\n",
       "      <td>808.5</td>\n",
       "      <td>0.62</td>\n",
       "      <td>0.4</td>\n",
       "    </tr>\n",
       "    <tr>\n",
       "      <th>765</th>\n",
       "      <td>808.5</td>\n",
       "      <td>0.62</td>\n",
       "      <td>0.4</td>\n",
       "    </tr>\n",
       "    <tr>\n",
       "      <th>766</th>\n",
       "      <td>808.5</td>\n",
       "      <td>0.62</td>\n",
       "      <td>0.4</td>\n",
       "    </tr>\n",
       "    <tr>\n",
       "      <th>767</th>\n",
       "      <td>808.5</td>\n",
       "      <td>0.62</td>\n",
       "      <td>0.4</td>\n",
       "    </tr>\n",
       "  </tbody>\n",
       "</table>\n",
       "<p>768 rows × 3 columns</p>\n",
       "</div>"
      ],
      "text/plain": [
       "     SurfaceArea  RelativeCompactness  GlazingArea\n",
       "0          514.5                 0.98          0.0\n",
       "1          514.5                 0.98          0.0\n",
       "2          514.5                 0.98          0.0\n",
       "3          514.5                 0.98          0.0\n",
       "4          563.5                 0.90          0.0\n",
       "..           ...                  ...          ...\n",
       "763        784.0                 0.64          0.4\n",
       "764        808.5                 0.62          0.4\n",
       "765        808.5                 0.62          0.4\n",
       "766        808.5                 0.62          0.4\n",
       "767        808.5                 0.62          0.4\n",
       "\n",
       "[768 rows x 3 columns]"
      ]
     },
     "execution_count": 66,
     "metadata": {},
     "output_type": "execute_result"
    }
   ],
   "source": [
    "X_df = df[[\"SurfaceArea\", \"RelativeCompactness\", \"GlazingArea\"]]\n",
    "X_df"
   ]
  },
  {
   "cell_type": "code",
   "execution_count": 67,
   "id": "6f3875f9-cc39-4177-b0ae-21a20f46c0a2",
   "metadata": {},
   "outputs": [
    {
     "data": {
      "text/plain": [
       "0      15.55\n",
       "1      15.55\n",
       "2      15.55\n",
       "3      15.55\n",
       "4      20.84\n",
       "       ...  \n",
       "763    17.88\n",
       "764    16.54\n",
       "765    16.44\n",
       "766    16.48\n",
       "767    16.64\n",
       "Name: HeatingLoad, Length: 768, dtype: float64"
      ]
     },
     "execution_count": 67,
     "metadata": {},
     "output_type": "execute_result"
    }
   ],
   "source": [
    "y_df = df[\"HeatingLoad\"]\n",
    "y_df"
   ]
  },
  {
   "cell_type": "code",
   "execution_count": 68,
   "id": "f399c677-a2d8-484d-afc4-7be52e44dd53",
   "metadata": {},
   "outputs": [],
   "source": [
    "X_df_wInt = sm.add_constant(X_df)"
   ]
  },
  {
   "cell_type": "code",
   "execution_count": 70,
   "id": "0d68f68f-f59e-4bcf-b1be-af015afbd400",
   "metadata": {},
   "outputs": [],
   "source": [
    "mulinreg_model = sm.OLS(y, X_df_wInt).fit()"
   ]
  },
  {
   "cell_type": "code",
   "execution_count": 71,
   "id": "d5d86cf8-777e-45ef-96f1-f6c3b566d91c",
   "metadata": {},
   "outputs": [
    {
     "data": {
      "text/html": [
       "<table class=\"simpletable\">\n",
       "<caption>OLS Regression Results</caption>\n",
       "<tr>\n",
       "  <th>Dep. Variable:</th>       <td>HeatingLoad</td>   <th>  R-squared:         </th> <td>   0.564</td> \n",
       "</tr>\n",
       "<tr>\n",
       "  <th>Model:</th>                   <td>OLS</td>       <th>  Adj. R-squared:    </th> <td>   0.562</td> \n",
       "</tr>\n",
       "<tr>\n",
       "  <th>Method:</th>             <td>Least Squares</td>  <th>  F-statistic:       </th> <td>   329.0</td> \n",
       "</tr>\n",
       "<tr>\n",
       "  <th>Date:</th>             <td>Wed, 12 Feb 2025</td> <th>  Prob (F-statistic):</th> <td>4.25e-137</td>\n",
       "</tr>\n",
       "<tr>\n",
       "  <th>Time:</th>                 <td>11:49:32</td>     <th>  Log-Likelihood:    </th> <td> -2546.1</td> \n",
       "</tr>\n",
       "<tr>\n",
       "  <th>No. Observations:</th>      <td>   768</td>      <th>  AIC:               </th> <td>   5100.</td> \n",
       "</tr>\n",
       "<tr>\n",
       "  <th>Df Residuals:</th>          <td>   764</td>      <th>  BIC:               </th> <td>   5119.</td> \n",
       "</tr>\n",
       "<tr>\n",
       "  <th>Df Model:</th>              <td>     3</td>      <th>                     </th>     <td> </td>    \n",
       "</tr>\n",
       "<tr>\n",
       "  <th>Covariance Type:</th>      <td>nonrobust</td>    <th>                     </th>     <td> </td>    \n",
       "</tr>\n",
       "</table>\n",
       "<table class=\"simpletable\">\n",
       "<tr>\n",
       "           <td></td>              <th>coef</th>     <th>std err</th>      <th>t</th>      <th>P>|t|</th>  <th>[0.025</th>    <th>0.975]</th>  \n",
       "</tr>\n",
       "<tr>\n",
       "  <th>const</th>               <td>  350.4465</td> <td>   28.140</td> <td>   12.454</td> <td> 0.000</td> <td>  295.205</td> <td>  405.688</td>\n",
       "</tr>\n",
       "<tr>\n",
       "  <th>SurfaceArea</th>         <td>   -0.2903</td> <td>    0.022</td> <td>  -13.471</td> <td> 0.000</td> <td>   -0.333</td> <td>   -0.248</td>\n",
       "</tr>\n",
       "<tr>\n",
       "  <th>RelativeCompactness</th> <td> -180.4643</td> <td>   17.949</td> <td>  -10.055</td> <td> 0.000</td> <td> -215.699</td> <td> -145.230</td>\n",
       "</tr>\n",
       "<tr>\n",
       "  <th>GlazingArea</th>         <td>   20.4379</td> <td>    1.810</td> <td>   11.291</td> <td> 0.000</td> <td>   16.885</td> <td>   23.991</td>\n",
       "</tr>\n",
       "</table>\n",
       "<table class=\"simpletable\">\n",
       "<tr>\n",
       "  <th>Omnibus:</th>       <td>117.214</td> <th>  Durbin-Watson:     </th> <td>   0.375</td>\n",
       "</tr>\n",
       "<tr>\n",
       "  <th>Prob(Omnibus):</th> <td> 0.000</td>  <th>  Jarque-Bera (JB):  </th> <td>  29.508</td>\n",
       "</tr>\n",
       "<tr>\n",
       "  <th>Skew:</th>          <td> 0.112</td>  <th>  Prob(JB):          </th> <td>3.91e-07</td>\n",
       "</tr>\n",
       "<tr>\n",
       "  <th>Kurtosis:</th>      <td> 2.066</td>  <th>  Cond. No.          </th> <td>9.38e+04</td>\n",
       "</tr>\n",
       "</table><br/><br/>Notes:<br/>[1] Standard Errors assume that the covariance matrix of the errors is correctly specified.<br/>[2] The condition number is large, 9.38e+04. This might indicate that there are<br/>strong multicollinearity or other numerical problems."
      ],
      "text/latex": [
       "\\begin{center}\n",
       "\\begin{tabular}{lclc}\n",
       "\\toprule\n",
       "\\textbf{Dep. Variable:}      &   HeatingLoad    & \\textbf{  R-squared:         } &     0.564   \\\\\n",
       "\\textbf{Model:}              &       OLS        & \\textbf{  Adj. R-squared:    } &     0.562   \\\\\n",
       "\\textbf{Method:}             &  Least Squares   & \\textbf{  F-statistic:       } &     329.0   \\\\\n",
       "\\textbf{Date:}               & Wed, 12 Feb 2025 & \\textbf{  Prob (F-statistic):} & 4.25e-137   \\\\\n",
       "\\textbf{Time:}               &     11:49:32     & \\textbf{  Log-Likelihood:    } &   -2546.1   \\\\\n",
       "\\textbf{No. Observations:}   &         768      & \\textbf{  AIC:               } &     5100.   \\\\\n",
       "\\textbf{Df Residuals:}       &         764      & \\textbf{  BIC:               } &     5119.   \\\\\n",
       "\\textbf{Df Model:}           &           3      & \\textbf{                     } &             \\\\\n",
       "\\textbf{Covariance Type:}    &    nonrobust     & \\textbf{                     } &             \\\\\n",
       "\\bottomrule\n",
       "\\end{tabular}\n",
       "\\begin{tabular}{lcccccc}\n",
       "                             & \\textbf{coef} & \\textbf{std err} & \\textbf{t} & \\textbf{P$> |$t$|$} & \\textbf{[0.025} & \\textbf{0.975]}  \\\\\n",
       "\\midrule\n",
       "\\textbf{const}               &     350.4465  &       28.140     &    12.454  &         0.000        &      295.205    &      405.688     \\\\\n",
       "\\textbf{SurfaceArea}         &      -0.2903  &        0.022     &   -13.471  &         0.000        &       -0.333    &       -0.248     \\\\\n",
       "\\textbf{RelativeCompactness} &    -180.4643  &       17.949     &   -10.055  &         0.000        &     -215.699    &     -145.230     \\\\\n",
       "\\textbf{GlazingArea}         &      20.4379  &        1.810     &    11.291  &         0.000        &       16.885    &       23.991     \\\\\n",
       "\\bottomrule\n",
       "\\end{tabular}\n",
       "\\begin{tabular}{lclc}\n",
       "\\textbf{Omnibus:}       & 117.214 & \\textbf{  Durbin-Watson:     } &    0.375  \\\\\n",
       "\\textbf{Prob(Omnibus):} &   0.000 & \\textbf{  Jarque-Bera (JB):  } &   29.508  \\\\\n",
       "\\textbf{Skew:}          &   0.112 & \\textbf{  Prob(JB):          } & 3.91e-07  \\\\\n",
       "\\textbf{Kurtosis:}      &   2.066 & \\textbf{  Cond. No.          } & 9.38e+04  \\\\\n",
       "\\bottomrule\n",
       "\\end{tabular}\n",
       "%\\caption{OLS Regression Results}\n",
       "\\end{center}\n",
       "\n",
       "Notes: \\newline\n",
       " [1] Standard Errors assume that the covariance matrix of the errors is correctly specified. \\newline\n",
       " [2] The condition number is large, 9.38e+04. This might indicate that there are \\newline\n",
       " strong multicollinearity or other numerical problems."
      ],
      "text/plain": [
       "<class 'statsmodels.iolib.summary.Summary'>\n",
       "\"\"\"\n",
       "                            OLS Regression Results                            \n",
       "==============================================================================\n",
       "Dep. Variable:            HeatingLoad   R-squared:                       0.564\n",
       "Model:                            OLS   Adj. R-squared:                  0.562\n",
       "Method:                 Least Squares   F-statistic:                     329.0\n",
       "Date:                Wed, 12 Feb 2025   Prob (F-statistic):          4.25e-137\n",
       "Time:                        11:49:32   Log-Likelihood:                -2546.1\n",
       "No. Observations:                 768   AIC:                             5100.\n",
       "Df Residuals:                     764   BIC:                             5119.\n",
       "Df Model:                           3                                         \n",
       "Covariance Type:            nonrobust                                         \n",
       "=======================================================================================\n",
       "                          coef    std err          t      P>|t|      [0.025      0.975]\n",
       "---------------------------------------------------------------------------------------\n",
       "const                 350.4465     28.140     12.454      0.000     295.205     405.688\n",
       "SurfaceArea            -0.2903      0.022    -13.471      0.000      -0.333      -0.248\n",
       "RelativeCompactness  -180.4643     17.949    -10.055      0.000    -215.699    -145.230\n",
       "GlazingArea            20.4379      1.810     11.291      0.000      16.885      23.991\n",
       "==============================================================================\n",
       "Omnibus:                      117.214   Durbin-Watson:                   0.375\n",
       "Prob(Omnibus):                  0.000   Jarque-Bera (JB):               29.508\n",
       "Skew:                           0.112   Prob(JB):                     3.91e-07\n",
       "Kurtosis:                       2.066   Cond. No.                     9.38e+04\n",
       "==============================================================================\n",
       "\n",
       "Notes:\n",
       "[1] Standard Errors assume that the covariance matrix of the errors is correctly specified.\n",
       "[2] The condition number is large, 9.38e+04. This might indicate that there are\n",
       "strong multicollinearity or other numerical problems.\n",
       "\"\"\""
      ]
     },
     "execution_count": 71,
     "metadata": {},
     "output_type": "execute_result"
    }
   ],
   "source": [
    "mulinreg_model.summary()"
   ]
  },
  {
   "cell_type": "code",
   "execution_count": 72,
   "id": "7cfc2ec5-6481-4ef5-8891-5ca37b605933",
   "metadata": {},
   "outputs": [
    {
     "data": {
      "text/plain": [
       "const                  350.446471\n",
       "SurfaceArea             -0.290341\n",
       "RelativeCompactness   -180.464308\n",
       "GlazingArea             20.437899\n",
       "dtype: float64"
      ]
     },
     "execution_count": 72,
     "metadata": {},
     "output_type": "execute_result"
    }
   ],
   "source": [
    "mulinreg_model.params"
   ]
  },
  {
   "cell_type": "markdown",
   "id": "c8443c34-2702-4d11-8435-a10beef24330",
   "metadata": {},
   "source": [
    "### 2. Evaluate our multiple linear regression model and compare its performance to your simple linear regression model. Did you manage to make a better model?"
   ]
  },
  {
   "cell_type": "code",
   "execution_count": 77,
   "id": "3b41891c-ba01-45b4-837a-87ed6b6ba086",
   "metadata": {},
   "outputs": [
    {
     "name": "stdout",
     "output_type": "stream",
     "text": [
      "linear R-squared:        0.43312223289382823\n",
      "multi linear R-squared:  0.5636720852099278\n",
      "linear RMSE:        7.592090475900786\n",
      "multi linear RMSE:  6.660750439531341\n"
     ]
    }
   ],
   "source": [
    "print(\"linear R-squared:       \", linreg_model.rsquared)\n",
    "print(\"multi linear R-squared: \", mulinreg_model.rsquared)\n",
    "\n",
    "print(\"linear RMSE:       \", np.sqrt(np.mean(linreg_model.resid**2))) # RMSE\n",
    "print(\"multi linear RMSE: \", np.sqrt(np.mean(mulinreg_model.resid**2))) # RMSE"
   ]
  },
  {
   "cell_type": "markdown",
   "id": "ed6faccc-8d8a-46ca-970a-a5202d223047",
   "metadata": {},
   "source": [
    "    Given that R-squared for the multi linear is greater by 0.13 and that it's RMSE is smaller by 0.9, indicating less error,\n",
    "    it is fair to say the multi linear is a better model to predict HeatLoad"
   ]
  },
  {
   "cell_type": "markdown",
   "id": "d87c29ce-f200-481b-9071-c6ec796103c2",
   "metadata": {},
   "source": [
    "### 3. Check each of the assumptions/problems for linear regression."
   ]
  },
  {
   "cell_type": "code",
   "execution_count": 78,
   "id": "cea7396d-1e1a-4d8d-9044-9ef152257ab0",
   "metadata": {},
   "outputs": [],
   "source": [
    "# Will do"
   ]
  },
  {
   "cell_type": "markdown",
   "id": "c9554539-d06b-489d-8877-1f33dd2cc0b1",
   "metadata": {},
   "source": [
    "## Exercise 3"
   ]
  },
  {
   "cell_type": "markdown",
   "id": "f3f0572f-71a2-4375-b263-8f1134f2f309",
   "metadata": {},
   "source": [
    "### 1. Can you train a linear regression model to achieve a lower RMSE than the models we saw in the multiple linear regression notebook?"
   ]
  },
  {
   "cell_type": "markdown",
   "id": "385db215-8668-4bca-b35c-e9d57521d18c",
   "metadata": {},
   "source": [
    "### 2. Can you train a linear regression model to achieve a higher R-squared than the final model in the multiple linear regression notebook?"
   ]
  },
  {
   "cell_type": "markdown",
   "id": "f83a1999-9c9a-44df-8772-323ad7a9adc2",
   "metadata": {},
   "source": [
    "### 3. Do your models satisfy the assumptions of linear regression?"
   ]
  },
  {
   "cell_type": "code",
   "execution_count": null,
   "id": "bcdee791-8c12-4529-b381-d9f5d380eb10",
   "metadata": {},
   "outputs": [],
   "source": []
  }
 ],
 "metadata": {
  "kernelspec": {
   "display_name": "Python [conda env:base] *",
   "language": "python",
   "name": "conda-base-py"
  },
  "language_info": {
   "codemirror_mode": {
    "name": "ipython",
    "version": 3
   },
   "file_extension": ".py",
   "mimetype": "text/x-python",
   "name": "python",
   "nbconvert_exporter": "python",
   "pygments_lexer": "ipython3",
   "version": "3.12.7"
  }
 },
 "nbformat": 4,
 "nbformat_minor": 5
}
