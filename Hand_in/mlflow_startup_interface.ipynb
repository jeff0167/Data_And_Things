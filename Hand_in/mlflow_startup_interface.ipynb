{
 "cells": [
  {
   "cell_type": "code",
   "execution_count": 1,
   "id": "99df01a9-c034-4b25-b43e-67e335e98674",
   "metadata": {},
   "outputs": [],
   "source": [
    "import mlflow\n",
    "import mlflow.sklearn\n",
    "from sklearn.metrics import accuracy_score, precision_score, recall_score, f1_score\n",
    "import pandas as pd\n",
    "import matplotlib.pyplot as plt\n",
    "import subprocess\n",
    "import time\n",
    "import IPython.display as display\n",
    "import tempfile"
   ]
  },
  {
   "cell_type": "code",
   "execution_count": 3,
   "id": "2eee93c4-0c39-4615-8445-99d0f1b10845",
   "metadata": {},
   "outputs": [],
   "source": [
    "def start_mlflow():\n",
    "    \n",
    "    # Start MLFlow UI from the notebook\n",
    "    print(\"\\nStarting MLFlow UI...\")\n",
    "    process = subprocess.Popen([\"mlflow\", \"ui\", \"--port\", \"5000\"])  # Starts MLFlow UI on port 5000\n",
    "    \n",
    "    # Wait a moment to ensure the server starts\n",
    "    time.sleep(3)\n",
    "    \n",
    "    # Display a link to the MLFlow UI\n",
    "    display.display(display.Markdown(\"[Open MLFlow UI](http://localhost:5000)\"))\n",
    "    \n",
    "    print(\"MLFlow UI is running at http://localhost:5000. Press Ctrl+C in the terminal to stop it.\")"
   ]
  },
  {
   "cell_type": "code",
   "execution_count": 4,
   "id": "5eb20f1b",
   "metadata": {},
   "outputs": [
    {
     "name": "stdout",
     "output_type": "stream",
     "text": [
      "\n",
      "Starting MLFlow UI...\n"
     ]
    },
    {
     "data": {
      "text/markdown": [
       "[Open MLFlow UI](http://localhost:5000)"
      ],
      "text/plain": [
       "<IPython.core.display.Markdown object>"
      ]
     },
     "metadata": {},
     "output_type": "display_data"
    },
    {
     "name": "stdout",
     "output_type": "stream",
     "text": [
      "MLFlow UI is running at http://localhost:5000. Press Ctrl+C in the terminal to stop it.\n"
     ]
    }
   ],
   "source": [
    "start_mlflow()"
   ]
  },
  {
   "cell_type": "code",
   "execution_count": null,
   "id": "9f3033a2",
   "metadata": {},
   "outputs": [],
   "source": []
  }
 ],
 "metadata": {
  "kernelspec": {
   "display_name": "Python_3_10_16",
   "language": "python",
   "name": "python3"
  },
  "language_info": {
   "codemirror_mode": {
    "name": "ipython",
    "version": 3
   },
   "file_extension": ".py",
   "mimetype": "text/x-python",
   "name": "python",
   "nbconvert_exporter": "python",
   "pygments_lexer": "ipython3",
   "version": "3.10.16"
  }
 },
 "nbformat": 4,
 "nbformat_minor": 5
}
