{
 "cells": [
  {
   "cell_type": "code",
   "execution_count": null,
   "metadata": {},
   "outputs": [
    {
     "name": "stderr",
     "output_type": "stream",
     "text": [
      "c:\\Users\\Bobby\\anaconda3\\envs\\Python_3_10_16\\lib\\site-packages\\tqdm\\auto.py:21: TqdmWarning: IProgress not found. Please update jupyter and ipywidgets. See https://ipywidgets.readthedocs.io/en/stable/user_install.html\n",
      "  from .autonotebook import tqdm as notebook_tqdm\n"
     ]
    },
    {
     "name": "stdout",
     "output_type": "stream",
     "text": [
      "WARNING:tensorflow:From c:\\Users\\Bobby\\anaconda3\\envs\\Python_3_10_16\\lib\\site-packages\\tf_keras\\src\\losses.py:2976: The name tf.losses.sparse_softmax_cross_entropy is deprecated. Please use tf.compat.v1.losses.sparse_softmax_cross_entropy instead.\n",
      "\n"
     ]
    }
   ],
   "source": [
    "import numpy as np\n",
    "from sentence_transformers import SentenceTransformer\n",
    "from sklearn.metrics.pairwise import cosine_similarity\n",
    "\n",
    "from sentence_transformers import SentenceTransformer\n",
    "from sklearn.feature_extraction.text import TfidfVectorizer\n",
    "#from datasets import load_dataset\n",
    "#from nltk.tokenize import word_tokenize\n",
    "import re"
   ]
  },
  {
   "cell_type": "markdown",
   "metadata": {},
   "source": [
    "Task\n",
    "1. Creat a RAG pipeline that can take following text and answer following questions\n",
    "2. Try different types of chunking to get better answers?\n",
    "3. Does asking questions differently give better answers? Why?\n",
    "4. Try a different similarity search instead of cosine similarity - do the answers improve?\n",
    "\n"
   ]
  },
  {
   "cell_type": "code",
   "execution_count": 6,
   "metadata": {},
   "outputs": [],
   "source": [
    "sample_text = \"\"\"\n",
    "The Amazon rainforest is the largest tropical rainforest in the world, covering approximately 5.5 million square kilometers. It spans across nine countries, including Brazil, Peru, and Colombia. The rainforest is home to around 10% of the known species on Earth, including jaguars, sloths, and thousands of species of insects and birds.\n",
    "\n",
    "Deforestation is a significant threat to the Amazon, with thousands of square kilometers lost each year due to agriculture, logging, and urbanization. This deforestation contributes to climate change, as the rainforest acts as a major carbon sink, absorbing millions of tons of carbon dioxide annually.\n",
    "\n",
    "Indigenous tribes have lived in the Amazon for thousands of years, relying on its rich biodiversity for food, medicine, and shelter. These tribes have unique languages, traditions, and knowledge of the ecosystem. However, many face threats from illegal land encroachment and industrial activities.\n",
    "\n",
    "Scientists believe that the Amazon plays a crucial role in global weather patterns by releasing water vapor into the atmosphere, which influences rainfall across South America and even other continents. The Amazon River, which flows through the rainforest, is the second longest river in the world and carries more water than any other river.\n",
    "\n",
    "Efforts to protect the Amazon include international agreements, conservation programs, and sustainable development projects that aim to balance economic growth with environmental protection. Many organizations and governments are working to reduce illegal logging and promote reforestation initiatives.\n",
    "\"\"\""
   ]
  },
  {
   "cell_type": "code",
   "execution_count": 7,
   "metadata": {},
   "outputs": [],
   "source": [
    "questions = [\n",
    "    \"What is the Amazon rainforest?\",\n",
    "    \"Which countries does the Amazon span across?\",\n",
    "    \"Why is deforestation a problem in the Amazon?\",\n",
    "    \"How does the Amazon rainforest affect global weather patterns?\",\n",
    "    \"What role do indigenous tribes play in the Amazon?\",\n",
    "    \"What is the importance of the Amazon River?\",\n",
    "    \"What types of wildlife can be found in the Amazon?\",\n",
    "    \"How does deforestation contribute to climate change?\",\n",
    "    \"What efforts are being made to protect the Amazon?\",\n",
    "    \"Why is the Amazon considered a major carbon sink?\"\n",
    "]"
   ]
  },
  {
   "cell_type": "markdown",
   "metadata": {},
   "source": [
    "### 1. Creat a RAG pipeline that can take following text and answer following questions"
   ]
  },
  {
   "cell_type": "code",
   "execution_count": 2,
   "metadata": {},
   "outputs": [],
   "source": [
    "MODEL_NAME = \"sentence-transformers/all-MiniLM-L6-v2\"\n",
    "model = SentenceTransformer(MODEL_NAME)"
   ]
  },
  {
   "cell_type": "code",
   "execution_count": 3,
   "metadata": {},
   "outputs": [],
   "source": [
    "# Function to generate embeddings\n",
    "def get_transformer_embeddings(texts):\n",
    "    return model.encode(texts, convert_to_numpy=True)\n",
    "\n",
    "# Function to retrieve relevant passage\n",
    "def retrieve_passage(stored_texts, stored_embeddings, query):\n",
    "    query_embedding = get_transformer_embeddings([query])\n",
    "\n",
    "    similarities = cosine_similarity(query_embedding, stored_embeddings)[0]  # Ensure correct shape\n",
    "    best_match_idx = np.argmax(similarities)\n",
    "    return stored_texts[best_match_idx]\n",
    "\n",
    "# Function to answer questions based on stored content\n",
    "def answer_question(stored_texts, stored_embeddings, query):\n",
    "    relevant_passage = retrieve_passage(stored_texts, stored_embeddings, query)\n",
    "    return relevant_passage"
   ]
  },
  {
   "cell_type": "code",
   "execution_count": 20,
   "metadata": {},
   "outputs": [],
   "source": [
    "def RAG_pipeline(stored_texts, _questions):\n",
    "    stored_embeddings = model.encode(stored_texts, convert_to_numpy=True)  # Store embeddings for each chunk\n",
    "    \n",
    "    print(\"\\nSample Questions and Answers:\\n\")\n",
    "    for question in _questions:        \n",
    "        response = answer_question(stored_texts, stored_embeddings, question)\n",
    "        print(f\"Q: {question}\\nA: {response}\\n\")"
   ]
  },
  {
   "cell_type": "markdown",
   "metadata": {},
   "source": [
    "### 2. Try different types of chunking to get better answers?"
   ]
  },
  {
   "cell_type": "code",
   "execution_count": 8,
   "metadata": {},
   "outputs": [],
   "source": [
    "# Function to split text into meaningful chunks (paragraphs)\n",
    "def split_text(text):\n",
    "    return [para.strip() for para in re.split(\"\\n+\", text) if para.strip()]\n",
    "\n",
    "# Store document embeddings\n",
    "stored_texts = split_text(sample_text)  # Store each paragraph separately"
   ]
  },
  {
   "cell_type": "code",
   "execution_count": 9,
   "metadata": {},
   "outputs": [
    {
     "data": {
      "text/plain": [
       "['The Amazon rainforest is the largest tropical rainforest in the world, covering approximately 5.5 million square kilometers. It spans across nine countries, including Brazil, Peru, and Colombia. The rainforest is home to around 10% of the known species on Earth, including jaguars, sloths, and thousands of species of insects and birds.',\n",
       " 'Deforestation is a significant threat to the Amazon, with thousands of square kilometers lost each year due to agriculture, logging, and urbanization. This deforestation contributes to climate change, as the rainforest acts as a major carbon sink, absorbing millions of tons of carbon dioxide annually.',\n",
       " 'Indigenous tribes have lived in the Amazon for thousands of years, relying on its rich biodiversity for food, medicine, and shelter. These tribes have unique languages, traditions, and knowledge of the ecosystem. However, many face threats from illegal land encroachment and industrial activities.',\n",
       " 'Scientists believe that the Amazon plays a crucial role in global weather patterns by releasing water vapor into the atmosphere, which influences rainfall across South America and even other continents. The Amazon River, which flows through the rainforest, is the second longest river in the world and carries more water than any other river.',\n",
       " 'Efforts to protect the Amazon include international agreements, conservation programs, and sustainable development projects that aim to balance economic growth with environmental protection. Many organizations and governments are working to reduce illegal logging and promote reforestation initiatives.']"
      ]
     },
     "execution_count": 9,
     "metadata": {},
     "output_type": "execute_result"
    }
   ],
   "source": [
    "stored_texts"
   ]
  },
  {
   "cell_type": "code",
   "execution_count": null,
   "metadata": {},
   "outputs": [
    {
     "name": "stdout",
     "output_type": "stream",
     "text": [
      "\n",
      "Sample Questions and Answers:\n",
      "\n",
      "Q: What is the Amazon rainforest?\n",
      "A: The Amazon rainforest is the largest tropical rainforest in the world, covering approximately 5.5 million square kilometers. It spans across nine countries, including Brazil, Peru, and Colombia. The rainforest is home to around 10% of the known species on Earth, including jaguars, sloths, and thousands of species of insects and birds.\n",
      "\n",
      "Q: Which countries does the Amazon span across?\n",
      "A: The Amazon rainforest is the largest tropical rainforest in the world, covering approximately 5.5 million square kilometers. It spans across nine countries, including Brazil, Peru, and Colombia. The rainforest is home to around 10% of the known species on Earth, including jaguars, sloths, and thousands of species of insects and birds.\n",
      "\n",
      "Q: Why is deforestation a problem in the Amazon?\n",
      "A: Deforestation is a significant threat to the Amazon, with thousands of square kilometers lost each year due to agriculture, logging, and urbanization. This deforestation contributes to climate change, as the rainforest acts as a major carbon sink, absorbing millions of tons of carbon dioxide annually.\n",
      "\n",
      "Q: How does the Amazon rainforest affect global weather patterns?\n",
      "A: Scientists believe that the Amazon plays a crucial role in global weather patterns by releasing water vapor into the atmosphere, which influences rainfall across South America and even other continents. The Amazon River, which flows through the rainforest, is the second longest river in the world and carries more water than any other river.\n",
      "\n",
      "Q: What role do indigenous tribes play in the Amazon?\n",
      "A: Indigenous tribes have lived in the Amazon for thousands of years, relying on its rich biodiversity for food, medicine, and shelter. These tribes have unique languages, traditions, and knowledge of the ecosystem. However, many face threats from illegal land encroachment and industrial activities.\n",
      "\n",
      "Q: What is the importance of the Amazon River?\n",
      "A: Scientists believe that the Amazon plays a crucial role in global weather patterns by releasing water vapor into the atmosphere, which influences rainfall across South America and even other continents. The Amazon River, which flows through the rainforest, is the second longest river in the world and carries more water than any other river.\n",
      "\n",
      "Q: What types of wildlife can be found in the Amazon?\n",
      "A: Indigenous tribes have lived in the Amazon for thousands of years, relying on its rich biodiversity for food, medicine, and shelter. These tribes have unique languages, traditions, and knowledge of the ecosystem. However, many face threats from illegal land encroachment and industrial activities.\n",
      "\n",
      "Q: How does deforestation contribute to climate change?\n",
      "A: Deforestation is a significant threat to the Amazon, with thousands of square kilometers lost each year due to agriculture, logging, and urbanization. This deforestation contributes to climate change, as the rainforest acts as a major carbon sink, absorbing millions of tons of carbon dioxide annually.\n",
      "\n",
      "Q: What efforts are being made to protect the Amazon?\n",
      "A: Efforts to protect the Amazon include international agreements, conservation programs, and sustainable development projects that aim to balance economic growth with environmental protection. Many organizations and governments are working to reduce illegal logging and promote reforestation initiatives.\n",
      "\n",
      "Q: Why is the Amazon considered a major carbon sink?\n",
      "A: Deforestation is a significant threat to the Amazon, with thousands of square kilometers lost each year due to agriculture, logging, and urbanization. This deforestation contributes to climate change, as the rainforest acts as a major carbon sink, absorbing millions of tons of carbon dioxide annually.\n",
      "\n"
     ]
    }
   ],
   "source": [
    "RAG_pipeline(stored_texts, questions)"
   ]
  },
  {
   "cell_type": "markdown",
   "metadata": {},
   "source": [
    "##### This is the best one, doing it by sentences gives the best, shortest answer"
   ]
  },
  {
   "cell_type": "code",
   "execution_count": 13,
   "metadata": {},
   "outputs": [],
   "source": [
    "#Alternative form of chunking\n",
    "\n",
    "# Function to split text into meaningful chunks (sentences)\n",
    "def split_text(text):\n",
    "    sentences = re.split(r'(?<!\\w\\.\\w.)(?<![A-Z][a-z]\\.)(?<=\\.|\\?)\\s', text)\n",
    "    return [sentence.strip() for sentence in sentences if sentence.strip()]\n",
    "\n",
    "# Store document embeddings\n",
    "stored_texts = split_text(sample_text)  # Store each sentence separately"
   ]
  },
  {
   "cell_type": "code",
   "execution_count": 14,
   "metadata": {},
   "outputs": [
    {
     "data": {
      "text/plain": [
       "['The Amazon rainforest is the largest tropical rainforest in the world, covering approximately 5.5 million square kilometers.',\n",
       " 'It spans across nine countries, including Brazil, Peru, and Colombia.',\n",
       " 'The rainforest is home to around 10% of the known species on Earth, including jaguars, sloths, and thousands of species of insects and birds.',\n",
       " 'Deforestation is a significant threat to the Amazon, with thousands of square kilometers lost each year due to agriculture, logging, and urbanization.',\n",
       " 'This deforestation contributes to climate change, as the rainforest acts as a major carbon sink, absorbing millions of tons of carbon dioxide annually.',\n",
       " 'Indigenous tribes have lived in the Amazon for thousands of years, relying on its rich biodiversity for food, medicine, and shelter.',\n",
       " 'These tribes have unique languages, traditions, and knowledge of the ecosystem.',\n",
       " 'However, many face threats from illegal land encroachment and industrial activities.',\n",
       " 'Scientists believe that the Amazon plays a crucial role in global weather patterns by releasing water vapor into the atmosphere, which influences rainfall across South America and even other continents.',\n",
       " 'The Amazon River, which flows through the rainforest, is the second longest river in the world and carries more water than any other river.',\n",
       " 'Efforts to protect the Amazon include international agreements, conservation programs, and sustainable development projects that aim to balance economic growth with environmental protection.',\n",
       " 'Many organizations and governments are working to reduce illegal logging and promote reforestation initiatives.']"
      ]
     },
     "execution_count": 14,
     "metadata": {},
     "output_type": "execute_result"
    }
   ],
   "source": [
    "stored_texts"
   ]
  },
  {
   "cell_type": "code",
   "execution_count": null,
   "metadata": {},
   "outputs": [
    {
     "name": "stdout",
     "output_type": "stream",
     "text": [
      "\n",
      "Sample Questions and Answers:\n",
      "\n",
      "Q: What is the Amazon rainforest?\n",
      "A: The Amazon rainforest is the largest tropical rainforest in the world, covering approximately 5.5 million square kilometers.\n",
      "\n",
      "Q: Which countries does the Amazon span across?\n",
      "A: It spans across nine countries, including Brazil, Peru, and Colombia.\n",
      "\n",
      "Q: Why is deforestation a problem in the Amazon?\n",
      "A: Deforestation is a significant threat to the Amazon, with thousands of square kilometers lost each year due to agriculture, logging, and urbanization.\n",
      "\n",
      "Q: How does the Amazon rainforest affect global weather patterns?\n",
      "A: Scientists believe that the Amazon plays a crucial role in global weather patterns by releasing water vapor into the atmosphere, which influences rainfall across South America and even other continents.\n",
      "\n",
      "Q: What role do indigenous tribes play in the Amazon?\n",
      "A: Indigenous tribes have lived in the Amazon for thousands of years, relying on its rich biodiversity for food, medicine, and shelter.\n",
      "\n",
      "Q: What is the importance of the Amazon River?\n",
      "A: The Amazon River, which flows through the rainforest, is the second longest river in the world and carries more water than any other river.\n",
      "\n",
      "Q: What types of wildlife can be found in the Amazon?\n",
      "A: Indigenous tribes have lived in the Amazon for thousands of years, relying on its rich biodiversity for food, medicine, and shelter.\n",
      "\n",
      "Q: How does deforestation contribute to climate change?\n",
      "A: This deforestation contributes to climate change, as the rainforest acts as a major carbon sink, absorbing millions of tons of carbon dioxide annually.\n",
      "\n",
      "Q: What efforts are being made to protect the Amazon?\n",
      "A: Efforts to protect the Amazon include international agreements, conservation programs, and sustainable development projects that aim to balance economic growth with environmental protection.\n",
      "\n",
      "Q: Why is the Amazon considered a major carbon sink?\n",
      "A: This deforestation contributes to climate change, as the rainforest acts as a major carbon sink, absorbing millions of tons of carbon dioxide annually.\n",
      "\n"
     ]
    }
   ],
   "source": [
    "RAG_pipeline(stored_texts, questions)"
   ]
  },
  {
   "cell_type": "code",
   "execution_count": 76,
   "metadata": {},
   "outputs": [],
   "source": [
    "#Alternative form of chunking\n",
    "\n",
    "# Function to split text into meaningful chunks (comma seperated)\n",
    "def split_text(text):\n",
    "    sentences =  re.split(r\",\", text)\n",
    "\n",
    "    cleaned_sentences = []\n",
    "    for sentence in sentences:\n",
    "        cleaned_text =  re.sub(r\"\\.\\n\\n\", \". \", sentence)\n",
    "        cleaned_sentences.append(cleaned_text)\n",
    "\n",
    "    return [sentence.strip() for sentence in cleaned_sentences if sentence.strip()]\n",
    "\n",
    "# Store document embeddings\n",
    "stored_texts = split_text(sample_text)  # Store each sentence separately"
   ]
  },
  {
   "cell_type": "code",
   "execution_count": 77,
   "metadata": {},
   "outputs": [
    {
     "data": {
      "text/plain": [
       "['The Amazon rainforest is the largest tropical rainforest in the world',\n",
       " 'covering approximately 5.5 million square kilometers. It spans across nine countries',\n",
       " 'including Brazil',\n",
       " 'Peru',\n",
       " 'and Colombia. The rainforest is home to around 10% of the known species on Earth',\n",
       " 'including jaguars',\n",
       " 'sloths',\n",
       " 'and thousands of species of insects and birds. Deforestation is a significant threat to the Amazon',\n",
       " 'with thousands of square kilometers lost each year due to agriculture',\n",
       " 'logging',\n",
       " 'and urbanization. This deforestation contributes to climate change',\n",
       " 'as the rainforest acts as a major carbon sink',\n",
       " 'absorbing millions of tons of carbon dioxide annually. Indigenous tribes have lived in the Amazon for thousands of years',\n",
       " 'relying on its rich biodiversity for food',\n",
       " 'medicine',\n",
       " 'and shelter. These tribes have unique languages',\n",
       " 'traditions',\n",
       " 'and knowledge of the ecosystem. However',\n",
       " 'many face threats from illegal land encroachment and industrial activities. Scientists believe that the Amazon plays a crucial role in global weather patterns by releasing water vapor into the atmosphere',\n",
       " 'which influences rainfall across South America and even other continents. The Amazon River',\n",
       " 'which flows through the rainforest',\n",
       " 'is the second longest river in the world and carries more water than any other river. Efforts to protect the Amazon include international agreements',\n",
       " 'conservation programs',\n",
       " 'and sustainable development projects that aim to balance economic growth with environmental protection. Many organizations and governments are working to reduce illegal logging and promote reforestation initiatives.']"
      ]
     },
     "execution_count": 77,
     "metadata": {},
     "output_type": "execute_result"
    }
   ],
   "source": [
    "stored_texts"
   ]
  },
  {
   "cell_type": "code",
   "execution_count": 78,
   "metadata": {},
   "outputs": [
    {
     "name": "stdout",
     "output_type": "stream",
     "text": [
      "\n",
      "Sample Questions and Answers:\n",
      "\n",
      "Q: What is the Amazon rainforest?\n",
      "A: The Amazon rainforest is the largest tropical rainforest in the world\n",
      "\n",
      "Q: Which countries does the Amazon span across?\n",
      "A: is the second longest river in the world and carries more water than any other river. Efforts to protect the Amazon include international agreements\n",
      "\n",
      "Q: Why is deforestation a problem in the Amazon?\n",
      "A: and thousands of species of insects and birds. Deforestation is a significant threat to the Amazon\n",
      "\n",
      "Q: How does the Amazon rainforest affect global weather patterns?\n",
      "A: many face threats from illegal land encroachment and industrial activities. Scientists believe that the Amazon plays a crucial role in global weather patterns by releasing water vapor into the atmosphere\n",
      "\n",
      "Q: What role do indigenous tribes play in the Amazon?\n",
      "A: absorbing millions of tons of carbon dioxide annually. Indigenous tribes have lived in the Amazon for thousands of years\n",
      "\n",
      "Q: What is the importance of the Amazon River?\n",
      "A: is the second longest river in the world and carries more water than any other river. Efforts to protect the Amazon include international agreements\n",
      "\n",
      "Q: What types of wildlife can be found in the Amazon?\n",
      "A: and thousands of species of insects and birds. Deforestation is a significant threat to the Amazon\n",
      "\n",
      "Q: How does deforestation contribute to climate change?\n",
      "A: and urbanization. This deforestation contributes to climate change\n",
      "\n",
      "Q: What efforts are being made to protect the Amazon?\n",
      "A: many face threats from illegal land encroachment and industrial activities. Scientists believe that the Amazon plays a crucial role in global weather patterns by releasing water vapor into the atmosphere\n",
      "\n",
      "Q: Why is the Amazon considered a major carbon sink?\n",
      "A: as the rainforest acts as a major carbon sink\n",
      "\n"
     ]
    }
   ],
   "source": [
    "RAG_pipeline(stored_texts, questions)"
   ]
  },
  {
   "cell_type": "markdown",
   "metadata": {},
   "source": [
    "#### letting a tokenizer do the chunking"
   ]
  },
  {
   "cell_type": "code",
   "execution_count": 35,
   "metadata": {},
   "outputs": [
    {
     "name": "stderr",
     "output_type": "stream",
     "text": [
      "[nltk_data] Downloading package punkt_tab to\n",
      "[nltk_data]     C:\\Users\\Bobby\\AppData\\Roaming\\nltk_data...\n",
      "[nltk_data]   Unzipping tokenizers\\punkt_tab.zip.\n"
     ]
    },
    {
     "data": {
      "text/plain": [
       "True"
      ]
     },
     "execution_count": 35,
     "metadata": {},
     "output_type": "execute_result"
    }
   ],
   "source": [
    "import nltk\n",
    "nltk.download('punkt_tab')"
   ]
  },
  {
   "cell_type": "code",
   "execution_count": null,
   "metadata": {},
   "outputs": [],
   "source": [
    "def chunk_text_by_sentences(text):\n",
    "    sentences = nltk.sent_tokenize(text)\n",
    "    chunks = []\n",
    "    current_chunk = \"\"\n",
    "    chunk_length = 100 #Adjust based on token constraints \n",
    "\n",
    "    for sentence in sentences:\n",
    "        if len(current_chunk) + len(sentence) + 1 <= chunk_length: #+1 for space.\n",
    "            current_chunk += sentence + \" \"\n",
    "        else:\n",
    "            chunks.append(current_chunk.strip())\n",
    "            current_chunk = sentence + \" \"\n",
    "    if current_chunk:\n",
    "        chunks.append(current_chunk.strip())\n",
    "    return chunks"
   ]
  },
  {
   "cell_type": "code",
   "execution_count": 80,
   "metadata": {},
   "outputs": [
    {
     "data": {
      "text/plain": [
       "['',\n",
       " 'The Amazon rainforest is the largest tropical rainforest in the world, covering approximately 5.5 million square kilometers.',\n",
       " 'It spans across nine countries, including Brazil, Peru, and Colombia.',\n",
       " 'The rainforest is home to around 10% of the known species on Earth, including jaguars, sloths, and thousands of species of insects and birds.',\n",
       " 'Deforestation is a significant threat to the Amazon, with thousands of square kilometers lost each year due to agriculture, logging, and urbanization.',\n",
       " 'This deforestation contributes to climate change, as the rainforest acts as a major carbon sink, absorbing millions of tons of carbon dioxide annually.',\n",
       " 'Indigenous tribes have lived in the Amazon for thousands of years, relying on its rich biodiversity for food, medicine, and shelter.',\n",
       " 'These tribes have unique languages, traditions, and knowledge of the ecosystem.',\n",
       " 'However, many face threats from illegal land encroachment and industrial activities.',\n",
       " 'Scientists believe that the Amazon plays a crucial role in global weather patterns by releasing water vapor into the atmosphere, which influences rainfall across South America and even other continents.',\n",
       " 'The Amazon River, which flows through the rainforest, is the second longest river in the world and carries more water than any other river.',\n",
       " 'Efforts to protect the Amazon include international agreements, conservation programs, and sustainable development projects that aim to balance economic growth with environmental protection.',\n",
       " 'Many organizations and governments are working to reduce illegal logging and promote reforestation initiatives.']"
      ]
     },
     "execution_count": 80,
     "metadata": {},
     "output_type": "execute_result"
    }
   ],
   "source": [
    "sentence_chunks = chunk_text_by_sentences(sample_text)\n",
    "sentence_chunks"
   ]
  },
  {
   "cell_type": "markdown",
   "metadata": {},
   "source": [
    "##### This adds an empty chunk, for cases when there is no match, potentially better model, depending on you business logic"
   ]
  },
  {
   "cell_type": "code",
   "execution_count": 47,
   "metadata": {},
   "outputs": [
    {
     "name": "stdout",
     "output_type": "stream",
     "text": [
      "\n",
      "Sample Questions and Answers:\n",
      "\n",
      "Q: What is the Amazon rainforest?\n",
      "A: The Amazon rainforest is the largest tropical rainforest in the world, covering approximately 5.5 million square kilometers.\n",
      "\n",
      "Q: Which countries does the Amazon span across?\n",
      "A: It spans across nine countries, including Brazil, Peru, and Colombia.\n",
      "\n",
      "Q: Why is deforestation a problem in the Amazon?\n",
      "A: Deforestation is a significant threat to the Amazon, with thousands of square kilometers lost each year due to agriculture, logging, and urbanization.\n",
      "\n",
      "Q: How does the Amazon rainforest affect global weather patterns?\n",
      "A: Scientists believe that the Amazon plays a crucial role in global weather patterns by releasing water vapor into the atmosphere, which influences rainfall across South America and even other continents.\n",
      "\n",
      "Q: What role do indigenous tribes play in the Amazon?\n",
      "A: Indigenous tribes have lived in the Amazon for thousands of years, relying on its rich biodiversity for food, medicine, and shelter.\n",
      "\n",
      "Q: What is the importance of the Amazon River?\n",
      "A: The Amazon River, which flows through the rainforest, is the second longest river in the world and carries more water than any other river.\n",
      "\n",
      "Q: What types of wildlife can be found in the Amazon?\n",
      "A: Indigenous tribes have lived in the Amazon for thousands of years, relying on its rich biodiversity for food, medicine, and shelter.\n",
      "\n",
      "Q: How does deforestation contribute to climate change?\n",
      "A: This deforestation contributes to climate change, as the rainforest acts as a major carbon sink, absorbing millions of tons of carbon dioxide annually.\n",
      "\n",
      "Q: What efforts are being made to protect the Amazon?\n",
      "A: Efforts to protect the Amazon include international agreements, conservation programs, and sustainable development projects that aim to balance economic growth with environmental protection.\n",
      "\n",
      "Q: Why is the Amazon considered a major carbon sink?\n",
      "A: This deforestation contributes to climate change, as the rainforest acts as a major carbon sink, absorbing millions of tons of carbon dioxide annually.\n",
      "\n"
     ]
    }
   ],
   "source": [
    "RAG_pipeline(sentence_chunks, questions)"
   ]
  },
  {
   "cell_type": "markdown",
   "metadata": {},
   "source": [
    "### 3. Does asking questions differently give better answers? Why?"
   ]
  },
  {
   "cell_type": "code",
   "execution_count": 81,
   "metadata": {},
   "outputs": [],
   "source": [
    "#Alternative form of chunking\n",
    "\n",
    "# Function to split text into meaningful chunks (sentences)\n",
    "def split_text(text):\n",
    "    sentences = re.split(r'(?<!\\w\\.\\w.)(?<![A-Z][a-z]\\.)(?<=\\.|\\?)\\s', text)\n",
    "    return [sentence.strip() for sentence in sentences if sentence.strip()]\n",
    "\n",
    "# Store document embeddings\n",
    "stored_texts = split_text(sample_text)  # Store each sentence separately"
   ]
  },
  {
   "cell_type": "code",
   "execution_count": 256,
   "metadata": {},
   "outputs": [],
   "source": [
    "questions1 = [\n",
    "    \"Tell me about the Amazon rainforest\",\n",
    "    \"How many countries does the Amazon span across?\",\n",
    "    \"Why is deforestation a problem for rainforest\",\n",
    "    \"Does the Amazon rainforest affect global weather patterns?\",\n",
    "    \"Do indigenous tribes play a role in the Amazon?\",\n",
    "    \"What about the Amazon River?\",\n",
    "    \"What types of wildlife cannot be found in the Amazon?\",\n",
    "    \"What type of species life in the rainforest?\",\n",
    "    \"How does climate change?\",\n",
    "    \"What efforts are being made to defend the Amazon?\",\n",
    "    \"Why is the Amazon considered a carbon sink?\"\n",
    "]"
   ]
  },
  {
   "cell_type": "code",
   "execution_count": 249,
   "metadata": {},
   "outputs": [
    {
     "name": "stdout",
     "output_type": "stream",
     "text": [
      "\n",
      "Sample Questions and Answers:\n",
      "\n",
      "Q: Tell me about the Amazon rainforest\n",
      "A: The Amazon rainforest is the largest tropical rainforest in the world, covering approximately 5.5 million square kilometers.\n",
      "\n",
      "Q: How many countries does the Amazon span across?\n",
      "A: It spans across nine countries, including Brazil, Peru, and Colombia.\n",
      "\n",
      "Q: Why is deforestation a problem for rainforest\n",
      "A: Deforestation is a significant threat to the Amazon, with thousands of square kilometers lost each year due to agriculture, logging, and urbanization.\n",
      "\n",
      "Q: Does the Amazon rainforest affect global weather patterns?\n",
      "A: Scientists believe that the Amazon plays a crucial role in global weather patterns by releasing water vapor into the atmosphere, which influences rainfall across South America and even other continents.\n",
      "\n",
      "Q: Do indigenous tribes play a role in the Amazon?\n",
      "A: Indigenous tribes have lived in the Amazon for thousands of years, relying on its rich biodiversity for food, medicine, and shelter.\n",
      "\n",
      "Q: What about the Amazon River?\n",
      "A: The Amazon River, which flows through the rainforest, is the second longest river in the world and carries more water than any other river.\n",
      "\n",
      "Q: What types of wildlife cannot be found in the Amazon?\n",
      "A: Indigenous tribes have lived in the Amazon for thousands of years, relying on its rich biodiversity for food, medicine, and shelter.\n",
      "\n",
      "Q: What type of species life in the rainforest?\n",
      "A: The rainforest is home to around 10% of the known species on Earth, including jaguars, sloths, and thousands of species of insects and birds.\n",
      "\n",
      "Q: How does climate change?\n",
      "A: This deforestation contributes to climate change, as the rainforest acts as a major carbon sink, absorbing millions of tons of carbon dioxide annually.\n",
      "\n",
      "Q: What efforts are being made to defend the Amazon?\n",
      "A: Efforts to protect the Amazon include international agreements, conservation programs, and sustainable development projects that aim to balance economic growth with environmental protection.\n",
      "\n",
      "Q: Why is the Amazon considered a carbon sink?\n",
      "A: This deforestation contributes to climate change, as the rainforest acts as a major carbon sink, absorbing millions of tons of carbon dioxide annually.\n",
      "\n"
     ]
    }
   ],
   "source": [
    "RAG_pipeline(stored_texts, questions1)"
   ]
  },
  {
   "cell_type": "code",
   "execution_count": 96,
   "metadata": {},
   "outputs": [],
   "source": [
    "questions2 = [\n",
    "    \"What is rain\",\n",
    "    \"What can you say about species?\",\n",
    "    \"How old is the rainforest\",\n",
    "    \"what is the meaning of life\",\n",
    "    \"How are you today, mister robot\",\n",
    "    \"What issues does the ranforest face\",\n",
    "    \"Is it illegal to cut down the rainforst?\",\n",
    "    \"Is it against the law to cut down the rainforst?\",\n",
    "    \"If i may ask a stupid question, my good sir, on the behalf of the rainforest of course, what would you dare say be the most important issue that the rainforest currently faces?\"\n",
    "]"
   ]
  },
  {
   "cell_type": "code",
   "execution_count": 95,
   "metadata": {},
   "outputs": [
    {
     "name": "stdout",
     "output_type": "stream",
     "text": [
      "\n",
      "Sample Questions and Answers:\n",
      "\n",
      "Q: What is rain\n",
      "A: Scientists believe that the Amazon plays a crucial role in global weather patterns by releasing water vapor into the atmosphere, which influences rainfall across South America and even other continents.\n",
      "\n",
      "Q: What can you say about species?\n",
      "A: The rainforest is home to around 10% of the known species on Earth, including jaguars, sloths, and thousands of species of insects and birds.\n",
      "\n",
      "Q: How old is the rainforest\n",
      "A: The rainforest is home to around 10% of the known species on Earth, including jaguars, sloths, and thousands of species of insects and birds.\n",
      "\n",
      "Q: what is the meaning of life\n",
      "A: These tribes have unique languages, traditions, and knowledge of the ecosystem.\n",
      "\n",
      "Q: How are you today, mister robot\n",
      "A: However, many face threats from illegal land encroachment and industrial activities.\n",
      "\n",
      "Q: What issues does the ranforest face\n",
      "A: However, many face threats from illegal land encroachment and industrial activities.\n",
      "\n",
      "Q: Is it illegal to cut down the rainforst\n",
      "A: Many organizations and governments are working to reduce illegal logging and promote reforestation initiatives.\n",
      "\n",
      "Q: If i may ask a stupid question, my good sir, on the behalf of the rainforest of course, what would you dare say be the most important issue that the rainforest currently faces?\n",
      "A: Deforestation is a significant threat to the Amazon, with thousands of square kilometers lost each year due to agriculture, logging, and urbanization.\n",
      "\n"
     ]
    }
   ],
   "source": [
    "RAG_pipeline(stored_texts, questions2)"
   ]
  },
  {
   "cell_type": "code",
   "execution_count": 224,
   "metadata": {},
   "outputs": [],
   "source": [
    "questions4 = [\n",
    "    \"Can you fish in spaghetti\",\n",
    "    \"mexico\",\n",
    "    \"sweden\",\n",
    "    \"italy\",\n",
    "    \"norway\",\n",
    "    \"many fish\",\n",
    "    \"many fish skill\",\n",
    "    \"working\"\n",
    "]"
   ]
  },
  {
   "cell_type": "code",
   "execution_count": 225,
   "metadata": {},
   "outputs": [
    {
     "name": "stdout",
     "output_type": "stream",
     "text": [
      "\n",
      "Sample Questions and Answers:\n",
      "\n",
      "Q: Can you fish in spaghetti\n",
      "A: \n",
      "\n",
      "Q: mexico\n",
      "A: It spans across nine countries, including Brazil, Peru, and Colombia.\n",
      "\n",
      "Q: sweden\n",
      "A: \n",
      "\n",
      "Q: italy\n",
      "A: It spans across nine countries, including Brazil, Peru, and Colombia.\n",
      "\n",
      "Q: norway\n",
      "A: It spans across nine countries, including Brazil, Peru, and Colombia.\n",
      "\n",
      "Q: many fish\n",
      "A: \n",
      "\n",
      "Q: many fish skill\n",
      "A: These tribes have unique languages, traditions, and knowledge of the ecosystem.\n",
      "\n",
      "Q: working\n",
      "A: \n",
      "\n"
     ]
    }
   ],
   "source": [
    "RAG_pipeline(sentence_chunks, questions4) # stored_texts, sentence_chunks"
   ]
  },
  {
   "cell_type": "markdown",
   "metadata": {},
   "source": [
    "#### Wildlife is not used in the text, have to use species in question"
   ]
  },
  {
   "cell_type": "markdown",
   "metadata": {},
   "source": [
    "### 4. Try a different similarity search instead of cosine similarity - do the answers improve?"
   ]
  },
  {
   "cell_type": "code",
   "execution_count": 264,
   "metadata": {},
   "outputs": [],
   "source": [
    "def euclidean_distance(vec1, vec2):\n",
    "    #Calculates the Euclidean distance between two vectors\n",
    "    return np.linalg.norm(vec1 - vec2)\n",
    "\n",
    "# Function to generate embeddings\n",
    "def get_transformer_embeddings2(texts):\n",
    "    return model.encode(texts, convert_to_numpy=True)\n",
    "\n",
    "# Function to retrieve relevant passage\n",
    "def retrieve_passage2(stored_texts, stored_embeddings, query):\n",
    "    query_embedding = get_transformer_embeddings2([query])\n",
    "    distances = [euclidean_distance(query_embedding, stored_vec) for stored_vec in stored_embeddings]\n",
    "    best_match_idx = np.argmin(distances)\n",
    "\n",
    "    return stored_texts[best_match_idx]\n",
    "\n",
    "# Function to answer questions based on stored content\n",
    "def answer_question2(stored_texts, stored_embeddings, query):\n",
    "    relevant_passage = retrieve_passage2(stored_texts, stored_embeddings, query)\n",
    "    return relevant_passage"
   ]
  },
  {
   "cell_type": "code",
   "execution_count": 265,
   "metadata": {},
   "outputs": [],
   "source": [
    "def RAG_pipeline2(stored_texts, _questions):\n",
    "    stored_embeddings = model.encode(stored_texts, convert_to_numpy=True)  # Store embeddings for each chunk\n",
    "    \n",
    "    print(\"\\nSample Questions and Answers:\\n\")\n",
    "    for question in _questions:        \n",
    "        response = answer_question2(stored_texts, stored_embeddings, question)\n",
    "        print(f\"Q: {question}\\nA: {response}\\n\")"
   ]
  },
  {
   "cell_type": "code",
   "execution_count": 266,
   "metadata": {},
   "outputs": [
    {
     "name": "stdout",
     "output_type": "stream",
     "text": [
      "\n",
      "Sample Questions and Answers:\n",
      "\n",
      "Q: What is the Amazon rainforest?\n",
      "A: The Amazon rainforest is the largest tropical rainforest in the world, covering approximately 5.5 million square kilometers.\n",
      "\n",
      "Q: Which countries does the Amazon span across?\n",
      "A: It spans across nine countries, including Brazil, Peru, and Colombia.\n",
      "\n",
      "Q: Why is deforestation a problem in the Amazon?\n",
      "A: Deforestation is a significant threat to the Amazon, with thousands of square kilometers lost each year due to agriculture, logging, and urbanization.\n",
      "\n",
      "Q: How does the Amazon rainforest affect global weather patterns?\n",
      "A: Scientists believe that the Amazon plays a crucial role in global weather patterns by releasing water vapor into the atmosphere, which influences rainfall across South America and even other continents.\n",
      "\n",
      "Q: What role do indigenous tribes play in the Amazon?\n",
      "A: Indigenous tribes have lived in the Amazon for thousands of years, relying on its rich biodiversity for food, medicine, and shelter.\n",
      "\n",
      "Q: What is the importance of the Amazon River?\n",
      "A: The Amazon River, which flows through the rainforest, is the second longest river in the world and carries more water than any other river.\n",
      "\n",
      "Q: What types of wildlife can be found in the Amazon?\n",
      "A: Indigenous tribes have lived in the Amazon for thousands of years, relying on its rich biodiversity for food, medicine, and shelter.\n",
      "\n",
      "Q: How does deforestation contribute to climate change?\n",
      "A: This deforestation contributes to climate change, as the rainforest acts as a major carbon sink, absorbing millions of tons of carbon dioxide annually.\n",
      "\n",
      "Q: What efforts are being made to protect the Amazon?\n",
      "A: Efforts to protect the Amazon include international agreements, conservation programs, and sustainable development projects that aim to balance economic growth with environmental protection.\n",
      "\n",
      "Q: Why is the Amazon considered a major carbon sink?\n",
      "A: This deforestation contributes to climate change, as the rainforest acts as a major carbon sink, absorbing millions of tons of carbon dioxide annually.\n",
      "\n"
     ]
    }
   ],
   "source": [
    "RAG_pipeline2(sentence_chunks, questions)"
   ]
  },
  {
   "cell_type": "code",
   "execution_count": 297,
   "metadata": {},
   "outputs": [],
   "source": [
    "def euclidean_distance(vec1, vec2):\n",
    "    #Calculates the Euclidean distance between two vectors\n",
    "    # when using normalize on vectors like this, it should give the exact same result as a cosine_simularity, but that is not what I'm seeing\n",
    "    # the max features should have a impact on the model, maybe getting that right will give the same result, but that takes effort to get right\n",
    "    return np.linalg.norm(vec1 - vec2) \n",
    "    #return np.linalg.multi_dot(vec1 - vec2) # here the size of the vector is not normalized, meaning that their length could affect the result, got the same result in this case\n",
    "\n",
    "# Function to retrieve relevant passage\n",
    "def retrieve_passage3(stored_texts, query):\n",
    "    vectorizer = TfidfVectorizer(max_features=100)\n",
    "    tfidf_matrix = vectorizer.fit_transform(stored_texts)\n",
    "    query_vector = vectorizer.transform([query])\n",
    "    \n",
    "    similarities = cosine_similarity(query_vector, tfidf_matrix)\n",
    "\n",
    "    # Get the most similar document\n",
    "    most_similar_index = similarities.argmax()\n",
    "    return stored_texts[most_similar_index]\n",
    "\n",
    "\n",
    "# Function to answer questions based on stored content\n",
    "def answer_question3(stored_texts, query):\n",
    "    relevant_passage = retrieve_passage3(stored_texts, query)\n",
    "    return relevant_passage"
   ]
  },
  {
   "cell_type": "code",
   "execution_count": 295,
   "metadata": {},
   "outputs": [],
   "source": [
    "def RAG_pipeline3(stored_texts, _questions):\n",
    "    #stored_embeddings = model.encode(stored_texts, convert_to_numpy=True)  # Store embeddings for each chunk\n",
    "    \n",
    "    print(\"\\nSample Questions and Answers:\\n\")\n",
    "    for question in _questions:        \n",
    "        response = answer_question3(stored_texts, question)\n",
    "        print(f\"Q: {question}\\nA: {response}\\n\")"
   ]
  },
  {
   "cell_type": "code",
   "execution_count": 296,
   "metadata": {},
   "outputs": [
    {
     "name": "stdout",
     "output_type": "stream",
     "text": [
      "\n",
      "Sample Questions and Answers:\n",
      "\n",
      "Q: What is the Amazon rainforest?\n",
      "A: The Amazon rainforest is the largest tropical rainforest in the world, covering approximately 5.5 million square kilometers.\n",
      "\n",
      "Q: Which countries does the Amazon span across?\n",
      "A: It spans across nine countries, including Brazil, Peru, and Colombia.\n",
      "\n",
      "Q: Why is deforestation a problem in the Amazon?\n",
      "A: The Amazon rainforest is the largest tropical rainforest in the world, covering approximately 5.5 million square kilometers.\n",
      "\n",
      "Q: How does the Amazon rainforest affect global weather patterns?\n",
      "A: Scientists believe that the Amazon plays a crucial role in global weather patterns by releasing water vapor into the atmosphere, which influences rainfall across South America and even other continents.\n",
      "\n",
      "Q: What role do indigenous tribes play in the Amazon?\n",
      "A: Indigenous tribes have lived in the Amazon for thousands of years, relying on its rich biodiversity for food, medicine, and shelter.\n",
      "\n",
      "Q: What is the importance of the Amazon River?\n",
      "A: The Amazon River, which flows through the rainforest, is the second longest river in the world and carries more water than any other river.\n",
      "\n",
      "Q: What types of wildlife can be found in the Amazon?\n",
      "A: The Amazon rainforest is the largest tropical rainforest in the world, covering approximately 5.5 million square kilometers.\n",
      "\n",
      "Q: How does deforestation contribute to climate change?\n",
      "A: This deforestation contributes to climate change, as the rainforest acts as a major carbon sink, absorbing millions of tons of carbon dioxide annually.\n",
      "\n",
      "Q: What efforts are being made to protect the Amazon?\n",
      "A: Efforts to protect the Amazon include international agreements, conservation programs, and sustainable development projects that aim to balance economic growth with environmental protection.\n",
      "\n",
      "Q: Why is the Amazon considered a major carbon sink?\n",
      "A: This deforestation contributes to climate change, as the rainforest acts as a major carbon sink, absorbing millions of tons of carbon dioxide annually.\n",
      "\n"
     ]
    }
   ],
   "source": [
    "RAG_pipeline3(sentence_chunks, questions)"
   ]
  },
  {
   "cell_type": "markdown",
   "metadata": {},
   "source": [
    "##### Really hard to tell if what makes the model better, have to read the document and read the input and output manually, requires alot to get right"
   ]
  }
 ],
 "metadata": {
  "kernelspec": {
   "display_name": "Python_3_10_16",
   "language": "python",
   "name": "python3"
  },
  "language_info": {
   "codemirror_mode": {
    "name": "ipython",
    "version": 3
   },
   "file_extension": ".py",
   "mimetype": "text/x-python",
   "name": "python",
   "nbconvert_exporter": "python",
   "pygments_lexer": "ipython3",
   "version": "3.10.16"
  }
 },
 "nbformat": 4,
 "nbformat_minor": 4
}
