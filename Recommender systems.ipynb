{
 "cells": [
  {
   "cell_type": "markdown",
   "id": "e22c86bb-0222-4a1b-bc99-cc19b0a937c8",
   "metadata": {},
   "source": [
    "# Recommender systems\n",
    "\n",
    "In this notebook we will go through various examples of recommender systems. "
   ]
  },
  {
   "cell_type": "markdown",
   "id": "29dd4323-1cee-4dd5-bca9-23c06a75fe78",
   "metadata": {},
   "source": [
    "The code in the notebook is based on the following [DataCamp tutorial](https://www.datacamp.com/tutorial/recommender-systems-python) and uses [The Movies Dataset](https://www.kaggle.com/datasets/rounakbanik/the-movies-dataset/data) from Kaggle, which is data from IMDB about movies and users. We will only use some of the data that is compressed into a zip on moodle \"TheMovieDataset.zip\"."
   ]
  },
  {
   "cell_type": "markdown",
   "id": "393d4878-26cf-4455-ae77-dbeec6fa5340",
   "metadata": {},
   "source": [
    "## Simple recommender system\n",
    "\n",
    "**First, we will do a simple recommender system by simply recommend the Top 250 movies.** \n",
    "\n",
    "For this to work, we have to decide how to rank the movies, which again is done by deciding on a way to assign a score to each movie."
   ]
  },
  {
   "cell_type": "markdown",
   "id": "0a0c6b06-fe39-413c-8a38-f25c347cd601",
   "metadata": {},
   "source": [
    "For this, let us first look at the meta data about the movies."
   ]
  },
  {
   "cell_type": "code",
   "execution_count": 3,
   "id": "738fc934-b812-420a-8e7b-73f938c13dd9",
   "metadata": {},
   "outputs": [],
   "source": [
    "#pip install pandas"
   ]
  },
  {
   "cell_type": "code",
   "execution_count": 4,
   "id": "e96b62e5-9476-402e-937c-0fdf897b532e",
   "metadata": {},
   "outputs": [
    {
     "data": {
      "text/html": [
       "<div>\n",
       "<style scoped>\n",
       "    .dataframe tbody tr th:only-of-type {\n",
       "        vertical-align: middle;\n",
       "    }\n",
       "\n",
       "    .dataframe tbody tr th {\n",
       "        vertical-align: top;\n",
       "    }\n",
       "\n",
       "    .dataframe thead th {\n",
       "        text-align: right;\n",
       "    }\n",
       "</style>\n",
       "<table border=\"1\" class=\"dataframe\">\n",
       "  <thead>\n",
       "    <tr style=\"text-align: right;\">\n",
       "      <th></th>\n",
       "      <th>adult</th>\n",
       "      <th>belongs_to_collection</th>\n",
       "      <th>budget</th>\n",
       "      <th>genres</th>\n",
       "      <th>homepage</th>\n",
       "      <th>id</th>\n",
       "      <th>imdb_id</th>\n",
       "      <th>original_language</th>\n",
       "      <th>original_title</th>\n",
       "      <th>overview</th>\n",
       "      <th>...</th>\n",
       "      <th>release_date</th>\n",
       "      <th>revenue</th>\n",
       "      <th>runtime</th>\n",
       "      <th>spoken_languages</th>\n",
       "      <th>status</th>\n",
       "      <th>tagline</th>\n",
       "      <th>title</th>\n",
       "      <th>video</th>\n",
       "      <th>vote_average</th>\n",
       "      <th>vote_count</th>\n",
       "    </tr>\n",
       "  </thead>\n",
       "  <tbody>\n",
       "    <tr>\n",
       "      <th>0</th>\n",
       "      <td>False</td>\n",
       "      <td>{'id': 10194, 'name': 'Toy Story Collection', ...</td>\n",
       "      <td>30000000</td>\n",
       "      <td>[{'id': 16, 'name': 'Animation'}, {'id': 35, '...</td>\n",
       "      <td>http://toystory.disney.com/toy-story</td>\n",
       "      <td>862</td>\n",
       "      <td>tt0114709</td>\n",
       "      <td>en</td>\n",
       "      <td>Toy Story</td>\n",
       "      <td>Led by Woody, Andy's toys live happily in his ...</td>\n",
       "      <td>...</td>\n",
       "      <td>1995-10-30</td>\n",
       "      <td>373554033.0</td>\n",
       "      <td>81.0</td>\n",
       "      <td>[{'iso_639_1': 'en', 'name': 'English'}]</td>\n",
       "      <td>Released</td>\n",
       "      <td>NaN</td>\n",
       "      <td>Toy Story</td>\n",
       "      <td>False</td>\n",
       "      <td>7.7</td>\n",
       "      <td>5415.0</td>\n",
       "    </tr>\n",
       "    <tr>\n",
       "      <th>1</th>\n",
       "      <td>False</td>\n",
       "      <td>NaN</td>\n",
       "      <td>65000000</td>\n",
       "      <td>[{'id': 12, 'name': 'Adventure'}, {'id': 14, '...</td>\n",
       "      <td>NaN</td>\n",
       "      <td>8844</td>\n",
       "      <td>tt0113497</td>\n",
       "      <td>en</td>\n",
       "      <td>Jumanji</td>\n",
       "      <td>When siblings Judy and Peter discover an encha...</td>\n",
       "      <td>...</td>\n",
       "      <td>1995-12-15</td>\n",
       "      <td>262797249.0</td>\n",
       "      <td>104.0</td>\n",
       "      <td>[{'iso_639_1': 'en', 'name': 'English'}, {'iso...</td>\n",
       "      <td>Released</td>\n",
       "      <td>Roll the dice and unleash the excitement!</td>\n",
       "      <td>Jumanji</td>\n",
       "      <td>False</td>\n",
       "      <td>6.9</td>\n",
       "      <td>2413.0</td>\n",
       "    </tr>\n",
       "    <tr>\n",
       "      <th>2</th>\n",
       "      <td>False</td>\n",
       "      <td>{'id': 119050, 'name': 'Grumpy Old Men Collect...</td>\n",
       "      <td>0</td>\n",
       "      <td>[{'id': 10749, 'name': 'Romance'}, {'id': 35, ...</td>\n",
       "      <td>NaN</td>\n",
       "      <td>15602</td>\n",
       "      <td>tt0113228</td>\n",
       "      <td>en</td>\n",
       "      <td>Grumpier Old Men</td>\n",
       "      <td>A family wedding reignites the ancient feud be...</td>\n",
       "      <td>...</td>\n",
       "      <td>1995-12-22</td>\n",
       "      <td>0.0</td>\n",
       "      <td>101.0</td>\n",
       "      <td>[{'iso_639_1': 'en', 'name': 'English'}]</td>\n",
       "      <td>Released</td>\n",
       "      <td>Still Yelling. Still Fighting. Still Ready for...</td>\n",
       "      <td>Grumpier Old Men</td>\n",
       "      <td>False</td>\n",
       "      <td>6.5</td>\n",
       "      <td>92.0</td>\n",
       "    </tr>\n",
       "  </tbody>\n",
       "</table>\n",
       "<p>3 rows × 24 columns</p>\n",
       "</div>"
      ],
      "text/plain": [
       "   adult                              belongs_to_collection    budget  \\\n",
       "0  False  {'id': 10194, 'name': 'Toy Story Collection', ...  30000000   \n",
       "1  False                                                NaN  65000000   \n",
       "2  False  {'id': 119050, 'name': 'Grumpy Old Men Collect...         0   \n",
       "\n",
       "                                              genres  \\\n",
       "0  [{'id': 16, 'name': 'Animation'}, {'id': 35, '...   \n",
       "1  [{'id': 12, 'name': 'Adventure'}, {'id': 14, '...   \n",
       "2  [{'id': 10749, 'name': 'Romance'}, {'id': 35, ...   \n",
       "\n",
       "                               homepage     id    imdb_id original_language  \\\n",
       "0  http://toystory.disney.com/toy-story    862  tt0114709                en   \n",
       "1                                   NaN   8844  tt0113497                en   \n",
       "2                                   NaN  15602  tt0113228                en   \n",
       "\n",
       "     original_title                                           overview  ...  \\\n",
       "0         Toy Story  Led by Woody, Andy's toys live happily in his ...  ...   \n",
       "1           Jumanji  When siblings Judy and Peter discover an encha...  ...   \n",
       "2  Grumpier Old Men  A family wedding reignites the ancient feud be...  ...   \n",
       "\n",
       "  release_date      revenue runtime  \\\n",
       "0   1995-10-30  373554033.0    81.0   \n",
       "1   1995-12-15  262797249.0   104.0   \n",
       "2   1995-12-22          0.0   101.0   \n",
       "\n",
       "                                    spoken_languages    status  \\\n",
       "0           [{'iso_639_1': 'en', 'name': 'English'}]  Released   \n",
       "1  [{'iso_639_1': 'en', 'name': 'English'}, {'iso...  Released   \n",
       "2           [{'iso_639_1': 'en', 'name': 'English'}]  Released   \n",
       "\n",
       "                                             tagline             title  video  \\\n",
       "0                                                NaN         Toy Story  False   \n",
       "1          Roll the dice and unleash the excitement!           Jumanji  False   \n",
       "2  Still Yelling. Still Fighting. Still Ready for...  Grumpier Old Men  False   \n",
       "\n",
       "  vote_average vote_count  \n",
       "0          7.7     5415.0  \n",
       "1          6.9     2413.0  \n",
       "2          6.5       92.0  \n",
       "\n",
       "[3 rows x 24 columns]"
      ]
     },
     "execution_count": 4,
     "metadata": {},
     "output_type": "execute_result"
    }
   ],
   "source": [
    "# Import Pandas\n",
    "import pandas as pd\n",
    "\n",
    "# Load Movies Metadata\n",
    "metadata = pd.read_csv('../Notebooks and data-13/movies_metadata.csv', low_memory=False)\n",
    "\n",
    "# Print the first three rows\n",
    "metadata.head(3)"
   ]
  },
  {
   "cell_type": "code",
   "execution_count": 5,
   "id": "3da08ad9-06aa-4fea-b602-d216e3eb7cc2",
   "metadata": {},
   "outputs": [
    {
     "data": {
      "text/plain": [
       "(45466, 24)"
      ]
     },
     "execution_count": 5,
     "metadata": {},
     "output_type": "execute_result"
    }
   ],
   "source": [
    "metadata.shape"
   ]
  },
  {
   "cell_type": "code",
   "execution_count": 6,
   "id": "159acbe3-e204-47a9-9514-6c7c54ca62bc",
   "metadata": {},
   "outputs": [],
   "source": [
    "#metadata = metadata.iloc[0:30000, :]"
   ]
  },
  {
   "cell_type": "code",
   "execution_count": 7,
   "id": "70543d33-15f7-4de7-acea-67ac91c712ed",
   "metadata": {},
   "outputs": [
    {
     "data": {
      "text/plain": [
       "(45466, 24)"
      ]
     },
     "execution_count": 7,
     "metadata": {},
     "output_type": "execute_result"
    }
   ],
   "source": [
    "metadata.shape"
   ]
  },
  {
   "cell_type": "markdown",
   "id": "ea0e9a3b-ebd2-446e-9eaa-4b79af4ba55a",
   "metadata": {},
   "source": [
    "Considerations to take into account: The score should not only be based on the average vote, but also on how many that have actually voted on that movie. (Otherwise, a single high vote could make a movie the highest scoring.) Thus, we want a weighted score. For instance:\n",
    "\\begin{equation} \n",
    "\\text Weighted Rating (\\bf WR) = \\left({{\\bf v} \\over {\\bf v} + {\\bf m}} \\cdot R\\right) + \\left({{\\bf m} \\over {\\bf v} + {\\bf m}} \\cdot C\\right)\n",
    "\\end{equation}\n",
    "where $v$ is the number of votes for the movie (`vote_count`), $m$ is the minimum votes required to be listed in the chart, $R$ is the average rating of the movie (`vote_average`), and $C$ is the mean vote across the whole report.\n",
    "\n",
    "$v$ and $R$ we already have in the metadata dataset, and $C$ we can calculate from it. However, $m$ is a hyperparameter we have to choose ourselves.\n",
    "\n",
    "First let us calculate $C$:"
   ]
  },
  {
   "cell_type": "code",
   "execution_count": 8,
   "id": "cc454e34-b5bf-43b7-a431-2f4176c37754",
   "metadata": {},
   "outputs": [
    {
     "name": "stdout",
     "output_type": "stream",
     "text": [
      "5.618207215134185\n"
     ]
    }
   ],
   "source": [
    "# Calculate mean of vote average column\n",
    "C = metadata['vote_average'].mean()\n",
    "print(C)"
   ]
  },
  {
   "cell_type": "markdown",
   "id": "48780446-43d9-4c20-a442-d561c5763d65",
   "metadata": {},
   "source": [
    "For $m$ we will set it at the 90th percentile of number of votes. In that way, we only consider the movies that are in the top 10% in regards to number of votes."
   ]
  },
  {
   "cell_type": "code",
   "execution_count": 9,
   "id": "1e162c97-ab5c-4a46-a438-25463a79ef49",
   "metadata": {},
   "outputs": [
    {
     "name": "stdout",
     "output_type": "stream",
     "text": [
      "160.0\n"
     ]
    }
   ],
   "source": [
    "# Calculate the minimum number of votes required to be in the chart, m\n",
    "m = metadata['vote_count'].quantile(0.90)\n",
    "print(m)"
   ]
  },
  {
   "cell_type": "markdown",
   "id": "9842b186-0dc3-43c0-b531-cf82da060e09",
   "metadata": {},
   "source": [
    "We will make a new dataframe `q_movies` that only contains the movies that have more than $m$ (160) number of votes."
   ]
  },
  {
   "cell_type": "code",
   "execution_count": 10,
   "id": "26c000fb-1a9c-4a60-b890-860254c00b2a",
   "metadata": {},
   "outputs": [
    {
     "data": {
      "text/plain": [
       "(4555, 24)"
      ]
     },
     "execution_count": 10,
     "metadata": {},
     "output_type": "execute_result"
    }
   ],
   "source": [
    "# Filter out all qualified movies into a new DataFrame\n",
    "q_movies = metadata.copy().loc[metadata['vote_count'] >= m]\n",
    "q_movies.shape"
   ]
  },
  {
   "cell_type": "markdown",
   "id": "42b21a75-ee99-48a4-8380-ef084eab3758",
   "metadata": {},
   "source": [
    "We will now calculate a weighted ranking of the movies based on the formula above and store it in a new column called `score`. "
   ]
  },
  {
   "cell_type": "code",
   "execution_count": 11,
   "id": "20abd9ec-a8da-4278-8d65-8aa549fb681d",
   "metadata": {},
   "outputs": [],
   "source": [
    "# Function that computes the weighted rating of each movie\n",
    "def weighted_rating(x, m=m, C=C):\n",
    "    v = x['vote_count']\n",
    "    R = x['vote_average']\n",
    "    # Calculation based on the IMDB formula\n",
    "    return (v/(v+m) * R) + (m/(m+v) * C)"
   ]
  },
  {
   "cell_type": "code",
   "execution_count": 12,
   "id": "456c7cfc-758d-4108-842e-695806ff9b70",
   "metadata": {},
   "outputs": [],
   "source": [
    "# Define a new feature 'score' and calculate its value with `weighted_rating()`\n",
    "q_movies['score'] = q_movies.apply(weighted_rating, axis=1)"
   ]
  },
  {
   "cell_type": "code",
   "execution_count": 13,
   "id": "159e92c4-8af4-4726-bbf9-f8786c0e97ee",
   "metadata": {},
   "outputs": [
    {
     "data": {
      "text/html": [
       "<div>\n",
       "<style scoped>\n",
       "    .dataframe tbody tr th:only-of-type {\n",
       "        vertical-align: middle;\n",
       "    }\n",
       "\n",
       "    .dataframe tbody tr th {\n",
       "        vertical-align: top;\n",
       "    }\n",
       "\n",
       "    .dataframe thead th {\n",
       "        text-align: right;\n",
       "    }\n",
       "</style>\n",
       "<table border=\"1\" class=\"dataframe\">\n",
       "  <thead>\n",
       "    <tr style=\"text-align: right;\">\n",
       "      <th></th>\n",
       "      <th>adult</th>\n",
       "      <th>belongs_to_collection</th>\n",
       "      <th>budget</th>\n",
       "      <th>genres</th>\n",
       "      <th>homepage</th>\n",
       "      <th>id</th>\n",
       "      <th>imdb_id</th>\n",
       "      <th>original_language</th>\n",
       "      <th>original_title</th>\n",
       "      <th>overview</th>\n",
       "      <th>...</th>\n",
       "      <th>revenue</th>\n",
       "      <th>runtime</th>\n",
       "      <th>spoken_languages</th>\n",
       "      <th>status</th>\n",
       "      <th>tagline</th>\n",
       "      <th>title</th>\n",
       "      <th>video</th>\n",
       "      <th>vote_average</th>\n",
       "      <th>vote_count</th>\n",
       "      <th>score</th>\n",
       "    </tr>\n",
       "  </thead>\n",
       "  <tbody>\n",
       "    <tr>\n",
       "      <th>0</th>\n",
       "      <td>False</td>\n",
       "      <td>{'id': 10194, 'name': 'Toy Story Collection', ...</td>\n",
       "      <td>30000000</td>\n",
       "      <td>[{'id': 16, 'name': 'Animation'}, {'id': 35, '...</td>\n",
       "      <td>http://toystory.disney.com/toy-story</td>\n",
       "      <td>862</td>\n",
       "      <td>tt0114709</td>\n",
       "      <td>en</td>\n",
       "      <td>Toy Story</td>\n",
       "      <td>Led by Woody, Andy's toys live happily in his ...</td>\n",
       "      <td>...</td>\n",
       "      <td>373554033.0</td>\n",
       "      <td>81.0</td>\n",
       "      <td>[{'iso_639_1': 'en', 'name': 'English'}]</td>\n",
       "      <td>Released</td>\n",
       "      <td>NaN</td>\n",
       "      <td>Toy Story</td>\n",
       "      <td>False</td>\n",
       "      <td>7.7</td>\n",
       "      <td>5415.0</td>\n",
       "      <td>7.640253</td>\n",
       "    </tr>\n",
       "    <tr>\n",
       "      <th>1</th>\n",
       "      <td>False</td>\n",
       "      <td>NaN</td>\n",
       "      <td>65000000</td>\n",
       "      <td>[{'id': 12, 'name': 'Adventure'}, {'id': 14, '...</td>\n",
       "      <td>NaN</td>\n",
       "      <td>8844</td>\n",
       "      <td>tt0113497</td>\n",
       "      <td>en</td>\n",
       "      <td>Jumanji</td>\n",
       "      <td>When siblings Judy and Peter discover an encha...</td>\n",
       "      <td>...</td>\n",
       "      <td>262797249.0</td>\n",
       "      <td>104.0</td>\n",
       "      <td>[{'iso_639_1': 'en', 'name': 'English'}, {'iso...</td>\n",
       "      <td>Released</td>\n",
       "      <td>Roll the dice and unleash the excitement!</td>\n",
       "      <td>Jumanji</td>\n",
       "      <td>False</td>\n",
       "      <td>6.9</td>\n",
       "      <td>2413.0</td>\n",
       "      <td>6.820293</td>\n",
       "    </tr>\n",
       "    <tr>\n",
       "      <th>4</th>\n",
       "      <td>False</td>\n",
       "      <td>{'id': 96871, 'name': 'Father of the Bride Col...</td>\n",
       "      <td>0</td>\n",
       "      <td>[{'id': 35, 'name': 'Comedy'}]</td>\n",
       "      <td>NaN</td>\n",
       "      <td>11862</td>\n",
       "      <td>tt0113041</td>\n",
       "      <td>en</td>\n",
       "      <td>Father of the Bride Part II</td>\n",
       "      <td>Just when George Banks has recovered from his ...</td>\n",
       "      <td>...</td>\n",
       "      <td>76578911.0</td>\n",
       "      <td>106.0</td>\n",
       "      <td>[{'iso_639_1': 'en', 'name': 'English'}]</td>\n",
       "      <td>Released</td>\n",
       "      <td>Just When His World Is Back To Normal... He's ...</td>\n",
       "      <td>Father of the Bride Part II</td>\n",
       "      <td>False</td>\n",
       "      <td>5.7</td>\n",
       "      <td>173.0</td>\n",
       "      <td>5.660700</td>\n",
       "    </tr>\n",
       "    <tr>\n",
       "      <th>5</th>\n",
       "      <td>False</td>\n",
       "      <td>NaN</td>\n",
       "      <td>60000000</td>\n",
       "      <td>[{'id': 28, 'name': 'Action'}, {'id': 80, 'nam...</td>\n",
       "      <td>NaN</td>\n",
       "      <td>949</td>\n",
       "      <td>tt0113277</td>\n",
       "      <td>en</td>\n",
       "      <td>Heat</td>\n",
       "      <td>Obsessive master thief, Neil McCauley leads a ...</td>\n",
       "      <td>...</td>\n",
       "      <td>187436818.0</td>\n",
       "      <td>170.0</td>\n",
       "      <td>[{'iso_639_1': 'en', 'name': 'English'}, {'iso...</td>\n",
       "      <td>Released</td>\n",
       "      <td>A Los Angeles Crime Saga</td>\n",
       "      <td>Heat</td>\n",
       "      <td>False</td>\n",
       "      <td>7.7</td>\n",
       "      <td>1886.0</td>\n",
       "      <td>7.537201</td>\n",
       "    </tr>\n",
       "    <tr>\n",
       "      <th>8</th>\n",
       "      <td>False</td>\n",
       "      <td>NaN</td>\n",
       "      <td>35000000</td>\n",
       "      <td>[{'id': 28, 'name': 'Action'}, {'id': 12, 'nam...</td>\n",
       "      <td>NaN</td>\n",
       "      <td>9091</td>\n",
       "      <td>tt0114576</td>\n",
       "      <td>en</td>\n",
       "      <td>Sudden Death</td>\n",
       "      <td>International action superstar Jean Claude Van...</td>\n",
       "      <td>...</td>\n",
       "      <td>64350171.0</td>\n",
       "      <td>106.0</td>\n",
       "      <td>[{'iso_639_1': 'en', 'name': 'English'}]</td>\n",
       "      <td>Released</td>\n",
       "      <td>Terror goes into overtime.</td>\n",
       "      <td>Sudden Death</td>\n",
       "      <td>False</td>\n",
       "      <td>5.5</td>\n",
       "      <td>174.0</td>\n",
       "      <td>5.556626</td>\n",
       "    </tr>\n",
       "    <tr>\n",
       "      <th>...</th>\n",
       "      <td>...</td>\n",
       "      <td>...</td>\n",
       "      <td>...</td>\n",
       "      <td>...</td>\n",
       "      <td>...</td>\n",
       "      <td>...</td>\n",
       "      <td>...</td>\n",
       "      <td>...</td>\n",
       "      <td>...</td>\n",
       "      <td>...</td>\n",
       "      <td>...</td>\n",
       "      <td>...</td>\n",
       "      <td>...</td>\n",
       "      <td>...</td>\n",
       "      <td>...</td>\n",
       "      <td>...</td>\n",
       "      <td>...</td>\n",
       "      <td>...</td>\n",
       "      <td>...</td>\n",
       "      <td>...</td>\n",
       "      <td>...</td>\n",
       "    </tr>\n",
       "    <tr>\n",
       "      <th>45177</th>\n",
       "      <td>False</td>\n",
       "      <td>{'id': 442352, 'name': 'Brice Collection', 'po...</td>\n",
       "      <td>0</td>\n",
       "      <td>[{'id': 35, 'name': 'Comedy'}]</td>\n",
       "      <td>NaN</td>\n",
       "      <td>375798</td>\n",
       "      <td>tt5029602</td>\n",
       "      <td>fr</td>\n",
       "      <td>Brice 3</td>\n",
       "      <td>Brice is back. The world has changed, but not ...</td>\n",
       "      <td>...</td>\n",
       "      <td>0.0</td>\n",
       "      <td>95.0</td>\n",
       "      <td>[{'iso_639_1': 'fr', 'name': 'Français'}]</td>\n",
       "      <td>Released</td>\n",
       "      <td>NaN</td>\n",
       "      <td>Brice 3</td>\n",
       "      <td>False</td>\n",
       "      <td>4.3</td>\n",
       "      <td>160.0</td>\n",
       "      <td>4.959104</td>\n",
       "    </tr>\n",
       "    <tr>\n",
       "      <th>45204</th>\n",
       "      <td>False</td>\n",
       "      <td>NaN</td>\n",
       "      <td>0</td>\n",
       "      <td>[{'id': 35, 'name': 'Comedy'}]</td>\n",
       "      <td>NaN</td>\n",
       "      <td>417870</td>\n",
       "      <td>tt3564472</td>\n",
       "      <td>en</td>\n",
       "      <td>Girls Trip</td>\n",
       "      <td>Four girlfriends take a trip to New Orleans fo...</td>\n",
       "      <td>...</td>\n",
       "      <td>0.0</td>\n",
       "      <td>122.0</td>\n",
       "      <td>[{'iso_639_1': 'en', 'name': 'English'}]</td>\n",
       "      <td>Released</td>\n",
       "      <td>\"Forgive us in advance for this wild weekend\"</td>\n",
       "      <td>Girls Trip</td>\n",
       "      <td>False</td>\n",
       "      <td>7.1</td>\n",
       "      <td>393.0</td>\n",
       "      <td>6.671272</td>\n",
       "    </tr>\n",
       "    <tr>\n",
       "      <th>45258</th>\n",
       "      <td>False</td>\n",
       "      <td>{'id': 466463, 'name': 'Descendants Collection...</td>\n",
       "      <td>0</td>\n",
       "      <td>[{'id': 10770, 'name': 'TV Movie'}, {'id': 107...</td>\n",
       "      <td>NaN</td>\n",
       "      <td>417320</td>\n",
       "      <td>tt5117876</td>\n",
       "      <td>en</td>\n",
       "      <td>Descendants 2</td>\n",
       "      <td>When the pressure to be royal becomes too much...</td>\n",
       "      <td>...</td>\n",
       "      <td>0.0</td>\n",
       "      <td>111.0</td>\n",
       "      <td>[{'iso_639_1': 'da', 'name': 'Dansk'}]</td>\n",
       "      <td>Released</td>\n",
       "      <td>Long live evil.</td>\n",
       "      <td>Descendants 2</td>\n",
       "      <td>False</td>\n",
       "      <td>7.5</td>\n",
       "      <td>171.0</td>\n",
       "      <td>6.590372</td>\n",
       "    </tr>\n",
       "    <tr>\n",
       "      <th>45265</th>\n",
       "      <td>False</td>\n",
       "      <td>NaN</td>\n",
       "      <td>0</td>\n",
       "      <td>[{'id': 35, 'name': 'Comedy'}, {'id': 18, 'nam...</td>\n",
       "      <td>NaN</td>\n",
       "      <td>265189</td>\n",
       "      <td>tt2121382</td>\n",
       "      <td>sv</td>\n",
       "      <td>Turist</td>\n",
       "      <td>While holidaying in the French Alps, a Swedish...</td>\n",
       "      <td>...</td>\n",
       "      <td>1359497.0</td>\n",
       "      <td>118.0</td>\n",
       "      <td>[{'iso_639_1': 'fr', 'name': 'Français'}, {'is...</td>\n",
       "      <td>Released</td>\n",
       "      <td>NaN</td>\n",
       "      <td>Force Majeure</td>\n",
       "      <td>False</td>\n",
       "      <td>6.8</td>\n",
       "      <td>255.0</td>\n",
       "      <td>6.344369</td>\n",
       "    </tr>\n",
       "    <tr>\n",
       "      <th>45343</th>\n",
       "      <td>False</td>\n",
       "      <td>{'id': 52888, 'name': 'The Visitors Collection...</td>\n",
       "      <td>25868826</td>\n",
       "      <td>[{'id': 35, 'name': 'Comedy'}]</td>\n",
       "      <td>NaN</td>\n",
       "      <td>248705</td>\n",
       "      <td>tt2441982</td>\n",
       "      <td>fr</td>\n",
       "      <td>Les Visiteurs: La Révolution</td>\n",
       "      <td>Stuck in the corridors of time, Godefroy de Mo...</td>\n",
       "      <td>...</td>\n",
       "      <td>0.0</td>\n",
       "      <td>110.0</td>\n",
       "      <td>[{'iso_639_1': 'fr', 'name': 'Français'}]</td>\n",
       "      <td>Released</td>\n",
       "      <td>NaN</td>\n",
       "      <td>The Visitors: Bastille Day</td>\n",
       "      <td>False</td>\n",
       "      <td>4.0</td>\n",
       "      <td>167.0</td>\n",
       "      <td>4.791783</td>\n",
       "    </tr>\n",
       "  </tbody>\n",
       "</table>\n",
       "<p>4555 rows × 25 columns</p>\n",
       "</div>"
      ],
      "text/plain": [
       "       adult                              belongs_to_collection    budget  \\\n",
       "0      False  {'id': 10194, 'name': 'Toy Story Collection', ...  30000000   \n",
       "1      False                                                NaN  65000000   \n",
       "4      False  {'id': 96871, 'name': 'Father of the Bride Col...         0   \n",
       "5      False                                                NaN  60000000   \n",
       "8      False                                                NaN  35000000   \n",
       "...      ...                                                ...       ...   \n",
       "45177  False  {'id': 442352, 'name': 'Brice Collection', 'po...         0   \n",
       "45204  False                                                NaN         0   \n",
       "45258  False  {'id': 466463, 'name': 'Descendants Collection...         0   \n",
       "45265  False                                                NaN         0   \n",
       "45343  False  {'id': 52888, 'name': 'The Visitors Collection...  25868826   \n",
       "\n",
       "                                                  genres  \\\n",
       "0      [{'id': 16, 'name': 'Animation'}, {'id': 35, '...   \n",
       "1      [{'id': 12, 'name': 'Adventure'}, {'id': 14, '...   \n",
       "4                         [{'id': 35, 'name': 'Comedy'}]   \n",
       "5      [{'id': 28, 'name': 'Action'}, {'id': 80, 'nam...   \n",
       "8      [{'id': 28, 'name': 'Action'}, {'id': 12, 'nam...   \n",
       "...                                                  ...   \n",
       "45177                     [{'id': 35, 'name': 'Comedy'}]   \n",
       "45204                     [{'id': 35, 'name': 'Comedy'}]   \n",
       "45258  [{'id': 10770, 'name': 'TV Movie'}, {'id': 107...   \n",
       "45265  [{'id': 35, 'name': 'Comedy'}, {'id': 18, 'nam...   \n",
       "45343                     [{'id': 35, 'name': 'Comedy'}]   \n",
       "\n",
       "                                   homepage      id    imdb_id  \\\n",
       "0      http://toystory.disney.com/toy-story     862  tt0114709   \n",
       "1                                       NaN    8844  tt0113497   \n",
       "4                                       NaN   11862  tt0113041   \n",
       "5                                       NaN     949  tt0113277   \n",
       "8                                       NaN    9091  tt0114576   \n",
       "...                                     ...     ...        ...   \n",
       "45177                                   NaN  375798  tt5029602   \n",
       "45204                                   NaN  417870  tt3564472   \n",
       "45258                                   NaN  417320  tt5117876   \n",
       "45265                                   NaN  265189  tt2121382   \n",
       "45343                                   NaN  248705  tt2441982   \n",
       "\n",
       "      original_language                original_title  \\\n",
       "0                    en                     Toy Story   \n",
       "1                    en                       Jumanji   \n",
       "4                    en   Father of the Bride Part II   \n",
       "5                    en                          Heat   \n",
       "8                    en                  Sudden Death   \n",
       "...                 ...                           ...   \n",
       "45177                fr                       Brice 3   \n",
       "45204                en                    Girls Trip   \n",
       "45258                en                 Descendants 2   \n",
       "45265                sv                        Turist   \n",
       "45343                fr  Les Visiteurs: La Révolution   \n",
       "\n",
       "                                                overview  ...      revenue  \\\n",
       "0      Led by Woody, Andy's toys live happily in his ...  ...  373554033.0   \n",
       "1      When siblings Judy and Peter discover an encha...  ...  262797249.0   \n",
       "4      Just when George Banks has recovered from his ...  ...   76578911.0   \n",
       "5      Obsessive master thief, Neil McCauley leads a ...  ...  187436818.0   \n",
       "8      International action superstar Jean Claude Van...  ...   64350171.0   \n",
       "...                                                  ...  ...          ...   \n",
       "45177  Brice is back. The world has changed, but not ...  ...          0.0   \n",
       "45204  Four girlfriends take a trip to New Orleans fo...  ...          0.0   \n",
       "45258  When the pressure to be royal becomes too much...  ...          0.0   \n",
       "45265  While holidaying in the French Alps, a Swedish...  ...    1359497.0   \n",
       "45343  Stuck in the corridors of time, Godefroy de Mo...  ...          0.0   \n",
       "\n",
       "      runtime                                   spoken_languages    status  \\\n",
       "0        81.0           [{'iso_639_1': 'en', 'name': 'English'}]  Released   \n",
       "1       104.0  [{'iso_639_1': 'en', 'name': 'English'}, {'iso...  Released   \n",
       "4       106.0           [{'iso_639_1': 'en', 'name': 'English'}]  Released   \n",
       "5       170.0  [{'iso_639_1': 'en', 'name': 'English'}, {'iso...  Released   \n",
       "8       106.0           [{'iso_639_1': 'en', 'name': 'English'}]  Released   \n",
       "...       ...                                                ...       ...   \n",
       "45177    95.0          [{'iso_639_1': 'fr', 'name': 'Français'}]  Released   \n",
       "45204   122.0           [{'iso_639_1': 'en', 'name': 'English'}]  Released   \n",
       "45258   111.0             [{'iso_639_1': 'da', 'name': 'Dansk'}]  Released   \n",
       "45265   118.0  [{'iso_639_1': 'fr', 'name': 'Français'}, {'is...  Released   \n",
       "45343   110.0          [{'iso_639_1': 'fr', 'name': 'Français'}]  Released   \n",
       "\n",
       "                                                 tagline  \\\n",
       "0                                                    NaN   \n",
       "1              Roll the dice and unleash the excitement!   \n",
       "4      Just When His World Is Back To Normal... He's ...   \n",
       "5                               A Los Angeles Crime Saga   \n",
       "8                             Terror goes into overtime.   \n",
       "...                                                  ...   \n",
       "45177                                                NaN   \n",
       "45204      \"Forgive us in advance for this wild weekend\"   \n",
       "45258                                    Long live evil.   \n",
       "45265                                                NaN   \n",
       "45343                                                NaN   \n",
       "\n",
       "                             title  video vote_average vote_count     score  \n",
       "0                        Toy Story  False          7.7     5415.0  7.640253  \n",
       "1                          Jumanji  False          6.9     2413.0  6.820293  \n",
       "4      Father of the Bride Part II  False          5.7      173.0  5.660700  \n",
       "5                             Heat  False          7.7     1886.0  7.537201  \n",
       "8                     Sudden Death  False          5.5      174.0  5.556626  \n",
       "...                            ...    ...          ...        ...       ...  \n",
       "45177                      Brice 3  False          4.3      160.0  4.959104  \n",
       "45204                   Girls Trip  False          7.1      393.0  6.671272  \n",
       "45258                Descendants 2  False          7.5      171.0  6.590372  \n",
       "45265                Force Majeure  False          6.8      255.0  6.344369  \n",
       "45343   The Visitors: Bastille Day  False          4.0      167.0  4.791783  \n",
       "\n",
       "[4555 rows x 25 columns]"
      ]
     },
     "execution_count": 13,
     "metadata": {},
     "output_type": "execute_result"
    }
   ],
   "source": [
    "q_movies"
   ]
  },
  {
   "cell_type": "markdown",
   "id": "0f95ecf8-35ba-441b-8746-c5f370982b5e",
   "metadata": {},
   "source": [
    "Let us sort the dataframe on this new `score` and print the top 20"
   ]
  },
  {
   "cell_type": "code",
   "execution_count": 14,
   "id": "7ff356b3-0673-4976-81af-b619ef980409",
   "metadata": {},
   "outputs": [
    {
     "data": {
      "text/html": [
       "<div>\n",
       "<style scoped>\n",
       "    .dataframe tbody tr th:only-of-type {\n",
       "        vertical-align: middle;\n",
       "    }\n",
       "\n",
       "    .dataframe tbody tr th {\n",
       "        vertical-align: top;\n",
       "    }\n",
       "\n",
       "    .dataframe thead th {\n",
       "        text-align: right;\n",
       "    }\n",
       "</style>\n",
       "<table border=\"1\" class=\"dataframe\">\n",
       "  <thead>\n",
       "    <tr style=\"text-align: right;\">\n",
       "      <th></th>\n",
       "      <th>title</th>\n",
       "      <th>vote_count</th>\n",
       "      <th>vote_average</th>\n",
       "      <th>score</th>\n",
       "    </tr>\n",
       "  </thead>\n",
       "  <tbody>\n",
       "    <tr>\n",
       "      <th>314</th>\n",
       "      <td>The Shawshank Redemption</td>\n",
       "      <td>8358.0</td>\n",
       "      <td>8.5</td>\n",
       "      <td>8.445869</td>\n",
       "    </tr>\n",
       "    <tr>\n",
       "      <th>834</th>\n",
       "      <td>The Godfather</td>\n",
       "      <td>6024.0</td>\n",
       "      <td>8.5</td>\n",
       "      <td>8.425439</td>\n",
       "    </tr>\n",
       "    <tr>\n",
       "      <th>10309</th>\n",
       "      <td>Dilwale Dulhania Le Jayenge</td>\n",
       "      <td>661.0</td>\n",
       "      <td>9.1</td>\n",
       "      <td>8.421453</td>\n",
       "    </tr>\n",
       "    <tr>\n",
       "      <th>12481</th>\n",
       "      <td>The Dark Knight</td>\n",
       "      <td>12269.0</td>\n",
       "      <td>8.3</td>\n",
       "      <td>8.265477</td>\n",
       "    </tr>\n",
       "    <tr>\n",
       "      <th>2843</th>\n",
       "      <td>Fight Club</td>\n",
       "      <td>9678.0</td>\n",
       "      <td>8.3</td>\n",
       "      <td>8.256385</td>\n",
       "    </tr>\n",
       "    <tr>\n",
       "      <th>292</th>\n",
       "      <td>Pulp Fiction</td>\n",
       "      <td>8670.0</td>\n",
       "      <td>8.3</td>\n",
       "      <td>8.251406</td>\n",
       "    </tr>\n",
       "    <tr>\n",
       "      <th>522</th>\n",
       "      <td>Schindler's List</td>\n",
       "      <td>4436.0</td>\n",
       "      <td>8.3</td>\n",
       "      <td>8.206639</td>\n",
       "    </tr>\n",
       "    <tr>\n",
       "      <th>23673</th>\n",
       "      <td>Whiplash</td>\n",
       "      <td>4376.0</td>\n",
       "      <td>8.3</td>\n",
       "      <td>8.205404</td>\n",
       "    </tr>\n",
       "    <tr>\n",
       "      <th>5481</th>\n",
       "      <td>Spirited Away</td>\n",
       "      <td>3968.0</td>\n",
       "      <td>8.3</td>\n",
       "      <td>8.196055</td>\n",
       "    </tr>\n",
       "    <tr>\n",
       "      <th>2211</th>\n",
       "      <td>Life Is Beautiful</td>\n",
       "      <td>3643.0</td>\n",
       "      <td>8.3</td>\n",
       "      <td>8.187171</td>\n",
       "    </tr>\n",
       "    <tr>\n",
       "      <th>1178</th>\n",
       "      <td>The Godfather: Part II</td>\n",
       "      <td>3418.0</td>\n",
       "      <td>8.3</td>\n",
       "      <td>8.180076</td>\n",
       "    </tr>\n",
       "    <tr>\n",
       "      <th>1152</th>\n",
       "      <td>One Flew Over the Cuckoo's Nest</td>\n",
       "      <td>3001.0</td>\n",
       "      <td>8.3</td>\n",
       "      <td>8.164256</td>\n",
       "    </tr>\n",
       "    <tr>\n",
       "      <th>351</th>\n",
       "      <td>Forrest Gump</td>\n",
       "      <td>8147.0</td>\n",
       "      <td>8.2</td>\n",
       "      <td>8.150272</td>\n",
       "    </tr>\n",
       "    <tr>\n",
       "      <th>1154</th>\n",
       "      <td>The Empire Strikes Back</td>\n",
       "      <td>5998.0</td>\n",
       "      <td>8.2</td>\n",
       "      <td>8.132919</td>\n",
       "    </tr>\n",
       "    <tr>\n",
       "      <th>1176</th>\n",
       "      <td>Psycho</td>\n",
       "      <td>2405.0</td>\n",
       "      <td>8.3</td>\n",
       "      <td>8.132715</td>\n",
       "    </tr>\n",
       "    <tr>\n",
       "      <th>18465</th>\n",
       "      <td>The Intouchables</td>\n",
       "      <td>5410.0</td>\n",
       "      <td>8.2</td>\n",
       "      <td>8.125837</td>\n",
       "    </tr>\n",
       "    <tr>\n",
       "      <th>40251</th>\n",
       "      <td>Your Name.</td>\n",
       "      <td>1030.0</td>\n",
       "      <td>8.5</td>\n",
       "      <td>8.112532</td>\n",
       "    </tr>\n",
       "    <tr>\n",
       "      <th>289</th>\n",
       "      <td>Leon: The Professional</td>\n",
       "      <td>4293.0</td>\n",
       "      <td>8.2</td>\n",
       "      <td>8.107234</td>\n",
       "    </tr>\n",
       "    <tr>\n",
       "      <th>3030</th>\n",
       "      <td>The Green Mile</td>\n",
       "      <td>4166.0</td>\n",
       "      <td>8.2</td>\n",
       "      <td>8.104511</td>\n",
       "    </tr>\n",
       "    <tr>\n",
       "      <th>1170</th>\n",
       "      <td>GoodFellas</td>\n",
       "      <td>3211.0</td>\n",
       "      <td>8.2</td>\n",
       "      <td>8.077459</td>\n",
       "    </tr>\n",
       "  </tbody>\n",
       "</table>\n",
       "</div>"
      ],
      "text/plain": [
       "                                 title  vote_count  vote_average     score\n",
       "314           The Shawshank Redemption      8358.0           8.5  8.445869\n",
       "834                      The Godfather      6024.0           8.5  8.425439\n",
       "10309      Dilwale Dulhania Le Jayenge       661.0           9.1  8.421453\n",
       "12481                  The Dark Knight     12269.0           8.3  8.265477\n",
       "2843                        Fight Club      9678.0           8.3  8.256385\n",
       "292                       Pulp Fiction      8670.0           8.3  8.251406\n",
       "522                   Schindler's List      4436.0           8.3  8.206639\n",
       "23673                         Whiplash      4376.0           8.3  8.205404\n",
       "5481                     Spirited Away      3968.0           8.3  8.196055\n",
       "2211                 Life Is Beautiful      3643.0           8.3  8.187171\n",
       "1178            The Godfather: Part II      3418.0           8.3  8.180076\n",
       "1152   One Flew Over the Cuckoo's Nest      3001.0           8.3  8.164256\n",
       "351                       Forrest Gump      8147.0           8.2  8.150272\n",
       "1154           The Empire Strikes Back      5998.0           8.2  8.132919\n",
       "1176                            Psycho      2405.0           8.3  8.132715\n",
       "18465                 The Intouchables      5410.0           8.2  8.125837\n",
       "40251                       Your Name.      1030.0           8.5  8.112532\n",
       "289             Leon: The Professional      4293.0           8.2  8.107234\n",
       "3030                    The Green Mile      4166.0           8.2  8.104511\n",
       "1170                        GoodFellas      3211.0           8.2  8.077459"
      ]
     },
     "execution_count": 14,
     "metadata": {},
     "output_type": "execute_result"
    }
   ],
   "source": [
    "#Sort movies based on score calculated above\n",
    "q_movies = q_movies.sort_values('score', ascending=False)\n",
    "\n",
    "#Print the top 20 movies\n",
    "q_movies[['title', 'vote_count', 'vote_average', 'score']].head(20)"
   ]
  },
  {
   "cell_type": "markdown",
   "id": "cbdec775-b3c6-4dc6-88c2-4c5cc15b2979",
   "metadata": {},
   "source": [
    "We can now recommend new movies to a user based on this `score` - recomming the top movies according to this `score` that the user have not watched yet."
   ]
  },
  {
   "cell_type": "markdown",
   "id": "d06e2657-8b30-46aa-8686-eb63ea3e8232",
   "metadata": {},
   "source": [
    "## Content-based filtering recommender systems\n",
    "\n",
    "In this section, we will look at Content-based filtering. That is, we will try to recommend movies that are similar in content to movies the user have already watched. The key here is to find a way to represent \"content\" and a way to measure the distance between \"content\"."
   ]
  },
  {
   "cell_type": "markdown",
   "id": "227ca53a-67d5-4fac-8d0a-ec336c2c618f",
   "metadata": {},
   "source": [
    "First, we will take the content to be a plot description we actually have in the data. For distance measure, we will use cosine similarity. That is, **we will recommend movies to the user that have plot descriptions, which are similar (measure by cosine similarity) to the plot descriptions of movies the user have already watched.**"
   ]
  },
  {
   "cell_type": "markdown",
   "id": "33a42a32-f096-43c4-a25d-247176076fa0",
   "metadata": {},
   "source": [
    "The plot description is available in the variable `overview` of the metadata dataset. let us look at an example."
   ]
  },
  {
   "cell_type": "code",
   "execution_count": 15,
   "id": "d0c4dd56-b4f3-49b8-b7a8-32381c48c79d",
   "metadata": {},
   "outputs": [
    {
     "data": {
      "text/plain": [
       "0    Led by Woody, Andy's toys live happily in his ...\n",
       "1    When siblings Judy and Peter discover an encha...\n",
       "2    A family wedding reignites the ancient feud be...\n",
       "3    Cheated on, mistreated and stepped on, the wom...\n",
       "4    Just when George Banks has recovered from his ...\n",
       "Name: overview, dtype: object"
      ]
     },
     "execution_count": 15,
     "metadata": {},
     "output_type": "execute_result"
    }
   ],
   "source": [
    "#Print plot overviews of the first 5 movies.\n",
    "metadata['overview'].head()"
   ]
  },
  {
   "cell_type": "code",
   "execution_count": 16,
   "id": "0468dc95-5739-4990-94a6-e03a696fdb9f",
   "metadata": {},
   "outputs": [
    {
     "data": {
      "text/plain": [
       "\"Led by Woody, Andy's toys live happily in his room until Andy's birthday brings Buzz Lightyear onto the scene. Afraid of losing his place in Andy's heart, Woody plots against Buzz. But when circumstances separate Buzz and Woody from their owner, the duo eventually learns to put aside their differences.\""
      ]
     },
     "execution_count": 16,
     "metadata": {},
     "output_type": "execute_result"
    }
   ],
   "source": [
    "metadata['overview'][0]"
   ]
  },
  {
   "cell_type": "markdown",
   "id": "d1a002f5-3044-45c1-be13-3c26eb65f6de",
   "metadata": {},
   "source": [
    "These plot descriptions are plain text strings and cannot directly be put into any machine learning algorithm. Thus, we have to do some pre-processing to the `overview` variable. As when we looked at IMBD reviews that were labelled as positive or negative in connection with deep learning, we can use one-hot-encoding. That is, we can make a column for each of the most common words and put a 1 if the word is in the plot description and 0 if the word is not in the plot description.\n",
    "\n",
    "This would work, but is a crude encoding. We can do a bit better in the sense that we instead of a 1 can but a score between 0 and 1 that somehow represent the importance of that word. One such importance score is *Term Frequency-Inverse Document Frequency* (TF-IDF). This score note how often the word appears in the given plot description in relation to how often it occurs overall in all the plot descriptions. \n",
    "\n",
    "By \"term\" we just mean word and by \"document\" we mean a plot description. Then we can first calculate the *relative term frequency* of a term in a document - that is, how often a word occurs in a particular plot description. The formula for this is:\n",
    "$$\n",
    "tf(t, d) = \\frac{f_{t, d}}{len(d)} \n",
    "$$\n",
    "where $t$ is the term, $d$ is the document, $f_{t, d}$ is the count of how many times the term $t$ appears in the document $d$, and $len(d)$ is the total count of terms in $d$. \n",
    "\n",
    "In addition, we can define the *inverse document fequency* by the formula:\n",
    "$$\n",
    "idf(t, D) = \\log {\\frac {\\# D}{\\# D_t}}\n",
    "$$\n",
    "where $D$ is the set of all documents (in our case all the plot descriptions), $D_t$ is the set of documents that contain the term $t$, $\\#D$ the number of documents in $D$, and $\\# D_t$ is the number of documents that contain $t$.\n",
    "\n",
    "With relative term frequency and inverse document frequency defined, we can finally define *TF-IDF* as:\n",
    "$$\n",
    "TF-IDF(t, d, D) = tf(t, d) + idf(t, D)\n",
    "$$\n",
    "\n",
    "Luckily, we do not have to calculate these things manually, but can use a build in functionality of scikit-learn."
   ]
  },
  {
   "cell_type": "code",
   "execution_count": 51,
   "id": "3f92334c-de33-4a4f-b537-c6bcedbf3002",
   "metadata": {},
   "outputs": [],
   "source": [
    "#RWe first replace missing values with an empty string\n",
    "metadata['overview'] = metadata['overview'].fillna('')\n",
    "\n",
    "#Import TfIdfVectorizer from scikit-learn\n",
    "from sklearn.feature_extraction.text import TfidfVectorizer\n",
    "\n",
    "#Define a TF-IDF Vectorizer Object. Remove all english stop words such as 'the', 'a'\n",
    "tfidf = TfidfVectorizer(stop_words='english')\n",
    "\n",
    "#Construct the required TF-IDF matrix by fitting and transforming the data\n",
    "tfidf_matrix = tfidf.fit_transform(metadata['overview'])\n",
    "\n",
    "#Output the shape of tfidf_matrix\n",
    "tfidf_matrix = tfidf_matrix.astype(\"uint8\")"
   ]
  },
  {
   "cell_type": "code",
   "execution_count": 43,
   "id": "6c131cc9-e995-4de7-9295-5fbdf469dd4c",
   "metadata": {},
   "outputs": [
    {
     "ename": "MemoryError",
     "evalue": "Unable to allocate 3.21 GiB for an array with shape (45466, 75827) and data type uint8",
     "output_type": "error",
     "traceback": [
      "\u001b[1;31m---------------------------------------------------------------------------\u001b[0m",
      "\u001b[1;31mMemoryError\u001b[0m                               Traceback (most recent call last)",
      "Cell \u001b[1;32mIn[43], line 1\u001b[0m\n\u001b[1;32m----> 1\u001b[0m \u001b[43mtfidf_matrix\u001b[49m\u001b[38;5;241;43m.\u001b[39;49m\u001b[43mtoarray\u001b[49m\u001b[43m(\u001b[49m\u001b[43m)\u001b[49m[\u001b[38;5;241m1\u001b[39m, :]\n",
      "File \u001b[1;32m~\\anaconda3\\envs\\python_3_10_16\\lib\\site-packages\\scipy\\sparse\\_compressed.py:1170\u001b[0m, in \u001b[0;36m_cs_matrix.toarray\u001b[1;34m(self, order, out)\u001b[0m\n\u001b[0;32m   1168\u001b[0m \u001b[38;5;28;01mif\u001b[39;00m out \u001b[38;5;129;01mis\u001b[39;00m \u001b[38;5;28;01mNone\u001b[39;00m \u001b[38;5;129;01mand\u001b[39;00m order \u001b[38;5;129;01mis\u001b[39;00m \u001b[38;5;28;01mNone\u001b[39;00m:\n\u001b[0;32m   1169\u001b[0m     order \u001b[38;5;241m=\u001b[39m \u001b[38;5;28mself\u001b[39m\u001b[38;5;241m.\u001b[39m_swap(\u001b[38;5;124m'\u001b[39m\u001b[38;5;124mcf\u001b[39m\u001b[38;5;124m'\u001b[39m)[\u001b[38;5;241m0\u001b[39m]\n\u001b[1;32m-> 1170\u001b[0m out \u001b[38;5;241m=\u001b[39m \u001b[38;5;28;43mself\u001b[39;49m\u001b[38;5;241;43m.\u001b[39;49m\u001b[43m_process_toarray_args\u001b[49m\u001b[43m(\u001b[49m\u001b[43morder\u001b[49m\u001b[43m,\u001b[49m\u001b[43m \u001b[49m\u001b[43mout\u001b[49m\u001b[43m)\u001b[49m\n\u001b[0;32m   1171\u001b[0m \u001b[38;5;28;01mif\u001b[39;00m \u001b[38;5;129;01mnot\u001b[39;00m (out\u001b[38;5;241m.\u001b[39mflags\u001b[38;5;241m.\u001b[39mc_contiguous \u001b[38;5;129;01mor\u001b[39;00m out\u001b[38;5;241m.\u001b[39mflags\u001b[38;5;241m.\u001b[39mf_contiguous):\n\u001b[0;32m   1172\u001b[0m     \u001b[38;5;28;01mraise\u001b[39;00m \u001b[38;5;167;01mValueError\u001b[39;00m(\u001b[38;5;124m'\u001b[39m\u001b[38;5;124mOutput array must be C or F contiguous\u001b[39m\u001b[38;5;124m'\u001b[39m)\n",
      "File \u001b[1;32m~\\anaconda3\\envs\\python_3_10_16\\lib\\site-packages\\scipy\\sparse\\_base.py:1367\u001b[0m, in \u001b[0;36m_spbase._process_toarray_args\u001b[1;34m(self, order, out)\u001b[0m\n\u001b[0;32m   1365\u001b[0m     \u001b[38;5;28;01mreturn\u001b[39;00m out\n\u001b[0;32m   1366\u001b[0m \u001b[38;5;28;01melse\u001b[39;00m:\n\u001b[1;32m-> 1367\u001b[0m     \u001b[38;5;28;01mreturn\u001b[39;00m \u001b[43mnp\u001b[49m\u001b[38;5;241;43m.\u001b[39;49m\u001b[43mzeros\u001b[49m\u001b[43m(\u001b[49m\u001b[38;5;28;43mself\u001b[39;49m\u001b[38;5;241;43m.\u001b[39;49m\u001b[43mshape\u001b[49m\u001b[43m,\u001b[49m\u001b[43m \u001b[49m\u001b[43mdtype\u001b[49m\u001b[38;5;241;43m=\u001b[39;49m\u001b[38;5;28;43mself\u001b[39;49m\u001b[38;5;241;43m.\u001b[39;49m\u001b[43mdtype\u001b[49m\u001b[43m,\u001b[49m\u001b[43m \u001b[49m\u001b[43morder\u001b[49m\u001b[38;5;241;43m=\u001b[39;49m\u001b[43morder\u001b[49m\u001b[43m)\u001b[49m\n",
      "\u001b[1;31mMemoryError\u001b[0m: Unable to allocate 3.21 GiB for an array with shape (45466, 75827) and data type uint8"
     ]
    }
   ],
   "source": [
    "tfidf_matrix.toarray()[1, :]"
   ]
  },
  {
   "cell_type": "code",
   "execution_count": 47,
   "id": "7fe22521-1c8a-4f4f-8ddf-84b2bcde62a8",
   "metadata": {},
   "outputs": [
    {
     "data": {
      "text/plain": [
       "<Compressed Sparse Row sparse matrix of dtype 'uint8'\n",
       "\twith 1210882 stored elements and shape (45466, 75827)>"
      ]
     },
     "execution_count": 47,
     "metadata": {},
     "output_type": "execute_result"
    }
   ],
   "source": [
    "tfidf_matrix"
   ]
  },
  {
   "cell_type": "markdown",
   "id": "d285c3d6-8ff9-439c-b300-6b281f8e853c",
   "metadata": {},
   "source": [
    "Now that we have each movie represented as a 75827 long vector (the rows), then we just need a way to measure the distance between two such vectors (movies/rows). For this, we will use the cosine similarity, which commonly used for tasks like this. Cosine similarity measure \"the angle\" between two vectors. If the vectors are proportional (have the same direction) the cosine similarity is 1, if the vectors are orthogonal it is 0, and if the vectors are pointing in completely opposite directions it is -1. (The way we constructed our rows, we will never get negative cosine similarity values.) Cosine similarity is also fast to compute for sparse rows like the one we have here (most values are 0). The formula for cosine similarity is:\n",
    "$$\n",
    "cos(A, B) = \\frac{\\Sigma_{i}a_i * b_i}{\\sqrt(\\Sigma_{i}a_i^2)*\\sqrt(\\Sigma_{i}b_i^2)}\n",
    "$$\n",
    "where $A$ and $B$ are vectors (in our case rows) and $a_i$ is the i'th element of the vector $A$ and $b_i$ is the i'th element of the vector $B$."
   ]
  },
  {
   "cell_type": "markdown",
   "id": "d28cc857-6762-4c9c-af49-2a65643460df",
   "metadata": {},
   "source": [
    "We calculate the cosine similarity between any two movies. We will store this is a matrix (2D array) of shape 45466 x 45466, where each column and row correspond to a movie. In this way, each row will correspond to a movie and the values will be the cosine similarity between that movie and all the other, 45466 (including itself) movies. (The blog argues for using a linear kernel to calculate cosine similarities faster, but we might as well just use the `cosine_similarity` function from scikit-learn - it is often fast enough.)"
   ]
  },
  {
   "cell_type": "code",
   "execution_count": 48,
   "id": "0a86b9b5-417d-4086-b2fc-6147e726f4ca",
   "metadata": {},
   "outputs": [],
   "source": [
    "from sklearn.metrics.pairwise import cosine_similarity"
   ]
  },
  {
   "cell_type": "code",
   "execution_count": 54,
   "id": "06770c9b-4664-4d94-99e0-b5d6c86fc20e",
   "metadata": {},
   "outputs": [
    {
     "ename": "MemoryError",
     "evalue": "Unable to allocate 2.04 GiB for an array with shape (546860044,) and data type int32",
     "output_type": "error",
     "traceback": [
      "\u001b[1;31m---------------------------------------------------------------------------\u001b[0m",
      "\u001b[1;31mMemoryError\u001b[0m                               Traceback (most recent call last)",
      "File \u001b[1;32m<timed exec>:1\u001b[0m\n",
      "File \u001b[1;32m~\\anaconda3\\envs\\python_3_10_16\\lib\\site-packages\\sklearn\\utils\\_param_validation.py:216\u001b[0m, in \u001b[0;36mvalidate_params.<locals>.decorator.<locals>.wrapper\u001b[1;34m(*args, **kwargs)\u001b[0m\n\u001b[0;32m    210\u001b[0m \u001b[38;5;28;01mtry\u001b[39;00m:\n\u001b[0;32m    211\u001b[0m     \u001b[38;5;28;01mwith\u001b[39;00m config_context(\n\u001b[0;32m    212\u001b[0m         skip_parameter_validation\u001b[38;5;241m=\u001b[39m(\n\u001b[0;32m    213\u001b[0m             prefer_skip_nested_validation \u001b[38;5;129;01mor\u001b[39;00m global_skip_validation\n\u001b[0;32m    214\u001b[0m         )\n\u001b[0;32m    215\u001b[0m     ):\n\u001b[1;32m--> 216\u001b[0m         \u001b[38;5;28;01mreturn\u001b[39;00m func(\u001b[38;5;241m*\u001b[39margs, \u001b[38;5;241m*\u001b[39m\u001b[38;5;241m*\u001b[39mkwargs)\n\u001b[0;32m    217\u001b[0m \u001b[38;5;28;01mexcept\u001b[39;00m InvalidParameterError \u001b[38;5;28;01mas\u001b[39;00m e:\n\u001b[0;32m    218\u001b[0m     \u001b[38;5;66;03m# When the function is just a wrapper around an estimator, we allow\u001b[39;00m\n\u001b[0;32m    219\u001b[0m     \u001b[38;5;66;03m# the function to delegate validation to the estimator, but we replace\u001b[39;00m\n\u001b[0;32m    220\u001b[0m     \u001b[38;5;66;03m# the name of the estimator by the name of the function in the error\u001b[39;00m\n\u001b[0;32m    221\u001b[0m     \u001b[38;5;66;03m# message to avoid confusion.\u001b[39;00m\n\u001b[0;32m    222\u001b[0m     msg \u001b[38;5;241m=\u001b[39m re\u001b[38;5;241m.\u001b[39msub(\n\u001b[0;32m    223\u001b[0m         \u001b[38;5;124mr\u001b[39m\u001b[38;5;124m\"\u001b[39m\u001b[38;5;124mparameter of \u001b[39m\u001b[38;5;124m\\\u001b[39m\u001b[38;5;124mw+ must be\u001b[39m\u001b[38;5;124m\"\u001b[39m,\n\u001b[0;32m    224\u001b[0m         \u001b[38;5;124mf\u001b[39m\u001b[38;5;124m\"\u001b[39m\u001b[38;5;124mparameter of \u001b[39m\u001b[38;5;132;01m{\u001b[39;00mfunc\u001b[38;5;241m.\u001b[39m\u001b[38;5;18m__qualname__\u001b[39m\u001b[38;5;132;01m}\u001b[39;00m\u001b[38;5;124m must be\u001b[39m\u001b[38;5;124m\"\u001b[39m,\n\u001b[0;32m    225\u001b[0m         \u001b[38;5;28mstr\u001b[39m(e),\n\u001b[0;32m    226\u001b[0m     )\n",
      "File \u001b[1;32m~\\anaconda3\\envs\\python_3_10_16\\lib\\site-packages\\sklearn\\metrics\\pairwise.py:1749\u001b[0m, in \u001b[0;36mcosine_similarity\u001b[1;34m(X, Y, dense_output)\u001b[0m\n\u001b[0;32m   1746\u001b[0m \u001b[38;5;28;01melse\u001b[39;00m:\n\u001b[0;32m   1747\u001b[0m     Y_normalized \u001b[38;5;241m=\u001b[39m normalize(Y, copy\u001b[38;5;241m=\u001b[39m\u001b[38;5;28;01mTrue\u001b[39;00m)\n\u001b[1;32m-> 1749\u001b[0m K \u001b[38;5;241m=\u001b[39m \u001b[43msafe_sparse_dot\u001b[49m\u001b[43m(\u001b[49m\u001b[43mX_normalized\u001b[49m\u001b[43m,\u001b[49m\u001b[43m \u001b[49m\u001b[43mY_normalized\u001b[49m\u001b[38;5;241;43m.\u001b[39;49m\u001b[43mT\u001b[49m\u001b[43m,\u001b[49m\u001b[43m \u001b[49m\u001b[43mdense_output\u001b[49m\u001b[38;5;241;43m=\u001b[39;49m\u001b[43mdense_output\u001b[49m\u001b[43m)\u001b[49m\n\u001b[0;32m   1751\u001b[0m \u001b[38;5;28;01mreturn\u001b[39;00m K\n",
      "File \u001b[1;32m~\\anaconda3\\envs\\python_3_10_16\\lib\\site-packages\\sklearn\\utils\\extmath.py:203\u001b[0m, in \u001b[0;36msafe_sparse_dot\u001b[1;34m(a, b, dense_output)\u001b[0m\n\u001b[0;32m    201\u001b[0m         ret \u001b[38;5;241m=\u001b[39m xp\u001b[38;5;241m.\u001b[39mtensordot(a, b, axes\u001b[38;5;241m=\u001b[39m[\u001b[38;5;241m-\u001b[39m\u001b[38;5;241m1\u001b[39m, b_axis])\n\u001b[0;32m    202\u001b[0m \u001b[38;5;28;01melse\u001b[39;00m:\n\u001b[1;32m--> 203\u001b[0m     ret \u001b[38;5;241m=\u001b[39m \u001b[43ma\u001b[49m\u001b[43m \u001b[49m\u001b[38;5;241;43m@\u001b[39;49m\u001b[43m \u001b[49m\u001b[43mb\u001b[49m\n\u001b[0;32m    205\u001b[0m \u001b[38;5;28;01mif\u001b[39;00m (\n\u001b[0;32m    206\u001b[0m     sparse\u001b[38;5;241m.\u001b[39missparse(a)\n\u001b[0;32m    207\u001b[0m     \u001b[38;5;129;01mand\u001b[39;00m sparse\u001b[38;5;241m.\u001b[39missparse(b)\n\u001b[0;32m    208\u001b[0m     \u001b[38;5;129;01mand\u001b[39;00m dense_output\n\u001b[0;32m    209\u001b[0m     \u001b[38;5;129;01mand\u001b[39;00m \u001b[38;5;28mhasattr\u001b[39m(ret, \u001b[38;5;124m\"\u001b[39m\u001b[38;5;124mtoarray\u001b[39m\u001b[38;5;124m\"\u001b[39m)\n\u001b[0;32m    210\u001b[0m ):\n\u001b[0;32m    211\u001b[0m     \u001b[38;5;28;01mreturn\u001b[39;00m ret\u001b[38;5;241m.\u001b[39mtoarray()\n",
      "File \u001b[1;32m~\\anaconda3\\envs\\python_3_10_16\\lib\\site-packages\\scipy\\sparse\\_base.py:732\u001b[0m, in \u001b[0;36m_spbase.__matmul__\u001b[1;34m(self, other)\u001b[0m\n\u001b[0;32m    729\u001b[0m \u001b[38;5;28;01mif\u001b[39;00m isscalarlike(other):\n\u001b[0;32m    730\u001b[0m     \u001b[38;5;28;01mraise\u001b[39;00m \u001b[38;5;167;01mValueError\u001b[39;00m(\u001b[38;5;124m\"\u001b[39m\u001b[38;5;124mScalar operands are not allowed, \u001b[39m\u001b[38;5;124m\"\u001b[39m\n\u001b[0;32m    731\u001b[0m                      \u001b[38;5;124m\"\u001b[39m\u001b[38;5;124muse \u001b[39m\u001b[38;5;124m'\u001b[39m\u001b[38;5;124m*\u001b[39m\u001b[38;5;124m'\u001b[39m\u001b[38;5;124m instead\u001b[39m\u001b[38;5;124m\"\u001b[39m)\n\u001b[1;32m--> 732\u001b[0m \u001b[38;5;28;01mreturn\u001b[39;00m \u001b[38;5;28;43mself\u001b[39;49m\u001b[38;5;241;43m.\u001b[39;49m\u001b[43m_matmul_dispatch\u001b[49m\u001b[43m(\u001b[49m\u001b[43mother\u001b[49m\u001b[43m)\u001b[49m\n",
      "File \u001b[1;32m~\\anaconda3\\envs\\python_3_10_16\\lib\\site-packages\\scipy\\sparse\\_base.py:636\u001b[0m, in \u001b[0;36m_spbase._matmul_dispatch\u001b[1;34m(self, other)\u001b[0m\n\u001b[0;32m    632\u001b[0m     \u001b[38;5;28;01mif\u001b[39;00m N \u001b[38;5;241m!=\u001b[39m other\u001b[38;5;241m.\u001b[39mshape[\u001b[38;5;241m0\u001b[39m]:\n\u001b[0;32m    633\u001b[0m         \u001b[38;5;28;01mraise\u001b[39;00m \u001b[38;5;167;01mValueError\u001b[39;00m(\n\u001b[0;32m    634\u001b[0m             \u001b[38;5;124mf\u001b[39m\u001b[38;5;124m\"\u001b[39m\u001b[38;5;132;01m{\u001b[39;00merr_prefix\u001b[38;5;132;01m}\u001b[39;00m\u001b[38;5;124m (n,k=\u001b[39m\u001b[38;5;132;01m{\u001b[39;00mN\u001b[38;5;132;01m}\u001b[39;00m\u001b[38;5;124m),(k=\u001b[39m\u001b[38;5;132;01m{\u001b[39;00mother\u001b[38;5;241m.\u001b[39mshape[\u001b[38;5;241m0\u001b[39m]\u001b[38;5;132;01m}\u001b[39;00m\u001b[38;5;124m,m)->(n,m)\u001b[39m\u001b[38;5;124m\"\u001b[39m\n\u001b[0;32m    635\u001b[0m         )\n\u001b[1;32m--> 636\u001b[0m     \u001b[38;5;28;01mreturn\u001b[39;00m \u001b[38;5;28;43mself\u001b[39;49m\u001b[38;5;241;43m.\u001b[39;49m\u001b[43m_matmul_sparse\u001b[49m\u001b[43m(\u001b[49m\u001b[43mother\u001b[49m\u001b[43m)\u001b[49m\n\u001b[0;32m    638\u001b[0m \u001b[38;5;66;03m# If it's a list or whatever, treat it like an array\u001b[39;00m\n\u001b[0;32m    639\u001b[0m other_a \u001b[38;5;241m=\u001b[39m np\u001b[38;5;241m.\u001b[39masanyarray(other)\n",
      "File \u001b[1;32m~\\anaconda3\\envs\\python_3_10_16\\lib\\site-packages\\scipy\\sparse\\_compressed.py:585\u001b[0m, in \u001b[0;36m_cs_matrix._matmul_sparse\u001b[1;34m(self, other)\u001b[0m\n\u001b[0;32m    580\u001b[0m idx_dtype \u001b[38;5;241m=\u001b[39m \u001b[38;5;28mself\u001b[39m\u001b[38;5;241m.\u001b[39m_get_index_dtype((\u001b[38;5;28mself\u001b[39m\u001b[38;5;241m.\u001b[39mindptr, \u001b[38;5;28mself\u001b[39m\u001b[38;5;241m.\u001b[39mindices,\n\u001b[0;32m    581\u001b[0m                              other\u001b[38;5;241m.\u001b[39mindptr, other\u001b[38;5;241m.\u001b[39mindices),\n\u001b[0;32m    582\u001b[0m                             maxval\u001b[38;5;241m=\u001b[39mnnz)\n\u001b[0;32m    584\u001b[0m indptr \u001b[38;5;241m=\u001b[39m np\u001b[38;5;241m.\u001b[39mempty(major_dim \u001b[38;5;241m+\u001b[39m \u001b[38;5;241m1\u001b[39m, dtype\u001b[38;5;241m=\u001b[39midx_dtype)\n\u001b[1;32m--> 585\u001b[0m indices \u001b[38;5;241m=\u001b[39m \u001b[43mnp\u001b[49m\u001b[38;5;241;43m.\u001b[39;49m\u001b[43mempty\u001b[49m\u001b[43m(\u001b[49m\u001b[43mnnz\u001b[49m\u001b[43m,\u001b[49m\u001b[43m \u001b[49m\u001b[43mdtype\u001b[49m\u001b[38;5;241;43m=\u001b[39;49m\u001b[43midx_dtype\u001b[49m\u001b[43m)\u001b[49m\n\u001b[0;32m    586\u001b[0m data \u001b[38;5;241m=\u001b[39m np\u001b[38;5;241m.\u001b[39mempty(nnz, dtype\u001b[38;5;241m=\u001b[39mupcast(\u001b[38;5;28mself\u001b[39m\u001b[38;5;241m.\u001b[39mdtype, other\u001b[38;5;241m.\u001b[39mdtype))\n\u001b[0;32m    588\u001b[0m fn \u001b[38;5;241m=\u001b[39m \u001b[38;5;28mgetattr\u001b[39m(_sparsetools, \u001b[38;5;28mself\u001b[39m\u001b[38;5;241m.\u001b[39mformat \u001b[38;5;241m+\u001b[39m \u001b[38;5;124m'\u001b[39m\u001b[38;5;124m_matmat\u001b[39m\u001b[38;5;124m'\u001b[39m)\n",
      "\u001b[1;31mMemoryError\u001b[0m: Unable to allocate 2.04 GiB for an array with shape (546860044,) and data type int32"
     ]
    }
   ],
   "source": [
    "%%time \n",
    "cosine_sim = cosine_similarity(tfidf_matrix, tfidf_matrix)"
   ]
  },
  {
   "cell_type": "markdown",
   "id": "667c6248-4fea-4684-833d-21eb37e154bf",
   "metadata": {},
   "source": [
    "The linear kernel actually turned out to be slower in this case! Let us remove this matrix (cosine_simLK) as it is quite big and take up memory."
   ]
  },
  {
   "cell_type": "code",
   "execution_count": null,
   "id": "53cd3012-f14c-440f-a56a-5f0e20be4e18",
   "metadata": {},
   "outputs": [],
   "source": [
    "cosine_sim"
   ]
  },
  {
   "cell_type": "code",
   "execution_count": null,
   "id": "00d0bc0d-7aa7-4d94-adbe-ee16210ab3af",
   "metadata": {},
   "outputs": [],
   "source": [
    "cosine_sim.shape"
   ]
  },
  {
   "cell_type": "markdown",
   "id": "58f46cdd-3da4-4816-88df-a27d9fc2eeeb",
   "metadata": {},
   "source": [
    "This matrix is symetric in the sense that `cosine_sim[0, 1]` tell us how much the first movie (index 0) is similar to the second movie (index 1), which returns the exact same value as `cosine_sim[1, 0]`."
   ]
  },
  {
   "cell_type": "code",
   "execution_count": null,
   "id": "2a21ce28-307a-4042-b6e3-082be69f9114",
   "metadata": {},
   "outputs": [],
   "source": [
    "cosine_sim[0, 1]"
   ]
  },
  {
   "cell_type": "code",
   "execution_count": null,
   "id": "5409e9fd-cfb0-416b-b675-1a835fd1aa61",
   "metadata": {},
   "outputs": [],
   "source": [
    "cosine_sim[1, 0]"
   ]
  },
  {
   "cell_type": "markdown",
   "id": "0cbdcbb3-d467-4947-a469-7c1f0510c94a",
   "metadata": {},
   "source": [
    "To have any idea if this makes sense, we can look up the corresponding titles in the original metadata dataset. For later use, let us make a reverse map of index to titles."
   ]
  },
  {
   "cell_type": "code",
   "execution_count": null,
   "id": "5c9988a1-579d-41fd-9312-d1da59a26a63",
   "metadata": {},
   "outputs": [],
   "source": [
    "#Construct a reverse map of indices and movie titles\n",
    "indices = pd.Series(metadata.index, index=metadata['title']).drop_duplicates()"
   ]
  },
  {
   "cell_type": "code",
   "execution_count": null,
   "id": "dce0f308-a521-4271-90ec-1ed2cf3665f7",
   "metadata": {},
   "outputs": [],
   "source": [
    "indices[0:10]"
   ]
  },
  {
   "cell_type": "markdown",
   "id": "b244ee64-c167-4540-ae06-d7117b789116",
   "metadata": {},
   "source": [
    "We can see that the similarity `cosine_sim[0, 1]` is the similarity between \"Toy Story\" and \"Jumanji\"."
   ]
  },
  {
   "cell_type": "markdown",
   "id": "2c7d8a3a-cd46-44b7-8470-f56755a9d4cf",
   "metadata": {},
   "source": [
    "We can now define a recommender function, that is, we can define a function that takes in a movie title as input and returns a list of the 10 most similar movies to the input movie."
   ]
  },
  {
   "cell_type": "code",
   "execution_count": null,
   "id": "d3ff3a58-ac12-4828-ad31-84a3abbdb321",
   "metadata": {},
   "outputs": [],
   "source": [
    "# Function that takes in movie title as input and outputs most similar movies\n",
    "def get_recommendations(title, cosine_sim=cosine_sim):\n",
    "    # Get the index of the movie that matches the title\n",
    "    idx = indices[title]\n",
    "\n",
    "    # Get the pairwsie similarity scores of all movies with that movie\n",
    "    sim_scores = list(enumerate(cosine_sim[idx]))\n",
    "\n",
    "    # Sort the movies based on the similarity scores\n",
    "    sim_scores = sorted(sim_scores, key=lambda x: x[1], reverse=True)\n",
    "\n",
    "    # Get the scores of the 10 most similar movies\n",
    "    sim_scores = sim_scores[1:11]\n",
    "\n",
    "    # Get the movie indices\n",
    "    movie_indices = [i[0] for i in sim_scores]\n",
    "\n",
    "    # Return the top 10 most similar movies\n",
    "    return metadata['title'].iloc[movie_indices]"
   ]
  },
  {
   "cell_type": "markdown",
   "id": "3fcd6b67-c6ad-4677-89fe-189f33f3852a",
   "metadata": {},
   "source": [
    "We can now try it out."
   ]
  },
  {
   "cell_type": "code",
   "execution_count": null,
   "id": "16d10f7b-3847-4e9f-bff6-703145413506",
   "metadata": {},
   "outputs": [],
   "source": [
    "get_recommendations('Toy Story')"
   ]
  },
  {
   "cell_type": "code",
   "execution_count": null,
   "id": "451da007-95f1-4d96-a257-4d66391bd36f",
   "metadata": {},
   "outputs": [],
   "source": [
    "get_recommendations('The Dark Knight Rises')"
   ]
  },
  {
   "cell_type": "markdown",
   "id": "bf11c4b2-dab2-4d28-8736-f970214a0dea",
   "metadata": {},
   "source": [
    "This recommender is not completely off, but still not perfect, of course"
   ]
  },
  {
   "cell_type": "markdown",
   "id": "aaf4410b-7380-4765-a4c4-8c3fbed9e5af",
   "metadata": {},
   "source": [
    "## Improved content-based filtering\n",
    "\n",
    "We can **improve the recommender by considering more metadata about the movies, such as staring actors, the director, related genres, and keywords**. First, we load in this additional data and merge it with our original metadata."
   ]
  },
  {
   "cell_type": "code",
   "execution_count": null,
   "id": "f456ff2c-1b6b-40e2-af92-6ad716f0d99f",
   "metadata": {},
   "outputs": [],
   "source": [
    "# Load keywords and credits\n",
    "credits = pd.read_csv('../Notebooks and data-13/credits.csv')\n",
    "keywords = pd.read_csv('../Notebooks and data-13/keywords.csv')\n",
    "\n",
    "# Remove rows with bad IDs.\n",
    "metadata = metadata.drop([19730, 29503, 35587])\n",
    "\n",
    "# Convert IDs to int. Required for merging\n",
    "credits['id'] = credits['id'].astype('int')\n",
    "keywords['id'] = keywords['id'].astype('int')\n",
    "metadata['id'] = metadata['id'].astype('int')\n",
    "\n",
    "# Merge keywords and credits into your main metadata dataframe\n",
    "metadata = metadata.merge(credits, on='id')\n",
    "metadata = metadata.merge(keywords, on='id')"
   ]
  },
  {
   "cell_type": "code",
   "execution_count": null,
   "id": "b0e00d80-404c-44c9-a01b-c1a1fd9afadf",
   "metadata": {},
   "outputs": [],
   "source": [
    "metadata.head()"
   ]
  },
  {
   "cell_type": "markdown",
   "id": "1b7291df-d55d-42ea-a968-858cf2165726",
   "metadata": {},
   "source": [
    "We can see that our new columns `cast`, `crew`, and `keywords` are some strange format - it looks like JSON in a string."
   ]
  },
  {
   "cell_type": "code",
   "execution_count": null,
   "id": "aec2d286-08ba-43aa-a2dd-831e443ad931",
   "metadata": {},
   "outputs": [],
   "source": [
    "metadata.cast[0]"
   ]
  },
  {
   "cell_type": "markdown",
   "id": "b018321c-30e0-49a0-9483-43603be4c83f",
   "metadata": {},
   "source": [
    "We can decode it a bit using the `literal_eval` function."
   ]
  },
  {
   "cell_type": "code",
   "execution_count": null,
   "id": "90a3a5b3-1d0d-456a-9acc-19f93dd0c0cf",
   "metadata": {},
   "outputs": [],
   "source": [
    "# Parse the stringified features into their corresponding python objects\n",
    "from ast import literal_eval\n",
    "\n",
    "features = ['cast', 'crew', 'keywords', 'genres']\n",
    "for feature in features:\n",
    "    metadata[feature] = metadata[feature].apply(literal_eval)"
   ]
  },
  {
   "cell_type": "code",
   "execution_count": null,
   "id": "c7001500-1174-4697-9cde-40731ebe4ff6",
   "metadata": {
    "scrolled": true
   },
   "outputs": [],
   "source": [
    "metadata.cast[0]"
   ]
  },
  {
   "cell_type": "code",
   "execution_count": null,
   "id": "1a09dc29-8359-4960-a327-d74621de5465",
   "metadata": {
    "scrolled": true
   },
   "outputs": [],
   "source": [
    "metadata.crew[0]"
   ]
  },
  {
   "cell_type": "markdown",
   "id": "86f28e79-2423-4ca2-ace5-b60f4ae963f5",
   "metadata": {},
   "source": [
    "We can now build a function that fetches the director, for instance."
   ]
  },
  {
   "cell_type": "code",
   "execution_count": null,
   "id": "4d39a144-c501-49db-bbc0-92b2d12859e1",
   "metadata": {},
   "outputs": [],
   "source": [
    "import numpy as np\n",
    "\n",
    "def get_director(x):\n",
    "    for i in x:\n",
    "        if i['job'] == 'Director':\n",
    "            return i['name']\n",
    "    return np.nan"
   ]
  },
  {
   "cell_type": "code",
   "execution_count": null,
   "id": "63fe4db3-3214-4f88-88e3-8154c6839e07",
   "metadata": {},
   "outputs": [],
   "source": [
    "get_director(metadata.crew[0])"
   ]
  },
  {
   "cell_type": "markdown",
   "id": "0eb2e455-d0f3-4670-8347-42e78c1d4f33",
   "metadata": {},
   "source": [
    "For `cast`, `keywords`, and `genres` we are just goint to retrieve the first 3 (top 3) elements. We can also make a function for that. "
   ]
  },
  {
   "cell_type": "code",
   "execution_count": null,
   "id": "8031a567-4364-4e61-bc29-c1a670b9de93",
   "metadata": {},
   "outputs": [],
   "source": [
    "def get_list(x):\n",
    "    if isinstance(x, list):\n",
    "        names = [i['name'] for i in x]\n",
    "        #Check if more than 3 elements exist. If yes, return only first three. If no, return entire list.\n",
    "        if len(names) > 3:\n",
    "            names = names[:3]\n",
    "        return names\n",
    "\n",
    "    #Return empty list in case of missing/malformed data\n",
    "    return []"
   ]
  },
  {
   "cell_type": "code",
   "execution_count": null,
   "id": "23d3d2fd-f3b7-4684-9948-0ee0d76f0c0a",
   "metadata": {},
   "outputs": [],
   "source": [
    "get_list(metadata.cast[0])"
   ]
  },
  {
   "cell_type": "code",
   "execution_count": null,
   "id": "c7432a84-6647-4ec7-aa14-47985fb97d0a",
   "metadata": {},
   "outputs": [],
   "source": [
    "get_list(metadata.keywords[0])"
   ]
  },
  {
   "cell_type": "code",
   "execution_count": null,
   "id": "c2228e4a-a47b-485f-8329-178efa87ea89",
   "metadata": {},
   "outputs": [],
   "source": [
    "get_list(metadata.genres[0])"
   ]
  },
  {
   "cell_type": "markdown",
   "id": "eb9a4d5d-9f78-4dcb-bd0a-a70a4de12cd1",
   "metadata": {},
   "source": [
    "With these helper functions, we can now define new features for director, cast, genres and keywords."
   ]
  },
  {
   "cell_type": "code",
   "execution_count": null,
   "id": "e4f8395a-3310-4b62-97f5-d0925996ed9f",
   "metadata": {},
   "outputs": [],
   "source": [
    "# Define new director, cast, genres and keywords features that are in a suitable form.\n",
    "metadata['director'] = metadata['crew'].apply(get_director)\n",
    "\n",
    "features = ['cast', 'keywords', 'genres']\n",
    "for feature in features:\n",
    "    metadata[feature] = metadata[feature].apply(get_list)"
   ]
  },
  {
   "cell_type": "code",
   "execution_count": null,
   "id": "d306d83a-5bcb-4ce9-9ec9-52e0c3eca775",
   "metadata": {},
   "outputs": [],
   "source": [
    "# Print the new features of the first 3 films\n",
    "metadata[['title', 'cast', 'director', 'keywords', 'genres']].head(3)"
   ]
  },
  {
   "cell_type": "markdown",
   "id": "c61e88df-5752-42d3-a32c-38b598f28d29",
   "metadata": {},
   "source": [
    "This new metadata about movies is still text data, thus we need to pre-process somehow to make it fit further analysis. There are several options for this, but essentially we want to vectorize the data and to do this it can sometimes be beneficial to combine the data into one string (\"soup\" - I am not sure if this is a commonly used term!) before vectorizing it. The tutorial does this by replacing upper case letters with lower case letters and removing black spaces, before concatenating the text strings into one string."
   ]
  },
  {
   "cell_type": "code",
   "execution_count": null,
   "id": "ab2d6a58-7d63-43e8-90c1-bf293de4e1c0",
   "metadata": {},
   "outputs": [],
   "source": [
    "# Function to convert all strings to lower case and strip names of spaces\n",
    "def clean_data(x):\n",
    "    if isinstance(x, list):\n",
    "        return [str.lower(i.replace(\" \", \"\")) for i in x]\n",
    "    else:\n",
    "        #Check if director exists. If not, return empty string\n",
    "        if isinstance(x, str):\n",
    "            return str.lower(x.replace(\" \", \"\"))\n",
    "        else:\n",
    "            return ''"
   ]
  },
  {
   "cell_type": "code",
   "execution_count": null,
   "id": "188b1d8a-9bf6-4c89-b7cf-a96b94acd698",
   "metadata": {},
   "outputs": [],
   "source": [
    "clean_data(metadata.cast[0])"
   ]
  },
  {
   "cell_type": "markdown",
   "id": "f4bfb7ca-459b-4aab-9618-1bf25dbc0e18",
   "metadata": {},
   "source": [
    "We then apply that function to all the relevant coulmns."
   ]
  },
  {
   "cell_type": "code",
   "execution_count": null,
   "id": "0ee0a8e1-b106-43c1-ad9e-557542079ddc",
   "metadata": {},
   "outputs": [],
   "source": [
    "# Apply clean_data function to your features.\n",
    "features = ['cast', 'keywords', 'director', 'genres']\n",
    "\n",
    "for feature in features:\n",
    "    metadata[feature] = metadata[feature].apply(clean_data)"
   ]
  },
  {
   "cell_type": "code",
   "execution_count": null,
   "id": "b44c4ef6-28a6-4f7b-a3e7-62554264ba56",
   "metadata": {},
   "outputs": [],
   "source": [
    "# Print the new features of the first 3 films\n",
    "metadata[['title', 'cast', 'director', 'keywords', 'genres']].head(3)"
   ]
  },
  {
   "cell_type": "code",
   "execution_count": null,
   "id": "984b2e99-87af-4a59-83af-b3b11393e0c8",
   "metadata": {},
   "outputs": [],
   "source": [
    "def create_soup(x):\n",
    "    return ' '.join(x['keywords']) + ' ' + ' '.join(x['cast']) + ' ' + x['director'] + ' ' + ' '.join(x['genres'])"
   ]
  },
  {
   "cell_type": "code",
   "execution_count": null,
   "id": "878c5799-1f39-47f0-a05e-da1f7f1abd52",
   "metadata": {},
   "outputs": [],
   "source": [
    "# Create a new soup feature\n",
    "metadata['soup'] = metadata.apply(create_soup, axis=1)"
   ]
  },
  {
   "cell_type": "code",
   "execution_count": null,
   "id": "7d3c61b8-b603-4b2d-8150-c7a5aa789483",
   "metadata": {},
   "outputs": [],
   "source": [
    "metadata.soup[0]"
   ]
  },
  {
   "cell_type": "markdown",
   "id": "05cf6b72-feb3-4569-9b15-34ebc5a4bd8f",
   "metadata": {},
   "source": [
    "For vectorization we will use something else than TF-IDF, since we are not dealing with traditional text documents. Thus we will use the count vectorizer."
   ]
  },
  {
   "cell_type": "code",
   "execution_count": null,
   "id": "ec52e64d-b295-4798-8335-928070cd7cab",
   "metadata": {},
   "outputs": [],
   "source": [
    "# Import CountVectorizer and create the count matrix\n",
    "from sklearn.feature_extraction.text import CountVectorizer\n",
    "\n",
    "count = CountVectorizer(stop_words='english')\n",
    "count_matrix = count.fit_transform(metadata['soup'])"
   ]
  },
  {
   "cell_type": "code",
   "execution_count": null,
   "id": "4f24aaad-8fea-4877-aaa3-267a40ebd719",
   "metadata": {},
   "outputs": [],
   "source": [
    "count_matrix.shape"
   ]
  },
  {
   "cell_type": "markdown",
   "id": "b32278f6-174f-4673-8e8b-9fa9327ef15a",
   "metadata": {},
   "source": [
    "We will again use the cosine similarity to calculate the difference between the resulting vectors. Be aware that this will put a high load on the memory (and CPU)!!!!"
   ]
  },
  {
   "cell_type": "code",
   "execution_count": null,
   "id": "31cba512-5f09-4772-b9f3-c197c3f8ac38",
   "metadata": {},
   "outputs": [],
   "source": [
    "# Compute the Cosine Similarity matrix based on the count_matrix\n",
    "cosine_sim2 = cosine_similarity(count_matrix, count_matrix)"
   ]
  },
  {
   "cell_type": "code",
   "execution_count": null,
   "id": "cebef5f2-d067-43fc-b11b-957e61dbe1f0",
   "metadata": {},
   "outputs": [],
   "source": [
    "# Reset index of your main DataFrame and construct reverse mapping as before\n",
    "metadata = metadata.reset_index()\n",
    "indices = pd.Series(metadata.index, index=metadata['title'])"
   ]
  },
  {
   "cell_type": "code",
   "execution_count": null,
   "id": "47ba0869-be3b-435f-b4ae-f01c96dea02e",
   "metadata": {},
   "outputs": [],
   "source": [
    "get_recommendations('Toy Story', cosine_sim2)"
   ]
  },
  {
   "cell_type": "code",
   "execution_count": null,
   "id": "d6c55ffd-98cb-4499-a4bf-aba9ab437264",
   "metadata": {},
   "outputs": [],
   "source": [
    "get_recommendations('The Dark Knight Rises', cosine_sim2)"
   ]
  },
  {
   "cell_type": "markdown",
   "id": "898f9754-b362-4def-a0d1-3698934534b8",
   "metadata": {},
   "source": [
    "## An example of User-Based Collaborative Filtering\n",
    "\n",
    "In this section, we will look at Collaborative-based filtering. More specifically, we will make a user-based collaborative filtering based on data about the users (rating the movies). The example is based on the same movie dataset and the following Kaggle notebook: [https://www.kaggle.com/code/yagizcapa/user-based-recommender](https://www.kaggle.com/code/yagizcapa/user-based-recommender)"
   ]
  },
  {
   "cell_type": "markdown",
   "id": "99c1d6c2-0cd6-4c05-abd0-b8298236ba97",
   "metadata": {},
   "source": [
    "First we read in the rating dataset"
   ]
  },
  {
   "cell_type": "code",
   "execution_count": null,
   "id": "b3c592b1-e4fb-406e-b191-e31f54471ebe",
   "metadata": {},
   "outputs": [],
   "source": [
    "ratings = pd.read_csv(\"ratings_small.csv\")"
   ]
  },
  {
   "cell_type": "code",
   "execution_count": null,
   "id": "0bef6719-b3f9-4727-a20c-cf1ae01de339",
   "metadata": {},
   "outputs": [],
   "source": [
    "df = metadata.merge(ratings, how=\"left\", left_on=\"id\", right_on=\"movieId\")\n",
    "df.head()"
   ]
  },
  {
   "cell_type": "code",
   "execution_count": null,
   "id": "e4fa0845-357f-4739-bc32-6ecaa9c2a7d4",
   "metadata": {},
   "outputs": [],
   "source": [
    "df.shape"
   ]
  },
  {
   "cell_type": "code",
   "execution_count": null,
   "id": "dbaf1175-8f47-4c43-af85-a23ba700a23b",
   "metadata": {},
   "outputs": [],
   "source": [
    "df[\"title\"].nunique()"
   ]
  },
  {
   "cell_type": "code",
   "execution_count": null,
   "id": "14b8de69-92d0-436a-85b2-717c0ac099dd",
   "metadata": {},
   "outputs": [],
   "source": [
    "df[\"userId\"].nunique()"
   ]
  },
  {
   "cell_type": "markdown",
   "id": "3aa3eb0d-76de-4b6d-a473-20d9670cb4f9",
   "metadata": {},
   "source": [
    "We there are 88822 user ratings by 671 users (of 42276 unique movies - it is not given that all movies have ratings)."
   ]
  },
  {
   "cell_type": "markdown",
   "id": "5661c985-fd15-4352-95ab-abb92ffa9db6",
   "metadata": {},
   "source": [
    "Let us look at how many rated the most rated movies"
   ]
  },
  {
   "cell_type": "code",
   "execution_count": null,
   "id": "b937160e-00ca-40ff-8dd2-47a8fa5b888d",
   "metadata": {},
   "outputs": [],
   "source": [
    "rating_counts = pd.DataFrame(df[\"title\"].value_counts())\n",
    "\n",
    "rating_counts.head(10)"
   ]
  },
  {
   "cell_type": "markdown",
   "id": "30f415eb-f022-4761-9fcc-d4ee99750d83",
   "metadata": {},
   "source": [
    "You might wonder what happens with all the rows (and movies) that did not have rating? We can remove those to ensure that the above code does not count rows where the rating is missing. By doing this, we also learn that there are 2794 movies that are rated by the 671 users."
   ]
  },
  {
   "cell_type": "code",
   "execution_count": null,
   "id": "fbb3dd0f-22ec-4077-b806-09193ac2d2b1",
   "metadata": {},
   "outputs": [],
   "source": [
    "df[[\"title\", \"rating\"]].dropna().drop(columns=[\"rating\"]).value_counts()"
   ]
  },
  {
   "cell_type": "code",
   "execution_count": null,
   "id": "9739c34e-41f7-4867-9b64-011910d5d0e7",
   "metadata": {},
   "outputs": [],
   "source": [
    "user_movie_df = df[[\"userId\", \"title\", \"rating\"]]"
   ]
  },
  {
   "cell_type": "code",
   "execution_count": null,
   "id": "c4b383ac-617e-4031-a0e2-b494c014c7e2",
   "metadata": {},
   "outputs": [],
   "source": [
    "user_movie_df"
   ]
  },
  {
   "cell_type": "markdown",
   "id": "637894af-cb5b-471b-8455-c54ada1d11cc",
   "metadata": {},
   "source": [
    "We create a dataframe with the user ratings only"
   ]
  },
  {
   "cell_type": "code",
   "execution_count": null,
   "id": "f9c4dd41-40e6-4cdb-9730-79a8d4dcf749",
   "metadata": {},
   "outputs": [],
   "source": [
    "user_movie_df = user_movie_df.pivot_table(index=[\"userId\"], columns=[\"title\"], values=\"rating\")"
   ]
  },
  {
   "cell_type": "code",
   "execution_count": null,
   "id": "a5c5249a-32dc-4471-ba24-3cd733977299",
   "metadata": {},
   "outputs": [],
   "source": [
    "user_movie_df.head()"
   ]
  },
  {
   "cell_type": "code",
   "execution_count": null,
   "id": "eb07c738-74e8-4ac4-a793-671053a38a46",
   "metadata": {},
   "outputs": [],
   "source": [
    "user_movie_df.shape"
   ]
  },
  {
   "cell_type": "markdown",
   "id": "e43fe487-4b21-4c03-8e98-1c574fe85af7",
   "metadata": {},
   "source": [
    "Let us select a random user as an example case"
   ]
  },
  {
   "cell_type": "code",
   "execution_count": null,
   "id": "444924bb-0715-48ad-8c2c-d17c23ef8bb9",
   "metadata": {},
   "outputs": [],
   "source": [
    "random_user = np.array(user_movie_df.sample(random_state = 50).index)[0]\n",
    "random_user"
   ]
  },
  {
   "cell_type": "markdown",
   "id": "eab174c6-28b2-4b88-84dc-13c858f7cba1",
   "metadata": {},
   "source": [
    "Getting the movies the random user have rated."
   ]
  },
  {
   "cell_type": "code",
   "execution_count": null,
   "id": "08d2e07c-1c06-4467-87f8-a5f9a4f35e8d",
   "metadata": {},
   "outputs": [],
   "source": [
    "random_user_df = user_movie_df[user_movie_df.index == random_user]\n",
    "random_user_df"
   ]
  },
  {
   "cell_type": "code",
   "execution_count": null,
   "id": "7d4b8154-ef42-42bb-9dbd-e8f961b6501e",
   "metadata": {},
   "outputs": [],
   "source": [
    "random_user_movies_watched = random_user_df.columns[random_user_df.notna().any()].tolist()\n",
    "random_user_movies_watched"
   ]
  },
  {
   "cell_type": "code",
   "execution_count": null,
   "id": "3eea4f35-aa84-4e32-b90a-d12f765914fa",
   "metadata": {},
   "outputs": [],
   "source": [
    "len(random_user_movies_watched)"
   ]
  },
  {
   "cell_type": "markdown",
   "id": "7dca6e49-d5d7-4b3d-bac4-9d9649062579",
   "metadata": {},
   "source": [
    "Selecting only does movies to look for similar users"
   ]
  },
  {
   "cell_type": "code",
   "execution_count": null,
   "id": "456a4b8d-90cd-481d-b090-63e14cacde69",
   "metadata": {},
   "outputs": [],
   "source": [
    "movies_watched_df = user_movie_df[random_user_movies_watched]"
   ]
  },
  {
   "cell_type": "code",
   "execution_count": null,
   "id": "23e37faa-5186-4df9-97d4-b6d7e69223ad",
   "metadata": {},
   "outputs": [],
   "source": [
    "movies_watched_df"
   ]
  },
  {
   "cell_type": "code",
   "execution_count": null,
   "id": "f4b88468-1ce3-436e-a669-936bc693389f",
   "metadata": {},
   "outputs": [],
   "source": [
    "movies_watched_df.shape"
   ]
  },
  {
   "cell_type": "markdown",
   "id": "94c76dbc-430e-45db-b335-e12c7a5f8b24",
   "metadata": {},
   "source": [
    "For each other user, we now calculate how many movies they have rated among these selected that the random user have rated."
   ]
  },
  {
   "cell_type": "code",
   "execution_count": null,
   "id": "9f19a8a8-2dfa-4405-80a4-0f95a84cef51",
   "metadata": {},
   "outputs": [],
   "source": [
    "user_movie_count = movies_watched_df.T.notnull().sum()"
   ]
  },
  {
   "cell_type": "code",
   "execution_count": null,
   "id": "a455b52d-9161-4cc5-bd24-1b8816f50dbc",
   "metadata": {},
   "outputs": [],
   "source": [
    "user_movie_count"
   ]
  },
  {
   "cell_type": "code",
   "execution_count": null,
   "id": "f7b71660-140c-45a0-bdc5-f94320cc8455",
   "metadata": {},
   "outputs": [],
   "source": [
    "user_movie_count = user_movie_count.reset_index()\n",
    "user_movie_count.columns = [\"userId\", \"movie_count\"]\n",
    "user_movie_count"
   ]
  },
  {
   "cell_type": "markdown",
   "id": "e99f696c-a1fa-4fe8-b8df-3aa914de230d",
   "metadata": {},
   "source": [
    "We select those users that have rated more than 70% of the movies the random user have rated."
   ]
  },
  {
   "cell_type": "code",
   "execution_count": null,
   "id": "d0282320-5adc-4b9e-80b8-cfba89faf95d",
   "metadata": {},
   "outputs": [],
   "source": [
    "user_same_movies = user_movie_count[user_movie_count[\"movie_count\"] > (len(random_user_movies_watched)*70)/100][\"userId\"]\n",
    "user_same_movies"
   ]
  },
  {
   "cell_type": "markdown",
   "id": "23203fef-00bf-4755-9554-e400b0b128d8",
   "metadata": {},
   "source": [
    "creating a data frame with the rating of only these users."
   ]
  },
  {
   "cell_type": "code",
   "execution_count": null,
   "id": "efa9b649-bef1-4393-b6b4-51d9d68ea9cc",
   "metadata": {},
   "outputs": [],
   "source": [
    "final_df = movies_watched_df[movies_watched_df.index.isin(user_same_movies)]\n",
    "final_df"
   ]
  },
  {
   "cell_type": "markdown",
   "id": "447696e6-33b5-4b42-ab3d-134c1843d529",
   "metadata": {},
   "source": [
    "We now calculate the correlation between all the users. That is the correlation between the rows. As the `.corr` method on data frames calculate the correlations between columns, we have transpose the data frame first."
   ]
  },
  {
   "cell_type": "code",
   "execution_count": null,
   "id": "96edf914-4520-4b34-bb3c-aa91f69cfbc2",
   "metadata": {},
   "outputs": [],
   "source": [
    "corr_df = final_df.T.corr()\n",
    "corr_df"
   ]
  },
  {
   "cell_type": "code",
   "execution_count": null,
   "id": "b1f9cc67-08c3-4c8b-be1f-62e08f656195",
   "metadata": {},
   "outputs": [],
   "source": [
    "user_corr = corr_df[random_user].reset_index()\n",
    "user_corr = user_corr.rename(columns={random_user: 'correlation'})\n",
    "user_corr = user_corr.sort_values(by=\"correlation\", ascending=False)\n",
    "user_corr = user_corr.loc[user_corr[\"userId\"] != random_user]\n",
    "user_corr = user_corr.reset_index(drop=True)\n",
    "user_corr"
   ]
  },
  {
   "cell_type": "markdown",
   "id": "287f6324-9521-4f7f-a021-1835c1634861",
   "metadata": {},
   "source": [
    "Now let us merge it with all the ratings of the users"
   ]
  },
  {
   "cell_type": "code",
   "execution_count": null,
   "id": "336ab4a4-e296-4850-a7e1-ef5aa4622cf8",
   "metadata": {},
   "outputs": [],
   "source": [
    "top_users_ratings = user_corr.merge(ratings[[\"userId\", \"movieId\", \"rating\"]], how=\"inner\")\n",
    "top_users_ratings"
   ]
  },
  {
   "cell_type": "markdown",
   "id": "9ed62568-aca8-4369-92ce-7e668579d8cf",
   "metadata": {},
   "source": [
    "We can now create ratings that are weighted with respect to the correlation."
   ]
  },
  {
   "cell_type": "code",
   "execution_count": null,
   "id": "b123700d-ecb3-499d-9d53-18c05d2eca69",
   "metadata": {},
   "outputs": [],
   "source": [
    "top_users_ratings[\"weighted_rating\"] = top_users_ratings[\"correlation\"] * top_users_ratings[\"rating\"]\n",
    "top_users_ratings"
   ]
  },
  {
   "cell_type": "markdown",
   "id": "e996c02e-d33e-4101-8bdc-d0e9874276b7",
   "metadata": {},
   "source": [
    "For each movie, we can now take the average of the weighted ratings to get a final rating for all the movies (as recommendation for the selectd random user)."
   ]
  },
  {
   "cell_type": "code",
   "execution_count": null,
   "id": "3b9ee5cb-f0fd-4a73-be5a-041bd12e4040",
   "metadata": {},
   "outputs": [],
   "source": [
    "recommendation_df = top_users_ratings.groupby(\"movieId\").agg({\"weighted_rating\": \"mean\"}).sort_values(by = \"weighted_rating\", ascending = False)\n",
    "recommendation_df = recommendation_df.reset_index()\n",
    "recommendation_df"
   ]
  },
  {
   "cell_type": "code",
   "execution_count": null,
   "id": "ea747222-4d6b-43d5-8b50-aad0900ad5f1",
   "metadata": {},
   "outputs": [],
   "source": [
    "movies_to_be_recommended = recommendation_df.merge(metadata[[\"id\", \"title\"]], left_on=\"movieId\", right_on=\"id\").drop(columns=[\"id\"])\n",
    "movies_to_be_recommended = movies_to_be_recommended.head()\n",
    "movies_to_be_recommended"
   ]
  },
  {
   "cell_type": "markdown",
   "id": "56bd0fb9-f4aa-422b-8430-13e298b94dc1",
   "metadata": {},
   "source": [
    "We can now put it all together into a recommender function."
   ]
  },
  {
   "cell_type": "code",
   "execution_count": null,
   "id": "9112f80d-5539-4791-b9b9-e545ea8f1d9e",
   "metadata": {},
   "outputs": [],
   "source": [
    "def user_based_recommender(input_user, user_movie_df, rate_ratio=0.70, num_recommendations=5):\n",
    "    # Creating a list of movies the input user have rated\n",
    "    input_user_df = user_movie_df[user_movie_df.index == input_user]\n",
    "    input_user_movies_watched = input_user_df.columns[input_user_df.notna().any()].tolist()\n",
    "\n",
    "    # Creating a dataframe with the user rating of the movies the input user have rated\n",
    "    movies_watched_df = user_movie_df[input_user_movies_watched]\n",
    "\n",
    "    # Counting how many movies other users have rated that the input user have also rated\n",
    "    user_movie_count = movies_watched_df.T.notnull().sum()\n",
    "    user_movie_count = user_movie_count.reset_index()\n",
    "    user_movie_count.columns = [\"userId\", \"movie_count\"]\n",
    "    \n",
    "    # Selecting similar users over based on a rating similarity count ratio threshold\n",
    "    user_same_movies = user_movie_count[user_movie_count[\"movie_count\"] > (len(input_user_movies_watched)*rate_ratio)][\"userId\"]\n",
    "\n",
    "    # Creating a correlation matrix based on ratings\n",
    "    final_df = movies_watched_df[movies_watched_df.index.isin(user_same_movies)]\n",
    "    corr_df = final_df.T.corr()\n",
    "\n",
    "    # Created top correlated users\n",
    "    user_corr = corr_df[input_user].reset_index()\n",
    "    user_corr = user_corr.rename(columns={input_user: 'correlation'})\n",
    "    user_corr = user_corr.sort_values(by=\"correlation\", ascending=False)\n",
    "    user_corr = user_corr.loc[user_corr[\"userId\"] != input_user]\n",
    "    user_corr = user_corr.reset_index(drop=True)\n",
    "\n",
    "    # Creating correlated weighting of rating\n",
    "    top_users_ratings = user_corr.merge(ratings[[\"userId\", \"movieId\", \"rating\"]], how=\"inner\")\n",
    "    top_users_ratings[\"weighted_rating\"] = top_users_ratings[\"correlation\"] * top_users_ratings[\"rating\"]\n",
    "\n",
    "    # Creating a recommendation dataframe\n",
    "    recommendation_df = top_users_ratings.groupby(\"movieId\").agg({\"weighted_rating\": \"mean\"}).sort_values(by = \"weighted_rating\", ascending = False)\n",
    "    recommendation_df = recommendation_df.reset_index()\n",
    "\n",
    "    # Creating the final recommendations\n",
    "    movies_to_be_recommended = recommendation_df.merge(metadata[[\"id\", \"title\"]], left_on=\"movieId\", right_on=\"id\").drop(columns=[\"id\"])\n",
    "    movies_to_be_recommended = movies_to_be_recommended.head(num_recommendations)\n",
    "\n",
    "    return movies_to_be_recommended[\"title\"]"
   ]
  },
  {
   "cell_type": "code",
   "execution_count": null,
   "id": "209256ef-a096-4c0b-b273-7bea4bb1818b",
   "metadata": {},
   "outputs": [],
   "source": [
    "user_movie_df"
   ]
  },
  {
   "cell_type": "code",
   "execution_count": null,
   "id": "18fa9240-f19b-4aff-b46a-2075f36c4f1d",
   "metadata": {},
   "outputs": [],
   "source": [
    "user_based_recommender(455, user_movie_df)"
   ]
  },
  {
   "cell_type": "code",
   "execution_count": null,
   "id": "2b9fc120-1624-46af-806a-7ba0c989b640",
   "metadata": {},
   "outputs": [],
   "source": [
    "random_user_movies_watched"
   ]
  },
  {
   "cell_type": "code",
   "execution_count": null,
   "id": "86092f92-13af-4522-8427-23785d57cffa",
   "metadata": {},
   "outputs": [],
   "source": []
  }
 ],
 "metadata": {
  "kernelspec": {
   "display_name": "Python 3 (ipykernel)",
   "language": "python",
   "name": "python3"
  },
  "language_info": {
   "codemirror_mode": {
    "name": "ipython",
    "version": 3
   },
   "file_extension": ".py",
   "mimetype": "text/x-python",
   "name": "python",
   "nbconvert_exporter": "python",
   "pygments_lexer": "ipython3",
   "version": "3.10.16"
  }
 },
 "nbformat": 4,
 "nbformat_minor": 5
}
