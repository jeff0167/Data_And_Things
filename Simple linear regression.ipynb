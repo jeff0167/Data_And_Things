{
 "cells": [
  {
   "cell_type": "markdown",
   "id": "44682b79-7daa-46e6-944a-40849e8229ef",
   "metadata": {},
   "source": [
    "# Simple linear regression\n",
    "\n",
    "In this notebook, we take a closer look at simple linear regression"
   ]
  },
  {
   "cell_type": "markdown",
   "id": "0ae20424-cc49-4d65-9036-bb0cde949319",
   "metadata": {},
   "source": [
    "First we import the standard packages"
   ]
  },
  {
   "cell_type": "code",
   "execution_count": 1,
   "id": "fe46c6aa-4b4f-4aa4-9cc4-a48b76ece40a",
   "metadata": {},
   "outputs": [],
   "source": [
    "import numpy as np\n",
    "import pandas as pd\n",
    "from matplotlib import pyplot as plt\n",
    "import seaborn as sns\n",
    "from scipy import stats"
   ]
  },
  {
   "cell_type": "markdown",
   "id": "c01d31d9-1702-472c-a140-c6724bb125d6",
   "metadata": {},
   "source": [
    "Then we import some example data. In this case Google Analytics webdata about daily users and daily number of purchases in the webshop"
   ]
  },
  {
   "cell_type": "code",
   "execution_count": 4,
   "id": "47dd1835-4882-4b70-9a90-b85232d43d74",
   "metadata": {},
   "outputs": [],
   "source": [
    "webdata = pd.read_excel(\"../Notebooks and data-5/GA users and convertions.xlsx\")"
   ]
  },
  {
   "cell_type": "code",
   "execution_count": 5,
   "id": "1eb81017-7f92-4697-819d-20cfb54c7446",
   "metadata": {},
   "outputs": [
    {
     "data": {
      "text/html": [
       "<div>\n",
       "<style scoped>\n",
       "    .dataframe tbody tr th:only-of-type {\n",
       "        vertical-align: middle;\n",
       "    }\n",
       "\n",
       "    .dataframe tbody tr th {\n",
       "        vertical-align: top;\n",
       "    }\n",
       "\n",
       "    .dataframe thead th {\n",
       "        text-align: right;\n",
       "    }\n",
       "</style>\n",
       "<table border=\"1\" class=\"dataframe\">\n",
       "  <thead>\n",
       "    <tr style=\"text-align: right;\">\n",
       "      <th></th>\n",
       "      <th>DayIndex</th>\n",
       "      <th>Users</th>\n",
       "      <th>PurchaseCompleted</th>\n",
       "    </tr>\n",
       "  </thead>\n",
       "  <tbody>\n",
       "    <tr>\n",
       "      <th>0</th>\n",
       "      <td>2016-08-01</td>\n",
       "      <td>560</td>\n",
       "      <td>8</td>\n",
       "    </tr>\n",
       "    <tr>\n",
       "      <th>1</th>\n",
       "      <td>2016-08-02</td>\n",
       "      <td>378</td>\n",
       "      <td>10</td>\n",
       "    </tr>\n",
       "    <tr>\n",
       "      <th>2</th>\n",
       "      <td>2016-08-03</td>\n",
       "      <td>412</td>\n",
       "      <td>11</td>\n",
       "    </tr>\n",
       "    <tr>\n",
       "      <th>3</th>\n",
       "      <td>2016-08-04</td>\n",
       "      <td>499</td>\n",
       "      <td>7</td>\n",
       "    </tr>\n",
       "    <tr>\n",
       "      <th>4</th>\n",
       "      <td>2016-08-05</td>\n",
       "      <td>375</td>\n",
       "      <td>11</td>\n",
       "    </tr>\n",
       "    <tr>\n",
       "      <th>...</th>\n",
       "      <td>...</td>\n",
       "      <td>...</td>\n",
       "      <td>...</td>\n",
       "    </tr>\n",
       "    <tr>\n",
       "      <th>87</th>\n",
       "      <td>2016-10-27</td>\n",
       "      <td>351</td>\n",
       "      <td>23</td>\n",
       "    </tr>\n",
       "    <tr>\n",
       "      <th>88</th>\n",
       "      <td>2016-10-28</td>\n",
       "      <td>398</td>\n",
       "      <td>23</td>\n",
       "    </tr>\n",
       "    <tr>\n",
       "      <th>89</th>\n",
       "      <td>2016-10-29</td>\n",
       "      <td>209</td>\n",
       "      <td>10</td>\n",
       "    </tr>\n",
       "    <tr>\n",
       "      <th>90</th>\n",
       "      <td>2016-10-30</td>\n",
       "      <td>224</td>\n",
       "      <td>16</td>\n",
       "    </tr>\n",
       "    <tr>\n",
       "      <th>91</th>\n",
       "      <td>2016-10-31</td>\n",
       "      <td>472</td>\n",
       "      <td>25</td>\n",
       "    </tr>\n",
       "  </tbody>\n",
       "</table>\n",
       "<p>92 rows × 3 columns</p>\n",
       "</div>"
      ],
      "text/plain": [
       "     DayIndex  Users  PurchaseCompleted\n",
       "0  2016-08-01    560                  8\n",
       "1  2016-08-02    378                 10\n",
       "2  2016-08-03    412                 11\n",
       "3  2016-08-04    499                  7\n",
       "4  2016-08-05    375                 11\n",
       "..        ...    ...                ...\n",
       "87 2016-10-27    351                 23\n",
       "88 2016-10-28    398                 23\n",
       "89 2016-10-29    209                 10\n",
       "90 2016-10-30    224                 16\n",
       "91 2016-10-31    472                 25\n",
       "\n",
       "[92 rows x 3 columns]"
      ]
     },
     "execution_count": 5,
     "metadata": {},
     "output_type": "execute_result"
    }
   ],
   "source": [
    "webdata"
   ]
  },
  {
   "cell_type": "markdown",
   "id": "bd673298-0443-4841-b761-fa74a9f80b61",
   "metadata": {},
   "source": [
    "## Visualizing simple linear regression\n",
    "\n",
    "To visualize the best fitted linear regression line in a scatterplot with Seaborn, we use the function `regplot`."
   ]
  },
  {
   "cell_type": "code",
   "execution_count": 6,
   "id": "aff47a29-b9ef-437c-869d-f6b24c153ad1",
   "metadata": {},
   "outputs": [
    {
     "data": {
      "image/png": "[encoded data removed]",
      "text/plain": [
       "<Figure size 640x480 with 1 Axes>"
      ]
     },
     "metadata": {},
     "output_type": "display_data"
    }
   ],
   "source": [
    "sns.regplot(data = webdata, x = \"Users\", y = \"PurchaseCompleted\")\n",
    "plt.title(\"Linear regression plot for users and purchases completed\")\n",
    "plt.show()"
   ]
  },
  {
   "cell_type": "markdown",
   "id": "03225932-f7f7-45ca-8389-93a5c6b83161",
   "metadata": {},
   "source": [
    "The shaded area along the regression line is the *confidence interval*, which we will not talk more about for now, but essentially it visualizes the uncertainly associated the regression line. We can remove the confidence interval from our plot if we want:"
   ]
  },
  {
   "cell_type": "code",
   "execution_count": 7,
   "id": "016f6bfb-ad6b-4f62-bf56-a54b01d3bc54",
   "metadata": {},
   "outputs": [
    {
     "data": {
      "image/png": "[encoded data removed]",
      "text/plain": [
       "<Figure size 640x480 with 1 Axes>"
      ]
     },
     "metadata": {},
     "output_type": "display_data"
    }
   ],
   "source": [
    "sns.regplot(data = webdata, x = \"Users\", y = \"PurchaseCompleted\", ci=None)\n",
    "plt.title(\"Linear regression plot for users and purchases completed\")\n",
    "plt.savefig('corrplot_w_regline.png')\n",
    "plt.show()"
   ]
  },
  {
   "cell_type": "markdown",
   "id": "54aa93b3-c217-4f1d-9a1d-e9ef8c50ebe8",
   "metadata": {},
   "source": [
    "## Fitting a simple linear regression model using OLS\n",
    "\n",
    "We can fit a simple regression line to our data such that the sum of squared errors (residuals) are minimized. We call this approach *\"Ordinary Least Squares\"* (OLS)"
   ]
  },
  {
   "cell_type": "markdown",
   "id": "66a54350-da66-4659-935c-a45fb807b301",
   "metadata": {},
   "source": [
    "We will first use the [statsmodels](https://www.statsmodels.org/stable/index.html) package to fit a OLS model to our data. See also https://www.statsmodels.org/stable/regression.html\n",
    "\n",
    "First we import the relevant package"
   ]
  },
  {
   "cell_type": "code",
   "execution_count": 8,
   "id": "c5243609-8900-4966-be7b-d0d405bd46af",
   "metadata": {},
   "outputs": [],
   "source": [
    "import statsmodels.api as sm"
   ]
  },
  {
   "cell_type": "markdown",
   "id": "a8293957-3d57-40c4-bcaf-42ee579685b3",
   "metadata": {},
   "source": [
    "We define our *Users* column to be our X data."
   ]
  },
  {
   "cell_type": "code",
   "execution_count": 9,
   "id": "13d6e975-2ac3-4f6a-8f08-b8523e76bc2e",
   "metadata": {},
   "outputs": [],
   "source": [
    "X = webdata[\"Users\"]"
   ]
  },
  {
   "cell_type": "code",
   "execution_count": 10,
   "id": "4f29ae68-0945-4ec2-8882-386440b04bf6",
   "metadata": {},
   "outputs": [
    {
     "data": {
      "text/plain": [
       "0     560\n",
       "1     378\n",
       "2     412\n",
       "3     499\n",
       "4     375\n",
       "     ... \n",
       "87    351\n",
       "88    398\n",
       "89    209\n",
       "90    224\n",
       "91    472\n",
       "Name: Users, Length: 92, dtype: int64"
      ]
     },
     "execution_count": 10,
     "metadata": {},
     "output_type": "execute_result"
    }
   ],
   "source": [
    "X"
   ]
  },
  {
   "cell_type": "markdown",
   "id": "66eb4719-4103-449c-9a3e-c8793d06a18f",
   "metadata": {},
   "source": [
    "Using statsmodels, we have to add the intercept (in the form of a column of 1s)"
   ]
  },
  {
   "cell_type": "code",
   "execution_count": 11,
   "id": "dabe622d-beb7-4b13-b19a-728bc0becaeb",
   "metadata": {},
   "outputs": [],
   "source": [
    "X = sm.add_constant(X)"
   ]
  },
  {
   "cell_type": "code",
   "execution_count": 12,
   "id": "a65b7a2b-c152-4bc8-ac5c-9b727f6d4587",
   "metadata": {},
   "outputs": [
    {
     "data": {
      "text/html": [
       "<div>\n",
       "<style scoped>\n",
       "    .dataframe tbody tr th:only-of-type {\n",
       "        vertical-align: middle;\n",
       "    }\n",
       "\n",
       "    .dataframe tbody tr th {\n",
       "        vertical-align: top;\n",
       "    }\n",
       "\n",
       "    .dataframe thead th {\n",
       "        text-align: right;\n",
       "    }\n",
       "</style>\n",
       "<table border=\"1\" class=\"dataframe\">\n",
       "  <thead>\n",
       "    <tr style=\"text-align: right;\">\n",
       "      <th></th>\n",
       "      <th>const</th>\n",
       "      <th>Users</th>\n",
       "    </tr>\n",
       "  </thead>\n",
       "  <tbody>\n",
       "    <tr>\n",
       "      <th>0</th>\n",
       "      <td>1.0</td>\n",
       "      <td>560</td>\n",
       "    </tr>\n",
       "    <tr>\n",
       "      <th>1</th>\n",
       "      <td>1.0</td>\n",
       "      <td>378</td>\n",
       "    </tr>\n",
       "    <tr>\n",
       "      <th>2</th>\n",
       "      <td>1.0</td>\n",
       "      <td>412</td>\n",
       "    </tr>\n",
       "    <tr>\n",
       "      <th>3</th>\n",
       "      <td>1.0</td>\n",
       "      <td>499</td>\n",
       "    </tr>\n",
       "    <tr>\n",
       "      <th>4</th>\n",
       "      <td>1.0</td>\n",
       "      <td>375</td>\n",
       "    </tr>\n",
       "    <tr>\n",
       "      <th>...</th>\n",
       "      <td>...</td>\n",
       "      <td>...</td>\n",
       "    </tr>\n",
       "    <tr>\n",
       "      <th>87</th>\n",
       "      <td>1.0</td>\n",
       "      <td>351</td>\n",
       "    </tr>\n",
       "    <tr>\n",
       "      <th>88</th>\n",
       "      <td>1.0</td>\n",
       "      <td>398</td>\n",
       "    </tr>\n",
       "    <tr>\n",
       "      <th>89</th>\n",
       "      <td>1.0</td>\n",
       "      <td>209</td>\n",
       "    </tr>\n",
       "    <tr>\n",
       "      <th>90</th>\n",
       "      <td>1.0</td>\n",
       "      <td>224</td>\n",
       "    </tr>\n",
       "    <tr>\n",
       "      <th>91</th>\n",
       "      <td>1.0</td>\n",
       "      <td>472</td>\n",
       "    </tr>\n",
       "  </tbody>\n",
       "</table>\n",
       "<p>92 rows × 2 columns</p>\n",
       "</div>"
      ],
      "text/plain": [
       "    const  Users\n",
       "0     1.0    560\n",
       "1     1.0    378\n",
       "2     1.0    412\n",
       "3     1.0    499\n",
       "4     1.0    375\n",
       "..    ...    ...\n",
       "87    1.0    351\n",
       "88    1.0    398\n",
       "89    1.0    209\n",
       "90    1.0    224\n",
       "91    1.0    472\n",
       "\n",
       "[92 rows x 2 columns]"
      ]
     },
     "execution_count": 12,
     "metadata": {},
     "output_type": "execute_result"
    }
   ],
   "source": [
    "X"
   ]
  },
  {
   "cell_type": "markdown",
   "id": "d5556fd5-3fd0-46c0-95fe-de7ecc39d84e",
   "metadata": {},
   "source": [
    "We then set the *PurchaseCompleted* column to our y."
   ]
  },
  {
   "cell_type": "code",
   "execution_count": 13,
   "id": "66a54778-b312-4470-a2ec-c0301bede5ca",
   "metadata": {},
   "outputs": [],
   "source": [
    "y = webdata[\"PurchaseCompleted\"]"
   ]
  },
  {
   "cell_type": "markdown",
   "id": "21e7b666-f7f4-4dac-8708-e02485864242",
   "metadata": {},
   "source": [
    "We can now fit a simple linear regression model using OLS"
   ]
  },
  {
   "cell_type": "code",
   "execution_count": 14,
   "id": "2fae82d4-f388-44f6-9273-99e7ca94a000",
   "metadata": {},
   "outputs": [],
   "source": [
    "linreg_model = sm.OLS(y, X).fit()"
   ]
  },
  {
   "cell_type": "markdown",
   "id": "1875d2a6-16ba-44a4-a703-c26f909f2724",
   "metadata": {},
   "source": [
    "We can get a lot of information about our model from the summary method."
   ]
  },
  {
   "cell_type": "code",
   "execution_count": 15,
   "id": "b83556a9-77e9-44de-9d70-c27757f8a8bc",
   "metadata": {},
   "outputs": [
    {
     "data": {
      "text/html": [
       "<table class=\"simpletable\">\n",
       "<caption>OLS Regression Results</caption>\n",
       "<tr>\n",
       "  <th>Dep. Variable:</th>    <td>PurchaseCompleted</td> <th>  R-squared:         </th> <td>   0.378</td>\n",
       "</tr>\n",
       "<tr>\n",
       "  <th>Model:</th>                   <td>OLS</td>        <th>  Adj. R-squared:    </th> <td>   0.372</td>\n",
       "</tr>\n",
       "<tr>\n",
       "  <th>Method:</th>             <td>Least Squares</td>   <th>  F-statistic:       </th> <td>   54.80</td>\n",
       "</tr>\n",
       "<tr>\n",
       "  <th>Date:</th>             <td>Wed, 12 Feb 2025</td>  <th>  Prob (F-statistic):</th> <td>6.81e-11</td>\n",
       "</tr>\n",
       "<tr>\n",
       "  <th>Time:</th>                 <td>09:20:13</td>      <th>  Log-Likelihood:    </th> <td> -258.35</td>\n",
       "</tr>\n",
       "<tr>\n",
       "  <th>No. Observations:</th>      <td>    92</td>       <th>  AIC:               </th> <td>   520.7</td>\n",
       "</tr>\n",
       "<tr>\n",
       "  <th>Df Residuals:</th>          <td>    90</td>       <th>  BIC:               </th> <td>   525.8</td>\n",
       "</tr>\n",
       "<tr>\n",
       "  <th>Df Model:</th>              <td>     1</td>       <th>                     </th>     <td> </td>   \n",
       "</tr>\n",
       "<tr>\n",
       "  <th>Covariance Type:</th>      <td>nonrobust</td>     <th>                     </th>     <td> </td>   \n",
       "</tr>\n",
       "</table>\n",
       "<table class=\"simpletable\">\n",
       "<tr>\n",
       "    <td></td>       <th>coef</th>     <th>std err</th>      <th>t</th>      <th>P>|t|</th>  <th>[0.025</th>    <th>0.975]</th>  \n",
       "</tr>\n",
       "<tr>\n",
       "  <th>const</th> <td>   -2.3670</td> <td>    1.309</td> <td>   -1.808</td> <td> 0.074</td> <td>   -4.968</td> <td>    0.234</td>\n",
       "</tr>\n",
       "<tr>\n",
       "  <th>Users</th> <td>    0.0297</td> <td>    0.004</td> <td>    7.403</td> <td> 0.000</td> <td>    0.022</td> <td>    0.038</td>\n",
       "</tr>\n",
       "</table>\n",
       "<table class=\"simpletable\">\n",
       "<tr>\n",
       "  <th>Omnibus:</th>       <td>37.103</td> <th>  Durbin-Watson:     </th> <td>   0.767</td>\n",
       "</tr>\n",
       "<tr>\n",
       "  <th>Prob(Omnibus):</th> <td> 0.000</td> <th>  Jarque-Bera (JB):  </th> <td>  81.388</td>\n",
       "</tr>\n",
       "<tr>\n",
       "  <th>Skew:</th>          <td> 1.511</td> <th>  Prob(JB):          </th> <td>2.12e-18</td>\n",
       "</tr>\n",
       "<tr>\n",
       "  <th>Kurtosis:</th>      <td> 6.478</td> <th>  Cond. No.          </th> <td>1.01e+03</td>\n",
       "</tr>\n",
       "</table><br/><br/>Notes:<br/>[1] Standard Errors assume that the covariance matrix of the errors is correctly specified.<br/>[2] The condition number is large, 1.01e+03. This might indicate that there are<br/>strong multicollinearity or other numerical problems."
      ],
      "text/latex": [
       "\\begin{center}\n",
       "\\begin{tabular}{lclc}\n",
       "\\toprule\n",
       "\\textbf{Dep. Variable:}    & PurchaseCompleted & \\textbf{  R-squared:         } &     0.378   \\\\\n",
       "\\textbf{Model:}            &        OLS        & \\textbf{  Adj. R-squared:    } &     0.372   \\\\\n",
       "\\textbf{Method:}           &   Least Squares   & \\textbf{  F-statistic:       } &     54.80   \\\\\n",
       "\\textbf{Date:}             &  Wed, 12 Feb 2025 & \\textbf{  Prob (F-statistic):} &  6.81e-11   \\\\\n",
       "\\textbf{Time:}             &      09:20:13     & \\textbf{  Log-Likelihood:    } &   -258.35   \\\\\n",
       "\\textbf{No. Observations:} &           92      & \\textbf{  AIC:               } &     520.7   \\\\\n",
       "\\textbf{Df Residuals:}     &           90      & \\textbf{  BIC:               } &     525.8   \\\\\n",
       "\\textbf{Df Model:}         &            1      & \\textbf{                     } &             \\\\\n",
       "\\textbf{Covariance Type:}  &     nonrobust     & \\textbf{                     } &             \\\\\n",
       "\\bottomrule\n",
       "\\end{tabular}\n",
       "\\begin{tabular}{lcccccc}\n",
       "               & \\textbf{coef} & \\textbf{std err} & \\textbf{t} & \\textbf{P$> |$t$|$} & \\textbf{[0.025} & \\textbf{0.975]}  \\\\\n",
       "\\midrule\n",
       "\\textbf{const} &      -2.3670  &        1.309     &    -1.808  &         0.074        &       -4.968    &        0.234     \\\\\n",
       "\\textbf{Users} &       0.0297  &        0.004     &     7.403  &         0.000        &        0.022    &        0.038     \\\\\n",
       "\\bottomrule\n",
       "\\end{tabular}\n",
       "\\begin{tabular}{lclc}\n",
       "\\textbf{Omnibus:}       & 37.103 & \\textbf{  Durbin-Watson:     } &    0.767  \\\\\n",
       "\\textbf{Prob(Omnibus):} &  0.000 & \\textbf{  Jarque-Bera (JB):  } &   81.388  \\\\\n",
       "\\textbf{Skew:}          &  1.511 & \\textbf{  Prob(JB):          } & 2.12e-18  \\\\\n",
       "\\textbf{Kurtosis:}      &  6.478 & \\textbf{  Cond. No.          } & 1.01e+03  \\\\\n",
       "\\bottomrule\n",
       "\\end{tabular}\n",
       "%\\caption{OLS Regression Results}\n",
       "\\end{center}\n",
       "\n",
       "Notes: \\newline\n",
       " [1] Standard Errors assume that the covariance matrix of the errors is correctly specified. \\newline\n",
       " [2] The condition number is large, 1.01e+03. This might indicate that there are \\newline\n",
       " strong multicollinearity or other numerical problems."
      ],
      "text/plain": [
       "<class 'statsmodels.iolib.summary.Summary'>\n",
       "\"\"\"\n",
       "                            OLS Regression Results                            \n",
       "==============================================================================\n",
       "Dep. Variable:      PurchaseCompleted   R-squared:                       0.378\n",
       "Model:                            OLS   Adj. R-squared:                  0.372\n",
       "Method:                 Least Squares   F-statistic:                     54.80\n",
       "Date:                Wed, 12 Feb 2025   Prob (F-statistic):           6.81e-11\n",
       "Time:                        09:20:13   Log-Likelihood:                -258.35\n",
       "No. Observations:                  92   AIC:                             520.7\n",
       "Df Residuals:                      90   BIC:                             525.8\n",
       "Df Model:                           1                                         \n",
       "Covariance Type:            nonrobust                                         \n",
       "==============================================================================\n",
       "                 coef    std err          t      P>|t|      [0.025      0.975]\n",
       "------------------------------------------------------------------------------\n",
       "const         -2.3670      1.309     -1.808      0.074      -4.968       0.234\n",
       "Users          0.0297      0.004      7.403      0.000       0.022       0.038\n",
       "==============================================================================\n",
       "Omnibus:                       37.103   Durbin-Watson:                   0.767\n",
       "Prob(Omnibus):                  0.000   Jarque-Bera (JB):               81.388\n",
       "Skew:                           1.511   Prob(JB):                     2.12e-18\n",
       "Kurtosis:                       6.478   Cond. No.                     1.01e+03\n",
       "==============================================================================\n",
       "\n",
       "Notes:\n",
       "[1] Standard Errors assume that the covariance matrix of the errors is correctly specified.\n",
       "[2] The condition number is large, 1.01e+03. This might indicate that there are\n",
       "strong multicollinearity or other numerical problems.\n",
       "\"\"\""
      ]
     },
     "execution_count": 15,
     "metadata": {},
     "output_type": "execute_result"
    }
   ],
   "source": [
    "linreg_model.summary()"
   ]
  },
  {
   "cell_type": "markdown",
   "id": "f3a21d3d-65c6-4d0c-99c9-257837289cbe",
   "metadata": {},
   "source": [
    "**Interpretation of the model**\n",
    "\n",
    "Here we see general information about the model at the top, such as R-squared (0.378) and  Adjusted R-squared (0.372). That is, our model explain 37.8% of the variance in purchases completed by the variance in users.\n",
    "\n",
    "This is followed by information about each of the coefficients (including the intercept named \"const\"). The *coef* column is the value for the coefficient found by OLS. The *P>|t|* column give us the p-value associated with that column - if it is less than our significance level, the cofficient is statistically different from 0. This is the most interesting information about the model for now.\n",
    "\n",
    "We see that for each additional user, we can expect 0.0297 purchases completed, that is for 100 additional users we will expect to see almost 3 purchases completed (100*0.0297). With a p-value of basically 0, we can also conclude that this relationship is indeed statistically significant. The intercept of -2.3670 is not quite significant as the p-values is 0.074, which is above 0.05."
   ]
  },
  {
   "cell_type": "markdown",
   "id": "458b60d9-ed05-42c1-8a09-b0c067f21130",
   "metadata": {},
   "source": [
    "### Retrieving coefficients and plotting fitted regression line"
   ]
  },
  {
   "cell_type": "markdown",
   "id": "46de33ae-0cf3-4700-b62f-e59fa6cd6c57",
   "metadata": {},
   "source": [
    "We can also get the parameters or coefficients from the fitted model the following way:"
   ]
  },
  {
   "cell_type": "code",
   "execution_count": 16,
   "id": "c0470d78-2937-4ccd-98e8-04f3b697fdc2",
   "metadata": {},
   "outputs": [
    {
     "data": {
      "text/plain": [
       "const   -2.367030\n",
       "Users    0.029698\n",
       "dtype: float64"
      ]
     },
     "execution_count": 16,
     "metadata": {},
     "output_type": "execute_result"
    }
   ],
   "source": [
    "linreg_model.params"
   ]
  },
  {
   "cell_type": "markdown",
   "id": "b5784f5b-d4a0-418e-85ab-46417b999310",
   "metadata": {},
   "source": [
    "We can then use that to manually calculate the prediction for each point in webdata:"
   ]
  },
  {
   "cell_type": "code",
   "execution_count": 17,
   "id": "58d10f69-044a-4b45-b93e-c900830232de",
   "metadata": {},
   "outputs": [
    {
     "data": {
      "text/plain": [
       "0     14.263597\n",
       "1      8.858643\n",
       "2      9.868360\n",
       "3     12.452047\n",
       "4      8.769551\n",
       "        ...    \n",
       "87     8.056810\n",
       "88     9.452594\n",
       "89     3.839758\n",
       "90     4.285221\n",
       "91    11.650213\n",
       "Name: Users, Length: 92, dtype: float64"
      ]
     },
     "execution_count": 17,
     "metadata": {},
     "output_type": "execute_result"
    }
   ],
   "source": [
    "pred_y = linreg_model.params[\"const\"] + linreg_model.params[\"Users\"]*webdata[\"Users\"]\n",
    "pred_y"
   ]
  },
  {
   "cell_type": "markdown",
   "id": "8737b9ac-2c39-4cb2-b535-49eed6af374b",
   "metadata": {},
   "source": [
    "We can now manually add the OLS regression line to our scatter plot"
   ]
  },
  {
   "cell_type": "code",
   "execution_count": 18,
   "id": "e4f74f15-370c-4cdc-9a85-461804651dc5",
   "metadata": {},
   "outputs": [
    {
     "data": {
      "image/png": "[encoded data removed]",
      "text/plain": [
       "<Figure size 640x480 with 1 Axes>"
      ]
     },
     "metadata": {},
     "output_type": "display_data"
    }
   ],
   "source": [
    "sns.scatterplot(data = webdata, x = \"Users\", y = \"PurchaseCompleted\")\n",
    "plt.plot(webdata[\"Users\"], pred_y, color = \"orange\")\n",
    "plt.show()"
   ]
  },
  {
   "cell_type": "markdown",
   "id": "d375252d-59f2-4dd3-a9cd-32328a301566",
   "metadata": {},
   "source": [
    "Which looks the same as the regression plot we got from Seaborns regplot:"
   ]
  },
  {
   "cell_type": "code",
   "execution_count": 19,
   "id": "2760434b-273a-44d4-b956-b6e6b4c2058a",
   "metadata": {},
   "outputs": [
    {
     "data": {
      "image/png": "[encoded data removed]",
      "text/plain": [
       "<Figure size 640x480 with 1 Axes>"
      ]
     },
     "metadata": {},
     "output_type": "display_data"
    }
   ],
   "source": [
    "sns.regplot(data = webdata, x = \"Users\", y = \"PurchaseCompleted\", ci=None)\n",
    "plt.show()"
   ]
  },
  {
   "cell_type": "markdown",
   "id": "9e431f73-30c7-48e2-8820-7b0fb486dd69",
   "metadata": {},
   "source": [
    "We could also have gotten the prediction on our data directly from the model object using the predict method."
   ]
  },
  {
   "cell_type": "code",
   "execution_count": 20,
   "id": "f5745fff-5d87-4dca-8342-d757f0bfb802",
   "metadata": {},
   "outputs": [
    {
     "data": {
      "text/plain": [
       "array([14.2635974 ,  8.85864349,  9.86836016, 12.45204691,  8.76955085,\n",
       "        2.74094842,  3.18641165, 10.076243  , 10.55140378,  8.88834104,\n",
       "        9.00713124,  9.60108222,  2.47367047,  5.44342537, 18.09458121,\n",
       "       10.96716947, 10.1356381 ,  8.76955085,  7.25497585,  2.80034351,\n",
       "        2.94883126,  9.24471163, 10.1356381 ,  9.09622388,  8.41318026,\n",
       "        5.97798125,  1.90941705,  2.80034351,  6.83921017,  8.71015575,\n",
       "       12.89751015,  6.30465429,  6.27495674,  2.29548518,  2.14699744,\n",
       "        4.46340625,  5.79979595,  4.81977684,  5.91858615,  9.66047731,\n",
       "        2.11729989,  2.85973861,  6.92830281,  6.75011752,  8.08650722,\n",
       "       11.82839838,  7.99741457,  2.47367047,  3.57247978,  7.61134644,\n",
       "        7.78953173,  7.84892683,  6.45314203,  5.56221556,  2.65185577,\n",
       "        3.00822636,  7.55195134,  6.24525919,  8.17559987,  7.3440685 ,\n",
       "        4.37431361,  1.96881214,  2.17669499,  5.71070331, 10.10594055,\n",
       "        9.54168712,  5.79979595,  6.24525919,  3.48338714,  3.83975773,\n",
       "        6.48283958,  7.49255624,  8.32408761,  7.52225379,  6.18586409,\n",
       "        4.16643076,  4.10703567,  7.75983418,  7.81922928,  8.35378516,\n",
       "        6.30465429,  5.20584498,  2.91913371,  3.54278224,  7.61134644,\n",
       "        6.54223468, 11.4126327 ,  8.05680967,  9.45259447,  3.83975773,\n",
       "        4.28522096, 11.65021309])"
      ]
     },
     "execution_count": 20,
     "metadata": {},
     "output_type": "execute_result"
    }
   ],
   "source": [
    "linreg_model.predict()"
   ]
  },
  {
   "cell_type": "markdown",
   "id": "8e4afac8-f7cb-4401-8e67-29b546ac256b",
   "metadata": {},
   "source": [
    "We can verify that they are the same as our manually calculated predictions."
   ]
  },
  {
   "cell_type": "code",
   "execution_count": 21,
   "id": "3b43bc8b-7e32-4005-bc9f-2895e0d48187",
   "metadata": {},
   "outputs": [
    {
     "data": {
      "text/html": [
       "<div>\n",
       "<style scoped>\n",
       "    .dataframe tbody tr th:only-of-type {\n",
       "        vertical-align: middle;\n",
       "    }\n",
       "\n",
       "    .dataframe tbody tr th {\n",
       "        vertical-align: top;\n",
       "    }\n",
       "\n",
       "    .dataframe thead th {\n",
       "        text-align: right;\n",
       "    }\n",
       "</style>\n",
       "<table border=\"1\" class=\"dataframe\">\n",
       "  <thead>\n",
       "    <tr style=\"text-align: right;\">\n",
       "      <th></th>\n",
       "      <th>PredictMethod</th>\n",
       "      <th>ManuallyCalculated</th>\n",
       "      <th>Difference</th>\n",
       "    </tr>\n",
       "  </thead>\n",
       "  <tbody>\n",
       "    <tr>\n",
       "      <th>0</th>\n",
       "      <td>14.263597</td>\n",
       "      <td>14.263597</td>\n",
       "      <td>1.776357e-15</td>\n",
       "    </tr>\n",
       "    <tr>\n",
       "      <th>1</th>\n",
       "      <td>8.858643</td>\n",
       "      <td>8.858643</td>\n",
       "      <td>0.000000e+00</td>\n",
       "    </tr>\n",
       "    <tr>\n",
       "      <th>2</th>\n",
       "      <td>9.868360</td>\n",
       "      <td>9.868360</td>\n",
       "      <td>0.000000e+00</td>\n",
       "    </tr>\n",
       "    <tr>\n",
       "      <th>3</th>\n",
       "      <td>12.452047</td>\n",
       "      <td>12.452047</td>\n",
       "      <td>0.000000e+00</td>\n",
       "    </tr>\n",
       "    <tr>\n",
       "      <th>4</th>\n",
       "      <td>8.769551</td>\n",
       "      <td>8.769551</td>\n",
       "      <td>0.000000e+00</td>\n",
       "    </tr>\n",
       "    <tr>\n",
       "      <th>...</th>\n",
       "      <td>...</td>\n",
       "      <td>...</td>\n",
       "      <td>...</td>\n",
       "    </tr>\n",
       "    <tr>\n",
       "      <th>87</th>\n",
       "      <td>8.056810</td>\n",
       "      <td>8.056810</td>\n",
       "      <td>0.000000e+00</td>\n",
       "    </tr>\n",
       "    <tr>\n",
       "      <th>88</th>\n",
       "      <td>9.452594</td>\n",
       "      <td>9.452594</td>\n",
       "      <td>0.000000e+00</td>\n",
       "    </tr>\n",
       "    <tr>\n",
       "      <th>89</th>\n",
       "      <td>3.839758</td>\n",
       "      <td>3.839758</td>\n",
       "      <td>4.440892e-16</td>\n",
       "    </tr>\n",
       "    <tr>\n",
       "      <th>90</th>\n",
       "      <td>4.285221</td>\n",
       "      <td>4.285221</td>\n",
       "      <td>0.000000e+00</td>\n",
       "    </tr>\n",
       "    <tr>\n",
       "      <th>91</th>\n",
       "      <td>11.650213</td>\n",
       "      <td>11.650213</td>\n",
       "      <td>0.000000e+00</td>\n",
       "    </tr>\n",
       "  </tbody>\n",
       "</table>\n",
       "<p>92 rows × 3 columns</p>\n",
       "</div>"
      ],
      "text/plain": [
       "    PredictMethod  ManuallyCalculated    Difference\n",
       "0       14.263597           14.263597  1.776357e-15\n",
       "1        8.858643            8.858643  0.000000e+00\n",
       "2        9.868360            9.868360  0.000000e+00\n",
       "3       12.452047           12.452047  0.000000e+00\n",
       "4        8.769551            8.769551  0.000000e+00\n",
       "..            ...                 ...           ...\n",
       "87       8.056810            8.056810  0.000000e+00\n",
       "88       9.452594            9.452594  0.000000e+00\n",
       "89       3.839758            3.839758  4.440892e-16\n",
       "90       4.285221            4.285221  0.000000e+00\n",
       "91      11.650213           11.650213  0.000000e+00\n",
       "\n",
       "[92 rows x 3 columns]"
      ]
     },
     "execution_count": 21,
     "metadata": {},
     "output_type": "execute_result"
    }
   ],
   "source": [
    "pred_test_df = pd.DataFrame({\"PredictMethod\": linreg_model.predict(), \"ManuallyCalculated\" : pred_y})\n",
    "pred_test_df[\"Difference\"] = pred_test_df[\"PredictMethod\"] - pred_test_df[\"ManuallyCalculated\"]\n",
    "pred_test_df"
   ]
  },
  {
   "cell_type": "code",
   "execution_count": 22,
   "id": "9145840c-cb18-4c59-89f7-22682d985d05",
   "metadata": {},
   "outputs": [
    {
     "data": {
      "text/plain": [
       "1.0436096431476471e-14"
      ]
     },
     "execution_count": 22,
     "metadata": {},
     "output_type": "execute_result"
    }
   ],
   "source": [
    "sum(pred_test_df[\"Difference\"])"
   ]
  },
  {
   "cell_type": "markdown",
   "id": "fe95e1cc-ad31-41b0-891c-dbdb68c48585",
   "metadata": {},
   "source": [
    "Apparently there are some very small rounding errors somewhere, but they are not significant."
   ]
  },
  {
   "cell_type": "markdown",
   "id": "0b1640be-6df3-41a7-a1cd-a22d963a39e9",
   "metadata": {},
   "source": [
    "### Model performance measures"
   ]
  },
  {
   "cell_type": "markdown",
   "id": "ff044b00-4353-4fc8-b2fe-0bf65e859c4e",
   "metadata": {},
   "source": [
    "We can also get the R-squared directly from the fitted model object."
   ]
  },
  {
   "cell_type": "code",
   "execution_count": 23,
   "id": "2857be40-6285-498d-a61c-ee17e8483826",
   "metadata": {},
   "outputs": [
    {
     "data": {
      "text/plain": [
       "0.37847262621338407"
      ]
     },
     "execution_count": 23,
     "metadata": {},
     "output_type": "execute_result"
    }
   ],
   "source": [
    "linreg_model.rsquared"
   ]
  },
  {
   "cell_type": "code",
   "execution_count": 24,
   "id": "8cda14bc-6722-4419-b1f4-9f8fde0c3b70",
   "metadata": {},
   "outputs": [
    {
     "data": {
      "text/plain": [
       "0.37156676650464393"
      ]
     },
     "execution_count": 24,
     "metadata": {},
     "output_type": "execute_result"
    }
   ],
   "source": [
    "linreg_model.rsquared_adj"
   ]
  },
  {
   "cell_type": "markdown",
   "id": "09afda5c-b124-4569-b498-1ce09f1a64d1",
   "metadata": {},
   "source": [
    "We can get the residuals of the model also"
   ]
  },
  {
   "cell_type": "code",
   "execution_count": 25,
   "id": "df16449e-8361-4397-bd38-5768eeac803e",
   "metadata": {},
   "outputs": [
    {
     "data": {
      "text/plain": [
       "0     -6.263597\n",
       "1      1.141357\n",
       "2      1.131640\n",
       "3     -5.452047\n",
       "4      2.230449\n",
       "        ...    \n",
       "87    14.943190\n",
       "88    13.547406\n",
       "89     6.160242\n",
       "90    11.714779\n",
       "91    13.349787\n",
       "Length: 92, dtype: float64"
      ]
     },
     "execution_count": 25,
     "metadata": {},
     "output_type": "execute_result"
    }
   ],
   "source": [
    "linreg_model.resid"
   ]
  },
  {
   "cell_type": "markdown",
   "id": "f03182a8-77f3-49e7-8327-1d46728b0322",
   "metadata": {},
   "source": [
    "Using these, we can calculate the *MAE* (Mean Absolute Error)."
   ]
  },
  {
   "cell_type": "code",
   "execution_count": 26,
   "id": "177f8586-f3d2-4f74-a57c-6d997d63b2ce",
   "metadata": {},
   "outputs": [
    {
     "data": {
      "text/plain": [
       "2.7583876196345005"
      ]
     },
     "execution_count": 26,
     "metadata": {},
     "output_type": "execute_result"
    }
   ],
   "source": [
    "np.mean(np.abs(linreg_model.resid))"
   ]
  },
  {
   "cell_type": "markdown",
   "id": "d9d13a4c-2f9b-46ac-a7cb-b115ae19b0e4",
   "metadata": {},
   "source": [
    "and the *MSE* (Mean Squared Error)."
   ]
  },
  {
   "cell_type": "code",
   "execution_count": 27,
   "id": "2c26878f-1f26-4e22-b3ef-7ad0c533756e",
   "metadata": {},
   "outputs": [
    {
     "data": {
      "text/plain": [
       "16.09538539763005"
      ]
     },
     "execution_count": 27,
     "metadata": {},
     "output_type": "execute_result"
    }
   ],
   "source": [
    "np.mean(linreg_model.resid**2)"
   ]
  },
  {
   "cell_type": "markdown",
   "id": "842a54e8-4adb-4963-8022-1e442fdce9a3",
   "metadata": {},
   "source": [
    "and the *RMSE* (Root Mean Squared Error)."
   ]
  },
  {
   "cell_type": "code",
   "execution_count": 28,
   "id": "3ac74a29-4d3c-40c1-a83c-b614b1bd1a42",
   "metadata": {},
   "outputs": [
    {
     "data": {
      "text/plain": [
       "4.011905457214819"
      ]
     },
     "execution_count": 28,
     "metadata": {},
     "output_type": "execute_result"
    }
   ],
   "source": [
    "np.sqrt(np.mean(linreg_model.resid**2))"
   ]
  },
  {
   "cell_type": "markdown",
   "id": "1ab23f15-4ffd-487f-8cb2-ae96a800c5f6",
   "metadata": {},
   "source": [
    "## Fitting simple linear regression using scikit-learn\n",
    "\n",
    "We can also use the machine learning package [scikit-learn](https://scikit-learn.org/stable/) to fit a linear regression model (also using OLS). First we import the linear_model submodule."
   ]
  },
  {
   "cell_type": "code",
   "execution_count": 29,
   "id": "0af7c6fa-b39f-4fb3-8076-685cf3942b41",
   "metadata": {},
   "outputs": [],
   "source": [
    "from sklearn import linear_model"
   ]
  },
  {
   "cell_type": "markdown",
   "id": "0b6a0725-5baf-4944-b20d-198ecf240253",
   "metadata": {},
   "source": [
    "Then we define a linear regression mode."
   ]
  },
  {
   "cell_type": "code",
   "execution_count": 30,
   "id": "dd8a9697-629d-4b72-80e6-f78d24ce9d98",
   "metadata": {},
   "outputs": [],
   "source": [
    "linreg_model_sk = linear_model.LinearRegression()"
   ]
  },
  {
   "cell_type": "markdown",
   "id": "1b24d4ec-80db-4464-9ee2-b47457668f54",
   "metadata": {},
   "source": [
    "For scikit-learn we do not need to have an intercept column explicitly in our X dataset. However, we still need to have it as a pandas dataframe. Thus we define a new X first."
   ]
  },
  {
   "cell_type": "code",
   "execution_count": 31,
   "id": "e88a9e3e-87bb-49c5-85f8-47b4b8323341",
   "metadata": {},
   "outputs": [],
   "source": [
    "X_no_int = webdata[[\"Users\"]]"
   ]
  },
  {
   "cell_type": "markdown",
   "id": "87538182-62ee-4091-b908-a0ffbbaaf7a1",
   "metadata": {},
   "source": [
    "We can now fit the model."
   ]
  },
  {
   "cell_type": "code",
   "execution_count": 32,
   "id": "aaf1d8d5-123c-42cb-9bed-95eb872f3d67",
   "metadata": {},
   "outputs": [
    {
     "data": {
      "text/html": [
       "<style>#sk-container-id-1 {\n",
       "  /* Definition of color scheme common for light and dark mode */\n",
       "  --sklearn-color-text: black;\n",
       "  --sklearn-color-line: gray;\n",
       "  /* Definition of color scheme for unfitted estimators */\n",
       "  --sklearn-color-unfitted-level-0: #fff5e6;\n",
       "  --sklearn-color-unfitted-level-1: #f6e4d2;\n",
       "  --sklearn-color-unfitted-level-2: #ffe0b3;\n",
       "  --sklearn-color-unfitted-level-3: chocolate;\n",
       "  /* Definition of color scheme for fitted estimators */\n",
       "  --sklearn-color-fitted-level-0: #f0f8ff;\n",
       "  --sklearn-color-fitted-level-1: #d4ebff;\n",
       "  --sklearn-color-fitted-level-2: #b3dbfd;\n",
       "  --sklearn-color-fitted-level-3: cornflowerblue;\n",
       "\n",
       "  /* Specific color for light theme */\n",
       "  --sklearn-color-text-on-default-background: var(--sg-text-color, var(--theme-code-foreground, var(--jp-content-font-color1, black)));\n",
       "  --sklearn-color-background: var(--sg-background-color, var(--theme-background, var(--jp-layout-color0, white)));\n",
       "  --sklearn-color-border-box: var(--sg-text-color, var(--theme-code-foreground, var(--jp-content-font-color1, black)));\n",
       "  --sklearn-color-icon: #696969;\n",
       "\n",
       "  @media (prefers-color-scheme: dark) {\n",
       "    /* Redefinition of color scheme for dark theme */\n",
       "    --sklearn-color-text-on-default-background: var(--sg-text-color, var(--theme-code-foreground, var(--jp-content-font-color1, white)));\n",
       "    --sklearn-color-background: var(--sg-background-color, var(--theme-background, var(--jp-layout-color0, #111)));\n",
       "    --sklearn-color-border-box: var(--sg-text-color, var(--theme-code-foreground, var(--jp-content-font-color1, white)));\n",
       "    --sklearn-color-icon: #878787;\n",
       "  }\n",
       "}\n",
       "\n",
       "#sk-container-id-1 {\n",
       "  color: var(--sklearn-color-text);\n",
       "}\n",
       "\n",
       "#sk-container-id-1 pre {\n",
       "  padding: 0;\n",
       "}\n",
       "\n",
       "#sk-container-id-1 input.sk-hidden--visually {\n",
       "  border: 0;\n",
       "  clip: rect(1px 1px 1px 1px);\n",
       "  clip: rect(1px, 1px, 1px, 1px);\n",
       "  height: 1px;\n",
       "  margin: -1px;\n",
       "  overflow: hidden;\n",
       "  padding: 0;\n",
       "  position: absolute;\n",
       "  width: 1px;\n",
       "}\n",
       "\n",
       "#sk-container-id-1 div.sk-dashed-wrapped {\n",
       "  border: 1px dashed var(--sklearn-color-line);\n",
       "  margin: 0 0.4em 0.5em 0.4em;\n",
       "  box-sizing: border-box;\n",
       "  padding-bottom: 0.4em;\n",
       "  background-color: var(--sklearn-color-background);\n",
       "}\n",
       "\n",
       "#sk-container-id-1 div.sk-container {\n",
       "  /* jupyter's `normalize.less` sets `[hidden] { display: none; }`\n",
       "     but bootstrap.min.css set `[hidden] { display: none !important; }`\n",
       "     so we also need the `!important` here to be able to override the\n",
       "     default hidden behavior on the sphinx rendered scikit-learn.org.\n",
       "     See: https://github.com/scikit-learn/scikit-learn/issues/21755 */\n",
       "  display: inline-block !important;\n",
       "  position: relative;\n",
       "}\n",
       "\n",
       "#sk-container-id-1 div.sk-text-repr-fallback {\n",
       "  display: none;\n",
       "}\n",
       "\n",
       "div.sk-parallel-item,\n",
       "div.sk-serial,\n",
       "div.sk-item {\n",
       "  /* draw centered vertical line to link estimators */\n",
       "  background-image: linear-gradient(var(--sklearn-color-text-on-default-background), var(--sklearn-color-text-on-default-background));\n",
       "  background-size: 2px 100%;\n",
       "  background-repeat: no-repeat;\n",
       "  background-position: center center;\n",
       "}\n",
       "\n",
       "/* Parallel-specific style estimator block */\n",
       "\n",
       "#sk-container-id-1 div.sk-parallel-item::after {\n",
       "  content: \"\";\n",
       "  width: 100%;\n",
       "  border-bottom: 2px solid var(--sklearn-color-text-on-default-background);\n",
       "  flex-grow: 1;\n",
       "}\n",
       "\n",
       "#sk-container-id-1 div.sk-parallel {\n",
       "  display: flex;\n",
       "  align-items: stretch;\n",
       "  justify-content: center;\n",
       "  background-color: var(--sklearn-color-background);\n",
       "  position: relative;\n",
       "}\n",
       "\n",
       "#sk-container-id-1 div.sk-parallel-item {\n",
       "  display: flex;\n",
       "  flex-direction: column;\n",
       "}\n",
       "\n",
       "#sk-container-id-1 div.sk-parallel-item:first-child::after {\n",
       "  align-self: flex-end;\n",
       "  width: 50%;\n",
       "}\n",
       "\n",
       "#sk-container-id-1 div.sk-parallel-item:last-child::after {\n",
       "  align-self: flex-start;\n",
       "  width: 50%;\n",
       "}\n",
       "\n",
       "#sk-container-id-1 div.sk-parallel-item:only-child::after {\n",
       "  width: 0;\n",
       "}\n",
       "\n",
       "/* Serial-specific style estimator block */\n",
       "\n",
       "#sk-container-id-1 div.sk-serial {\n",
       "  display: flex;\n",
       "  flex-direction: column;\n",
       "  align-items: center;\n",
       "  background-color: var(--sklearn-color-background);\n",
       "  padding-right: 1em;\n",
       "  padding-left: 1em;\n",
       "}\n",
       "\n",
       "\n",
       "/* Toggleable style: style used for estimator/Pipeline/ColumnTransformer box that is\n",
       "clickable and can be expanded/collapsed.\n",
       "- Pipeline and ColumnTransformer use this feature and define the default style\n",
       "- Estimators will overwrite some part of the style using the `sk-estimator` class\n",
       "*/\n",
       "\n",
       "/* Pipeline and ColumnTransformer style (default) */\n",
       "\n",
       "#sk-container-id-1 div.sk-toggleable {\n",
       "  /* Default theme specific background. It is overwritten whether we have a\n",
       "  specific estimator or a Pipeline/ColumnTransformer */\n",
       "  background-color: var(--sklearn-color-background);\n",
       "}\n",
       "\n",
       "/* Toggleable label */\n",
       "#sk-container-id-1 label.sk-toggleable__label {\n",
       "  cursor: pointer;\n",
       "  display: block;\n",
       "  width: 100%;\n",
       "  margin-bottom: 0;\n",
       "  padding: 0.5em;\n",
       "  box-sizing: border-box;\n",
       "  text-align: center;\n",
       "}\n",
       "\n",
       "#sk-container-id-1 label.sk-toggleable__label-arrow:before {\n",
       "  /* Arrow on the left of the label */\n",
       "  content: \"▸\";\n",
       "  float: left;\n",
       "  margin-right: 0.25em;\n",
       "  color: var(--sklearn-color-icon);\n",
       "}\n",
       "\n",
       "#sk-container-id-1 label.sk-toggleable__label-arrow:hover:before {\n",
       "  color: var(--sklearn-color-text);\n",
       "}\n",
       "\n",
       "/* Toggleable content - dropdown */\n",
       "\n",
       "#sk-container-id-1 div.sk-toggleable__content {\n",
       "  max-height: 0;\n",
       "  max-width: 0;\n",
       "  overflow: hidden;\n",
       "  text-align: left;\n",
       "  /* unfitted */\n",
       "  background-color: var(--sklearn-color-unfitted-level-0);\n",
       "}\n",
       "\n",
       "#sk-container-id-1 div.sk-toggleable__content.fitted {\n",
       "  /* fitted */\n",
       "  background-color: var(--sklearn-color-fitted-level-0);\n",
       "}\n",
       "\n",
       "#sk-container-id-1 div.sk-toggleable__content pre {\n",
       "  margin: 0.2em;\n",
       "  border-radius: 0.25em;\n",
       "  color: var(--sklearn-color-text);\n",
       "  /* unfitted */\n",
       "  background-color: var(--sklearn-color-unfitted-level-0);\n",
       "}\n",
       "\n",
       "#sk-container-id-1 div.sk-toggleable__content.fitted pre {\n",
       "  /* unfitted */\n",
       "  background-color: var(--sklearn-color-fitted-level-0);\n",
       "}\n",
       "\n",
       "#sk-container-id-1 input.sk-toggleable__control:checked~div.sk-toggleable__content {\n",
       "  /* Expand drop-down */\n",
       "  max-height: 200px;\n",
       "  max-width: 100%;\n",
       "  overflow: auto;\n",
       "}\n",
       "\n",
       "#sk-container-id-1 input.sk-toggleable__control:checked~label.sk-toggleable__label-arrow:before {\n",
       "  content: \"▾\";\n",
       "}\n",
       "\n",
       "/* Pipeline/ColumnTransformer-specific style */\n",
       "\n",
       "#sk-container-id-1 div.sk-label input.sk-toggleable__control:checked~label.sk-toggleable__label {\n",
       "  color: var(--sklearn-color-text);\n",
       "  background-color: var(--sklearn-color-unfitted-level-2);\n",
       "}\n",
       "\n",
       "#sk-container-id-1 div.sk-label.fitted input.sk-toggleable__control:checked~label.sk-toggleable__label {\n",
       "  background-color: var(--sklearn-color-fitted-level-2);\n",
       "}\n",
       "\n",
       "/* Estimator-specific style */\n",
       "\n",
       "/* Colorize estimator box */\n",
       "#sk-container-id-1 div.sk-estimator input.sk-toggleable__control:checked~label.sk-toggleable__label {\n",
       "  /* unfitted */\n",
       "  background-color: var(--sklearn-color-unfitted-level-2);\n",
       "}\n",
       "\n",
       "#sk-container-id-1 div.sk-estimator.fitted input.sk-toggleable__control:checked~label.sk-toggleable__label {\n",
       "  /* fitted */\n",
       "  background-color: var(--sklearn-color-fitted-level-2);\n",
       "}\n",
       "\n",
       "#sk-container-id-1 div.sk-label label.sk-toggleable__label,\n",
       "#sk-container-id-1 div.sk-label label {\n",
       "  /* The background is the default theme color */\n",
       "  color: var(--sklearn-color-text-on-default-background);\n",
       "}\n",
       "\n",
       "/* On hover, darken the color of the background */\n",
       "#sk-container-id-1 div.sk-label:hover label.sk-toggleable__label {\n",
       "  color: var(--sklearn-color-text);\n",
       "  background-color: var(--sklearn-color-unfitted-level-2);\n",
       "}\n",
       "\n",
       "/* Label box, darken color on hover, fitted */\n",
       "#sk-container-id-1 div.sk-label.fitted:hover label.sk-toggleable__label.fitted {\n",
       "  color: var(--sklearn-color-text);\n",
       "  background-color: var(--sklearn-color-fitted-level-2);\n",
       "}\n",
       "\n",
       "/* Estimator label */\n",
       "\n",
       "#sk-container-id-1 div.sk-label label {\n",
       "  font-family: monospace;\n",
       "  font-weight: bold;\n",
       "  display: inline-block;\n",
       "  line-height: 1.2em;\n",
       "}\n",
       "\n",
       "#sk-container-id-1 div.sk-label-container {\n",
       "  text-align: center;\n",
       "}\n",
       "\n",
       "/* Estimator-specific */\n",
       "#sk-container-id-1 div.sk-estimator {\n",
       "  font-family: monospace;\n",
       "  border: 1px dotted var(--sklearn-color-border-box);\n",
       "  border-radius: 0.25em;\n",
       "  box-sizing: border-box;\n",
       "  margin-bottom: 0.5em;\n",
       "  /* unfitted */\n",
       "  background-color: var(--sklearn-color-unfitted-level-0);\n",
       "}\n",
       "\n",
       "#sk-container-id-1 div.sk-estimator.fitted {\n",
       "  /* fitted */\n",
       "  background-color: var(--sklearn-color-fitted-level-0);\n",
       "}\n",
       "\n",
       "/* on hover */\n",
       "#sk-container-id-1 div.sk-estimator:hover {\n",
       "  /* unfitted */\n",
       "  background-color: var(--sklearn-color-unfitted-level-2);\n",
       "}\n",
       "\n",
       "#sk-container-id-1 div.sk-estimator.fitted:hover {\n",
       "  /* fitted */\n",
       "  background-color: var(--sklearn-color-fitted-level-2);\n",
       "}\n",
       "\n",
       "/* Specification for estimator info (e.g. \"i\" and \"?\") */\n",
       "\n",
       "/* Common style for \"i\" and \"?\" */\n",
       "\n",
       ".sk-estimator-doc-link,\n",
       "a:link.sk-estimator-doc-link,\n",
       "a:visited.sk-estimator-doc-link {\n",
       "  float: right;\n",
       "  font-size: smaller;\n",
       "  line-height: 1em;\n",
       "  font-family: monospace;\n",
       "  background-color: var(--sklearn-color-background);\n",
       "  border-radius: 1em;\n",
       "  height: 1em;\n",
       "  width: 1em;\n",
       "  text-decoration: none !important;\n",
       "  margin-left: 1ex;\n",
       "  /* unfitted */\n",
       "  border: var(--sklearn-color-unfitted-level-1) 1pt solid;\n",
       "  color: var(--sklearn-color-unfitted-level-1);\n",
       "}\n",
       "\n",
       ".sk-estimator-doc-link.fitted,\n",
       "a:link.sk-estimator-doc-link.fitted,\n",
       "a:visited.sk-estimator-doc-link.fitted {\n",
       "  /* fitted */\n",
       "  border: var(--sklearn-color-fitted-level-1) 1pt solid;\n",
       "  color: var(--sklearn-color-fitted-level-1);\n",
       "}\n",
       "\n",
       "/* On hover */\n",
       "div.sk-estimator:hover .sk-estimator-doc-link:hover,\n",
       ".sk-estimator-doc-link:hover,\n",
       "div.sk-label-container:hover .sk-estimator-doc-link:hover,\n",
       ".sk-estimator-doc-link:hover {\n",
       "  /* unfitted */\n",
       "  background-color: var(--sklearn-color-unfitted-level-3);\n",
       "  color: var(--sklearn-color-background);\n",
       "  text-decoration: none;\n",
       "}\n",
       "\n",
       "div.sk-estimator.fitted:hover .sk-estimator-doc-link.fitted:hover,\n",
       ".sk-estimator-doc-link.fitted:hover,\n",
       "div.sk-label-container:hover .sk-estimator-doc-link.fitted:hover,\n",
       ".sk-estimator-doc-link.fitted:hover {\n",
       "  /* fitted */\n",
       "  background-color: var(--sklearn-color-fitted-level-3);\n",
       "  color: var(--sklearn-color-background);\n",
       "  text-decoration: none;\n",
       "}\n",
       "\n",
       "/* Span, style for the box shown on hovering the info icon */\n",
       ".sk-estimator-doc-link span {\n",
       "  display: none;\n",
       "  z-index: 9999;\n",
       "  position: relative;\n",
       "  font-weight: normal;\n",
       "  right: .2ex;\n",
       "  padding: .5ex;\n",
       "  margin: .5ex;\n",
       "  width: min-content;\n",
       "  min-width: 20ex;\n",
       "  max-width: 50ex;\n",
       "  color: var(--sklearn-color-text);\n",
       "  box-shadow: 2pt 2pt 4pt #999;\n",
       "  /* unfitted */\n",
       "  background: var(--sklearn-color-unfitted-level-0);\n",
       "  border: .5pt solid var(--sklearn-color-unfitted-level-3);\n",
       "}\n",
       "\n",
       ".sk-estimator-doc-link.fitted span {\n",
       "  /* fitted */\n",
       "  background: var(--sklearn-color-fitted-level-0);\n",
       "  border: var(--sklearn-color-fitted-level-3);\n",
       "}\n",
       "\n",
       ".sk-estimator-doc-link:hover span {\n",
       "  display: block;\n",
       "}\n",
       "\n",
       "/* \"?\"-specific style due to the `<a>` HTML tag */\n",
       "\n",
       "#sk-container-id-1 a.estimator_doc_link {\n",
       "  float: right;\n",
       "  font-size: 1rem;\n",
       "  line-height: 1em;\n",
       "  font-family: monospace;\n",
       "  background-color: var(--sklearn-color-background);\n",
       "  border-radius: 1rem;\n",
       "  height: 1rem;\n",
       "  width: 1rem;\n",
       "  text-decoration: none;\n",
       "  /* unfitted */\n",
       "  color: var(--sklearn-color-unfitted-level-1);\n",
       "  border: var(--sklearn-color-unfitted-level-1) 1pt solid;\n",
       "}\n",
       "\n",
       "#sk-container-id-1 a.estimator_doc_link.fitted {\n",
       "  /* fitted */\n",
       "  border: var(--sklearn-color-fitted-level-1) 1pt solid;\n",
       "  color: var(--sklearn-color-fitted-level-1);\n",
       "}\n",
       "\n",
       "/* On hover */\n",
       "#sk-container-id-1 a.estimator_doc_link:hover {\n",
       "  /* unfitted */\n",
       "  background-color: var(--sklearn-color-unfitted-level-3);\n",
       "  color: var(--sklearn-color-background);\n",
       "  text-decoration: none;\n",
       "}\n",
       "\n",
       "#sk-container-id-1 a.estimator_doc_link.fitted:hover {\n",
       "  /* fitted */\n",
       "  background-color: var(--sklearn-color-fitted-level-3);\n",
       "}\n",
       "</style><div id=\"sk-container-id-1\" class=\"sk-top-container\"><div class=\"sk-text-repr-fallback\"><pre>LinearRegression()</pre><b>In a Jupyter environment, please rerun this cell to show the HTML representation or trust the notebook. <br />On GitHub, the HTML representation is unable to render, please try loading this page with nbviewer.org.</b></div><div class=\"sk-container\" hidden><div class=\"sk-item\"><div class=\"sk-estimator fitted sk-toggleable\"><input class=\"sk-toggleable__control sk-hidden--visually\" id=\"sk-estimator-id-1\" type=\"checkbox\" checked><label for=\"sk-estimator-id-1\" class=\"sk-toggleable__label fitted sk-toggleable__label-arrow fitted\">&nbsp;&nbsp;LinearRegression<a class=\"sk-estimator-doc-link fitted\" rel=\"noreferrer\" target=\"_blank\" href=\"https://scikit-learn.org/1.5/modules/generated/sklearn.linear_model.LinearRegression.html\">?<span>Documentation for LinearRegression</span></a><span class=\"sk-estimator-doc-link fitted\">i<span>Fitted</span></span></label><div class=\"sk-toggleable__content fitted\"><pre>LinearRegression()</pre></div> </div></div></div></div>"
      ],
      "text/plain": [
       "LinearRegression()"
      ]
     },
     "execution_count": 32,
     "metadata": {},
     "output_type": "execute_result"
    }
   ],
   "source": [
    "linreg_model_sk.fit(X_no_int, y)"
   ]
  },
  {
   "cell_type": "markdown",
   "id": "90b0c7c6-41af-4f13-902a-a7571fb1d64b",
   "metadata": {},
   "source": [
    "Getting the coefficient in scikit-learn will give us all the coefficient except the coefficient for the intercept. That we have to get seperately."
   ]
  },
  {
   "cell_type": "code",
   "execution_count": 33,
   "id": "8b47867c-2ce4-4c53-9b65-74801615fa95",
   "metadata": {},
   "outputs": [
    {
     "data": {
      "text/plain": [
       "array([0.02969755])"
      ]
     },
     "execution_count": 33,
     "metadata": {},
     "output_type": "execute_result"
    }
   ],
   "source": [
    "linreg_model_sk.coef_"
   ]
  },
  {
   "cell_type": "code",
   "execution_count": 34,
   "id": "8844f05b-1aa5-4c7f-ac92-f819b28e2807",
   "metadata": {},
   "outputs": [
    {
     "data": {
      "text/plain": [
       "-2.3670299993102377"
      ]
     },
     "execution_count": 34,
     "metadata": {},
     "output_type": "execute_result"
    }
   ],
   "source": [
    "linreg_model_sk.intercept_"
   ]
  },
  {
   "cell_type": "markdown",
   "id": "5d4c96d9-2031-4dc3-8f9f-14f5b6a69305",
   "metadata": {},
   "source": [
    "We see that we get the same value as for statsmodels OLS."
   ]
  },
  {
   "cell_type": "markdown",
   "id": "5d522fe6-ee19-440a-bc2c-d8281ec018b7",
   "metadata": {},
   "source": [
    "To get the prediction of the model, we can use the `.predict` method. Note that we have to give the method some X data to predict on. This is useful if one have trained the model on some training data and want to predict for some test data."
   ]
  },
  {
   "cell_type": "code",
   "execution_count": 35,
   "id": "fc18ff7f-4e84-44bb-a174-ff388527ba8c",
   "metadata": {},
   "outputs": [
    {
     "data": {
      "text/plain": [
       "array([14.2635974 ,  8.85864349,  9.86836016, 12.45204691,  8.76955085,\n",
       "        2.74094842,  3.18641165, 10.076243  , 10.55140378,  8.88834104,\n",
       "        9.00713124,  9.60108222,  2.47367047,  5.44342537, 18.09458121,\n",
       "       10.96716947, 10.1356381 ,  8.76955085,  7.25497585,  2.80034351,\n",
       "        2.94883126,  9.24471163, 10.1356381 ,  9.09622388,  8.41318026,\n",
       "        5.97798125,  1.90941705,  2.80034351,  6.83921017,  8.71015575,\n",
       "       12.89751015,  6.30465429,  6.27495674,  2.29548518,  2.14699744,\n",
       "        4.46340625,  5.79979595,  4.81977684,  5.91858615,  9.66047731,\n",
       "        2.11729989,  2.85973861,  6.92830281,  6.75011752,  8.08650722,\n",
       "       11.82839838,  7.99741457,  2.47367047,  3.57247978,  7.61134644,\n",
       "        7.78953173,  7.84892683,  6.45314203,  5.56221556,  2.65185577,\n",
       "        3.00822636,  7.55195134,  6.24525919,  8.17559987,  7.3440685 ,\n",
       "        4.37431361,  1.96881214,  2.17669499,  5.71070331, 10.10594055,\n",
       "        9.54168712,  5.79979595,  6.24525919,  3.48338714,  3.83975773,\n",
       "        6.48283958,  7.49255624,  8.32408761,  7.52225379,  6.18586409,\n",
       "        4.16643076,  4.10703567,  7.75983418,  7.81922928,  8.35378516,\n",
       "        6.30465429,  5.20584498,  2.91913371,  3.54278224,  7.61134644,\n",
       "        6.54223468, 11.4126327 ,  8.05680967,  9.45259447,  3.83975773,\n",
       "        4.28522096, 11.65021309])"
      ]
     },
     "execution_count": 35,
     "metadata": {},
     "output_type": "execute_result"
    }
   ],
   "source": [
    "linreg_model_sk.predict(X_no_int)"
   ]
  },
  {
   "cell_type": "markdown",
   "id": "d7b1d117-471e-40ed-9f8a-c177d3511915",
   "metadata": {},
   "source": [
    "We can also get the R-squared, but here we need to provide data. This is useful if one have trained a model on some training data and wants to calculate R-squared on some test data."
   ]
  },
  {
   "cell_type": "code",
   "execution_count": 37,
   "id": "70080abc-d2ce-4edd-802c-9cf834b83b3c",
   "metadata": {},
   "outputs": [
    {
     "data": {
      "text/plain": [
       "0.37847262621338407"
      ]
     },
     "execution_count": 37,
     "metadata": {},
     "output_type": "execute_result"
    }
   ],
   "source": [
    "linreg_model_sk.score(X_no_int, y) # r^2"
   ]
  },
  {
   "cell_type": "markdown",
   "id": "e104fa46-569e-4484-a082-95ae1c383b5f",
   "metadata": {},
   "source": [
    "Scikit-learn also comes with a metrics submodule with all sorts of evaluation metrics (See https://scikit-learn.org/stable/modules/classes.html#module-sklearn.metrics)"
   ]
  },
  {
   "cell_type": "code",
   "execution_count": 38,
   "id": "9d113df7-8b1d-41d5-829b-f8e12630601e",
   "metadata": {},
   "outputs": [],
   "source": [
    "from sklearn.metrics import r2_score, mean_absolute_error, mean_squared_error, root_mean_squared_error"
   ]
  },
  {
   "cell_type": "markdown",
   "id": "6d44e001-5577-4978-9273-e3dd33ef8442",
   "metadata": {},
   "source": [
    "All of these take the true and the predicted values as arrays. Thus, we first define a variable for the predicted."
   ]
  },
  {
   "cell_type": "code",
   "execution_count": 39,
   "id": "132ccfa9-9c03-4a2a-a8e3-5692c090a351",
   "metadata": {},
   "outputs": [],
   "source": [
    "y_pred_sk = linreg_model_sk.predict(X_no_int)"
   ]
  },
  {
   "cell_type": "code",
   "execution_count": 40,
   "id": "0d7aca7d-e7f5-4bac-b600-2b863b088d44",
   "metadata": {},
   "outputs": [
    {
     "data": {
      "text/plain": [
       "0.37847262621338407"
      ]
     },
     "execution_count": 40,
     "metadata": {},
     "output_type": "execute_result"
    }
   ],
   "source": [
    "r2_score(y, y_pred_sk)"
   ]
  },
  {
   "cell_type": "code",
   "execution_count": 41,
   "id": "f1368e75-8cd7-4213-af4f-065ef71c8523",
   "metadata": {},
   "outputs": [
    {
     "data": {
      "text/plain": [
       "2.7583876196345"
      ]
     },
     "execution_count": 41,
     "metadata": {},
     "output_type": "execute_result"
    }
   ],
   "source": [
    "mean_absolute_error(y, y_pred_sk)"
   ]
  },
  {
   "cell_type": "code",
   "execution_count": 42,
   "id": "a4fa8ce2-c76b-433f-8ea9-c67181733995",
   "metadata": {},
   "outputs": [
    {
     "data": {
      "text/plain": [
       "16.09538539763005"
      ]
     },
     "execution_count": 42,
     "metadata": {},
     "output_type": "execute_result"
    }
   ],
   "source": [
    "mean_squared_error(y, y_pred_sk)"
   ]
  },
  {
   "cell_type": "code",
   "execution_count": 43,
   "id": "b34676f7-c06a-4a1b-9ce5-048b1237ea36",
   "metadata": {},
   "outputs": [
    {
     "data": {
      "text/plain": [
       "4.011905457214819"
      ]
     },
     "execution_count": 43,
     "metadata": {},
     "output_type": "execute_result"
    }
   ],
   "source": [
    "root_mean_squared_error(y, y_pred_sk)"
   ]
  },
  {
   "cell_type": "markdown",
   "id": "44078670-94df-4014-af39-a216816d6830",
   "metadata": {},
   "source": [
    "If you use linear regression as a machine learning model for prediction, don't forget to do a train-test split of your data. (More about this next time!)"
   ]
  },
  {
   "cell_type": "code",
   "execution_count": null,
   "id": "b3d87ed3-41ab-45fe-a3bc-3957bc99da43",
   "metadata": {},
   "outputs": [],
   "source": []
  }
 ],
 "metadata": {
  "kernelspec": {
   "display_name": "Python 3 (ipykernel)",
   "language": "python",
   "name": "python3"
  },
  "language_info": {
   "codemirror_mode": {
    "name": "ipython",
    "version": 3
   },
   "file_extension": ".py",
   "mimetype": "text/x-python",
   "name": "python",
   "nbconvert_exporter": "python",
   "pygments_lexer": "ipython3",
   "version": "3.12.7"
  }
 },
 "nbformat": 4,
 "nbformat_minor": 5
}
