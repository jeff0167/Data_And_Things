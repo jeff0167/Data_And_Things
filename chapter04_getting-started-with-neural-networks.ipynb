{
 "cells": [
  {
   "cell_type": "markdown",
   "metadata": {
    "colab_type": "text"
   },
   "source": [
    "This is a companion notebook for the book [Deep Learning with Python, Second Edition](https://www.manning.com/books/deep-learning-with-python-second-edition?a_aid=keras&a_bid=76564dff). For readability, it only contains runnable code blocks and section titles, and omits everything else in the book: text paragraphs, figures, and pseudocode.\n",
    "\n",
    "**If you want to be able to follow what's going on, I recommend reading the notebook side by side with your copy of the book.**\n",
    "\n",
    "This notebook was generated for TensorFlow 2.6."
   ]
  },
  {
   "cell_type": "markdown",
   "metadata": {
    "colab_type": "text"
   },
   "source": [
    "# Getting started with neural networks: Classification and regression"
   ]
  },
  {
   "cell_type": "markdown",
   "metadata": {
    "colab_type": "text"
   },
   "source": [
    "## Classifying movie reviews: A binary classification example"
   ]
  },
  {
   "cell_type": "markdown",
   "metadata": {
    "colab_type": "text"
   },
   "source": [
    "### The IMDB dataset"
   ]
  },
  {
   "cell_type": "markdown",
   "metadata": {
    "colab_type": "text"
   },
   "source": [
    "**Loading the IMDB dataset**"
   ]
  },
  {
   "cell_type": "code",
   "execution_count": 1,
   "metadata": {
    "colab_type": "code"
   },
   "outputs": [
    {
     "name": "stdout",
     "output_type": "stream",
     "text": [
      "Downloading data from https://storage.googleapis.com/tensorflow/tf-keras-datasets/imdb.npz\n",
      "\u001b[1m17464789/17464789\u001b[0m \u001b[32m━━━━━━━━━━━━━━━━━━━━\u001b[0m\u001b[37m\u001b[0m \u001b[1m2s\u001b[0m 0us/step \n"
     ]
    }
   ],
   "source": [
    "from tensorflow.keras.datasets import imdb\n",
    "(train_data, train_labels), (test_data, test_labels) = imdb.load_data(\n",
    "    num_words=10000)"
   ]
  },
  {
   "cell_type": "code",
   "execution_count": 2,
   "metadata": {
    "colab_type": "code",
    "scrolled": true
   },
   "outputs": [
    {
     "data": {
      "text/plain": [
       "[1,\n",
       " 14,\n",
       " 22,\n",
       " 16,\n",
       " 43,\n",
       " 530,\n",
       " 973,\n",
       " 1622,\n",
       " 1385,\n",
       " 65,\n",
       " 458,\n",
       " 4468,\n",
       " 66,\n",
       " 3941,\n",
       " 4,\n",
       " 173,\n",
       " 36,\n",
       " 256,\n",
       " 5,\n",
       " 25,\n",
       " 100,\n",
       " 43,\n",
       " 838,\n",
       " 112,\n",
       " 50,\n",
       " 670,\n",
       " 2,\n",
       " 9,\n",
       " 35,\n",
       " 480,\n",
       " 284,\n",
       " 5,\n",
       " 150,\n",
       " 4,\n",
       " 172,\n",
       " 112,\n",
       " 167,\n",
       " 2,\n",
       " 336,\n",
       " 385,\n",
       " 39,\n",
       " 4,\n",
       " 172,\n",
       " 4536,\n",
       " 1111,\n",
       " 17,\n",
       " 546,\n",
       " 38,\n",
       " 13,\n",
       " 447,\n",
       " 4,\n",
       " 192,\n",
       " 50,\n",
       " 16,\n",
       " 6,\n",
       " 147,\n",
       " 2025,\n",
       " 19,\n",
       " 14,\n",
       " 22,\n",
       " 4,\n",
       " 1920,\n",
       " 4613,\n",
       " 469,\n",
       " 4,\n",
       " 22,\n",
       " 71,\n",
       " 87,\n",
       " 12,\n",
       " 16,\n",
       " 43,\n",
       " 530,\n",
       " 38,\n",
       " 76,\n",
       " 15,\n",
       " 13,\n",
       " 1247,\n",
       " 4,\n",
       " 22,\n",
       " 17,\n",
       " 515,\n",
       " 17,\n",
       " 12,\n",
       " 16,\n",
       " 626,\n",
       " 18,\n",
       " 2,\n",
       " 5,\n",
       " 62,\n",
       " 386,\n",
       " 12,\n",
       " 8,\n",
       " 316,\n",
       " 8,\n",
       " 106,\n",
       " 5,\n",
       " 4,\n",
       " 2223,\n",
       " 5244,\n",
       " 16,\n",
       " 480,\n",
       " 66,\n",
       " 3785,\n",
       " 33,\n",
       " 4,\n",
       " 130,\n",
       " 12,\n",
       " 16,\n",
       " 38,\n",
       " 619,\n",
       " 5,\n",
       " 25,\n",
       " 124,\n",
       " 51,\n",
       " 36,\n",
       " 135,\n",
       " 48,\n",
       " 25,\n",
       " 1415,\n",
       " 33,\n",
       " 6,\n",
       " 22,\n",
       " 12,\n",
       " 215,\n",
       " 28,\n",
       " 77,\n",
       " 52,\n",
       " 5,\n",
       " 14,\n",
       " 407,\n",
       " 16,\n",
       " 82,\n",
       " 2,\n",
       " 8,\n",
       " 4,\n",
       " 107,\n",
       " 117,\n",
       " 5952,\n",
       " 15,\n",
       " 256,\n",
       " 4,\n",
       " 2,\n",
       " 7,\n",
       " 3766,\n",
       " 5,\n",
       " 723,\n",
       " 36,\n",
       " 71,\n",
       " 43,\n",
       " 530,\n",
       " 476,\n",
       " 26,\n",
       " 400,\n",
       " 317,\n",
       " 46,\n",
       " 7,\n",
       " 4,\n",
       " 2,\n",
       " 1029,\n",
       " 13,\n",
       " 104,\n",
       " 88,\n",
       " 4,\n",
       " 381,\n",
       " 15,\n",
       " 297,\n",
       " 98,\n",
       " 32,\n",
       " 2071,\n",
       " 56,\n",
       " 26,\n",
       " 141,\n",
       " 6,\n",
       " 194,\n",
       " 7486,\n",
       " 18,\n",
       " 4,\n",
       " 226,\n",
       " 22,\n",
       " 21,\n",
       " 134,\n",
       " 476,\n",
       " 26,\n",
       " 480,\n",
       " 5,\n",
       " 144,\n",
       " 30,\n",
       " 5535,\n",
       " 18,\n",
       " 51,\n",
       " 36,\n",
       " 28,\n",
       " 224,\n",
       " 92,\n",
       " 25,\n",
       " 104,\n",
       " 4,\n",
       " 226,\n",
       " 65,\n",
       " 16,\n",
       " 38,\n",
       " 1334,\n",
       " 88,\n",
       " 12,\n",
       " 16,\n",
       " 283,\n",
       " 5,\n",
       " 16,\n",
       " 4472,\n",
       " 113,\n",
       " 103,\n",
       " 32,\n",
       " 15,\n",
       " 16,\n",
       " 5345,\n",
       " 19,\n",
       " 178,\n",
       " 32]"
      ]
     },
     "execution_count": 2,
     "metadata": {},
     "output_type": "execute_result"
    }
   ],
   "source": [
    "train_data[0]"
   ]
  },
  {
   "cell_type": "code",
   "execution_count": 3,
   "metadata": {
    "colab_type": "code"
   },
   "outputs": [
    {
     "data": {
      "text/plain": [
       "np.int64(1)"
      ]
     },
     "execution_count": 3,
     "metadata": {},
     "output_type": "execute_result"
    }
   ],
   "source": [
    "train_labels[0]"
   ]
  },
  {
   "cell_type": "code",
   "execution_count": 4,
   "metadata": {
    "colab_type": "code"
   },
   "outputs": [
    {
     "data": {
      "text/plain": [
       "9999"
      ]
     },
     "execution_count": 4,
     "metadata": {},
     "output_type": "execute_result"
    }
   ],
   "source": [
    "max([max(sequence) for sequence in train_data])"
   ]
  },
  {
   "cell_type": "code",
   "execution_count": 5,
   "metadata": {},
   "outputs": [
    {
     "name": "stdout",
     "output_type": "stream",
     "text": [
      "Training data shape: (25000,)\n",
      "Training labels shape: (25000,)\n",
      "Test data shape: (25000,)\n",
      "Test labels shape: (25000,)\n"
     ]
    }
   ],
   "source": [
    "# Let us look at the shapes of the data\n",
    "print(\"Training data shape:\", train_data.shape)\n",
    "print(\"Training labels shape:\", train_labels.shape)\n",
    "print(\"Test data shape:\", test_data.shape)\n",
    "print(\"Test labels shape:\", test_labels.shape)"
   ]
  },
  {
   "cell_type": "code",
   "execution_count": 6,
   "metadata": {},
   "outputs": [
    {
     "data": {
      "text/plain": [
       "array([list([1, 14, 22, 16, 43, 530, 973, 1622, 1385, 65, 458, 4468, 66, 3941, 4, 173, 36, 256, 5, 25, 100, 43, 838, 112, 50, 670, 2, 9, 35, 480, 284, 5, 150, 4, 172, 112, 167, 2, 336, 385, 39, 4, 172, 4536, 1111, 17, 546, 38, 13, 447, 4, 192, 50, 16, 6, 147, 2025, 19, 14, 22, 4, 1920, 4613, 469, 4, 22, 71, 87, 12, 16, 43, 530, 38, 76, 15, 13, 1247, 4, 22, 17, 515, 17, 12, 16, 626, 18, 2, 5, 62, 386, 12, 8, 316, 8, 106, 5, 4, 2223, 5244, 16, 480, 66, 3785, 33, 4, 130, 12, 16, 38, 619, 5, 25, 124, 51, 36, 135, 48, 25, 1415, 33, 6, 22, 12, 215, 28, 77, 52, 5, 14, 407, 16, 82, 2, 8, 4, 107, 117, 5952, 15, 256, 4, 2, 7, 3766, 5, 723, 36, 71, 43, 530, 476, 26, 400, 317, 46, 7, 4, 2, 1029, 13, 104, 88, 4, 381, 15, 297, 98, 32, 2071, 56, 26, 141, 6, 194, 7486, 18, 4, 226, 22, 21, 134, 476, 26, 480, 5, 144, 30, 5535, 18, 51, 36, 28, 224, 92, 25, 104, 4, 226, 65, 16, 38, 1334, 88, 12, 16, 283, 5, 16, 4472, 113, 103, 32, 15, 16, 5345, 19, 178, 32]),\n",
       "       list([1, 194, 1153, 194, 8255, 78, 228, 5, 6, 1463, 4369, 5012, 134, 26, 4, 715, 8, 118, 1634, 14, 394, 20, 13, 119, 954, 189, 102, 5, 207, 110, 3103, 21, 14, 69, 188, 8, 30, 23, 7, 4, 249, 126, 93, 4, 114, 9, 2300, 1523, 5, 647, 4, 116, 9, 35, 8163, 4, 229, 9, 340, 1322, 4, 118, 9, 4, 130, 4901, 19, 4, 1002, 5, 89, 29, 952, 46, 37, 4, 455, 9, 45, 43, 38, 1543, 1905, 398, 4, 1649, 26, 6853, 5, 163, 11, 3215, 2, 4, 1153, 9, 194, 775, 7, 8255, 2, 349, 2637, 148, 605, 2, 8003, 15, 123, 125, 68, 2, 6853, 15, 349, 165, 4362, 98, 5, 4, 228, 9, 43, 2, 1157, 15, 299, 120, 5, 120, 174, 11, 220, 175, 136, 50, 9, 4373, 228, 8255, 5, 2, 656, 245, 2350, 5, 4, 9837, 131, 152, 491, 18, 2, 32, 7464, 1212, 14, 9, 6, 371, 78, 22, 625, 64, 1382, 9, 8, 168, 145, 23, 4, 1690, 15, 16, 4, 1355, 5, 28, 6, 52, 154, 462, 33, 89, 78, 285, 16, 145, 95]),\n",
       "       list([1, 14, 47, 8, 30, 31, 7, 4, 249, 108, 7, 4, 5974, 54, 61, 369, 13, 71, 149, 14, 22, 112, 4, 2401, 311, 12, 16, 3711, 33, 75, 43, 1829, 296, 4, 86, 320, 35, 534, 19, 263, 4821, 1301, 4, 1873, 33, 89, 78, 12, 66, 16, 4, 360, 7, 4, 58, 316, 334, 11, 4, 1716, 43, 645, 662, 8, 257, 85, 1200, 42, 1228, 2578, 83, 68, 3912, 15, 36, 165, 1539, 278, 36, 69, 2, 780, 8, 106, 14, 6905, 1338, 18, 6, 22, 12, 215, 28, 610, 40, 6, 87, 326, 23, 2300, 21, 23, 22, 12, 272, 40, 57, 31, 11, 4, 22, 47, 6, 2307, 51, 9, 170, 23, 595, 116, 595, 1352, 13, 191, 79, 638, 89, 2, 14, 9, 8, 106, 607, 624, 35, 534, 6, 227, 7, 129, 113]),\n",
       "       ...,\n",
       "       list([1, 11, 6, 230, 245, 6401, 9, 6, 1225, 446, 2, 45, 2174, 84, 8322, 4007, 21, 4, 912, 84, 2, 325, 725, 134, 2, 1715, 84, 5, 36, 28, 57, 1099, 21, 8, 140, 8, 703, 5, 2, 84, 56, 18, 1644, 14, 9, 31, 7, 4, 9406, 1209, 2295, 2, 1008, 18, 6, 20, 207, 110, 563, 12, 8, 2901, 2, 8, 97, 6, 20, 53, 4767, 74, 4, 460, 364, 1273, 29, 270, 11, 960, 108, 45, 40, 29, 2961, 395, 11, 6, 4065, 500, 7, 2, 89, 364, 70, 29, 140, 4, 64, 4780, 11, 4, 2678, 26, 178, 4, 529, 443, 2, 5, 27, 710, 117, 2, 8123, 165, 47, 84, 37, 131, 818, 14, 595, 10, 10, 61, 1242, 1209, 10, 10, 288, 2260, 1702, 34, 2901, 2, 4, 65, 496, 4, 231, 7, 790, 5, 6, 320, 234, 2766, 234, 1119, 1574, 7, 496, 4, 139, 929, 2901, 2, 7750, 5, 4241, 18, 4, 8497, 2, 250, 11, 1818, 7561, 4, 4217, 5408, 747, 1115, 372, 1890, 1006, 541, 9303, 7, 4, 59, 2, 4, 3586, 2]),\n",
       "       list([1, 1446, 7079, 69, 72, 3305, 13, 610, 930, 8, 12, 582, 23, 5, 16, 484, 685, 54, 349, 11, 4120, 2959, 45, 58, 1466, 13, 197, 12, 16, 43, 23, 2, 5, 62, 30, 145, 402, 11, 4131, 51, 575, 32, 61, 369, 71, 66, 770, 12, 1054, 75, 100, 2198, 8, 4, 105, 37, 69, 147, 712, 75, 3543, 44, 257, 390, 5, 69, 263, 514, 105, 50, 286, 1814, 23, 4, 123, 13, 161, 40, 5, 421, 4, 116, 16, 897, 13, 2, 40, 319, 5872, 112, 6700, 11, 4803, 121, 25, 70, 3468, 4, 719, 3798, 13, 18, 31, 62, 40, 8, 7200, 4, 2, 7, 14, 123, 5, 942, 25, 8, 721, 12, 145, 5, 202, 12, 160, 580, 202, 12, 6, 52, 58, 2, 92, 401, 728, 12, 39, 14, 251, 8, 15, 251, 5, 2, 12, 38, 84, 80, 124, 12, 9, 23]),\n",
       "       list([1, 17, 6, 194, 337, 7, 4, 204, 22, 45, 254, 8, 106, 14, 123, 4, 2, 270, 2, 5, 2, 2, 732, 2098, 101, 405, 39, 14, 1034, 4, 1310, 9, 115, 50, 305, 12, 47, 4, 168, 5, 235, 7, 38, 111, 699, 102, 7, 4, 4039, 9245, 9, 24, 6, 78, 1099, 17, 2345, 2, 21, 27, 9685, 6139, 5, 2, 1603, 92, 1183, 4, 1310, 7, 4, 204, 42, 97, 90, 35, 221, 109, 29, 127, 27, 118, 8, 97, 12, 157, 21, 6789, 2, 9, 6, 66, 78, 1099, 4, 631, 1191, 5, 2642, 272, 191, 1070, 6, 7585, 8, 2197, 2, 2, 544, 5, 383, 1271, 848, 1468, 2, 497, 2, 8, 1597, 8778, 2, 21, 60, 27, 239, 9, 43, 8368, 209, 405, 10, 10, 12, 764, 40, 4, 248, 20, 12, 16, 5, 174, 1791, 72, 7, 51, 6, 1739, 22, 4, 204, 131, 9])],\n",
       "      dtype=object)"
      ]
     },
     "execution_count": 6,
     "metadata": {},
     "output_type": "execute_result"
    }
   ],
   "source": [
    "train_data"
   ]
  },
  {
   "cell_type": "markdown",
   "metadata": {
    "colab_type": "text"
   },
   "source": [
    "**Decoding reviews back to text**"
   ]
  },
  {
   "cell_type": "code",
   "execution_count": 7,
   "metadata": {
    "colab_type": "code"
   },
   "outputs": [
    {
     "name": "stdout",
     "output_type": "stream",
     "text": [
      "Downloading data from https://storage.googleapis.com/tensorflow/tf-keras-datasets/imdb_word_index.json\n",
      "\u001b[1m1641221/1641221\u001b[0m \u001b[32m━━━━━━━━━━━━━━━━━━━━\u001b[0m\u001b[37m\u001b[0m \u001b[1m0s\u001b[0m 0us/step\n"
     ]
    }
   ],
   "source": [
    "word_index = imdb.get_word_index()\n",
    "reverse_word_index = dict(\n",
    "    [(value, key) for (key, value) in word_index.items()])\n",
    "decoded_review = \" \".join(\n",
    "    [reverse_word_index.get(i - 3, \"?\") for i in train_data[0]])"
   ]
  },
  {
   "cell_type": "code",
   "execution_count": 8,
   "metadata": {},
   "outputs": [
    {
     "data": {
      "text/plain": [
       "\"? this film was just brilliant casting location scenery story direction everyone's really suited the part they played and you could just imagine being there robert ? is an amazing actor and now the same being director ? father came from the same scottish island as myself so i loved the fact there was a real connection with this film the witty remarks throughout the film were great it was just brilliant so much that i bought the film as soon as it was released for ? and would recommend it to everyone to watch and the fly fishing was amazing really cried at the end it was so sad and you know what they say if you cry at a film it must have been good and this definitely was also ? to the two little boy's that played the ? of norman and paul they were just brilliant children are often left out of the ? list i think because the stars that play them all grown up are such a big profile for the whole film but these children are amazing and should be praised for what they have done don't you think the whole story was so lovely because it was true and was someone's life after all that was shared with us all\""
      ]
     },
     "execution_count": 8,
     "metadata": {},
     "output_type": "execute_result"
    }
   ],
   "source": [
    "decoded_review"
   ]
  },
  {
   "cell_type": "markdown",
   "metadata": {
    "colab_type": "text"
   },
   "source": [
    "### Preparing the data"
   ]
  },
  {
   "cell_type": "markdown",
   "metadata": {
    "colab_type": "text"
   },
   "source": [
    "**Encoding the integer sequences via multi-hot encoding**"
   ]
  },
  {
   "cell_type": "code",
   "execution_count": 9,
   "metadata": {
    "colab_type": "code"
   },
   "outputs": [],
   "source": [
    "import numpy as np\n",
    "def vectorize_sequences(sequences, dimension=10000):\n",
    "    results = np.zeros((len(sequences), dimension))\n",
    "    for i, sequence in enumerate(sequences):\n",
    "        for j in sequence:\n",
    "            results[i, j] = 1.\n",
    "    return results\n",
    "x_train = vectorize_sequences(train_data)\n",
    "x_test = vectorize_sequences(test_data)"
   ]
  },
  {
   "cell_type": "code",
   "execution_count": 10,
   "metadata": {
    "colab_type": "code"
   },
   "outputs": [
    {
     "data": {
      "text/plain": [
       "array([0., 1., 1., ..., 0., 0., 0.])"
      ]
     },
     "execution_count": 10,
     "metadata": {},
     "output_type": "execute_result"
    }
   ],
   "source": [
    "x_train[0]"
   ]
  },
  {
   "cell_type": "code",
   "execution_count": 11,
   "metadata": {},
   "outputs": [
    {
     "data": {
      "text/plain": [
       "10000"
      ]
     },
     "execution_count": 11,
     "metadata": {},
     "output_type": "execute_result"
    }
   ],
   "source": [
    "len(x_train[0])"
   ]
  },
  {
   "cell_type": "code",
   "execution_count": 12,
   "metadata": {
    "colab_type": "code"
   },
   "outputs": [],
   "source": [
    "y_train = np.asarray(train_labels).astype(\"float32\")\n",
    "y_test = np.asarray(test_labels).astype(\"float32\")"
   ]
  },
  {
   "cell_type": "code",
   "execution_count": 13,
   "metadata": {},
   "outputs": [
    {
     "data": {
      "text/plain": [
       "array([1., 0., 0., ..., 0., 1., 0.], dtype=float32)"
      ]
     },
     "execution_count": 13,
     "metadata": {},
     "output_type": "execute_result"
    }
   ],
   "source": [
    "y_train"
   ]
  },
  {
   "cell_type": "code",
   "execution_count": 14,
   "metadata": {},
   "outputs": [
    {
     "name": "stdout",
     "output_type": "stream",
     "text": [
      "Training data shape: (25000, 10000)\n",
      "Training labels shape: (25000,)\n",
      "Test data shape: (25000, 10000)\n",
      "Test labels shape: (25000,)\n"
     ]
    }
   ],
   "source": [
    "# Let us see the shapes again\n",
    "print(\"Training data shape:\", x_train.shape)\n",
    "print(\"Training labels shape:\", y_train.shape)\n",
    "print(\"Test data shape:\", x_test.shape)\n",
    "print(\"Test labels shape:\", y_test.shape)"
   ]
  },
  {
   "cell_type": "markdown",
   "metadata": {
    "colab_type": "text"
   },
   "source": [
    "### Building your model"
   ]
  },
  {
   "cell_type": "markdown",
   "metadata": {
    "colab_type": "text"
   },
   "source": [
    "**Model definition**"
   ]
  },
  {
   "cell_type": "code",
   "execution_count": 15,
   "metadata": {
    "colab_type": "code"
   },
   "outputs": [],
   "source": [
    "from tensorflow import keras\n",
    "from tensorflow.keras import layers\n",
    "\n",
    "model = keras.Sequential([\n",
    "    layers.Dense(16, activation=\"relu\"),\n",
    "    layers.Dense(16, activation=\"relu\"),\n",
    "    layers.Dense(1, activation=\"sigmoid\")\n",
    "])"
   ]
  },
  {
   "cell_type": "markdown",
   "metadata": {
    "colab_type": "text"
   },
   "source": [
    "**Compiling the model**"
   ]
  },
  {
   "cell_type": "code",
   "execution_count": 16,
   "metadata": {
    "colab_type": "code"
   },
   "outputs": [],
   "source": [
    "model.compile(optimizer=\"rmsprop\",\n",
    "              loss=\"binary_crossentropy\",\n",
    "              metrics=[\"accuracy\"])"
   ]
  },
  {
   "cell_type": "markdown",
   "metadata": {
    "colab_type": "text"
   },
   "source": [
    "### Validating your approach"
   ]
  },
  {
   "cell_type": "markdown",
   "metadata": {
    "colab_type": "text"
   },
   "source": [
    "**Setting aside a validation set**"
   ]
  },
  {
   "cell_type": "code",
   "execution_count": 17,
   "metadata": {
    "colab_type": "code"
   },
   "outputs": [],
   "source": [
    "x_val = x_train[:10000]\n",
    "partial_x_train = x_train[10000:]\n",
    "y_val = y_train[:10000]\n",
    "partial_y_train = y_train[10000:]"
   ]
  },
  {
   "cell_type": "markdown",
   "metadata": {
    "colab_type": "text"
   },
   "source": [
    "**Training your model**"
   ]
  },
  {
   "cell_type": "code",
   "execution_count": 18,
   "metadata": {
    "colab_type": "code"
   },
   "outputs": [
    {
     "name": "stdout",
     "output_type": "stream",
     "text": [
      "Epoch 1/20\n",
      "\u001b[1m30/30\u001b[0m \u001b[32m━━━━━━━━━━━━━━━━━━━━\u001b[0m\u001b[37m\u001b[0m \u001b[1m5s\u001b[0m 115ms/step - accuracy: 0.6932 - loss: 0.6032 - val_accuracy: 0.8503 - val_loss: 0.4074\n",
      "Epoch 2/20\n",
      "\u001b[1m30/30\u001b[0m \u001b[32m━━━━━━━━━━━━━━━━━━━━\u001b[0m\u001b[37m\u001b[0m \u001b[1m1s\u001b[0m 19ms/step - accuracy: 0.8868 - loss: 0.3470 - val_accuracy: 0.8786 - val_loss: 0.3218\n",
      "Epoch 3/20\n",
      "\u001b[1m30/30\u001b[0m \u001b[32m━━━━━━━━━━━━━━━━━━━━\u001b[0m\u001b[37m\u001b[0m \u001b[1m1s\u001b[0m 18ms/step - accuracy: 0.9189 - loss: 0.2531 - val_accuracy: 0.8870 - val_loss: 0.2878\n",
      "Epoch 4/20\n",
      "\u001b[1m30/30\u001b[0m \u001b[32m━━━━━━━━━━━━━━━━━━━━\u001b[0m\u001b[37m\u001b[0m \u001b[1m1s\u001b[0m 19ms/step - accuracy: 0.9357 - loss: 0.2007 - val_accuracy: 0.8891 - val_loss: 0.2751\n",
      "Epoch 5/20\n",
      "\u001b[1m30/30\u001b[0m \u001b[32m━━━━━━━━━━━━━━━━━━━━\u001b[0m\u001b[37m\u001b[0m \u001b[1m1s\u001b[0m 18ms/step - accuracy: 0.9470 - loss: 0.1716 - val_accuracy: 0.8857 - val_loss: 0.2818\n",
      "Epoch 6/20\n",
      "\u001b[1m30/30\u001b[0m \u001b[32m━━━━━━━━━━━━━━━━━━━━\u001b[0m\u001b[37m\u001b[0m \u001b[1m1s\u001b[0m 15ms/step - accuracy: 0.9525 - loss: 0.1469 - val_accuracy: 0.8827 - val_loss: 0.2929\n",
      "Epoch 7/20\n",
      "\u001b[1m30/30\u001b[0m \u001b[32m━━━━━━━━━━━━━━━━━━━━\u001b[0m\u001b[37m\u001b[0m \u001b[1m1s\u001b[0m 18ms/step - accuracy: 0.9611 - loss: 0.1263 - val_accuracy: 0.8829 - val_loss: 0.3079\n",
      "Epoch 8/20\n",
      "\u001b[1m30/30\u001b[0m \u001b[32m━━━━━━━━━━━━━━━━━━━━\u001b[0m\u001b[37m\u001b[0m \u001b[1m1s\u001b[0m 16ms/step - accuracy: 0.9679 - loss: 0.1085 - val_accuracy: 0.8812 - val_loss: 0.3075\n",
      "Epoch 9/20\n",
      "\u001b[1m30/30\u001b[0m \u001b[32m━━━━━━━━━━━━━━━━━━━━\u001b[0m\u001b[37m\u001b[0m \u001b[1m1s\u001b[0m 19ms/step - accuracy: 0.9750 - loss: 0.0923 - val_accuracy: 0.8849 - val_loss: 0.3180\n",
      "Epoch 10/20\n",
      "\u001b[1m30/30\u001b[0m \u001b[32m━━━━━━━━━━━━━━━━━━━━\u001b[0m\u001b[37m\u001b[0m \u001b[1m0s\u001b[0m 14ms/step - accuracy: 0.9799 - loss: 0.0786 - val_accuracy: 0.8803 - val_loss: 0.3321\n",
      "Epoch 11/20\n",
      "\u001b[1m30/30\u001b[0m \u001b[32m━━━━━━━━━━━━━━━━━━━━\u001b[0m\u001b[37m\u001b[0m \u001b[1m0s\u001b[0m 14ms/step - accuracy: 0.9836 - loss: 0.0662 - val_accuracy: 0.8753 - val_loss: 0.3549\n",
      "Epoch 12/20\n",
      "\u001b[1m30/30\u001b[0m \u001b[32m━━━━━━━━━━━━━━━━━━━━\u001b[0m\u001b[37m\u001b[0m \u001b[1m0s\u001b[0m 14ms/step - accuracy: 0.9858 - loss: 0.0561 - val_accuracy: 0.8794 - val_loss: 0.3685\n",
      "Epoch 13/20\n",
      "\u001b[1m30/30\u001b[0m \u001b[32m━━━━━━━━━━━━━━━━━━━━\u001b[0m\u001b[37m\u001b[0m \u001b[1m0s\u001b[0m 15ms/step - accuracy: 0.9909 - loss: 0.0485 - val_accuracy: 0.8790 - val_loss: 0.3901\n",
      "Epoch 14/20\n",
      "\u001b[1m30/30\u001b[0m \u001b[32m━━━━━━━━━━━━━━━━━━━━\u001b[0m\u001b[37m\u001b[0m \u001b[1m1s\u001b[0m 17ms/step - accuracy: 0.9896 - loss: 0.0450 - val_accuracy: 0.8768 - val_loss: 0.4093\n",
      "Epoch 15/20\n",
      "\u001b[1m30/30\u001b[0m \u001b[32m━━━━━━━━━━━━━━━━━━━━\u001b[0m\u001b[37m\u001b[0m \u001b[1m1s\u001b[0m 15ms/step - accuracy: 0.9935 - loss: 0.0342 - val_accuracy: 0.8703 - val_loss: 0.4583\n",
      "Epoch 16/20\n",
      "\u001b[1m30/30\u001b[0m \u001b[32m━━━━━━━━━━━━━━━━━━━━\u001b[0m\u001b[37m\u001b[0m \u001b[1m1s\u001b[0m 15ms/step - accuracy: 0.9949 - loss: 0.0296 - val_accuracy: 0.8695 - val_loss: 0.4625\n",
      "Epoch 17/20\n",
      "\u001b[1m30/30\u001b[0m \u001b[32m━━━━━━━━━━━━━━━━━━━━\u001b[0m\u001b[37m\u001b[0m \u001b[1m1s\u001b[0m 16ms/step - accuracy: 0.9966 - loss: 0.0253 - val_accuracy: 0.8735 - val_loss: 0.4762\n",
      "Epoch 18/20\n",
      "\u001b[1m30/30\u001b[0m \u001b[32m━━━━━━━━━━━━━━━━━━━━\u001b[0m\u001b[37m\u001b[0m \u001b[1m0s\u001b[0m 14ms/step - accuracy: 0.9958 - loss: 0.0232 - val_accuracy: 0.8713 - val_loss: 0.5031\n",
      "Epoch 19/20\n",
      "\u001b[1m30/30\u001b[0m \u001b[32m━━━━━━━━━━━━━━━━━━━━\u001b[0m\u001b[37m\u001b[0m \u001b[1m0s\u001b[0m 14ms/step - accuracy: 0.9983 - loss: 0.0178 - val_accuracy: 0.8706 - val_loss: 0.5321\n",
      "Epoch 20/20\n",
      "\u001b[1m30/30\u001b[0m \u001b[32m━━━━━━━━━━━━━━━━━━━━\u001b[0m\u001b[37m\u001b[0m \u001b[1m0s\u001b[0m 14ms/step - accuracy: 0.9989 - loss: 0.0160 - val_accuracy: 0.8684 - val_loss: 0.5525\n"
     ]
    }
   ],
   "source": [
    "history = model.fit(partial_x_train,\n",
    "                    partial_y_train,\n",
    "                    epochs=20,\n",
    "                    batch_size=512,\n",
    "                    validation_data=(x_val, y_val))"
   ]
  },
  {
   "cell_type": "code",
   "execution_count": 19,
   "metadata": {
    "colab_type": "code"
   },
   "outputs": [
    {
     "data": {
      "text/plain": [
       "dict_keys(['accuracy', 'loss', 'val_accuracy', 'val_loss'])"
      ]
     },
     "execution_count": 19,
     "metadata": {},
     "output_type": "execute_result"
    }
   ],
   "source": [
    "history_dict = history.history\n",
    "history_dict.keys()"
   ]
  },
  {
   "cell_type": "code",
   "execution_count": 20,
   "metadata": {},
   "outputs": [
    {
     "data": {
      "text/plain": [
       "{'accuracy': [0.7799999713897705,\n",
       "  0.8904666900634766,\n",
       "  0.9153333306312561,\n",
       "  0.9337999820709229,\n",
       "  0.9455333352088928,\n",
       "  0.9535999894142151,\n",
       "  0.9600666761398315,\n",
       "  0.9667333364486694,\n",
       "  0.9724000096321106,\n",
       "  0.9760666489601135,\n",
       "  0.9802666902542114,\n",
       "  0.9847333431243896,\n",
       "  0.9889333248138428,\n",
       "  0.9884666800498962,\n",
       "  0.9898666739463806,\n",
       "  0.994866669178009,\n",
       "  0.9958000183105469,\n",
       "  0.9954666495323181,\n",
       "  0.9965999722480774,\n",
       "  0.9983333349227905],\n",
       " 'loss': [0.5274783968925476,\n",
       "  0.32744669914245605,\n",
       "  0.250037282705307,\n",
       "  0.2008187621831894,\n",
       "  0.17079311609268188,\n",
       "  0.1463211476802826,\n",
       "  0.12661872804164886,\n",
       "  0.10970229655504227,\n",
       "  0.0950978696346283,\n",
       "  0.0830470398068428,\n",
       "  0.07170180976390839,\n",
       "  0.05895591527223587,\n",
       "  0.051319099962711334,\n",
       "  0.04724329710006714,\n",
       "  0.04092942550778389,\n",
       "  0.02979009598493576,\n",
       "  0.027614347636699677,\n",
       "  0.024302639067173004,\n",
       "  0.021042710170149803,\n",
       "  0.016870129853487015],\n",
       " 'val_accuracy': [0.8503000140190125,\n",
       "  0.878600001335144,\n",
       "  0.8870000243186951,\n",
       "  0.8891000151634216,\n",
       "  0.885699987411499,\n",
       "  0.8827000260353088,\n",
       "  0.8828999996185303,\n",
       "  0.8812000155448914,\n",
       "  0.8848999738693237,\n",
       "  0.880299985408783,\n",
       "  0.8752999901771545,\n",
       "  0.8794000148773193,\n",
       "  0.8790000081062317,\n",
       "  0.876800000667572,\n",
       "  0.8702999949455261,\n",
       "  0.8694999814033508,\n",
       "  0.8734999895095825,\n",
       "  0.8712999820709229,\n",
       "  0.8705999851226807,\n",
       "  0.868399977684021],\n",
       " 'val_loss': [0.40741991996765137,\n",
       "  0.3218441307544708,\n",
       "  0.2877936363220215,\n",
       "  0.27508577704429626,\n",
       "  0.28178146481513977,\n",
       "  0.2928816080093384,\n",
       "  0.3078596591949463,\n",
       "  0.307508647441864,\n",
       "  0.31799009442329407,\n",
       "  0.3321000635623932,\n",
       "  0.354945570230484,\n",
       "  0.3684670031070709,\n",
       "  0.3901424705982208,\n",
       "  0.4093050956726074,\n",
       "  0.45833441615104675,\n",
       "  0.4624636769294739,\n",
       "  0.47620999813079834,\n",
       "  0.5030863285064697,\n",
       "  0.532066285610199,\n",
       "  0.5524843335151672]}"
      ]
     },
     "execution_count": 20,
     "metadata": {},
     "output_type": "execute_result"
    }
   ],
   "source": [
    "history_dict"
   ]
  },
  {
   "cell_type": "markdown",
   "metadata": {},
   "source": [
    "Note that aftre model has been trained (or build, using the `.build()` method) we can get a summary of the layers it consists of and how many parameters it has."
   ]
  },
  {
   "cell_type": "code",
   "execution_count": 21,
   "metadata": {},
   "outputs": [
    {
     "data": {
      "text/html": [
       "<pre style=\"white-space:pre;overflow-x:auto;line-height:normal;font-family:Menlo,'DejaVu Sans Mono',consolas,'Courier New',monospace\"><span style=\"font-weight: bold\">Model: \"sequential\"</span>\n",
       "</pre>\n"
      ],
      "text/plain": [
       "\u001b[1mModel: \"sequential\"\u001b[0m\n"
      ]
     },
     "metadata": {},
     "output_type": "display_data"
    },
    {
     "data": {
      "text/html": [
       "<pre style=\"white-space:pre;overflow-x:auto;line-height:normal;font-family:Menlo,'DejaVu Sans Mono',consolas,'Courier New',monospace\">┏━━━━━━━━━━━━━━━━━━━━━━━━━━━━━━━━━┳━━━━━━━━━━━━━━━━━━━━━━━━┳━━━━━━━━━━━━━━━┓\n",
       "┃<span style=\"font-weight: bold\"> Layer (type)                    </span>┃<span style=\"font-weight: bold\"> Output Shape           </span>┃<span style=\"font-weight: bold\">       Param # </span>┃\n",
       "┡━━━━━━━━━━━━━━━━━━━━━━━━━━━━━━━━━╇━━━━━━━━━━━━━━━━━━━━━━━━╇━━━━━━━━━━━━━━━┩\n",
       "│ dense (<span style=\"color: #0087ff; text-decoration-color: #0087ff\">Dense</span>)                   │ (<span style=\"color: #00d7ff; text-decoration-color: #00d7ff\">None</span>, <span style=\"color: #00af00; text-decoration-color: #00af00\">16</span>)             │       <span style=\"color: #00af00; text-decoration-color: #00af00\">160,016</span> │\n",
       "├─────────────────────────────────┼────────────────────────┼───────────────┤\n",
       "│ dense_1 (<span style=\"color: #0087ff; text-decoration-color: #0087ff\">Dense</span>)                 │ (<span style=\"color: #00d7ff; text-decoration-color: #00d7ff\">None</span>, <span style=\"color: #00af00; text-decoration-color: #00af00\">16</span>)             │           <span style=\"color: #00af00; text-decoration-color: #00af00\">272</span> │\n",
       "├─────────────────────────────────┼────────────────────────┼───────────────┤\n",
       "│ dense_2 (<span style=\"color: #0087ff; text-decoration-color: #0087ff\">Dense</span>)                 │ (<span style=\"color: #00d7ff; text-decoration-color: #00d7ff\">None</span>, <span style=\"color: #00af00; text-decoration-color: #00af00\">1</span>)              │            <span style=\"color: #00af00; text-decoration-color: #00af00\">17</span> │\n",
       "└─────────────────────────────────┴────────────────────────┴───────────────┘\n",
       "</pre>\n"
      ],
      "text/plain": [
       "┏━━━━━━━━━━━━━━━━━━━━━━━━━━━━━━━━━┳━━━━━━━━━━━━━━━━━━━━━━━━┳━━━━━━━━━━━━━━━┓\n",
       "┃\u001b[1m \u001b[0m\u001b[1mLayer (type)                   \u001b[0m\u001b[1m \u001b[0m┃\u001b[1m \u001b[0m\u001b[1mOutput Shape          \u001b[0m\u001b[1m \u001b[0m┃\u001b[1m \u001b[0m\u001b[1m      Param #\u001b[0m\u001b[1m \u001b[0m┃\n",
       "┡━━━━━━━━━━━━━━━━━━━━━━━━━━━━━━━━━╇━━━━━━━━━━━━━━━━━━━━━━━━╇━━━━━━━━━━━━━━━┩\n",
       "│ dense (\u001b[38;5;33mDense\u001b[0m)                   │ (\u001b[38;5;45mNone\u001b[0m, \u001b[38;5;34m16\u001b[0m)             │       \u001b[38;5;34m160,016\u001b[0m │\n",
       "├─────────────────────────────────┼────────────────────────┼───────────────┤\n",
       "│ dense_1 (\u001b[38;5;33mDense\u001b[0m)                 │ (\u001b[38;5;45mNone\u001b[0m, \u001b[38;5;34m16\u001b[0m)             │           \u001b[38;5;34m272\u001b[0m │\n",
       "├─────────────────────────────────┼────────────────────────┼───────────────┤\n",
       "│ dense_2 (\u001b[38;5;33mDense\u001b[0m)                 │ (\u001b[38;5;45mNone\u001b[0m, \u001b[38;5;34m1\u001b[0m)              │            \u001b[38;5;34m17\u001b[0m │\n",
       "└─────────────────────────────────┴────────────────────────┴───────────────┘\n"
      ]
     },
     "metadata": {},
     "output_type": "display_data"
    },
    {
     "data": {
      "text/html": [
       "<pre style=\"white-space:pre;overflow-x:auto;line-height:normal;font-family:Menlo,'DejaVu Sans Mono',consolas,'Courier New',monospace\"><span style=\"font-weight: bold\"> Total params: </span><span style=\"color: #00af00; text-decoration-color: #00af00\">320,612</span> (1.22 MB)\n",
       "</pre>\n"
      ],
      "text/plain": [
       "\u001b[1m Total params: \u001b[0m\u001b[38;5;34m320,612\u001b[0m (1.22 MB)\n"
      ]
     },
     "metadata": {},
     "output_type": "display_data"
    },
    {
     "data": {
      "text/html": [
       "<pre style=\"white-space:pre;overflow-x:auto;line-height:normal;font-family:Menlo,'DejaVu Sans Mono',consolas,'Courier New',monospace\"><span style=\"font-weight: bold\"> Trainable params: </span><span style=\"color: #00af00; text-decoration-color: #00af00\">160,305</span> (626.19 KB)\n",
       "</pre>\n"
      ],
      "text/plain": [
       "\u001b[1m Trainable params: \u001b[0m\u001b[38;5;34m160,305\u001b[0m (626.19 KB)\n"
      ]
     },
     "metadata": {},
     "output_type": "display_data"
    },
    {
     "data": {
      "text/html": [
       "<pre style=\"white-space:pre;overflow-x:auto;line-height:normal;font-family:Menlo,'DejaVu Sans Mono',consolas,'Courier New',monospace\"><span style=\"font-weight: bold\"> Non-trainable params: </span><span style=\"color: #00af00; text-decoration-color: #00af00\">0</span> (0.00 B)\n",
       "</pre>\n"
      ],
      "text/plain": [
       "\u001b[1m Non-trainable params: \u001b[0m\u001b[38;5;34m0\u001b[0m (0.00 B)\n"
      ]
     },
     "metadata": {},
     "output_type": "display_data"
    },
    {
     "data": {
      "text/html": [
       "<pre style=\"white-space:pre;overflow-x:auto;line-height:normal;font-family:Menlo,'DejaVu Sans Mono',consolas,'Courier New',monospace\"><span style=\"font-weight: bold\"> Optimizer params: </span><span style=\"color: #00af00; text-decoration-color: #00af00\">160,307</span> (626.20 KB)\n",
       "</pre>\n"
      ],
      "text/plain": [
       "\u001b[1m Optimizer params: \u001b[0m\u001b[38;5;34m160,307\u001b[0m (626.20 KB)\n"
      ]
     },
     "metadata": {},
     "output_type": "display_data"
    }
   ],
   "source": [
    "model.summary()"
   ]
  },
  {
   "cell_type": "markdown",
   "metadata": {},
   "source": [
    "We can also create a simple visualization óf the model using the `plot_model` function from keras utils. This, however, requires that you have installed the packages `pydot` and `graphviz`."
   ]
  },
  {
   "cell_type": "code",
   "execution_count": 22,
   "metadata": {},
   "outputs": [
    {
     "name": "stdout",
     "output_type": "stream",
     "text": [
      "You must install pydot (`pip install pydot`) for `plot_model` to work.\n"
     ]
    }
   ],
   "source": [
    "from keras.utils import plot_model\n",
    "plot_model(model)"
   ]
  },
  {
   "cell_type": "markdown",
   "metadata": {
    "colab_type": "text"
   },
   "source": [
    "**Plotting the training and validation loss**"
   ]
  },
  {
   "cell_type": "code",
   "execution_count": 23,
   "metadata": {
    "colab_type": "code"
   },
   "outputs": [
    {
     "data": {
      "image/png": "[encoded data removed]",
      "text/plain": [
       "<Figure size 640x480 with 1 Axes>"
      ]
     },
     "metadata": {},
     "output_type": "display_data"
    }
   ],
   "source": [
    "import matplotlib.pyplot as plt\n",
    "history_dict = history.history\n",
    "loss_values = history_dict[\"loss\"]\n",
    "val_loss_values = history_dict[\"val_loss\"]\n",
    "epochs = range(1, len(loss_values) + 1)\n",
    "plt.plot(epochs, loss_values, \"bo\", label=\"Training loss\")\n",
    "plt.plot(epochs, val_loss_values, \"b\", label=\"Validation loss\")\n",
    "plt.title(\"Training and validation loss\")\n",
    "plt.xlabel(\"Epochs\")\n",
    "plt.ylabel(\"Loss\")\n",
    "plt.legend()\n",
    "plt.show()"
   ]
  },
  {
   "cell_type": "markdown",
   "metadata": {
    "colab_type": "text"
   },
   "source": [
    "**Plotting the training and validation accuracy**"
   ]
  },
  {
   "cell_type": "code",
   "execution_count": 24,
   "metadata": {
    "colab_type": "code"
   },
   "outputs": [
    {
     "data": {
      "image/png": "[encoded data removed]",
      "text/plain": [
       "<Figure size 640x480 with 1 Axes>"
      ]
     },
     "metadata": {},
     "output_type": "display_data"
    }
   ],
   "source": [
    "plt.clf()\n",
    "acc = history_dict[\"accuracy\"]\n",
    "val_acc = history_dict[\"val_accuracy\"]\n",
    "plt.plot(epochs, acc, \"bo\", label=\"Training acc\")\n",
    "plt.plot(epochs, val_acc, \"b\", label=\"Validation acc\")\n",
    "plt.title(\"Training and validation accuracy\")\n",
    "plt.xlabel(\"Epochs\")\n",
    "plt.ylabel(\"Accuracy\")\n",
    "plt.legend()\n",
    "plt.show()"
   ]
  },
  {
   "cell_type": "markdown",
   "metadata": {
    "colab_type": "text"
   },
   "source": [
    "**Retraining a model from scratch**"
   ]
  },
  {
   "cell_type": "code",
   "execution_count": 85,
   "metadata": {
    "colab_type": "code"
   },
   "outputs": [
    {
     "name": "stdout",
     "output_type": "stream",
     "text": [
      "Epoch 1/4\n",
      "\u001b[1m18/18\u001b[0m \u001b[32m━━━━━━━━━━━━━━━━━━━━\u001b[0m\u001b[37m\u001b[0m \u001b[1m1s\u001b[0m 10ms/step - accuracy: 0.0413 - loss: -8.0396 \n",
      "Epoch 2/4\n",
      "\u001b[1m18/18\u001b[0m \u001b[32m━━━━━━━━━━━━━━━━━━━━\u001b[0m\u001b[37m\u001b[0m \u001b[1m0s\u001b[0m 10ms/step - accuracy: 0.0472 - loss: -45.4311\n",
      "Epoch 3/4\n",
      "\u001b[1m18/18\u001b[0m \u001b[32m━━━━━━━━━━━━━━━━━━━━\u001b[0m\u001b[37m\u001b[0m \u001b[1m0s\u001b[0m 10ms/step - accuracy: 0.0481 - loss: -94.6589\n",
      "Epoch 4/4\n",
      "\u001b[1m18/18\u001b[0m \u001b[32m━━━━━━━━━━━━━━━━━━━━\u001b[0m\u001b[37m\u001b[0m \u001b[1m0s\u001b[0m 9ms/step - accuracy: 0.0457 - loss: -156.4927 \n"
     ]
    },
    {
     "data": {
      "text/plain": [
       "<keras.src.callbacks.history.History at 0x23494aabd90>"
      ]
     },
     "execution_count": 85,
     "metadata": {},
     "output_type": "execute_result"
    }
   ],
   "source": [
    "model = keras.Sequential([ ## retrain\n",
    "    layers.Dense(16, activation=\"relu\"),\n",
    "    layers.Dense(16, activation=\"relu\"),\n",
    "    layers.Dense(1, activation=\"sigmoid\")\n",
    "])\n",
    "model.compile(optimizer=\"rmsprop\",\n",
    "              loss=\"binary_crossentropy\",\n",
    "              metrics=[\"accuracy\"])\n",
    "model.fit(x_train, y_train, epochs=4, batch_size=512)"
   ]
  },
  {
   "cell_type": "code",
   "execution_count": 26,
   "metadata": {},
   "outputs": [
    {
     "name": "stdout",
     "output_type": "stream",
     "text": [
      "\u001b[1m782/782\u001b[0m \u001b[32m━━━━━━━━━━━━━━━━━━━━\u001b[0m\u001b[37m\u001b[0m \u001b[1m2s\u001b[0m 2ms/step - accuracy: 0.8815 - loss: 0.2878    \n"
     ]
    }
   ],
   "source": [
    "results = model.evaluate(x_test, y_test)"
   ]
  },
  {
   "cell_type": "code",
   "execution_count": 27,
   "metadata": {
    "colab_type": "code"
   },
   "outputs": [
    {
     "data": {
      "text/plain": [
       "[0.28650984168052673, 0.885200023651123]"
      ]
     },
     "execution_count": 27,
     "metadata": {},
     "output_type": "execute_result"
    }
   ],
   "source": [
    "results"
   ]
  },
  {
   "cell_type": "markdown",
   "metadata": {
    "colab_type": "text"
   },
   "source": [
    "### Using a trained model to generate predictions on new data"
   ]
  },
  {
   "cell_type": "code",
   "execution_count": 28,
   "metadata": {
    "colab_type": "code"
   },
   "outputs": [
    {
     "name": "stdout",
     "output_type": "stream",
     "text": [
      "\u001b[1m782/782\u001b[0m \u001b[32m━━━━━━━━━━━━━━━━━━━━\u001b[0m\u001b[37m\u001b[0m \u001b[1m1s\u001b[0m 1ms/step    \n"
     ]
    },
    {
     "data": {
      "text/plain": [
       "array([[0.18503153],\n",
       "       [0.9998996 ],\n",
       "       [0.8103799 ],\n",
       "       ...,\n",
       "       [0.10369086],\n",
       "       [0.08307646],\n",
       "       [0.615025  ]], dtype=float32)"
      ]
     },
     "execution_count": 28,
     "metadata": {},
     "output_type": "execute_result"
    }
   ],
   "source": [
    "model.predict(x_test)"
   ]
  },
  {
   "cell_type": "markdown",
   "metadata": {
    "colab_type": "text",
    "jp-MarkdownHeadingCollapsed": true
   },
   "source": [
    "### Further experiments"
   ]
  },
  {
   "cell_type": "markdown",
   "metadata": {
    "colab_type": "text"
   },
   "source": [
    "### Wrapping up"
   ]
  },
  {
   "cell_type": "markdown",
   "metadata": {
    "colab_type": "text"
   },
   "source": [
    "## Classifying newswires: A multiclass classification example"
   ]
  },
  {
   "cell_type": "markdown",
   "metadata": {
    "colab_type": "text"
   },
   "source": [
    "### The Reuters dataset"
   ]
  },
  {
   "cell_type": "markdown",
   "metadata": {
    "colab_type": "text"
   },
   "source": [
    "**Loading the Reuters dataset**"
   ]
  },
  {
   "cell_type": "code",
   "execution_count": 29,
   "metadata": {
    "colab_type": "code"
   },
   "outputs": [
    {
     "name": "stdout",
     "output_type": "stream",
     "text": [
      "Downloading data from https://storage.googleapis.com/tensorflow/tf-keras-datasets/reuters.npz\n",
      "\u001b[1m2110848/2110848\u001b[0m \u001b[32m━━━━━━━━━━━━━━━━━━━━\u001b[0m\u001b[37m\u001b[0m \u001b[1m0s\u001b[0m 0us/step\n"
     ]
    }
   ],
   "source": [
    "from tensorflow.keras.datasets import reuters\n",
    "(train_data, train_labels), (test_data, test_labels) = reuters.load_data(\n",
    "    num_words=10000)"
   ]
  },
  {
   "cell_type": "code",
   "execution_count": 30,
   "metadata": {
    "colab_type": "code"
   },
   "outputs": [
    {
     "data": {
      "text/plain": [
       "8982"
      ]
     },
     "execution_count": 30,
     "metadata": {},
     "output_type": "execute_result"
    }
   ],
   "source": [
    "len(train_data)"
   ]
  },
  {
   "cell_type": "code",
   "execution_count": 31,
   "metadata": {
    "colab_type": "code"
   },
   "outputs": [
    {
     "data": {
      "text/plain": [
       "2246"
      ]
     },
     "execution_count": 31,
     "metadata": {},
     "output_type": "execute_result"
    }
   ],
   "source": [
    "len(test_data)"
   ]
  },
  {
   "cell_type": "code",
   "execution_count": 32,
   "metadata": {
    "colab_type": "code"
   },
   "outputs": [
    {
     "data": {
      "text/plain": [
       "[1,\n",
       " 245,\n",
       " 273,\n",
       " 207,\n",
       " 156,\n",
       " 53,\n",
       " 74,\n",
       " 160,\n",
       " 26,\n",
       " 14,\n",
       " 46,\n",
       " 296,\n",
       " 26,\n",
       " 39,\n",
       " 74,\n",
       " 2979,\n",
       " 3554,\n",
       " 14,\n",
       " 46,\n",
       " 4689,\n",
       " 4329,\n",
       " 86,\n",
       " 61,\n",
       " 3499,\n",
       " 4795,\n",
       " 14,\n",
       " 61,\n",
       " 451,\n",
       " 4329,\n",
       " 17,\n",
       " 12]"
      ]
     },
     "execution_count": 32,
     "metadata": {},
     "output_type": "execute_result"
    }
   ],
   "source": [
    "train_data[10]"
   ]
  },
  {
   "cell_type": "markdown",
   "metadata": {
    "colab_type": "text"
   },
   "source": [
    "**Decoding newswires back to text**"
   ]
  },
  {
   "cell_type": "code",
   "execution_count": 33,
   "metadata": {
    "colab_type": "code"
   },
   "outputs": [
    {
     "name": "stdout",
     "output_type": "stream",
     "text": [
      "Downloading data from https://storage.googleapis.com/tensorflow/tf-keras-datasets/reuters_word_index.json\n",
      "\u001b[1m550378/550378\u001b[0m \u001b[32m━━━━━━━━━━━━━━━━━━━━\u001b[0m\u001b[37m\u001b[0m \u001b[1m0s\u001b[0m 0us/step\n"
     ]
    }
   ],
   "source": [
    "word_index = reuters.get_word_index()\n",
    "reverse_word_index = dict([(value, key) for (key, value) in word_index.items()])\n",
    "decoded_newswire = \" \".join([reverse_word_index.get(i - 3, \"?\") for i in\n",
    "    train_data[0]])"
   ]
  },
  {
   "cell_type": "code",
   "execution_count": 34,
   "metadata": {
    "colab_type": "code"
   },
   "outputs": [
    {
     "data": {
      "text/plain": [
       "np.int64(3)"
      ]
     },
     "execution_count": 34,
     "metadata": {},
     "output_type": "execute_result"
    }
   ],
   "source": [
    "train_labels[10]"
   ]
  },
  {
   "cell_type": "code",
   "execution_count": 35,
   "metadata": {},
   "outputs": [
    {
     "data": {
      "text/plain": [
       "'? ? ? said as a result of its december acquisition of space co it expects earnings per share in 1987 of 1 15 to 1 30 dlrs per share up from 70 cts in 1986 the company said pretax net should rise to nine to 10 mln dlrs from six mln dlrs in 1986 and rental operation revenues to 19 to 22 mln dlrs from 12 5 mln dlrs it said cash flow per share this year should be 2 50 to three dlrs reuter 3'"
      ]
     },
     "execution_count": 35,
     "metadata": {},
     "output_type": "execute_result"
    }
   ],
   "source": [
    "decoded_newswire"
   ]
  },
  {
   "cell_type": "code",
   "execution_count": 36,
   "metadata": {},
   "outputs": [
    {
     "data": {
      "text/plain": [
       "np.int64(3)"
      ]
     },
     "execution_count": 36,
     "metadata": {},
     "output_type": "execute_result"
    }
   ],
   "source": [
    "train_labels[0]"
   ]
  },
  {
   "cell_type": "code",
   "execution_count": 37,
   "metadata": {},
   "outputs": [
    {
     "data": {
      "text/plain": [
       "'to'"
      ]
     },
     "execution_count": 37,
     "metadata": {},
     "output_type": "execute_result"
    }
   ],
   "source": [
    "# We cannot use the same reverse decoding to find the news categories\n",
    "decoded_newswire_label = reverse_word_index.get(train_labels[0])\n",
    "decoded_newswire_label "
   ]
  },
  {
   "cell_type": "markdown",
   "metadata": {},
   "source": [
    "I found the categories at this Github page: https://github.com/SteffenBauer/KerasTools/tree/master/Reuters_Analysis"
   ]
  },
  {
   "cell_type": "code",
   "execution_count": 38,
   "metadata": {},
   "outputs": [
    {
     "data": {
      "text/plain": [
       "'earn'"
      ]
     },
     "execution_count": 38,
     "metadata": {},
     "output_type": "execute_result"
    }
   ],
   "source": [
    "newswire_label_cat = ['cocoa','grain','veg-oil','earn','acq','wheat','copper','housing','money-supply',\n",
    " 'coffee','sugar','trade','reserves','ship','cotton','carcass','crude','nat-gas',\n",
    " 'cpi','money-fx','interest','gnp','meal-feed','alum','oilseed','gold','tin',\n",
    " 'strategic-metal','livestock','retail','ipi','iron-steel','rubber','heat','jobs',\n",
    " 'lei','bop','zinc','orange','pet-chem','dlr','gas','silver','wpi','hog','lead']\n",
    "newswire_label_cat[train_labels[0]]"
   ]
  },
  {
   "cell_type": "markdown",
   "metadata": {
    "colab_type": "text"
   },
   "source": [
    "### Preparing the data"
   ]
  },
  {
   "cell_type": "markdown",
   "metadata": {
    "colab_type": "text"
   },
   "source": [
    "**Encoding the input data**"
   ]
  },
  {
   "cell_type": "code",
   "execution_count": 39,
   "metadata": {
    "colab_type": "code"
   },
   "outputs": [],
   "source": [
    "x_train = vectorize_sequences(train_data)\n",
    "x_test = vectorize_sequences(test_data)"
   ]
  },
  {
   "cell_type": "markdown",
   "metadata": {
    "colab_type": "text"
   },
   "source": [
    "**Encoding the labels**"
   ]
  },
  {
   "cell_type": "code",
   "execution_count": 40,
   "metadata": {
    "colab_type": "code"
   },
   "outputs": [],
   "source": [
    "def to_one_hot(labels, dimension=46):\n",
    "    results = np.zeros((len(labels), dimension))\n",
    "    for i, label in enumerate(labels):\n",
    "        results[i, label] = 1.\n",
    "    return results\n",
    "y_train = to_one_hot(train_labels)\n",
    "y_test = to_one_hot(test_labels)"
   ]
  },
  {
   "cell_type": "code",
   "execution_count": 41,
   "metadata": {
    "colab_type": "code"
   },
   "outputs": [],
   "source": [
    "from tensorflow.keras.utils import to_categorical\n",
    "y_train = to_categorical(train_labels)\n",
    "y_test = to_categorical(test_labels)"
   ]
  },
  {
   "cell_type": "code",
   "execution_count": 42,
   "metadata": {},
   "outputs": [
    {
     "name": "stdout",
     "output_type": "stream",
     "text": [
      "Training data shape: (8982, 10000)\n",
      "Training labels shape: (8982, 46)\n",
      "Test data shape: (2246, 10000)\n",
      "Test labels shape: (2246, 46)\n"
     ]
    }
   ],
   "source": [
    "# Let us look at the shapes of the data before building and training a model\n",
    "print(\"Training data shape:\", x_train.shape)\n",
    "print(\"Training labels shape:\", y_train.shape)\n",
    "print(\"Test data shape:\", x_test.shape)\n",
    "print(\"Test labels shape:\", y_test.shape)"
   ]
  },
  {
   "cell_type": "markdown",
   "metadata": {
    "colab_type": "text"
   },
   "source": [
    "### Building your model"
   ]
  },
  {
   "cell_type": "markdown",
   "metadata": {
    "colab_type": "text"
   },
   "source": [
    "**Model definition**"
   ]
  },
  {
   "cell_type": "code",
   "execution_count": 43,
   "metadata": {
    "colab_type": "code"
   },
   "outputs": [],
   "source": [
    "model = keras.Sequential([\n",
    "    layers.Dense(64, activation=\"relu\"),\n",
    "    layers.Dense(64, activation=\"relu\"),\n",
    "    layers.Dense(46, activation=\"softmax\")\n",
    "])"
   ]
  },
  {
   "cell_type": "markdown",
   "metadata": {
    "colab_type": "text"
   },
   "source": [
    "**Compiling the model**"
   ]
  },
  {
   "cell_type": "code",
   "execution_count": 44,
   "metadata": {
    "colab_type": "code"
   },
   "outputs": [],
   "source": [
    "model.compile(optimizer=\"rmsprop\",\n",
    "              loss=\"categorical_crossentropy\",\n",
    "              metrics=[\"accuracy\"])"
   ]
  },
  {
   "cell_type": "markdown",
   "metadata": {
    "colab_type": "text"
   },
   "source": [
    "### Validating your approach"
   ]
  },
  {
   "cell_type": "markdown",
   "metadata": {
    "colab_type": "text"
   },
   "source": [
    "**Setting aside a validation set**"
   ]
  },
  {
   "cell_type": "code",
   "execution_count": 45,
   "metadata": {
    "colab_type": "code"
   },
   "outputs": [],
   "source": [
    "x_val = x_train[:1000]\n",
    "partial_x_train = x_train[1000:]\n",
    "y_val = y_train[:1000]\n",
    "partial_y_train = y_train[1000:]"
   ]
  },
  {
   "cell_type": "markdown",
   "metadata": {
    "colab_type": "text"
   },
   "source": [
    "**Training the model**"
   ]
  },
  {
   "cell_type": "code",
   "execution_count": 46,
   "metadata": {
    "colab_type": "code"
   },
   "outputs": [
    {
     "name": "stdout",
     "output_type": "stream",
     "text": [
      "Epoch 1/20\n",
      "\u001b[1m16/16\u001b[0m \u001b[32m━━━━━━━━━━━━━━━━━━━━\u001b[0m\u001b[37m\u001b[0m \u001b[1m1s\u001b[0m 31ms/step - accuracy: 0.3895 - loss: 3.2319 - val_accuracy: 0.6230 - val_loss: 1.8978\n",
      "Epoch 2/20\n",
      "\u001b[1m16/16\u001b[0m \u001b[32m━━━━━━━━━━━━━━━━━━━━\u001b[0m\u001b[37m\u001b[0m \u001b[1m0s\u001b[0m 20ms/step - accuracy: 0.6652 - loss: 1.6603 - val_accuracy: 0.6950 - val_loss: 1.4061\n",
      "Epoch 3/20\n",
      "\u001b[1m16/16\u001b[0m \u001b[32m━━━━━━━━━━━━━━━━━━━━\u001b[0m\u001b[37m\u001b[0m \u001b[1m0s\u001b[0m 18ms/step - accuracy: 0.7348 - loss: 1.2513 - val_accuracy: 0.7360 - val_loss: 1.2051\n",
      "Epoch 4/20\n",
      "\u001b[1m16/16\u001b[0m \u001b[32m━━━━━━━━━━━━━━━━━━━━\u001b[0m\u001b[37m\u001b[0m \u001b[1m0s\u001b[0m 16ms/step - accuracy: 0.7814 - loss: 1.0076 - val_accuracy: 0.7510 - val_loss: 1.1291\n",
      "Epoch 5/20\n",
      "\u001b[1m16/16\u001b[0m \u001b[32m━━━━━━━━━━━━━━━━━━━━\u001b[0m\u001b[37m\u001b[0m \u001b[1m0s\u001b[0m 19ms/step - accuracy: 0.8182 - loss: 0.8442 - val_accuracy: 0.7660 - val_loss: 1.0760\n",
      "Epoch 6/20\n",
      "\u001b[1m16/16\u001b[0m \u001b[32m━━━━━━━━━━━━━━━━━━━━\u001b[0m\u001b[37m\u001b[0m \u001b[1m0s\u001b[0m 17ms/step - accuracy: 0.8350 - loss: 0.7639 - val_accuracy: 0.8050 - val_loss: 0.9750\n",
      "Epoch 7/20\n",
      "\u001b[1m16/16\u001b[0m \u001b[32m━━━━━━━━━━━━━━━━━━━━\u001b[0m\u001b[37m\u001b[0m \u001b[1m0s\u001b[0m 19ms/step - accuracy: 0.8798 - loss: 0.5782 - val_accuracy: 0.7810 - val_loss: 0.9936\n",
      "Epoch 8/20\n",
      "\u001b[1m16/16\u001b[0m \u001b[32m━━━━━━━━━━━━━━━━━━━━\u001b[0m\u001b[37m\u001b[0m \u001b[1m0s\u001b[0m 17ms/step - accuracy: 0.8917 - loss: 0.5296 - val_accuracy: 0.8140 - val_loss: 0.9031\n",
      "Epoch 9/20\n",
      "\u001b[1m16/16\u001b[0m \u001b[32m━━━━━━━━━━━━━━━━━━━━\u001b[0m\u001b[37m\u001b[0m \u001b[1m0s\u001b[0m 17ms/step - accuracy: 0.9124 - loss: 0.4349 - val_accuracy: 0.8190 - val_loss: 0.8837\n",
      "Epoch 10/20\n",
      "\u001b[1m16/16\u001b[0m \u001b[32m━━━━━━━━━━━━━━━━━━━━\u001b[0m\u001b[37m\u001b[0m \u001b[1m0s\u001b[0m 16ms/step - accuracy: 0.9221 - loss: 0.3725 - val_accuracy: 0.8100 - val_loss: 0.8999\n",
      "Epoch 11/20\n",
      "\u001b[1m16/16\u001b[0m \u001b[32m━━━━━━━━━━━━━━━━━━━━\u001b[0m\u001b[37m\u001b[0m \u001b[1m0s\u001b[0m 16ms/step - accuracy: 0.9305 - loss: 0.3135 - val_accuracy: 0.8040 - val_loss: 0.9498\n",
      "Epoch 12/20\n",
      "\u001b[1m16/16\u001b[0m \u001b[32m━━━━━━━━━━━━━━━━━━━━\u001b[0m\u001b[37m\u001b[0m \u001b[1m0s\u001b[0m 15ms/step - accuracy: 0.9345 - loss: 0.2887 - val_accuracy: 0.8130 - val_loss: 0.8970\n",
      "Epoch 13/20\n",
      "\u001b[1m16/16\u001b[0m \u001b[32m━━━━━━━━━━━━━━━━━━━━\u001b[0m\u001b[37m\u001b[0m \u001b[1m0s\u001b[0m 15ms/step - accuracy: 0.9448 - loss: 0.2380 - val_accuracy: 0.8170 - val_loss: 0.8963\n",
      "Epoch 14/20\n",
      "\u001b[1m16/16\u001b[0m \u001b[32m━━━━━━━━━━━━━━━━━━━━\u001b[0m\u001b[37m\u001b[0m \u001b[1m0s\u001b[0m 19ms/step - accuracy: 0.9534 - loss: 0.2172 - val_accuracy: 0.8200 - val_loss: 0.9123\n",
      "Epoch 15/20\n",
      "\u001b[1m16/16\u001b[0m \u001b[32m━━━━━━━━━━━━━━━━━━━━\u001b[0m\u001b[37m\u001b[0m \u001b[1m0s\u001b[0m 17ms/step - accuracy: 0.9526 - loss: 0.1944 - val_accuracy: 0.8180 - val_loss: 0.9018\n",
      "Epoch 16/20\n",
      "\u001b[1m16/16\u001b[0m \u001b[32m━━━━━━━━━━━━━━━━━━━━\u001b[0m\u001b[37m\u001b[0m \u001b[1m0s\u001b[0m 17ms/step - accuracy: 0.9611 - loss: 0.1694 - val_accuracy: 0.8150 - val_loss: 0.9346\n",
      "Epoch 17/20\n",
      "\u001b[1m16/16\u001b[0m \u001b[32m━━━━━━━━━━━━━━━━━━━━\u001b[0m\u001b[37m\u001b[0m \u001b[1m0s\u001b[0m 16ms/step - accuracy: 0.9548 - loss: 0.1656 - val_accuracy: 0.8170 - val_loss: 0.9453\n",
      "Epoch 18/20\n",
      "\u001b[1m16/16\u001b[0m \u001b[32m━━━━━━━━━━━━━━━━━━━━\u001b[0m\u001b[37m\u001b[0m \u001b[1m0s\u001b[0m 16ms/step - accuracy: 0.9582 - loss: 0.1615 - val_accuracy: 0.8060 - val_loss: 0.9555\n",
      "Epoch 19/20\n",
      "\u001b[1m16/16\u001b[0m \u001b[32m━━━━━━━━━━━━━━━━━━━━\u001b[0m\u001b[37m\u001b[0m \u001b[1m0s\u001b[0m 15ms/step - accuracy: 0.9540 - loss: 0.1558 - val_accuracy: 0.8150 - val_loss: 0.9560\n",
      "Epoch 20/20\n",
      "\u001b[1m16/16\u001b[0m \u001b[32m━━━━━━━━━━━━━━━━━━━━\u001b[0m\u001b[37m\u001b[0m \u001b[1m0s\u001b[0m 18ms/step - accuracy: 0.9588 - loss: 0.1301 - val_accuracy: 0.8030 - val_loss: 0.9891\n"
     ]
    }
   ],
   "source": [
    "history = model.fit(partial_x_train,\n",
    "                    partial_y_train,\n",
    "                    epochs=20,\n",
    "                    batch_size=512,\n",
    "                    validation_data=(x_val, y_val))"
   ]
  },
  {
   "cell_type": "markdown",
   "metadata": {
    "colab_type": "text"
   },
   "source": [
    "**Plotting the training and validation loss**"
   ]
  },
  {
   "cell_type": "code",
   "execution_count": 47,
   "metadata": {
    "colab_type": "code"
   },
   "outputs": [
    {
     "data": {
      "image/png": "[encoded data removed]",
      "text/plain": [
       "<Figure size 640x480 with 1 Axes>"
      ]
     },
     "metadata": {},
     "output_type": "display_data"
    }
   ],
   "source": [
    "loss = history.history[\"loss\"]\n",
    "val_loss = history.history[\"val_loss\"]\n",
    "epochs = range(1, len(loss) + 1)\n",
    "plt.plot(epochs, loss, \"bo\", label=\"Training loss\")\n",
    "plt.plot(epochs, val_loss, \"b\", label=\"Validation loss\")\n",
    "plt.title(\"Training and validation loss\")\n",
    "plt.xlabel(\"Epochs\")\n",
    "plt.ylabel(\"Loss\")\n",
    "plt.legend()\n",
    "plt.show()"
   ]
  },
  {
   "cell_type": "markdown",
   "metadata": {
    "colab_type": "text"
   },
   "source": [
    "**Plotting the training and validation accuracy**"
   ]
  },
  {
   "cell_type": "code",
   "execution_count": 48,
   "metadata": {
    "colab_type": "code"
   },
   "outputs": [
    {
     "data": {
      "image/png": "[encoded data removed]",
      "text/plain": [
       "<Figure size 640x480 with 1 Axes>"
      ]
     },
     "metadata": {},
     "output_type": "display_data"
    }
   ],
   "source": [
    "plt.clf()\n",
    "acc = history.history[\"accuracy\"]\n",
    "val_acc = history.history[\"val_accuracy\"]\n",
    "plt.plot(epochs, acc, \"bo\", label=\"Training accuracy\")\n",
    "plt.plot(epochs, val_acc, \"b\", label=\"Validation accuracy\")\n",
    "plt.title(\"Training and validation accuracy\")\n",
    "plt.xlabel(\"Epochs\")\n",
    "plt.ylabel(\"Accuracy\")\n",
    "plt.legend()\n",
    "plt.show()"
   ]
  },
  {
   "cell_type": "markdown",
   "metadata": {
    "colab_type": "text"
   },
   "source": [
    "**Retraining a model from scratch**"
   ]
  },
  {
   "cell_type": "code",
   "execution_count": 49,
   "metadata": {
    "colab_type": "code"
   },
   "outputs": [
    {
     "name": "stdout",
     "output_type": "stream",
     "text": [
      "Epoch 1/9\n",
      "\u001b[1m18/18\u001b[0m \u001b[32m━━━━━━━━━━━━━━━━━━━━\u001b[0m\u001b[37m\u001b[0m \u001b[1m2s\u001b[0m 13ms/step - accuracy: 0.4034 - loss: 3.1655\n",
      "Epoch 2/9\n",
      "\u001b[1m18/18\u001b[0m \u001b[32m━━━━━━━━━━━━━━━━━━━━\u001b[0m\u001b[37m\u001b[0m \u001b[1m0s\u001b[0m 13ms/step - accuracy: 0.6755 - loss: 1.5979\n",
      "Epoch 3/9\n",
      "\u001b[1m18/18\u001b[0m \u001b[32m━━━━━━━━━━━━━━━━━━━━\u001b[0m\u001b[37m\u001b[0m \u001b[1m0s\u001b[0m 14ms/step - accuracy: 0.7447 - loss: 1.1871\n",
      "Epoch 4/9\n",
      "\u001b[1m18/18\u001b[0m \u001b[32m━━━━━━━━━━━━━━━━━━━━\u001b[0m\u001b[37m\u001b[0m \u001b[1m0s\u001b[0m 12ms/step - accuracy: 0.7898 - loss: 0.9652\n",
      "Epoch 5/9\n",
      "\u001b[1m18/18\u001b[0m \u001b[32m━━━━━━━━━━━━━━━━━━━━\u001b[0m\u001b[37m\u001b[0m \u001b[1m0s\u001b[0m 13ms/step - accuracy: 0.8329 - loss: 0.7795\n",
      "Epoch 6/9\n",
      "\u001b[1m18/18\u001b[0m \u001b[32m━━━━━━━━━━━━━━━━━━━━\u001b[0m\u001b[37m\u001b[0m \u001b[1m0s\u001b[0m 14ms/step - accuracy: 0.8696 - loss: 0.6309\n",
      "Epoch 7/9\n",
      "\u001b[1m18/18\u001b[0m \u001b[32m━━━━━━━━━━━━━━━━━━━━\u001b[0m\u001b[37m\u001b[0m \u001b[1m0s\u001b[0m 13ms/step - accuracy: 0.8888 - loss: 0.5500\n",
      "Epoch 8/9\n",
      "\u001b[1m18/18\u001b[0m \u001b[32m━━━━━━━━━━━━━━━━━━━━\u001b[0m\u001b[37m\u001b[0m \u001b[1m0s\u001b[0m 13ms/step - accuracy: 0.9074 - loss: 0.4523\n",
      "Epoch 9/9\n",
      "\u001b[1m18/18\u001b[0m \u001b[32m━━━━━━━━━━━━━━━━━━━━\u001b[0m\u001b[37m\u001b[0m \u001b[1m0s\u001b[0m 12ms/step - accuracy: 0.9182 - loss: 0.3853\n",
      "\u001b[1m71/71\u001b[0m \u001b[32m━━━━━━━━━━━━━━━━━━━━\u001b[0m\u001b[37m\u001b[0m \u001b[1m0s\u001b[0m 2ms/step - accuracy: 0.7984 - loss: 0.8819  \n"
     ]
    }
   ],
   "source": [
    "model = keras.Sequential([\n",
    "  layers.Dense(64, activation=\"relu\"),\n",
    "  layers.Dense(64, activation=\"relu\"),\n",
    "  layers.Dense(46, activation=\"softmax\")\n",
    "])\n",
    "model.compile(optimizer=\"rmsprop\",\n",
    "              loss=\"categorical_crossentropy\",\n",
    "              metrics=[\"accuracy\"])\n",
    "model.fit(x_train,\n",
    "          y_train,\n",
    "          epochs=9,\n",
    "          batch_size=512)\n",
    "results = model.evaluate(x_test, y_test)"
   ]
  },
  {
   "cell_type": "code",
   "execution_count": 50,
   "metadata": {
    "colab_type": "code"
   },
   "outputs": [
    {
     "data": {
      "text/plain": [
       "[0.9036763906478882, 0.7880676984786987]"
      ]
     },
     "execution_count": 50,
     "metadata": {},
     "output_type": "execute_result"
    }
   ],
   "source": [
    "results"
   ]
  },
  {
   "cell_type": "code",
   "execution_count": 51,
   "metadata": {
    "colab_type": "code"
   },
   "outputs": [
    {
     "data": {
      "text/plain": [
       "np.float64(0.1834372217275156)"
      ]
     },
     "execution_count": 51,
     "metadata": {},
     "output_type": "execute_result"
    }
   ],
   "source": [
    "import copy\n",
    "test_labels_copy = copy.copy(test_labels)\n",
    "np.random.shuffle(test_labels_copy)\n",
    "hits_array = np.array(test_labels) == np.array(test_labels_copy)\n",
    "hits_array.mean()"
   ]
  },
  {
   "cell_type": "markdown",
   "metadata": {
    "colab_type": "text"
   },
   "source": [
    "### Generating predictions on new data"
   ]
  },
  {
   "cell_type": "code",
   "execution_count": 52,
   "metadata": {
    "colab_type": "code"
   },
   "outputs": [
    {
     "name": "stdout",
     "output_type": "stream",
     "text": [
      "\u001b[1m71/71\u001b[0m \u001b[32m━━━━━━━━━━━━━━━━━━━━\u001b[0m\u001b[37m\u001b[0m \u001b[1m0s\u001b[0m 2ms/step \n"
     ]
    }
   ],
   "source": [
    "predictions = model.predict(x_test)"
   ]
  },
  {
   "cell_type": "code",
   "execution_count": 53,
   "metadata": {
    "colab_type": "code"
   },
   "outputs": [
    {
     "data": {
      "text/plain": [
       "(46,)"
      ]
     },
     "execution_count": 53,
     "metadata": {},
     "output_type": "execute_result"
    }
   ],
   "source": [
    "predictions[0].shape"
   ]
  },
  {
   "cell_type": "code",
   "execution_count": 54,
   "metadata": {
    "colab_type": "code"
   },
   "outputs": [
    {
     "data": {
      "text/plain": [
       "np.float32(0.99999994)"
      ]
     },
     "execution_count": 54,
     "metadata": {},
     "output_type": "execute_result"
    }
   ],
   "source": [
    "np.sum(predictions[0])"
   ]
  },
  {
   "cell_type": "code",
   "execution_count": 55,
   "metadata": {
    "colab_type": "code"
   },
   "outputs": [
    {
     "data": {
      "text/plain": [
       "np.int64(3)"
      ]
     },
     "execution_count": 55,
     "metadata": {},
     "output_type": "execute_result"
    }
   ],
   "source": [
    "np.argmax(predictions[0])"
   ]
  },
  {
   "cell_type": "markdown",
   "metadata": {
    "colab_type": "text"
   },
   "source": [
    "### A different way to handle the labels and the loss"
   ]
  },
  {
   "cell_type": "code",
   "execution_count": 56,
   "metadata": {
    "colab_type": "code"
   },
   "outputs": [],
   "source": [
    "y_train = np.array(train_labels)\n",
    "y_test = np.array(test_labels)"
   ]
  },
  {
   "cell_type": "code",
   "execution_count": 57,
   "metadata": {},
   "outputs": [
    {
     "data": {
      "text/plain": [
       "np.int64(3)"
      ]
     },
     "execution_count": 57,
     "metadata": {},
     "output_type": "execute_result"
    }
   ],
   "source": [
    "y_train[0]"
   ]
  },
  {
   "cell_type": "code",
   "execution_count": 58,
   "metadata": {},
   "outputs": [
    {
     "data": {
      "text/plain": [
       "(8982,)"
      ]
     },
     "execution_count": 58,
     "metadata": {},
     "output_type": "execute_result"
    }
   ],
   "source": [
    "y_train.shape"
   ]
  },
  {
   "cell_type": "code",
   "execution_count": 59,
   "metadata": {},
   "outputs": [
    {
     "data": {
      "text/plain": [
       "(2246,)"
      ]
     },
     "execution_count": 59,
     "metadata": {},
     "output_type": "execute_result"
    }
   ],
   "source": [
    "y_test.shape"
   ]
  },
  {
   "cell_type": "code",
   "execution_count": 60,
   "metadata": {
    "colab_type": "code"
   },
   "outputs": [],
   "source": [
    "model.compile(optimizer=\"rmsprop\",\n",
    "              loss=\"sparse_categorical_crossentropy\",\n",
    "              metrics=[\"accuracy\"])"
   ]
  },
  {
   "cell_type": "markdown",
   "metadata": {
    "colab_type": "text"
   },
   "source": [
    "### The importance of having sufficiently large intermediate layers"
   ]
  },
  {
   "cell_type": "markdown",
   "metadata": {
    "colab_type": "text"
   },
   "source": [
    "**A model with an information bottleneck**"
   ]
  },
  {
   "cell_type": "code",
   "execution_count": 61,
   "metadata": {
    "colab_type": "code"
   },
   "outputs": [
    {
     "name": "stdout",
     "output_type": "stream",
     "text": [
      "Epoch 1/20\n",
      "\u001b[1m63/63\u001b[0m \u001b[32m━━━━━━━━━━━━━━━━━━━━\u001b[0m\u001b[37m\u001b[0m \u001b[1m1s\u001b[0m 11ms/step - accuracy: 0.2763 - loss: 3.2792 - val_accuracy: 0.5440 - val_loss: 1.9630\n",
      "Epoch 2/20\n",
      "\u001b[1m63/63\u001b[0m \u001b[32m━━━━━━━━━━━━━━━━━━━━\u001b[0m\u001b[37m\u001b[0m \u001b[1m1s\u001b[0m 8ms/step - accuracy: 0.5480 - loss: 1.8074 - val_accuracy: 0.5600 - val_loss: 1.6015\n",
      "Epoch 3/20\n",
      "\u001b[1m63/63\u001b[0m \u001b[32m━━━━━━━━━━━━━━━━━━━━\u001b[0m\u001b[37m\u001b[0m \u001b[1m1s\u001b[0m 9ms/step - accuracy: 0.5973 - loss: 1.4755 - val_accuracy: 0.6170 - val_loss: 1.4726\n",
      "Epoch 4/20\n",
      "\u001b[1m63/63\u001b[0m \u001b[32m━━━━━━━━━━━━━━━━━━━━\u001b[0m\u001b[37m\u001b[0m \u001b[1m1s\u001b[0m 9ms/step - accuracy: 0.6692 - loss: 1.3007 - val_accuracy: 0.6540 - val_loss: 1.4409\n",
      "Epoch 5/20\n",
      "\u001b[1m63/63\u001b[0m \u001b[32m━━━━━━━━━━━━━━━━━━━━\u001b[0m\u001b[37m\u001b[0m \u001b[1m1s\u001b[0m 9ms/step - accuracy: 0.7244 - loss: 1.1187 - val_accuracy: 0.6890 - val_loss: 1.3637\n",
      "Epoch 6/20\n",
      "\u001b[1m63/63\u001b[0m \u001b[32m━━━━━━━━━━━━━━━━━━━━\u001b[0m\u001b[37m\u001b[0m \u001b[1m1s\u001b[0m 9ms/step - accuracy: 0.7474 - loss: 1.0131 - val_accuracy: 0.6980 - val_loss: 1.3602\n",
      "Epoch 7/20\n",
      "\u001b[1m63/63\u001b[0m \u001b[32m━━━━━━━━━━━━━━━━━━━━\u001b[0m\u001b[37m\u001b[0m \u001b[1m1s\u001b[0m 11ms/step - accuracy: 0.7621 - loss: 0.9464 - val_accuracy: 0.7040 - val_loss: 1.3219\n",
      "Epoch 8/20\n",
      "\u001b[1m63/63\u001b[0m \u001b[32m━━━━━━━━━━━━━━━━━━━━\u001b[0m\u001b[37m\u001b[0m \u001b[1m1s\u001b[0m 12ms/step - accuracy: 0.7777 - loss: 0.8815 - val_accuracy: 0.7080 - val_loss: 1.3190\n",
      "Epoch 9/20\n",
      "\u001b[1m63/63\u001b[0m \u001b[32m━━━━━━━━━━━━━━━━━━━━\u001b[0m\u001b[37m\u001b[0m \u001b[1m1s\u001b[0m 9ms/step - accuracy: 0.7948 - loss: 0.8029 - val_accuracy: 0.7080 - val_loss: 1.3353\n",
      "Epoch 10/20\n",
      "\u001b[1m63/63\u001b[0m \u001b[32m━━━━━━━━━━━━━━━━━━━━\u001b[0m\u001b[37m\u001b[0m \u001b[1m1s\u001b[0m 11ms/step - accuracy: 0.8060 - loss: 0.7362 - val_accuracy: 0.7090 - val_loss: 1.3595\n",
      "Epoch 11/20\n",
      "\u001b[1m63/63\u001b[0m \u001b[32m━━━━━━━━━━━━━━━━━━━━\u001b[0m\u001b[37m\u001b[0m \u001b[1m1s\u001b[0m 8ms/step - accuracy: 0.8182 - loss: 0.6826 - val_accuracy: 0.7060 - val_loss: 1.3535\n",
      "Epoch 12/20\n",
      "\u001b[1m63/63\u001b[0m \u001b[32m━━━━━━━━━━━━━━━━━━━━\u001b[0m\u001b[37m\u001b[0m \u001b[1m1s\u001b[0m 11ms/step - accuracy: 0.8200 - loss: 0.6797 - val_accuracy: 0.7090 - val_loss: 1.3845\n",
      "Epoch 13/20\n",
      "\u001b[1m63/63\u001b[0m \u001b[32m━━━━━━━━━━━━━━━━━━━━\u001b[0m\u001b[37m\u001b[0m \u001b[1m1s\u001b[0m 9ms/step - accuracy: 0.8312 - loss: 0.6205 - val_accuracy: 0.7130 - val_loss: 1.4130\n",
      "Epoch 14/20\n",
      "\u001b[1m63/63\u001b[0m \u001b[32m━━━━━━━━━━━━━━━━━━━━\u001b[0m\u001b[37m\u001b[0m \u001b[1m1s\u001b[0m 9ms/step - accuracy: 0.8373 - loss: 0.5692 - val_accuracy: 0.7050 - val_loss: 1.4742\n",
      "Epoch 15/20\n",
      "\u001b[1m63/63\u001b[0m \u001b[32m━━━━━━━━━━━━━━━━━━━━\u001b[0m\u001b[37m\u001b[0m \u001b[1m1s\u001b[0m 8ms/step - accuracy: 0.8410 - loss: 0.5591 - val_accuracy: 0.7080 - val_loss: 1.4824\n",
      "Epoch 16/20\n",
      "\u001b[1m63/63\u001b[0m \u001b[32m━━━━━━━━━━━━━━━━━━━━\u001b[0m\u001b[37m\u001b[0m \u001b[1m1s\u001b[0m 10ms/step - accuracy: 0.8424 - loss: 0.5498 - val_accuracy: 0.7050 - val_loss: 1.5121\n",
      "Epoch 17/20\n",
      "\u001b[1m63/63\u001b[0m \u001b[32m━━━━━━━━━━━━━━━━━━━━\u001b[0m\u001b[37m\u001b[0m \u001b[1m1s\u001b[0m 10ms/step - accuracy: 0.8574 - loss: 0.4962 - val_accuracy: 0.7120 - val_loss: 1.5326\n",
      "Epoch 18/20\n",
      "\u001b[1m63/63\u001b[0m \u001b[32m━━━━━━━━━━━━━━━━━━━━\u001b[0m\u001b[37m\u001b[0m \u001b[1m1s\u001b[0m 10ms/step - accuracy: 0.8541 - loss: 0.4820 - val_accuracy: 0.7090 - val_loss: 1.5675\n",
      "Epoch 19/20\n",
      "\u001b[1m63/63\u001b[0m \u001b[32m━━━━━━━━━━━━━━━━━━━━\u001b[0m\u001b[37m\u001b[0m \u001b[1m1s\u001b[0m 10ms/step - accuracy: 0.8635 - loss: 0.4583 - val_accuracy: 0.7120 - val_loss: 1.5954\n",
      "Epoch 20/20\n",
      "\u001b[1m63/63\u001b[0m \u001b[32m━━━━━━━━━━━━━━━━━━━━\u001b[0m\u001b[37m\u001b[0m \u001b[1m1s\u001b[0m 11ms/step - accuracy: 0.8674 - loss: 0.4428 - val_accuracy: 0.6990 - val_loss: 1.6468\n"
     ]
    },
    {
     "data": {
      "text/plain": [
       "<keras.src.callbacks.history.History at 0x2348bff7c40>"
      ]
     },
     "execution_count": 61,
     "metadata": {},
     "output_type": "execute_result"
    }
   ],
   "source": [
    "model = keras.Sequential([\n",
    "    layers.Dense(64, activation=\"relu\"),\n",
    "    layers.Dense(4, activation=\"relu\"),\n",
    "    layers.Dense(46, activation=\"softmax\")\n",
    "])\n",
    "model.compile(optimizer=\"rmsprop\",\n",
    "              loss=\"categorical_crossentropy\",\n",
    "              metrics=[\"accuracy\"])\n",
    "model.fit(partial_x_train,\n",
    "          partial_y_train,\n",
    "          epochs=20,\n",
    "          batch_size=128,\n",
    "          validation_data=(x_val, y_val))"
   ]
  },
  {
   "cell_type": "code",
   "execution_count": 62,
   "metadata": {},
   "outputs": [
    {
     "name": "stdout",
     "output_type": "stream",
     "text": [
      "\u001b[1m71/71\u001b[0m \u001b[32m━━━━━━━━━━━━━━━━━━━━\u001b[0m\u001b[37m\u001b[0m \u001b[1m0s\u001b[0m 2ms/step - accuracy: 0.7069 - loss: 1.7540 \n"
     ]
    }
   ],
   "source": [
    "results = model.evaluate(x_test, to_categorical(test_labels))"
   ]
  },
  {
   "cell_type": "markdown",
   "metadata": {
    "colab_type": "text"
   },
   "source": [
    "### Further experiments"
   ]
  },
  {
   "cell_type": "markdown",
   "metadata": {
    "colab_type": "text"
   },
   "source": [
    "### Wrapping up"
   ]
  },
  {
   "cell_type": "markdown",
   "metadata": {
    "colab_type": "text"
   },
   "source": [
    "## Predicting house prices: A regression example"
   ]
  },
  {
   "cell_type": "markdown",
   "metadata": {
    "colab_type": "text"
   },
   "source": [
    "### The Boston Housing Price dataset"
   ]
  },
  {
   "cell_type": "markdown",
   "metadata": {
    "colab_type": "text"
   },
   "source": [
    "**Loading the Boston housing dataset**"
   ]
  },
  {
   "cell_type": "code",
   "execution_count": 63,
   "metadata": {
    "colab_type": "code"
   },
   "outputs": [
    {
     "name": "stdout",
     "output_type": "stream",
     "text": [
      "Downloading data from https://storage.googleapis.com/tensorflow/tf-keras-datasets/boston_housing.npz\n",
      "\u001b[1m57026/57026\u001b[0m \u001b[32m━━━━━━━━━━━━━━━━━━━━\u001b[0m\u001b[37m\u001b[0m \u001b[1m0s\u001b[0m 1us/step\n"
     ]
    }
   ],
   "source": [
    "from tensorflow.keras.datasets import boston_housing\n",
    "(train_data, train_targets), (test_data, test_targets) = boston_housing.load_data()"
   ]
  },
  {
   "cell_type": "code",
   "execution_count": 64,
   "metadata": {
    "colab_type": "code"
   },
   "outputs": [
    {
     "data": {
      "text/plain": [
       "(404, 13)"
      ]
     },
     "execution_count": 64,
     "metadata": {},
     "output_type": "execute_result"
    }
   ],
   "source": [
    "train_data.shape"
   ]
  },
  {
   "cell_type": "code",
   "execution_count": 65,
   "metadata": {},
   "outputs": [
    {
     "data": {
      "text/plain": [
       "array([[1.23247e+00, 0.00000e+00, 8.14000e+00, 0.00000e+00, 5.38000e-01,\n",
       "        6.14200e+00, 9.17000e+01, 3.97690e+00, 4.00000e+00, 3.07000e+02,\n",
       "        2.10000e+01, 3.96900e+02, 1.87200e+01],\n",
       "       [2.17700e-02, 8.25000e+01, 2.03000e+00, 0.00000e+00, 4.15000e-01,\n",
       "        7.61000e+00, 1.57000e+01, 6.27000e+00, 2.00000e+00, 3.48000e+02,\n",
       "        1.47000e+01, 3.95380e+02, 3.11000e+00],\n",
       "       [4.89822e+00, 0.00000e+00, 1.81000e+01, 0.00000e+00, 6.31000e-01,\n",
       "        4.97000e+00, 1.00000e+02, 1.33250e+00, 2.40000e+01, 6.66000e+02,\n",
       "        2.02000e+01, 3.75520e+02, 3.26000e+00],\n",
       "       [3.96100e-02, 0.00000e+00, 5.19000e+00, 0.00000e+00, 5.15000e-01,\n",
       "        6.03700e+00, 3.45000e+01, 5.98530e+00, 5.00000e+00, 2.24000e+02,\n",
       "        2.02000e+01, 3.96900e+02, 8.01000e+00],\n",
       "       [3.69311e+00, 0.00000e+00, 1.81000e+01, 0.00000e+00, 7.13000e-01,\n",
       "        6.37600e+00, 8.84000e+01, 2.56710e+00, 2.40000e+01, 6.66000e+02,\n",
       "        2.02000e+01, 3.91430e+02, 1.46500e+01]])"
      ]
     },
     "execution_count": 65,
     "metadata": {},
     "output_type": "execute_result"
    }
   ],
   "source": [
    "train_data[0:5]"
   ]
  },
  {
   "cell_type": "code",
   "execution_count": 66,
   "metadata": {
    "colab_type": "code"
   },
   "outputs": [
    {
     "data": {
      "text/plain": [
       "(102, 13)"
      ]
     },
     "execution_count": 66,
     "metadata": {},
     "output_type": "execute_result"
    }
   ],
   "source": [
    "test_data.shape"
   ]
  },
  {
   "cell_type": "code",
   "execution_count": 67,
   "metadata": {
    "colab_type": "code"
   },
   "outputs": [
    {
     "data": {
      "text/plain": [
       "array([15.2, 42.3, 50. , 21.1, 17.7, 18.5, 11.3, 15.6, 15.6, 14.4, 12.1,\n",
       "       17.9, 23.1, 19.9, 15.7,  8.8, 50. , 22.5, 24.1, 27.5, 10.9, 30.8,\n",
       "       32.9, 24. , 18.5, 13.3, 22.9, 34.7, 16.6, 17.5, 22.3, 16.1, 14.9,\n",
       "       23.1, 34.9, 25. , 13.9, 13.1, 20.4, 20. , 15.2, 24.7, 22.2, 16.7,\n",
       "       12.7, 15.6, 18.4, 21. , 30.1, 15.1, 18.7,  9.6, 31.5, 24.8, 19.1,\n",
       "       22. , 14.5, 11. , 32. , 29.4, 20.3, 24.4, 14.6, 19.5, 14.1, 14.3,\n",
       "       15.6, 10.5,  6.3, 19.3, 19.3, 13.4, 36.4, 17.8, 13.5, 16.5,  8.3,\n",
       "       14.3, 16. , 13.4, 28.6, 43.5, 20.2, 22. , 23. , 20.7, 12.5, 48.5,\n",
       "       14.6, 13.4, 23.7, 50. , 21.7, 39.8, 38.7, 22.2, 34.9, 22.5, 31.1,\n",
       "       28.7, 46. , 41.7, 21. , 26.6, 15. , 24.4, 13.3, 21.2, 11.7, 21.7,\n",
       "       19.4, 50. , 22.8, 19.7, 24.7, 36.2, 14.2, 18.9, 18.3, 20.6, 24.6,\n",
       "       18.2,  8.7, 44. , 10.4, 13.2, 21.2, 37. , 30.7, 22.9, 20. , 19.3,\n",
       "       31.7, 32. , 23.1, 18.8, 10.9, 50. , 19.6,  5. , 14.4, 19.8, 13.8,\n",
       "       19.6, 23.9, 24.5, 25. , 19.9, 17.2, 24.6, 13.5, 26.6, 21.4, 11.9,\n",
       "       22.6, 19.6,  8.5, 23.7, 23.1, 22.4, 20.5, 23.6, 18.4, 35.2, 23.1,\n",
       "       27.9, 20.6, 23.7, 28. , 13.6, 27.1, 23.6, 20.6, 18.2, 21.7, 17.1,\n",
       "        8.4, 25.3, 13.8, 22.2, 18.4, 20.7, 31.6, 30.5, 20.3,  8.8, 19.2,\n",
       "       19.4, 23.1, 23. , 14.8, 48.8, 22.6, 33.4, 21.1, 13.6, 32.2, 13.1,\n",
       "       23.4, 18.9, 23.9, 11.8, 23.3, 22.8, 19.6, 16.7, 13.4, 22.2, 20.4,\n",
       "       21.8, 26.4, 14.9, 24.1, 23.8, 12.3, 29.1, 21. , 19.5, 23.3, 23.8,\n",
       "       17.8, 11.5, 21.7, 19.9, 25. , 33.4, 28.5, 21.4, 24.3, 27.5, 33.1,\n",
       "       16.2, 23.3, 48.3, 22.9, 22.8, 13.1, 12.7, 22.6, 15. , 15.3, 10.5,\n",
       "       24. , 18.5, 21.7, 19.5, 33.2, 23.2,  5. , 19.1, 12.7, 22.3, 10.2,\n",
       "       13.9, 16.3, 17. , 20.1, 29.9, 17.2, 37.3, 45.4, 17.8, 23.2, 29. ,\n",
       "       22. , 18. , 17.4, 34.6, 20.1, 25. , 15.6, 24.8, 28.2, 21.2, 21.4,\n",
       "       23.8, 31. , 26.2, 17.4, 37.9, 17.5, 20. ,  8.3, 23.9,  8.4, 13.8,\n",
       "        7.2, 11.7, 17.1, 21.6, 50. , 16.1, 20.4, 20.6, 21.4, 20.6, 36.5,\n",
       "        8.5, 24.8, 10.8, 21.9, 17.3, 18.9, 36.2, 14.9, 18.2, 33.3, 21.8,\n",
       "       19.7, 31.6, 24.8, 19.4, 22.8,  7.5, 44.8, 16.8, 18.7, 50. , 50. ,\n",
       "       19.5, 20.1, 50. , 17.2, 20.8, 19.3, 41.3, 20.4, 20.5, 13.8, 16.5,\n",
       "       23.9, 20.6, 31.5, 23.3, 16.8, 14. , 33.8, 36.1, 12.8, 18.3, 18.7,\n",
       "       19.1, 29. , 30.1, 50. , 50. , 22. , 11.9, 37.6, 50. , 22.7, 20.8,\n",
       "       23.5, 27.9, 50. , 19.3, 23.9, 22.6, 15.2, 21.7, 19.2, 43.8, 20.3,\n",
       "       33.2, 19.9, 22.5, 32.7, 22. , 17.1, 19. , 15. , 16.1, 25.1, 23.7,\n",
       "       28.7, 37.2, 22.6, 16.4, 25. , 29.8, 22.1, 17.4, 18.1, 30.3, 17.5,\n",
       "       24.7, 12.6, 26.5, 28.7, 13.3, 10.4, 24.4, 23. , 20. , 17.8,  7. ,\n",
       "       11.8, 24.4, 13.8, 19.4, 25.2, 19.4, 19.4, 29.1])"
      ]
     },
     "execution_count": 67,
     "metadata": {},
     "output_type": "execute_result"
    }
   ],
   "source": [
    "train_targets"
   ]
  },
  {
   "cell_type": "markdown",
   "metadata": {
    "colab_type": "text"
   },
   "source": [
    "### Preparing the data"
   ]
  },
  {
   "cell_type": "markdown",
   "metadata": {
    "colab_type": "text"
   },
   "source": [
    "**Normalizing the data**"
   ]
  },
  {
   "cell_type": "code",
   "execution_count": 68,
   "metadata": {
    "colab_type": "code"
   },
   "outputs": [],
   "source": [
    "mean = train_data.mean(axis=0)\n",
    "train_data -= mean\n",
    "std = train_data.std(axis=0)\n",
    "train_data /= std\n",
    "test_data -= mean\n",
    "test_data /= std"
   ]
  },
  {
   "cell_type": "markdown",
   "metadata": {
    "colab_type": "text"
   },
   "source": [
    "### Building your model"
   ]
  },
  {
   "cell_type": "markdown",
   "metadata": {
    "colab_type": "text"
   },
   "source": [
    "**Model definition**"
   ]
  },
  {
   "cell_type": "code",
   "execution_count": 69,
   "metadata": {
    "colab_type": "code"
   },
   "outputs": [],
   "source": [
    "def build_model():\n",
    "    model = keras.Sequential([\n",
    "        layers.Dense(64, activation=\"relu\"),\n",
    "        layers.Dense(64, activation=\"relu\"),\n",
    "        layers.Dense(1)\n",
    "    ])\n",
    "    model.compile(optimizer=\"rmsprop\", loss=\"mse\", metrics=[\"mae\"])\n",
    "    return model"
   ]
  },
  {
   "cell_type": "markdown",
   "metadata": {
    "colab_type": "text"
   },
   "source": [
    "### Validating your approach using K-fold validation"
   ]
  },
  {
   "cell_type": "markdown",
   "metadata": {
    "colab_type": "text"
   },
   "source": [
    "**K-fold validation**"
   ]
  },
  {
   "cell_type": "code",
   "execution_count": 70,
   "metadata": {
    "colab_type": "code"
   },
   "outputs": [
    {
     "name": "stdout",
     "output_type": "stream",
     "text": [
      "Processing fold #0\n",
      "Processing fold #1\n",
      "Processing fold #2\n",
      "Processing fold #3\n"
     ]
    }
   ],
   "source": [
    "k = 4\n",
    "num_val_samples = len(train_data) // k\n",
    "num_epochs = 100\n",
    "all_scores = []\n",
    "for i in range(k):\n",
    "    print(f\"Processing fold #{i}\")\n",
    "    val_data = train_data[i * num_val_samples: (i + 1) * num_val_samples]\n",
    "    val_targets = train_targets[i * num_val_samples: (i + 1) * num_val_samples]\n",
    "    partial_train_data = np.concatenate(\n",
    "        [train_data[:i * num_val_samples],\n",
    "         train_data[(i + 1) * num_val_samples:]],\n",
    "        axis=0)\n",
    "    partial_train_targets = np.concatenate(\n",
    "        [train_targets[:i * num_val_samples],\n",
    "         train_targets[(i + 1) * num_val_samples:]],\n",
    "        axis=0)\n",
    "    model = build_model()\n",
    "    model.fit(partial_train_data, partial_train_targets,\n",
    "              epochs=num_epochs, batch_size=16, verbose=0)\n",
    "    val_mse, val_mae = model.evaluate(val_data, val_targets, verbose=0)\n",
    "    all_scores.append(val_mae)"
   ]
  },
  {
   "cell_type": "code",
   "execution_count": 71,
   "metadata": {
    "colab_type": "code"
   },
   "outputs": [
    {
     "data": {
      "text/plain": [
       "[2.0161993503570557, 2.4571902751922607, 2.34578013420105, 2.601003408432007]"
      ]
     },
     "execution_count": 71,
     "metadata": {},
     "output_type": "execute_result"
    }
   ],
   "source": [
    "all_scores"
   ]
  },
  {
   "cell_type": "code",
   "execution_count": 72,
   "metadata": {
    "colab_type": "code"
   },
   "outputs": [
    {
     "data": {
      "text/plain": [
       "np.float64(2.3550432920455933)"
      ]
     },
     "execution_count": 72,
     "metadata": {},
     "output_type": "execute_result"
    }
   ],
   "source": [
    "np.mean(all_scores)"
   ]
  },
  {
   "cell_type": "markdown",
   "metadata": {
    "colab_type": "text"
   },
   "source": [
    "**Saving the validation logs at each fold**"
   ]
  },
  {
   "cell_type": "code",
   "execution_count": 73,
   "metadata": {
    "colab_type": "code"
   },
   "outputs": [
    {
     "name": "stdout",
     "output_type": "stream",
     "text": [
      "Processing fold #0\n",
      "Processing fold #1\n",
      "Processing fold #2\n",
      "Processing fold #3\n"
     ]
    }
   ],
   "source": [
    "num_epochs = 500\n",
    "all_mae_histories = []\n",
    "for i in range(k):\n",
    "    print(f\"Processing fold #{i}\")\n",
    "    val_data = train_data[i * num_val_samples: (i + 1) * num_val_samples]\n",
    "    val_targets = train_targets[i * num_val_samples: (i + 1) * num_val_samples]\n",
    "    partial_train_data = np.concatenate(\n",
    "        [train_data[:i * num_val_samples],\n",
    "         train_data[(i + 1) * num_val_samples:]],\n",
    "        axis=0)\n",
    "    partial_train_targets = np.concatenate(\n",
    "        [train_targets[:i * num_val_samples],\n",
    "         train_targets[(i + 1) * num_val_samples:]],\n",
    "        axis=0)\n",
    "    model = build_model()\n",
    "    history = model.fit(partial_train_data, partial_train_targets,\n",
    "                        validation_data=(val_data, val_targets),\n",
    "                        epochs=num_epochs, batch_size=16, verbose=0)\n",
    "    mae_history = history.history[\"val_mae\"]\n",
    "    all_mae_histories.append(mae_history)"
   ]
  },
  {
   "cell_type": "markdown",
   "metadata": {
    "colab_type": "text"
   },
   "source": [
    "**Building the history of successive mean K-fold validation scores**"
   ]
  },
  {
   "cell_type": "code",
   "execution_count": 74,
   "metadata": {
    "scrolled": true
   },
   "outputs": [
    {
     "data": {
      "text/plain": [
       "[[17.544902801513672,\n",
       "  12.918639183044434,\n",
       "  8.098934173583984,\n",
       "  5.403304576873779,\n",
       "  4.287940502166748,\n",
       "  3.795970916748047,\n",
       "  3.497096061706543,\n",
       "  3.2720041275024414,\n",
       "  3.144197940826416,\n",
       "  3.05187726020813,\n",
       "  2.901951313018799,\n",
       "  2.7070209980010986,\n",
       "  2.7456438541412354,\n",
       "  2.581967830657959,\n",
       "  2.5477242469787598,\n",
       "  2.4725842475891113,\n",
       "  2.4309298992156982,\n",
       "  2.396543025970459,\n",
       "  2.3311588764190674,\n",
       "  2.300477981567383,\n",
       "  2.2978320121765137,\n",
       "  2.2191312313079834,\n",
       "  2.321347713470459,\n",
       "  2.2285475730895996,\n",
       "  2.374439239501953,\n",
       "  2.3337578773498535,\n",
       "  2.262237548828125,\n",
       "  2.180920362472534,\n",
       "  2.2575364112854004,\n",
       "  2.378872871398926,\n",
       "  2.136960506439209,\n",
       "  2.205878257751465,\n",
       "  2.181567668914795,\n",
       "  2.1021981239318848,\n",
       "  2.1314995288848877,\n",
       "  2.0628247261047363,\n",
       "  2.1271450519561768,\n",
       "  2.1216280460357666,\n",
       "  2.1236495971679688,\n",
       "  2.091891288757324,\n",
       "  2.1469225883483887,\n",
       "  2.2554054260253906,\n",
       "  2.255774736404419,\n",
       "  2.173413038253784,\n",
       "  2.098766565322876,\n",
       "  2.082768678665161,\n",
       "  2.1637446880340576,\n",
       "  1.9968485832214355,\n",
       "  2.0795998573303223,\n",
       "  2.2556722164154053,\n",
       "  2.287454128265381,\n",
       "  2.0391483306884766,\n",
       "  2.066221237182617,\n",
       "  2.0215649604797363,\n",
       "  2.1164793968200684,\n",
       "  2.056128978729248,\n",
       "  2.081721305847168,\n",
       "  1.9913486242294312,\n",
       "  1.9907225370407104,\n",
       "  2.0632028579711914,\n",
       "  2.1458842754364014,\n",
       "  2.0832037925720215,\n",
       "  2.2217824459075928,\n",
       "  2.0095207691192627,\n",
       "  2.084779739379883,\n",
       "  2.047022819519043,\n",
       "  2.127079725265503,\n",
       "  2.1158835887908936,\n",
       "  2.2703306674957275,\n",
       "  2.059493064880371,\n",
       "  2.111746072769165,\n",
       "  2.2018303871154785,\n",
       "  2.0628602504730225,\n",
       "  2.3533334732055664,\n",
       "  2.139763593673706,\n",
       "  2.0306167602539062,\n",
       "  2.0414130687713623,\n",
       "  2.0855109691619873,\n",
       "  1.9770138263702393,\n",
       "  2.0379607677459717,\n",
       "  2.0552330017089844,\n",
       "  2.137901544570923,\n",
       "  1.986189603805542,\n",
       "  1.971926212310791,\n",
       "  2.158806324005127,\n",
       "  2.10898756980896,\n",
       "  2.115980863571167,\n",
       "  2.1178927421569824,\n",
       "  2.0139670372009277,\n",
       "  2.053844690322876,\n",
       "  2.004356861114502,\n",
       "  2.0338592529296875,\n",
       "  2.0291802883148193,\n",
       "  1.9655638933181763,\n",
       "  1.9616636037826538,\n",
       "  2.005919933319092,\n",
       "  2.21638560295105,\n",
       "  2.0017006397247314,\n",
       "  2.1457979679107666,\n",
       "  2.2129085063934326,\n",
       "  2.0239036083221436,\n",
       "  2.091268301010132,\n",
       "  2.229055643081665,\n",
       "  2.09043550491333,\n",
       "  2.16666579246521,\n",
       "  2.01399302482605,\n",
       "  2.158017635345459,\n",
       "  2.1120834350585938,\n",
       "  2.077124834060669,\n",
       "  2.136885166168213,\n",
       "  2.014143466949463,\n",
       "  2.0511348247528076,\n",
       "  2.0906214714050293,\n",
       "  2.1415977478027344,\n",
       "  2.1215310096740723,\n",
       "  2.2605209350585938,\n",
       "  2.0385372638702393,\n",
       "  2.170271873474121,\n",
       "  2.1185109615325928,\n",
       "  2.1631665229797363,\n",
       "  2.1619763374328613,\n",
       "  2.018136739730835,\n",
       "  2.06748366355896,\n",
       "  2.126966953277588,\n",
       "  2.3242428302764893,\n",
       "  2.3372814655303955,\n",
       "  2.080383062362671,\n",
       "  1.9846049547195435,\n",
       "  2.094632387161255,\n",
       "  2.0842952728271484,\n",
       "  2.0127012729644775,\n",
       "  2.000767707824707,\n",
       "  2.344489336013794,\n",
       "  2.0564279556274414,\n",
       "  1.9866435527801514,\n",
       "  2.026883363723755,\n",
       "  2.0250842571258545,\n",
       "  2.179292678833008,\n",
       "  2.0376596450805664,\n",
       "  2.21635365486145,\n",
       "  2.0533246994018555,\n",
       "  2.1428592205047607,\n",
       "  2.019632577896118,\n",
       "  2.0902888774871826,\n",
       "  2.069439649581909,\n",
       "  2.0172054767608643,\n",
       "  2.024080514907837,\n",
       "  2.096346378326416,\n",
       "  2.100734233856201,\n",
       "  2.274646759033203,\n",
       "  2.0997257232666016,\n",
       "  2.231466770172119,\n",
       "  2.1040127277374268,\n",
       "  2.130485773086548,\n",
       "  2.0431573390960693,\n",
       "  2.2544825077056885,\n",
       "  2.1600492000579834,\n",
       "  2.071758985519409,\n",
       "  2.0813119411468506,\n",
       "  2.362286329269409,\n",
       "  2.058370351791382,\n",
       "  2.1518654823303223,\n",
       "  2.1407909393310547,\n",
       "  2.2481467723846436,\n",
       "  2.152393102645874,\n",
       "  2.1115705966949463,\n",
       "  2.193662166595459,\n",
       "  2.065387725830078,\n",
       "  2.1127214431762695,\n",
       "  2.277863025665283,\n",
       "  2.080827236175537,\n",
       "  2.1331746578216553,\n",
       "  2.2801589965820312,\n",
       "  2.0298709869384766,\n",
       "  2.561368942260742,\n",
       "  2.1028225421905518,\n",
       "  2.1373229026794434,\n",
       "  2.0718095302581787,\n",
       "  2.197650671005249,\n",
       "  2.3220391273498535,\n",
       "  2.1209380626678467,\n",
       "  2.1408350467681885,\n",
       "  2.1387131214141846,\n",
       "  2.07246994972229,\n",
       "  2.1284568309783936,\n",
       "  2.0887997150421143,\n",
       "  2.0765633583068848,\n",
       "  2.12005615234375,\n",
       "  2.0924019813537598,\n",
       "  2.0987703800201416,\n",
       "  2.0695974826812744,\n",
       "  2.0797088146209717,\n",
       "  2.10642671585083,\n",
       "  2.2830560207366943,\n",
       "  2.213466167449951,\n",
       "  2.1242411136627197,\n",
       "  2.1835482120513916,\n",
       "  2.1187479496002197,\n",
       "  2.086592674255371,\n",
       "  2.0897040367126465,\n",
       "  2.2105603218078613,\n",
       "  2.1618540287017822,\n",
       "  2.1209793090820312,\n",
       "  2.4858920574188232,\n",
       "  2.062941551208496,\n",
       "  2.0539729595184326,\n",
       "  2.0956544876098633,\n",
       "  2.2230687141418457,\n",
       "  2.318326234817505,\n",
       "  2.1910362243652344,\n",
       "  2.6396756172180176,\n",
       "  2.2868361473083496,\n",
       "  2.0937745571136475,\n",
       "  2.3367459774017334,\n",
       "  2.137624979019165,\n",
       "  2.1486597061157227,\n",
       "  2.18523907661438,\n",
       "  2.157747745513916,\n",
       "  2.275632858276367,\n",
       "  2.2456443309783936,\n",
       "  2.1475791931152344,\n",
       "  2.204218864440918,\n",
       "  2.1135363578796387,\n",
       "  2.1557776927948,\n",
       "  2.1506497859954834,\n",
       "  2.314586639404297,\n",
       "  2.129539966583252,\n",
       "  2.2802858352661133,\n",
       "  2.248006582260132,\n",
       "  2.0965969562530518,\n",
       "  2.337085008621216,\n",
       "  2.1838183403015137,\n",
       "  2.1171576976776123,\n",
       "  2.2992351055145264,\n",
       "  2.086970329284668,\n",
       "  2.1610705852508545,\n",
       "  2.3062684535980225,\n",
       "  2.1938350200653076,\n",
       "  2.178091287612915,\n",
       "  2.3056514263153076,\n",
       "  2.1931004524230957,\n",
       "  2.107036590576172,\n",
       "  2.1165771484375,\n",
       "  2.1514639854431152,\n",
       "  2.153200626373291,\n",
       "  2.297485828399658,\n",
       "  2.109858512878418,\n",
       "  2.1247684955596924,\n",
       "  2.211791753768921,\n",
       "  2.38187837600708,\n",
       "  2.284212350845337,\n",
       "  2.344123601913452,\n",
       "  2.3624048233032227,\n",
       "  2.3224987983703613,\n",
       "  2.2356433868408203,\n",
       "  2.3479039669036865,\n",
       "  2.2576286792755127,\n",
       "  2.1853013038635254,\n",
       "  2.208822727203369,\n",
       "  2.128253698348999,\n",
       "  2.185595750808716,\n",
       "  2.2909798622131348,\n",
       "  2.165334939956665,\n",
       "  2.1575794219970703,\n",
       "  2.2022061347961426,\n",
       "  2.092682361602783,\n",
       "  2.179859161376953,\n",
       "  2.1452579498291016,\n",
       "  2.3046810626983643,\n",
       "  2.219494342803955,\n",
       "  2.42401385307312,\n",
       "  2.1336679458618164,\n",
       "  2.161018133163452,\n",
       "  2.320003032684326,\n",
       "  2.2653534412384033,\n",
       "  2.2417142391204834,\n",
       "  2.118698835372925,\n",
       "  2.2371273040771484,\n",
       "  2.18984055519104,\n",
       "  2.3580472469329834,\n",
       "  2.2332568168640137,\n",
       "  2.349353075027466,\n",
       "  2.208616018295288,\n",
       "  2.200430393218994,\n",
       "  2.26522159576416,\n",
       "  2.2639212608337402,\n",
       "  2.274233341217041,\n",
       "  2.3664844036102295,\n",
       "  2.364902973175049,\n",
       "  2.2425270080566406,\n",
       "  2.253572463989258,\n",
       "  2.390947103500366,\n",
       "  2.219526767730713,\n",
       "  2.2369179725646973,\n",
       "  2.4305450916290283,\n",
       "  2.3559036254882812,\n",
       "  2.233201026916504,\n",
       "  2.385709285736084,\n",
       "  2.1970794200897217,\n",
       "  2.26747989654541,\n",
       "  2.266843318939209,\n",
       "  2.189702033996582,\n",
       "  2.3643181324005127,\n",
       "  2.357484817504883,\n",
       "  2.216219425201416,\n",
       "  2.2352230548858643,\n",
       "  2.2868075370788574,\n",
       "  2.163506269454956,\n",
       "  2.21354341506958,\n",
       "  2.224907159805298,\n",
       "  2.1468846797943115,\n",
       "  2.3386809825897217,\n",
       "  2.2824320793151855,\n",
       "  2.2922887802124023,\n",
       "  2.2466161251068115,\n",
       "  2.2060818672180176,\n",
       "  2.207648754119873,\n",
       "  2.2133607864379883,\n",
       "  2.2526676654815674,\n",
       "  2.208972692489624,\n",
       "  2.2239277362823486,\n",
       "  2.194998025894165,\n",
       "  2.1868951320648193,\n",
       "  2.1923577785491943,\n",
       "  2.186079502105713,\n",
       "  2.3931572437286377,\n",
       "  2.2128422260284424,\n",
       "  2.301760196685791,\n",
       "  2.2179741859436035,\n",
       "  2.2608561515808105,\n",
       "  2.2407596111297607,\n",
       "  2.3804428577423096,\n",
       "  2.392542839050293,\n",
       "  2.219266891479492,\n",
       "  2.264374256134033,\n",
       "  2.2164177894592285,\n",
       "  2.2502951622009277,\n",
       "  2.2195117473602295,\n",
       "  2.2291555404663086,\n",
       "  2.2364845275878906,\n",
       "  2.201688289642334,\n",
       "  2.4765784740448,\n",
       "  2.2050247192382812,\n",
       "  2.186940908432007,\n",
       "  2.242839813232422,\n",
       "  2.302189350128174,\n",
       "  2.261943817138672,\n",
       "  2.293052911758423,\n",
       "  2.228811502456665,\n",
       "  2.26727557182312,\n",
       "  2.2171502113342285,\n",
       "  2.311000108718872,\n",
       "  2.267198085784912,\n",
       "  2.2910306453704834,\n",
       "  2.225003242492676,\n",
       "  2.2362654209136963,\n",
       "  2.6472158432006836,\n",
       "  2.5310678482055664,\n",
       "  2.2747652530670166,\n",
       "  2.248741626739502,\n",
       "  2.2347726821899414,\n",
       "  2.2787325382232666,\n",
       "  2.2478532791137695,\n",
       "  2.3622517585754395,\n",
       "  2.383014440536499,\n",
       "  2.3838891983032227,\n",
       "  2.245478868484497,\n",
       "  2.3042476177215576,\n",
       "  2.3731162548065186,\n",
       "  2.4036104679107666,\n",
       "  2.387038469314575,\n",
       "  2.2372560501098633,\n",
       "  2.237229108810425,\n",
       "  2.285245895385742,\n",
       "  2.216715097427368,\n",
       "  2.364203453063965,\n",
       "  2.4146158695220947,\n",
       "  2.318467378616333,\n",
       "  2.3315341472625732,\n",
       "  2.2260019779205322,\n",
       "  2.267160177230835,\n",
       "  2.2423856258392334,\n",
       "  2.3073060512542725,\n",
       "  2.3102869987487793,\n",
       "  2.4336979389190674,\n",
       "  2.2461862564086914,\n",
       "  2.3770527839660645,\n",
       "  2.3928608894348145,\n",
       "  2.3019402027130127,\n",
       "  2.2923619747161865,\n",
       "  2.390422821044922,\n",
       "  2.341447353363037,\n",
       "  2.3399128913879395,\n",
       "  2.287174940109253,\n",
       "  2.354022741317749,\n",
       "  2.329617500305176,\n",
       "  2.3029534816741943,\n",
       "  2.344853639602661,\n",
       "  2.4454691410064697,\n",
       "  2.3652215003967285,\n",
       "  2.2403833866119385,\n",
       "  2.4985203742980957,\n",
       "  2.3182296752929688,\n",
       "  2.272139072418213,\n",
       "  2.37477707862854,\n",
       "  2.2860894203186035,\n",
       "  2.5801830291748047,\n",
       "  2.3687050342559814,\n",
       "  2.3873469829559326,\n",
       "  2.444732904434204,\n",
       "  2.3703598976135254,\n",
       "  2.291200637817383,\n",
       "  2.3480396270751953,\n",
       "  2.2822117805480957,\n",
       "  2.364703416824341,\n",
       "  2.2391982078552246,\n",
       "  2.300541877746582,\n",
       "  2.3021106719970703,\n",
       "  2.258603811264038,\n",
       "  2.36552357673645,\n",
       "  2.377373218536377,\n",
       "  2.3737545013427734,\n",
       "  2.3672235012054443,\n",
       "  2.3262746334075928,\n",
       "  2.5523033142089844,\n",
       "  2.354032516479492,\n",
       "  2.375051498413086,\n",
       "  2.29095196723938,\n",
       "  2.3573355674743652,\n",
       "  2.489861249923706,\n",
       "  2.3695497512817383,\n",
       "  2.371718645095825,\n",
       "  2.399502992630005,\n",
       "  2.36689829826355,\n",
       "  2.3113760948181152,\n",
       "  2.400665760040283,\n",
       "  2.4151482582092285,\n",
       "  2.3845415115356445,\n",
       "  2.340155601501465,\n",
       "  2.385448694229126,\n",
       "  2.384361505508423,\n",
       "  2.501025676727295,\n",
       "  2.5073680877685547,\n",
       "  2.3792877197265625,\n",
       "  2.3559701442718506,\n",
       "  2.3380582332611084,\n",
       "  2.3442375659942627,\n",
       "  2.478154182434082,\n",
       "  2.3842549324035645,\n",
       "  2.4050567150115967,\n",
       "  2.389258861541748,\n",
       "  2.346203565597534,\n",
       "  2.390467882156372,\n",
       "  2.5154318809509277,\n",
       "  2.3407695293426514,\n",
       "  2.355487108230591,\n",
       "  2.585554599761963,\n",
       "  2.5707931518554688,\n",
       "  2.395292282104492,\n",
       "  2.4153761863708496,\n",
       "  2.4732041358947754,\n",
       "  2.3858511447906494,\n",
       "  2.507432460784912,\n",
       "  2.5562238693237305,\n",
       "  2.5060789585113525,\n",
       "  2.3980047702789307,\n",
       "  2.448621988296509,\n",
       "  2.3538355827331543,\n",
       "  2.4701337814331055,\n",
       "  2.374138593673706,\n",
       "  2.350597381591797,\n",
       "  2.811901807785034,\n",
       "  2.3641247749328613,\n",
       "  2.4381520748138428,\n",
       "  2.4610416889190674,\n",
       "  2.462413787841797,\n",
       "  2.4928886890411377,\n",
       "  2.396491527557373,\n",
       "  2.4397733211517334,\n",
       "  2.4354002475738525,\n",
       "  2.405223846435547,\n",
       "  2.4062271118164062,\n",
       "  2.4072265625,\n",
       "  2.4625558853149414,\n",
       "  2.4151151180267334,\n",
       "  2.4893722534179688,\n",
       "  2.358124256134033,\n",
       "  2.465440273284912,\n",
       "  2.4192395210266113,\n",
       "  2.3755784034729004,\n",
       "  2.5143754482269287,\n",
       "  2.395888566970825,\n",
       "  2.415753126144409,\n",
       "  2.375953197479248,\n",
       "  2.498485565185547,\n",
       "  2.607175827026367,\n",
       "  2.381762981414795,\n",
       "  2.384401798248291,\n",
       "  2.4228737354278564,\n",
       "  2.5661003589630127],\n",
       " [18.31064224243164,\n",
       "  14.483839988708496,\n",
       "  10.222259521484375,\n",
       "  6.986526966094971,\n",
       "  5.2921142578125,\n",
       "  4.5460309982299805,\n",
       "  4.003815174102783,\n",
       "  3.7254891395568848,\n",
       "  3.6589152812957764,\n",
       "  3.4352822303771973,\n",
       "  3.2982490062713623,\n",
       "  3.3453493118286133,\n",
       "  3.1545169353485107,\n",
       "  3.0366663932800293,\n",
       "  2.989206552505493,\n",
       "  2.980767011642456,\n",
       "  2.842759847640991,\n",
       "  2.809297800064087,\n",
       "  2.9010844230651855,\n",
       "  2.7249627113342285,\n",
       "  2.7190191745758057,\n",
       "  2.7260401248931885,\n",
       "  2.6994433403015137,\n",
       "  2.9171016216278076,\n",
       "  2.7041962146759033,\n",
       "  2.602449893951416,\n",
       "  2.668368101119995,\n",
       "  2.843965768814087,\n",
       "  2.622664451599121,\n",
       "  2.7799019813537598,\n",
       "  2.660656213760376,\n",
       "  2.5221729278564453,\n",
       "  2.6327121257781982,\n",
       "  2.5570030212402344,\n",
       "  2.5945427417755127,\n",
       "  2.519017457962036,\n",
       "  2.5990350246429443,\n",
       "  2.6791086196899414,\n",
       "  2.48551869392395,\n",
       "  2.7189152240753174,\n",
       "  2.522437334060669,\n",
       "  2.6408743858337402,\n",
       "  2.544940710067749,\n",
       "  2.642043352127075,\n",
       "  2.666423797607422,\n",
       "  2.5273332595825195,\n",
       "  2.495819330215454,\n",
       "  2.7170767784118652,\n",
       "  2.562335252761841,\n",
       "  2.518014669418335,\n",
       "  2.4621055126190186,\n",
       "  2.6583168506622314,\n",
       "  2.5552024841308594,\n",
       "  2.694904088973999,\n",
       "  2.4951162338256836,\n",
       "  2.450525999069214,\n",
       "  2.5687477588653564,\n",
       "  2.4973533153533936,\n",
       "  2.4860665798187256,\n",
       "  2.658795118331909,\n",
       "  2.540623664855957,\n",
       "  2.5056545734405518,\n",
       "  2.4525465965270996,\n",
       "  2.695019006729126,\n",
       "  2.5545883178710938,\n",
       "  2.538912296295166,\n",
       "  2.558778762817383,\n",
       "  2.4167094230651855,\n",
       "  2.4799578189849854,\n",
       "  2.4279651641845703,\n",
       "  2.4511210918426514,\n",
       "  2.592862844467163,\n",
       "  2.5338451862335205,\n",
       "  2.486398220062256,\n",
       "  2.486551523208618,\n",
       "  2.484229326248169,\n",
       "  2.4493508338928223,\n",
       "  2.4640002250671387,\n",
       "  2.4820046424865723,\n",
       "  2.4191200733184814,\n",
       "  2.348329544067383,\n",
       "  2.4563958644866943,\n",
       "  2.3640336990356445,\n",
       "  2.382488965988159,\n",
       "  2.5386226177215576,\n",
       "  2.418182849884033,\n",
       "  2.3563857078552246,\n",
       "  2.4468345642089844,\n",
       "  2.58874773979187,\n",
       "  2.427316427230835,\n",
       "  2.3868112564086914,\n",
       "  2.396955728530884,\n",
       "  2.5487661361694336,\n",
       "  2.5241832733154297,\n",
       "  2.4324662685394287,\n",
       "  2.5076770782470703,\n",
       "  2.488166332244873,\n",
       "  2.480705976486206,\n",
       "  2.472646951675415,\n",
       "  2.483616828918457,\n",
       "  2.4247019290924072,\n",
       "  2.33093523979187,\n",
       "  2.385554790496826,\n",
       "  2.48102068901062,\n",
       "  2.625716209411621,\n",
       "  2.5431606769561768,\n",
       "  2.4220125675201416,\n",
       "  2.3518714904785156,\n",
       "  2.4128668308258057,\n",
       "  2.3266384601593018,\n",
       "  2.635014057159424,\n",
       "  2.458284854888916,\n",
       "  2.3075711727142334,\n",
       "  2.483776330947876,\n",
       "  2.5104498863220215,\n",
       "  2.5778706073760986,\n",
       "  2.4398295879364014,\n",
       "  2.594925880432129,\n",
       "  2.380140781402588,\n",
       "  2.3675477504730225,\n",
       "  2.450122117996216,\n",
       "  2.4213201999664307,\n",
       "  2.409973382949829,\n",
       "  2.350374221801758,\n",
       "  2.5689406394958496,\n",
       "  2.442450761795044,\n",
       "  2.4557039737701416,\n",
       "  2.5081682205200195,\n",
       "  2.4169585704803467,\n",
       "  2.3903725147247314,\n",
       "  2.592414379119873,\n",
       "  2.5869736671447754,\n",
       "  2.3321726322174072,\n",
       "  2.32637095451355,\n",
       "  2.3079798221588135,\n",
       "  2.3010294437408447,\n",
       "  2.4440202713012695,\n",
       "  2.4238908290863037,\n",
       "  2.3706822395324707,\n",
       "  2.568857431411743,\n",
       "  2.401771068572998,\n",
       "  2.3671133518218994,\n",
       "  2.432715892791748,\n",
       "  2.2790849208831787,\n",
       "  2.3757309913635254,\n",
       "  2.519195795059204,\n",
       "  2.381969451904297,\n",
       "  2.3586251735687256,\n",
       "  2.701448917388916,\n",
       "  2.355343818664551,\n",
       "  2.3847639560699463,\n",
       "  2.488363265991211,\n",
       "  2.3949801921844482,\n",
       "  2.3919677734375,\n",
       "  2.3146941661834717,\n",
       "  2.558762311935425,\n",
       "  2.7627687454223633,\n",
       "  2.3431458473205566,\n",
       "  2.552678108215332,\n",
       "  2.3061578273773193,\n",
       "  2.3923189640045166,\n",
       "  2.387359857559204,\n",
       "  2.374669075012207,\n",
       "  2.3466501235961914,\n",
       "  2.4076805114746094,\n",
       "  2.421032667160034,\n",
       "  2.334120035171509,\n",
       "  2.3823578357696533,\n",
       "  2.3200013637542725,\n",
       "  2.3308041095733643,\n",
       "  2.344294548034668,\n",
       "  2.543107748031616,\n",
       "  2.4015674591064453,\n",
       "  2.4435768127441406,\n",
       "  2.6085500717163086,\n",
       "  2.491506338119507,\n",
       "  2.2910051345825195,\n",
       "  2.389741897583008,\n",
       "  2.468930721282959,\n",
       "  2.546083450317383,\n",
       "  2.527568817138672,\n",
       "  2.2961857318878174,\n",
       "  2.424915313720703,\n",
       "  2.504476308822632,\n",
       "  2.6341168880462646,\n",
       "  2.3453469276428223,\n",
       "  2.4083123207092285,\n",
       "  2.5369491577148438,\n",
       "  2.4353396892547607,\n",
       "  2.517878770828247,\n",
       "  2.4733471870422363,\n",
       "  2.615755558013916,\n",
       "  2.344205617904663,\n",
       "  2.4997899532318115,\n",
       "  2.431384325027466,\n",
       "  2.4929935932159424,\n",
       "  2.361382246017456,\n",
       "  2.4094178676605225,\n",
       "  2.2902915477752686,\n",
       "  2.402130126953125,\n",
       "  2.47259783744812,\n",
       "  2.422300100326538,\n",
       "  2.5114409923553467,\n",
       "  2.376187562942505,\n",
       "  2.624448537826538,\n",
       "  2.3801496028900146,\n",
       "  2.4026880264282227,\n",
       "  2.486629009246826,\n",
       "  2.5942935943603516,\n",
       "  2.296008825302124,\n",
       "  2.37593150138855,\n",
       "  2.3529393672943115,\n",
       "  2.3520357608795166,\n",
       "  2.72870135307312,\n",
       "  2.388859272003174,\n",
       "  2.3512916564941406,\n",
       "  2.4769599437713623,\n",
       "  2.4477310180664062,\n",
       "  2.3972437381744385,\n",
       "  2.3885772228240967,\n",
       "  2.488508701324463,\n",
       "  2.4562125205993652,\n",
       "  2.3956730365753174,\n",
       "  2.45381236076355,\n",
       "  2.3568544387817383,\n",
       "  2.414872169494629,\n",
       "  2.4214515686035156,\n",
       "  2.4509034156799316,\n",
       "  2.3521878719329834,\n",
       "  2.7492902278900146,\n",
       "  2.441723585128784,\n",
       "  2.55918288230896,\n",
       "  2.4265849590301514,\n",
       "  2.399557113647461,\n",
       "  2.445830821990967,\n",
       "  2.44743013381958,\n",
       "  2.5722343921661377,\n",
       "  2.3427798748016357,\n",
       "  2.4078567028045654,\n",
       "  2.5301706790924072,\n",
       "  2.470445156097412,\n",
       "  2.6785616874694824,\n",
       "  2.4826531410217285,\n",
       "  2.5393550395965576,\n",
       "  2.601046323776245,\n",
       "  2.6206860542297363,\n",
       "  2.4152884483337402,\n",
       "  2.589717388153076,\n",
       "  2.631513833999634,\n",
       "  2.7042250633239746,\n",
       "  2.394033193588257,\n",
       "  2.463064193725586,\n",
       "  2.5276997089385986,\n",
       "  2.4807300567626953,\n",
       "  2.6163322925567627,\n",
       "  2.5820343494415283,\n",
       "  2.6614081859588623,\n",
       "  2.3829550743103027,\n",
       "  2.5888161659240723,\n",
       "  2.5983049869537354,\n",
       "  2.4937660694122314,\n",
       "  2.4030067920684814,\n",
       "  2.500298261642456,\n",
       "  2.493004322052002,\n",
       "  2.485053777694702,\n",
       "  2.6048941612243652,\n",
       "  2.4256787300109863,\n",
       "  2.5008468627929688,\n",
       "  2.416515588760376,\n",
       "  2.5317389965057373,\n",
       "  2.6810991764068604,\n",
       "  2.4773285388946533,\n",
       "  2.436648368835449,\n",
       "  2.550137758255005,\n",
       "  2.608203172683716,\n",
       "  2.5586371421813965,\n",
       "  2.6769349575042725,\n",
       "  2.5104751586914062,\n",
       "  2.456936836242676,\n",
       "  2.6490249633789062,\n",
       "  2.5450856685638428,\n",
       "  2.54597544670105,\n",
       "  2.698599338531494,\n",
       "  2.526927947998047,\n",
       "  2.64443302154541,\n",
       "  2.555391788482666,\n",
       "  2.5272984504699707,\n",
       "  2.4108572006225586,\n",
       "  2.456566095352173,\n",
       "  2.6044504642486572,\n",
       "  2.6704235076904297,\n",
       "  2.5358223915100098,\n",
       "  2.5762505531311035,\n",
       "  2.501868724822998,\n",
       "  2.565316677093506,\n",
       "  2.641965389251709,\n",
       "  2.5196533203125,\n",
       "  2.558831214904785,\n",
       "  2.655165672302246,\n",
       "  2.570634365081787,\n",
       "  2.478400230407715,\n",
       "  2.5739829540252686,\n",
       "  2.5454535484313965,\n",
       "  2.4895503520965576,\n",
       "  2.5489561557769775,\n",
       "  2.550036668777466,\n",
       "  2.485194444656372,\n",
       "  2.6037051677703857,\n",
       "  2.4769656658172607,\n",
       "  2.6795051097869873,\n",
       "  2.5819172859191895,\n",
       "  2.4458720684051514,\n",
       "  2.4987237453460693,\n",
       "  2.4142470359802246,\n",
       "  2.5051064491271973,\n",
       "  2.4356093406677246,\n",
       "  2.428377866744995,\n",
       "  2.4107658863067627,\n",
       "  2.853482961654663,\n",
       "  2.5684287548065186,\n",
       "  2.5268239974975586,\n",
       "  2.5938596725463867,\n",
       "  2.4545722007751465,\n",
       "  2.4663140773773193,\n",
       "  2.513838052749634,\n",
       "  2.4077861309051514,\n",
       "  2.544558048248291,\n",
       "  2.445206880569458,\n",
       "  2.4856226444244385,\n",
       "  2.544400691986084,\n",
       "  2.619967222213745,\n",
       "  2.5260398387908936,\n",
       "  2.455411195755005,\n",
       "  2.7038774490356445,\n",
       "  2.4764773845672607,\n",
       "  2.51727294921875,\n",
       "  2.6808550357818604,\n",
       "  2.556655168533325,\n",
       "  2.5012056827545166,\n",
       "  2.5284719467163086,\n",
       "  2.641568422317505,\n",
       "  2.5428714752197266,\n",
       "  2.6391146183013916,\n",
       "  2.49833083152771,\n",
       "  2.582024335861206,\n",
       "  2.573859691619873,\n",
       "  2.5691704750061035,\n",
       "  2.384955644607544,\n",
       "  2.5549240112304688,\n",
       "  2.529827117919922,\n",
       "  2.4983415603637695,\n",
       "  2.7015743255615234,\n",
       "  2.506056070327759,\n",
       "  2.5631027221679688,\n",
       "  2.5397539138793945,\n",
       "  2.52451491355896,\n",
       "  2.4070420265197754,\n",
       "  2.428849935531616,\n",
       "  2.4287326335906982,\n",
       "  2.5728135108947754,\n",
       "  2.571354389190674,\n",
       "  2.85896372795105,\n",
       "  2.4720191955566406,\n",
       "  2.557453155517578,\n",
       "  2.6292386054992676,\n",
       "  2.472785234451294,\n",
       "  2.4142074584960938,\n",
       "  2.4849393367767334,\n",
       "  2.524523973464966,\n",
       "  2.455965995788574,\n",
       "  2.4276340007781982,\n",
       "  2.468226909637451,\n",
       "  2.555053949356079,\n",
       "  2.6576459407806396,\n",
       "  2.693063974380493,\n",
       "  2.5023317337036133,\n",
       "  2.4632465839385986,\n",
       "  2.470768451690674,\n",
       "  2.6069583892822266,\n",
       "  2.5760133266448975,\n",
       "  2.4531917572021484,\n",
       "  2.4869000911712646,\n",
       "  2.4526634216308594,\n",
       "  2.411308526992798,\n",
       "  2.50097918510437,\n",
       "  2.4761040210723877,\n",
       "  2.442882537841797,\n",
       "  2.434664487838745,\n",
       "  2.365225076675415,\n",
       "  2.5576260089874268,\n",
       "  2.879530906677246,\n",
       "  2.450009822845459,\n",
       "  2.631887674331665,\n",
       "  2.4873905181884766,\n",
       "  2.4205117225646973,\n",
       "  2.5832273960113525,\n",
       "  2.5461699962615967,\n",
       "  2.5839426517486572,\n",
       "  2.507978677749634,\n",
       "  2.4942493438720703,\n",
       "  2.588117837905884,\n",
       "  2.7271652221679688,\n",
       "  2.482797145843506,\n",
       "  2.4795641899108887,\n",
       "  2.50256609916687,\n",
       "  2.4445137977600098,\n",
       "  2.416970729827881,\n",
       "  2.4847278594970703,\n",
       "  2.4804909229278564,\n",
       "  2.6111674308776855,\n",
       "  2.5483102798461914,\n",
       "  2.7985100746154785,\n",
       "  2.431184768676758,\n",
       "  2.5614700317382812,\n",
       "  2.4517390727996826,\n",
       "  2.6392486095428467,\n",
       "  2.5673611164093018,\n",
       "  2.4727561473846436,\n",
       "  2.4342751502990723,\n",
       "  2.5691258907318115,\n",
       "  2.5043845176696777,\n",
       "  2.46997332572937,\n",
       "  2.6152875423431396,\n",
       "  2.5460777282714844,\n",
       "  2.4256248474121094,\n",
       "  2.4148688316345215,\n",
       "  2.5094614028930664,\n",
       "  2.524132251739502,\n",
       "  2.422072649002075,\n",
       "  2.5495007038116455,\n",
       "  2.5829436779022217,\n",
       "  2.495528221130371,\n",
       "  2.60014271736145,\n",
       "  2.3769092559814453,\n",
       "  2.514671802520752,\n",
       "  2.5060229301452637,\n",
       "  2.855074644088745,\n",
       "  2.4513981342315674,\n",
       "  2.5311920642852783,\n",
       "  2.492210865020752,\n",
       "  2.4230310916900635,\n",
       "  2.5231423377990723,\n",
       "  2.3916351795196533,\n",
       "  2.403480291366577,\n",
       "  2.6317477226257324,\n",
       "  2.5546011924743652,\n",
       "  2.4765713214874268,\n",
       "  2.4890739917755127,\n",
       "  2.4931631088256836,\n",
       "  2.4611194133758545,\n",
       "  2.535020351409912,\n",
       "  2.5338008403778076,\n",
       "  2.4653730392456055,\n",
       "  2.448411226272583,\n",
       "  2.525663137435913,\n",
       "  2.439274787902832,\n",
       "  2.54775333404541,\n",
       "  2.5124869346618652,\n",
       "  2.5398128032684326,\n",
       "  2.448631763458252,\n",
       "  2.6406807899475098,\n",
       "  2.6252872943878174,\n",
       "  2.457770824432373,\n",
       "  2.502227783203125,\n",
       "  2.5001273155212402,\n",
       "  2.5154285430908203,\n",
       "  2.5287914276123047,\n",
       "  2.5359885692596436,\n",
       "  2.4923598766326904,\n",
       "  2.6415984630584717,\n",
       "  2.4307756423950195,\n",
       "  2.476783037185669,\n",
       "  2.5239193439483643,\n",
       "  2.4209601879119873,\n",
       "  2.4732227325439453,\n",
       "  2.4795799255371094,\n",
       "  2.476790428161621,\n",
       "  2.541555166244507,\n",
       "  2.5348410606384277,\n",
       "  2.548018455505371,\n",
       "  2.427513837814331,\n",
       "  2.5570099353790283,\n",
       "  2.4377894401550293,\n",
       "  2.575075149536133,\n",
       "  2.625079870223999,\n",
       "  2.660212516784668,\n",
       "  2.5502524375915527,\n",
       "  2.515467405319214,\n",
       "  2.568080186843872,\n",
       "  2.3880279064178467,\n",
       "  2.4802873134613037,\n",
       "  2.5370724201202393,\n",
       "  2.4704110622406006,\n",
       "  2.5579447746276855,\n",
       "  2.6446378231048584,\n",
       "  2.4008123874664307,\n",
       "  2.4410362243652344,\n",
       "  2.4875614643096924,\n",
       "  2.6766164302825928,\n",
       "  2.627007007598877],\n",
       " [17.32255744934082,\n",
       "  13.392692565917969,\n",
       "  9.57944107055664,\n",
       "  7.232883453369141,\n",
       "  5.921061038970947,\n",
       "  4.903794765472412,\n",
       "  4.150978088378906,\n",
       "  3.6473822593688965,\n",
       "  3.404905080795288,\n",
       "  3.258643627166748,\n",
       "  3.138204336166382,\n",
       "  2.9819743633270264,\n",
       "  2.9108448028564453,\n",
       "  2.8351495265960693,\n",
       "  2.83819580078125,\n",
       "  2.780552625656128,\n",
       "  2.7531588077545166,\n",
       "  2.8211300373077393,\n",
       "  2.865899085998535,\n",
       "  2.8432915210723877,\n",
       "  2.6714847087860107,\n",
       "  2.729018211364746,\n",
       "  2.6624577045440674,\n",
       "  2.6252782344818115,\n",
       "  2.602698802947998,\n",
       "  2.673476457595825,\n",
       "  2.6269912719726562,\n",
       "  2.619748592376709,\n",
       "  2.6123883724212646,\n",
       "  2.6283459663391113,\n",
       "  2.6096885204315186,\n",
       "  2.6874687671661377,\n",
       "  2.5906550884246826,\n",
       "  2.5854194164276123,\n",
       "  2.552351951599121,\n",
       "  2.5456223487854004,\n",
       "  2.638284206390381,\n",
       "  2.552227735519409,\n",
       "  2.5416455268859863,\n",
       "  2.7731704711914062,\n",
       "  2.66328501701355,\n",
       "  2.602550506591797,\n",
       "  2.5245325565338135,\n",
       "  2.5490293502807617,\n",
       "  2.486461877822876,\n",
       "  2.6628708839416504,\n",
       "  2.6096792221069336,\n",
       "  2.566802978515625,\n",
       "  2.5558717250823975,\n",
       "  2.507005214691162,\n",
       "  2.4945790767669678,\n",
       "  2.5281500816345215,\n",
       "  2.5164387226104736,\n",
       "  2.674954652786255,\n",
       "  2.426434278488159,\n",
       "  2.5425729751586914,\n",
       "  2.5451865196228027,\n",
       "  2.468026876449585,\n",
       "  2.461467742919922,\n",
       "  2.5678157806396484,\n",
       "  2.470475912094116,\n",
       "  2.4804282188415527,\n",
       "  2.5292673110961914,\n",
       "  2.431398391723633,\n",
       "  2.4655611515045166,\n",
       "  2.4569597244262695,\n",
       "  2.4943056106567383,\n",
       "  2.57393479347229,\n",
       "  2.4548206329345703,\n",
       "  2.4374403953552246,\n",
       "  2.654538631439209,\n",
       "  2.466140031814575,\n",
       "  2.4541263580322266,\n",
       "  2.459975004196167,\n",
       "  2.4411542415618896,\n",
       "  2.497519016265869,\n",
       "  2.4554619789123535,\n",
       "  2.439009428024292,\n",
       "  2.5575032234191895,\n",
       "  2.501192331314087,\n",
       "  2.5509414672851562,\n",
       "  2.451284646987915,\n",
       "  2.521019458770752,\n",
       "  2.460894823074341,\n",
       "  2.429007053375244,\n",
       "  2.6199703216552734,\n",
       "  2.513903856277466,\n",
       "  2.409964084625244,\n",
       "  2.4974892139434814,\n",
       "  2.424832582473755,\n",
       "  2.476832628250122,\n",
       "  2.4843790531158447,\n",
       "  2.478360414505005,\n",
       "  2.5020813941955566,\n",
       "  2.482407331466675,\n",
       "  2.3793888092041016,\n",
       "  2.433293581008911,\n",
       "  2.413724660873413,\n",
       "  2.457777500152588,\n",
       "  2.57073974609375,\n",
       "  2.4405717849731445,\n",
       "  2.5826361179351807,\n",
       "  2.459959030151367,\n",
       "  2.4799768924713135,\n",
       "  2.39920973777771,\n",
       "  2.5536460876464844,\n",
       "  2.4355907440185547,\n",
       "  2.4434757232666016,\n",
       "  2.4235193729400635,\n",
       "  2.4448776245117188,\n",
       "  2.426678419113159,\n",
       "  2.5025811195373535,\n",
       "  2.4901041984558105,\n",
       "  2.487889528274536,\n",
       "  2.559248447418213,\n",
       "  2.4512438774108887,\n",
       "  2.4292826652526855,\n",
       "  2.473597764968872,\n",
       "  2.48354172706604,\n",
       "  2.5935518741607666,\n",
       "  2.4597525596618652,\n",
       "  2.424654483795166,\n",
       "  2.3455498218536377,\n",
       "  2.3974106311798096,\n",
       "  2.455935001373291,\n",
       "  2.454146385192871,\n",
       "  2.5072433948516846,\n",
       "  2.42930006980896,\n",
       "  2.4034523963928223,\n",
       "  2.3852040767669678,\n",
       "  2.549028158187866,\n",
       "  2.3610317707061768,\n",
       "  2.4651334285736084,\n",
       "  2.4566917419433594,\n",
       "  2.4019908905029297,\n",
       "  2.3661551475524902,\n",
       "  2.4318315982818604,\n",
       "  2.4166252613067627,\n",
       "  2.4326729774475098,\n",
       "  2.525930166244507,\n",
       "  2.51820969581604,\n",
       "  2.419426441192627,\n",
       "  2.3410797119140625,\n",
       "  2.4014806747436523,\n",
       "  2.4405646324157715,\n",
       "  2.6294565200805664,\n",
       "  2.466439723968506,\n",
       "  2.42313551902771,\n",
       "  2.450552463531494,\n",
       "  2.455456495285034,\n",
       "  2.436123847961426,\n",
       "  2.4103057384490967,\n",
       "  2.397291660308838,\n",
       "  2.3582634925842285,\n",
       "  2.472506046295166,\n",
       "  2.400700330734253,\n",
       "  2.428725481033325,\n",
       "  2.4238975048065186,\n",
       "  2.4320085048675537,\n",
       "  2.339493989944458,\n",
       "  2.3849642276763916,\n",
       "  2.3609280586242676,\n",
       "  2.3910372257232666,\n",
       "  2.3828375339508057,\n",
       "  2.405987024307251,\n",
       "  2.3486416339874268,\n",
       "  2.3247642517089844,\n",
       "  2.391125440597534,\n",
       "  2.3662707805633545,\n",
       "  2.428513526916504,\n",
       "  2.3808162212371826,\n",
       "  2.329482316970825,\n",
       "  2.4067792892456055,\n",
       "  2.3685388565063477,\n",
       "  2.4102673530578613,\n",
       "  2.426598072052002,\n",
       "  2.3200571537017822,\n",
       "  2.3642876148223877,\n",
       "  2.3966498374938965,\n",
       "  2.4093017578125,\n",
       "  2.2984390258789062,\n",
       "  2.326273202896118,\n",
       "  2.476961135864258,\n",
       "  2.3867111206054688,\n",
       "  2.3353335857391357,\n",
       "  2.398277997970581,\n",
       "  2.5054731369018555,\n",
       "  2.471064329147339,\n",
       "  2.4723024368286133,\n",
       "  2.3500819206237793,\n",
       "  2.3680777549743652,\n",
       "  2.3364882469177246,\n",
       "  2.409559726715088,\n",
       "  2.404587984085083,\n",
       "  2.3965539932250977,\n",
       "  2.3205015659332275,\n",
       "  2.3923168182373047,\n",
       "  2.3873207569122314,\n",
       "  2.502206563949585,\n",
       "  2.356706142425537,\n",
       "  2.3608040809631348,\n",
       "  2.3591468334198,\n",
       "  2.343522548675537,\n",
       "  2.3572211265563965,\n",
       "  2.425196647644043,\n",
       "  2.384270429611206,\n",
       "  2.4473559856414795,\n",
       "  2.4026827812194824,\n",
       "  2.3194544315338135,\n",
       "  2.462961435317993,\n",
       "  2.4886913299560547,\n",
       "  2.532564640045166,\n",
       "  2.341876983642578,\n",
       "  2.416236400604248,\n",
       "  2.3355839252471924,\n",
       "  2.313474416732788,\n",
       "  2.380113124847412,\n",
       "  2.3899753093719482,\n",
       "  2.5211381912231445,\n",
       "  2.386652708053589,\n",
       "  2.336658477783203,\n",
       "  2.3732173442840576,\n",
       "  2.4220480918884277,\n",
       "  2.412210464477539,\n",
       "  2.3476529121398926,\n",
       "  2.3722875118255615,\n",
       "  2.3533833026885986,\n",
       "  2.417443037033081,\n",
       "  2.314366579055786,\n",
       "  2.4111132621765137,\n",
       "  2.3601627349853516,\n",
       "  2.389582872390747,\n",
       "  2.3933281898498535,\n",
       "  2.364212989807129,\n",
       "  2.3127799034118652,\n",
       "  2.3689990043640137,\n",
       "  2.4011926651000977,\n",
       "  2.333972215652466,\n",
       "  2.374105215072632,\n",
       "  2.528221845626831,\n",
       "  2.3275046348571777,\n",
       "  2.4251348972320557,\n",
       "  2.378077507019043,\n",
       "  2.3411483764648438,\n",
       "  2.370225429534912,\n",
       "  2.429241895675659,\n",
       "  2.4994587898254395,\n",
       "  2.3416688442230225,\n",
       "  2.340862989425659,\n",
       "  2.3644909858703613,\n",
       "  2.39020037651062,\n",
       "  2.4205236434936523,\n",
       "  2.392822265625,\n",
       "  2.345397710800171,\n",
       "  2.324251174926758,\n",
       "  2.414484739303589,\n",
       "  2.373610734939575,\n",
       "  2.3084728717803955,\n",
       "  2.3480679988861084,\n",
       "  2.3515467643737793,\n",
       "  2.416276454925537,\n",
       "  2.3265111446380615,\n",
       "  2.4050092697143555,\n",
       "  2.375828266143799,\n",
       "  2.4184517860412598,\n",
       "  2.3553669452667236,\n",
       "  2.32305645942688,\n",
       "  2.299461841583252,\n",
       "  2.441214084625244,\n",
       "  2.356609344482422,\n",
       "  2.4178996086120605,\n",
       "  2.434624195098877,\n",
       "  2.349006175994873,\n",
       "  2.3828976154327393,\n",
       "  2.3818159103393555,\n",
       "  2.3254053592681885,\n",
       "  2.370098352432251,\n",
       "  2.4004783630371094,\n",
       "  2.371176242828369,\n",
       "  2.425694227218628,\n",
       "  2.3552753925323486,\n",
       "  2.374328851699829,\n",
       "  2.3296308517456055,\n",
       "  2.413245677947998,\n",
       "  2.413694143295288,\n",
       "  2.4073944091796875,\n",
       "  2.3368980884552,\n",
       "  2.3162460327148438,\n",
       "  2.3567988872528076,\n",
       "  2.322402000427246,\n",
       "  2.3574225902557373,\n",
       "  2.3690316677093506,\n",
       "  2.4074363708496094,\n",
       "  2.297316789627075,\n",
       "  2.317718505859375,\n",
       "  2.323996067047119,\n",
       "  2.336756467819214,\n",
       "  2.414322853088379,\n",
       "  2.420292854309082,\n",
       "  2.31445050239563,\n",
       "  2.3069088459014893,\n",
       "  2.4118010997772217,\n",
       "  2.3365166187286377,\n",
       "  2.3933329582214355,\n",
       "  2.341948986053467,\n",
       "  2.285184860229492,\n",
       "  2.4175260066986084,\n",
       "  2.362203359603882,\n",
       "  2.359257698059082,\n",
       "  2.3039145469665527,\n",
       "  2.349513530731201,\n",
       "  2.388773202896118,\n",
       "  2.349379062652588,\n",
       "  2.3223190307617188,\n",
       "  2.544804096221924,\n",
       "  2.323930263519287,\n",
       "  2.334419012069702,\n",
       "  2.295987844467163,\n",
       "  2.3479299545288086,\n",
       "  2.3887405395507812,\n",
       "  2.340796947479248,\n",
       "  2.3026413917541504,\n",
       "  2.4371707439422607,\n",
       "  2.3594110012054443,\n",
       "  2.30863881111145,\n",
       "  2.3978586196899414,\n",
       "  2.325171947479248,\n",
       "  2.3214149475097656,\n",
       "  2.3482089042663574,\n",
       "  2.3749771118164062,\n",
       "  2.387319326400757,\n",
       "  2.3983728885650635,\n",
       "  2.374702215194702,\n",
       "  2.3496086597442627,\n",
       "  2.295111894607544,\n",
       "  2.3275933265686035,\n",
       "  2.358750820159912,\n",
       "  2.309338092803955,\n",
       "  2.3080132007598877,\n",
       "  2.3233649730682373,\n",
       "  2.3910746574401855,\n",
       "  2.378462791442871,\n",
       "  2.5892515182495117,\n",
       "  2.2926690578460693,\n",
       "  2.3597936630249023,\n",
       "  2.3340604305267334,\n",
       "  2.456392526626587,\n",
       "  2.3304054737091064,\n",
       "  2.3097145557403564,\n",
       "  2.331278085708618,\n",
       "  2.3751752376556396,\n",
       "  2.4847605228424072,\n",
       "  2.3372600078582764,\n",
       "  2.351757764816284,\n",
       "  2.354809522628784,\n",
       "  2.656073570251465,\n",
       "  2.3683578968048096,\n",
       "  2.323690176010132,\n",
       "  2.4428515434265137,\n",
       "  2.3579277992248535,\n",
       "  2.323842763900757,\n",
       "  2.4483273029327393,\n",
       "  2.297455072402954,\n",
       "  2.285780429840088,\n",
       "  2.3027195930480957,\n",
       "  2.3214097023010254,\n",
       "  2.33770751953125,\n",
       "  2.4239559173583984,\n",
       "  2.347248077392578,\n",
       "  2.3791725635528564,\n",
       "  2.460099220275879,\n",
       "  2.299933671951294,\n",
       "  2.3231446743011475,\n",
       "  2.370108127593994,\n",
       "  2.3950283527374268,\n",
       "  2.36008358001709,\n",
       "  2.3498177528381348,\n",
       "  2.4113152027130127,\n",
       "  2.3434700965881348,\n",
       "  2.3422234058380127,\n",
       "  2.3546433448791504,\n",
       "  2.3425612449645996,\n",
       "  2.32865834236145,\n",
       "  2.319092035293579,\n",
       "  2.3574013710021973,\n",
       "  2.3776421546936035,\n",
       "  2.3296709060668945,\n",
       "  2.338196039199829,\n",
       "  2.373953342437744,\n",
       "  2.3224358558654785,\n",
       "  2.338569164276123,\n",
       "  2.4068589210510254,\n",
       "  2.425367832183838,\n",
       "  2.372591018676758,\n",
       "  2.393453359603882,\n",
       "  2.3474299907684326,\n",
       "  2.3269433975219727,\n",
       "  2.3403453826904297,\n",
       "  2.375804901123047,\n",
       "  2.364854097366333,\n",
       "  2.3428244590759277,\n",
       "  2.3714137077331543,\n",
       "  2.4133026599884033,\n",
       "  2.361496925354004,\n",
       "  2.4150099754333496,\n",
       "  2.341639995574951,\n",
       "  2.3159966468811035,\n",
       "  2.367384910583496,\n",
       "  2.393075704574585,\n",
       "  2.3279268741607666,\n",
       "  2.462770938873291,\n",
       "  2.3736371994018555,\n",
       "  2.4522109031677246,\n",
       "  2.50215744972229,\n",
       "  2.3229150772094727,\n",
       "  2.3863885402679443,\n",
       "  2.362389087677002,\n",
       "  2.4624545574188232,\n",
       "  2.326728343963623,\n",
       "  2.2675411701202393,\n",
       "  2.336571455001831,\n",
       "  2.4070353507995605,\n",
       "  2.342822790145874,\n",
       "  2.325423240661621,\n",
       "  2.4238619804382324,\n",
       "  2.344391107559204,\n",
       "  2.3844094276428223,\n",
       "  2.336209535598755,\n",
       "  2.3329107761383057,\n",
       "  2.3487343788146973,\n",
       "  2.308424234390259,\n",
       "  2.4537112712860107,\n",
       "  2.410811424255371,\n",
       "  2.261411190032959,\n",
       "  2.328721761703491,\n",
       "  2.301893949508667,\n",
       "  2.3061342239379883,\n",
       "  2.301305055618286,\n",
       "  2.43147611618042,\n",
       "  2.3333709239959717,\n",
       "  2.383951425552368,\n",
       "  2.376932382583618,\n",
       "  2.3234596252441406,\n",
       "  2.341200828552246,\n",
       "  2.3202033042907715,\n",
       "  2.4184188842773438,\n",
       "  2.33884596824646,\n",
       "  2.3572916984558105,\n",
       "  2.372368335723877,\n",
       "  2.3414902687072754,\n",
       "  2.484415292739868,\n",
       "  2.3619463443756104,\n",
       "  2.4888501167297363,\n",
       "  2.4243812561035156,\n",
       "  2.405073881149292,\n",
       "  2.2927708625793457,\n",
       "  2.4307126998901367,\n",
       "  2.375258684158325,\n",
       "  2.424729824066162,\n",
       "  2.3585429191589355,\n",
       "  2.3444628715515137,\n",
       "  2.3348636627197266,\n",
       "  2.4191887378692627,\n",
       "  2.3227834701538086,\n",
       "  2.3838393688201904,\n",
       "  2.3721940517425537,\n",
       "  2.384338617324829,\n",
       "  2.3626151084899902,\n",
       "  2.4189531803131104,\n",
       "  2.5003862380981445,\n",
       "  2.4654152393341064,\n",
       "  2.4430320262908936,\n",
       "  2.3526735305786133,\n",
       "  2.3802268505096436,\n",
       "  2.3436520099639893,\n",
       "  2.3666672706604004,\n",
       "  2.343447208404541,\n",
       "  2.379953145980835,\n",
       "  2.325624465942383,\n",
       "  2.3945958614349365,\n",
       "  2.413419485092163,\n",
       "  2.433875322341919,\n",
       "  2.3530962467193604,\n",
       "  2.401747226715088,\n",
       "  2.3891873359680176,\n",
       "  2.3526816368103027,\n",
       "  2.367530107498169,\n",
       "  2.4603567123413086,\n",
       "  2.3368632793426514,\n",
       "  2.493248701095581,\n",
       "  2.3140316009521484,\n",
       "  2.413755178451538,\n",
       "  2.3444161415100098,\n",
       "  2.3980538845062256,\n",
       "  2.461076498031616,\n",
       "  2.4000473022460938,\n",
       "  2.4050278663635254,\n",
       "  2.4472835063934326,\n",
       "  2.377455949783325,\n",
       "  2.4074652194976807],\n",
       " [20.476465225219727,\n",
       "  16.371639251708984,\n",
       "  11.6114501953125,\n",
       "  8.505598068237305,\n",
       "  6.686810493469238,\n",
       "  5.524533271789551,\n",
       "  4.680593967437744,\n",
       "  4.223618984222412,\n",
       "  3.8513593673706055,\n",
       "  3.6312198638916016,\n",
       "  3.500610589981079,\n",
       "  3.2988529205322266,\n",
       "  3.1815388202667236,\n",
       "  3.0791821479797363,\n",
       "  2.9390785694122314,\n",
       "  2.9200260639190674,\n",
       "  2.8329243659973145,\n",
       "  2.7341079711914062,\n",
       "  2.6443188190460205,\n",
       "  2.635059356689453,\n",
       "  2.603586435317993,\n",
       "  2.6746633052825928,\n",
       "  2.649357318878174,\n",
       "  2.603766441345215,\n",
       "  2.5485572814941406,\n",
       "  2.548067808151245,\n",
       "  2.557284116744995,\n",
       "  2.520876407623291,\n",
       "  2.4876863956451416,\n",
       "  2.5082690715789795,\n",
       "  2.550919532775879,\n",
       "  2.5808022022247314,\n",
       "  2.410890579223633,\n",
       "  2.45973801612854,\n",
       "  2.4666569232940674,\n",
       "  2.5789828300476074,\n",
       "  2.496695041656494,\n",
       "  2.4677116870880127,\n",
       "  2.4348697662353516,\n",
       "  2.5842013359069824,\n",
       "  2.435854911804199,\n",
       "  2.414262056350708,\n",
       "  2.406296730041504,\n",
       "  2.429088592529297,\n",
       "  2.373189687728882,\n",
       "  2.478442430496216,\n",
       "  2.4390718936920166,\n",
       "  2.4836363792419434,\n",
       "  2.5555641651153564,\n",
       "  2.3316524028778076,\n",
       "  2.382702589035034,\n",
       "  2.510570764541626,\n",
       "  2.4068613052368164,\n",
       "  2.5076637268066406,\n",
       "  2.43232798576355,\n",
       "  2.3424572944641113,\n",
       "  2.376319646835327,\n",
       "  2.362745761871338,\n",
       "  2.380009412765503,\n",
       "  2.4216840267181396,\n",
       "  2.366068124771118,\n",
       "  2.646010398864746,\n",
       "  2.3958425521850586,\n",
       "  2.3065760135650635,\n",
       "  2.331660509109497,\n",
       "  2.43677020072937,\n",
       "  2.287156581878662,\n",
       "  2.5003468990325928,\n",
       "  2.378504514694214,\n",
       "  2.404815912246704,\n",
       "  2.322547674179077,\n",
       "  2.296649694442749,\n",
       "  2.3440604209899902,\n",
       "  2.3169729709625244,\n",
       "  2.433885097503662,\n",
       "  2.3362085819244385,\n",
       "  2.4590179920196533,\n",
       "  2.3702237606048584,\n",
       "  2.2628095149993896,\n",
       "  2.2713963985443115,\n",
       "  2.4283134937286377,\n",
       "  2.4149670600891113,\n",
       "  2.2891151905059814,\n",
       "  2.3665237426757812,\n",
       "  2.4290192127227783,\n",
       "  2.3036489486694336,\n",
       "  2.360262870788574,\n",
       "  2.3567452430725098,\n",
       "  2.4493355751037598,\n",
       "  2.292800188064575,\n",
       "  2.2673227787017822,\n",
       "  2.337049961090088,\n",
       "  2.2856602668762207,\n",
       "  2.320688247680664,\n",
       "  2.4102284908294678,\n",
       "  2.3734047412872314,\n",
       "  2.31481671333313,\n",
       "  2.234320878982544,\n",
       "  2.3443658351898193,\n",
       "  2.2716944217681885,\n",
       "  2.409294843673706,\n",
       "  2.3298511505126953,\n",
       "  2.498224973678589,\n",
       "  2.2985587120056152,\n",
       "  2.5645594596862793,\n",
       "  2.4043424129486084,\n",
       "  2.3474974632263184,\n",
       "  2.454310894012451,\n",
       "  2.332456350326538,\n",
       "  2.393517017364502,\n",
       "  2.345442056655884,\n",
       "  2.3171803951263428,\n",
       "  2.259981155395508,\n",
       "  2.267707109451294,\n",
       "  2.326619863510132,\n",
       "  2.417886972427368,\n",
       "  2.251396417617798,\n",
       "  2.2797248363494873,\n",
       "  2.281201124191284,\n",
       "  2.3064308166503906,\n",
       "  2.545365810394287,\n",
       "  2.4056060314178467,\n",
       "  2.3945505619049072,\n",
       "  2.2423715591430664,\n",
       "  2.4156322479248047,\n",
       "  2.3760476112365723,\n",
       "  2.354942798614502,\n",
       "  2.32187819480896,\n",
       "  2.351740598678589,\n",
       "  2.297224521636963,\n",
       "  2.3990108966827393,\n",
       "  2.2726094722747803,\n",
       "  2.3629348278045654,\n",
       "  2.3647000789642334,\n",
       "  2.285905361175537,\n",
       "  2.274941921234131,\n",
       "  2.3716564178466797,\n",
       "  2.355849504470825,\n",
       "  2.3270764350891113,\n",
       "  2.2796630859375,\n",
       "  2.245290994644165,\n",
       "  2.3217926025390625,\n",
       "  2.262742519378662,\n",
       "  2.26271390914917,\n",
       "  2.2587485313415527,\n",
       "  2.26074481010437,\n",
       "  2.305438995361328,\n",
       "  2.6315224170684814,\n",
       "  2.2657291889190674,\n",
       "  2.3173112869262695,\n",
       "  2.4083285331726074,\n",
       "  2.353598117828369,\n",
       "  2.319633960723877,\n",
       "  2.2745158672332764,\n",
       "  2.3620924949645996,\n",
       "  2.2850539684295654,\n",
       "  2.3302626609802246,\n",
       "  2.2402114868164062,\n",
       "  2.2572104930877686,\n",
       "  2.2341394424438477,\n",
       "  2.277545928955078,\n",
       "  2.2824301719665527,\n",
       "  2.3119654655456543,\n",
       "  2.2766122817993164,\n",
       "  2.422706127166748,\n",
       "  2.2731242179870605,\n",
       "  2.3801980018615723,\n",
       "  2.441277027130127,\n",
       "  2.3907737731933594,\n",
       "  2.566237688064575,\n",
       "  2.370561361312866,\n",
       "  2.241364002227783,\n",
       "  2.272218942642212,\n",
       "  2.329554557800293,\n",
       "  2.279292106628418,\n",
       "  2.3956360816955566,\n",
       "  2.266899585723877,\n",
       "  2.2730846405029297,\n",
       "  2.275195360183716,\n",
       "  2.316946268081665,\n",
       "  2.235931396484375,\n",
       "  2.333801507949829,\n",
       "  2.279330015182495,\n",
       "  2.3228204250335693,\n",
       "  2.2670059204101562,\n",
       "  2.3099722862243652,\n",
       "  2.2964696884155273,\n",
       "  2.3677549362182617,\n",
       "  2.272487163543701,\n",
       "  2.3626067638397217,\n",
       "  2.2816176414489746,\n",
       "  2.3093502521514893,\n",
       "  2.2474312782287598,\n",
       "  2.392779588699341,\n",
       "  2.2929182052612305,\n",
       "  2.285796880722046,\n",
       "  2.4604854583740234,\n",
       "  2.3231265544891357,\n",
       "  2.289616823196411,\n",
       "  2.267205238342285,\n",
       "  2.2764580249786377,\n",
       "  2.2807388305664062,\n",
       "  2.3630852699279785,\n",
       "  2.369429111480713,\n",
       "  2.3305628299713135,\n",
       "  2.3181169033050537,\n",
       "  2.3534984588623047,\n",
       "  2.4162893295288086,\n",
       "  2.2732467651367188,\n",
       "  2.294442892074585,\n",
       "  2.3968911170959473,\n",
       "  2.338986873626709,\n",
       "  2.3471596240997314,\n",
       "  2.256016254425049,\n",
       "  2.2488062381744385,\n",
       "  2.3950400352478027,\n",
       "  2.331514835357666,\n",
       "  2.454615592956543,\n",
       "  2.25396466255188,\n",
       "  2.352473020553589,\n",
       "  2.3172292709350586,\n",
       "  2.263465642929077,\n",
       "  2.3843576908111572,\n",
       "  2.2904305458068848,\n",
       "  2.3032171726226807,\n",
       "  2.344377040863037,\n",
       "  2.3426592350006104,\n",
       "  2.3923568725585938,\n",
       "  2.369485378265381,\n",
       "  2.3307435512542725,\n",
       "  2.30912184715271,\n",
       "  2.301494836807251,\n",
       "  2.294719934463501,\n",
       "  2.477155923843384,\n",
       "  2.346566915512085,\n",
       "  2.35588002204895,\n",
       "  2.2780356407165527,\n",
       "  2.3835387229919434,\n",
       "  2.3506247997283936,\n",
       "  2.3379266262054443,\n",
       "  2.2829606533050537,\n",
       "  2.3749654293060303,\n",
       "  2.340566873550415,\n",
       "  2.315598249435425,\n",
       "  2.3761045932769775,\n",
       "  2.285283327102661,\n",
       "  2.2811689376831055,\n",
       "  2.39388108253479,\n",
       "  2.3308608531951904,\n",
       "  2.388287305831909,\n",
       "  2.3894708156585693,\n",
       "  2.40376353263855,\n",
       "  2.2864174842834473,\n",
       "  2.4128589630126953,\n",
       "  2.4093472957611084,\n",
       "  2.3186635971069336,\n",
       "  2.2952959537506104,\n",
       "  2.5812442302703857,\n",
       "  2.3414368629455566,\n",
       "  2.4671437740325928,\n",
       "  2.4034996032714844,\n",
       "  2.3858397006988525,\n",
       "  2.381143808364868,\n",
       "  2.4501864910125732,\n",
       "  2.3133139610290527,\n",
       "  2.372990608215332,\n",
       "  2.3793435096740723,\n",
       "  2.5391452312469482,\n",
       "  2.4203567504882812,\n",
       "  2.401705741882324,\n",
       "  2.3849692344665527,\n",
       "  2.3308284282684326,\n",
       "  2.3244807720184326,\n",
       "  2.428607702255249,\n",
       "  2.3671181201934814,\n",
       "  2.6223695278167725,\n",
       "  2.3595666885375977,\n",
       "  2.4044322967529297,\n",
       "  2.395838499069214,\n",
       "  2.3549745082855225,\n",
       "  2.422032356262207,\n",
       "  2.5000052452087402,\n",
       "  2.3334200382232666,\n",
       "  2.4308807849884033,\n",
       "  2.412898302078247,\n",
       "  2.406815767288208,\n",
       "  2.5120651721954346,\n",
       "  2.465243101119995,\n",
       "  2.536250352859497,\n",
       "  2.3695685863494873,\n",
       "  2.390836715698242,\n",
       "  2.3766257762908936,\n",
       "  2.3571696281433105,\n",
       "  2.4377546310424805,\n",
       "  2.3567659854888916,\n",
       "  2.513310432434082,\n",
       "  2.481806755065918,\n",
       "  2.392069101333618,\n",
       "  2.384521961212158,\n",
       "  2.430138349533081,\n",
       "  2.3738908767700195,\n",
       "  2.4216182231903076,\n",
       "  2.52707576751709,\n",
       "  2.496694803237915,\n",
       "  2.5072271823883057,\n",
       "  2.377908706665039,\n",
       "  2.469066858291626,\n",
       "  2.5091209411621094,\n",
       "  2.4265034198760986,\n",
       "  2.488715648651123,\n",
       "  2.39587664604187,\n",
       "  2.477064609527588,\n",
       "  2.4137191772460938,\n",
       "  2.4556453227996826,\n",
       "  2.4160842895507812,\n",
       "  2.3724558353424072,\n",
       "  2.526393175125122,\n",
       "  2.3732335567474365,\n",
       "  2.539595603942871,\n",
       "  2.427428960800171,\n",
       "  2.3999626636505127,\n",
       "  2.529860734939575,\n",
       "  2.4808013439178467,\n",
       "  2.6563775539398193,\n",
       "  2.4421329498291016,\n",
       "  2.4479548931121826,\n",
       "  2.444098472595215,\n",
       "  2.517120122909546,\n",
       "  2.3833255767822266,\n",
       "  2.6954174041748047,\n",
       "  2.4869272708892822,\n",
       "  2.4724502563476562,\n",
       "  2.4511032104492188,\n",
       "  2.4147517681121826,\n",
       "  2.433908462524414,\n",
       "  2.4109342098236084,\n",
       "  2.460306406021118,\n",
       "  2.739996910095215,\n",
       "  2.6086175441741943,\n",
       "  2.4916908740997314,\n",
       "  2.5872409343719482,\n",
       "  2.4201500415802,\n",
       "  2.60335636138916,\n",
       "  2.4389805793762207,\n",
       "  2.446138381958008,\n",
       "  2.4998574256896973,\n",
       "  2.5630979537963867,\n",
       "  2.4892466068267822,\n",
       "  2.4051804542541504,\n",
       "  2.4648072719573975,\n",
       "  2.5781667232513428,\n",
       "  2.490053176879883,\n",
       "  2.5021588802337646,\n",
       "  2.521972417831421,\n",
       "  2.475909948348999,\n",
       "  2.5070061683654785,\n",
       "  2.44165301322937,\n",
       "  2.4364237785339355,\n",
       "  2.6478190422058105,\n",
       "  2.436424732208252,\n",
       "  2.5666375160217285,\n",
       "  2.495975971221924,\n",
       "  2.487489938735962,\n",
       "  2.5470426082611084,\n",
       "  2.5546038150787354,\n",
       "  2.488281488418579,\n",
       "  2.5024478435516357,\n",
       "  2.485576629638672,\n",
       "  2.491917610168457,\n",
       "  2.497321605682373,\n",
       "  2.641266107559204,\n",
       "  2.5017125606536865,\n",
       "  2.5593953132629395,\n",
       "  2.467740297317505,\n",
       "  2.5886716842651367,\n",
       "  2.4464454650878906,\n",
       "  2.509331703186035,\n",
       "  2.5642802715301514,\n",
       "  2.5398354530334473,\n",
       "  2.5421202182769775,\n",
       "  2.5507044792175293,\n",
       "  2.611137866973877,\n",
       "  2.4824774265289307,\n",
       "  2.467881679534912,\n",
       "  2.5926787853240967,\n",
       "  2.52526593208313,\n",
       "  2.531785488128662,\n",
       "  2.6927988529205322,\n",
       "  2.5774500370025635,\n",
       "  2.6970880031585693,\n",
       "  2.5315299034118652,\n",
       "  2.482893943786621,\n",
       "  2.556036949157715,\n",
       "  2.509216070175171,\n",
       "  2.5127768516540527,\n",
       "  2.5803463459014893,\n",
       "  2.557523488998413,\n",
       "  2.6004798412323,\n",
       "  2.517108917236328,\n",
       "  2.548471689224243,\n",
       "  2.525582790374756,\n",
       "  2.6748909950256348,\n",
       "  2.611814498901367,\n",
       "  2.571493625640869,\n",
       "  2.584892988204956,\n",
       "  2.5853917598724365,\n",
       "  2.481614589691162,\n",
       "  2.5144877433776855,\n",
       "  2.5716426372528076,\n",
       "  2.528636932373047,\n",
       "  2.612783908843994,\n",
       "  2.709243059158325,\n",
       "  2.5215556621551514,\n",
       "  2.6143598556518555,\n",
       "  2.5835959911346436,\n",
       "  2.611945152282715,\n",
       "  2.5548179149627686,\n",
       "  2.6133432388305664,\n",
       "  2.547334671020508,\n",
       "  2.6315672397613525,\n",
       "  2.6585047245025635,\n",
       "  2.529184103012085,\n",
       "  2.601425886154175,\n",
       "  2.5805740356445312,\n",
       "  2.5468332767486572,\n",
       "  2.586033821105957,\n",
       "  2.6098544597625732,\n",
       "  2.6579294204711914,\n",
       "  2.476962089538574,\n",
       "  2.526869297027588,\n",
       "  2.6515448093414307,\n",
       "  2.6006970405578613,\n",
       "  2.675325393676758,\n",
       "  2.5123181343078613,\n",
       "  2.585160732269287,\n",
       "  2.6889712810516357,\n",
       "  2.649996519088745,\n",
       "  2.621994972229004,\n",
       "  2.64969801902771,\n",
       "  2.6623451709747314,\n",
       "  2.611431360244751,\n",
       "  2.593621015548706,\n",
       "  2.5180141925811768,\n",
       "  2.608954429626465,\n",
       "  2.691331624984741,\n",
       "  2.5786032676696777,\n",
       "  2.684443473815918,\n",
       "  2.571176052093506,\n",
       "  2.5674822330474854,\n",
       "  2.696816921234131,\n",
       "  2.543015480041504,\n",
       "  2.6389613151550293,\n",
       "  2.580042839050293,\n",
       "  2.6113274097442627,\n",
       "  2.6312096118927,\n",
       "  2.763317108154297,\n",
       "  2.748701572418213,\n",
       "  2.6598126888275146,\n",
       "  2.683229923248291,\n",
       "  2.6454977989196777,\n",
       "  2.5897634029388428,\n",
       "  2.6510720252990723,\n",
       "  2.552903175354004,\n",
       "  2.580660104751587,\n",
       "  2.618349552154541,\n",
       "  2.7000961303710938,\n",
       "  2.629434823989868,\n",
       "  2.596616744995117,\n",
       "  2.573012351989746,\n",
       "  2.6142308712005615,\n",
       "  2.6689975261688232,\n",
       "  2.646541118621826,\n",
       "  2.598600387573242,\n",
       "  2.6703853607177734,\n",
       "  2.6183865070343018,\n",
       "  2.575575351715088,\n",
       "  2.604616641998291,\n",
       "  2.661992073059082,\n",
       "  2.610018014907837,\n",
       "  2.650362730026245,\n",
       "  2.681755781173706,\n",
       "  2.7373476028442383,\n",
       "  2.6730222702026367,\n",
       "  2.641406774520874,\n",
       "  2.611679792404175,\n",
       "  2.6191627979278564,\n",
       "  2.6994919776916504,\n",
       "  2.644888401031494,\n",
       "  2.5405681133270264,\n",
       "  2.589775562286377,\n",
       "  2.6194562911987305,\n",
       "  2.607525587081909,\n",
       "  2.6442267894744873,\n",
       "  2.6127569675445557,\n",
       "  2.654252767562866,\n",
       "  2.614445209503174,\n",
       "  2.598275899887085,\n",
       "  2.525635004043579,\n",
       "  2.653148651123047,\n",
       "  2.5576605796813965]]"
      ]
     },
     "execution_count": 74,
     "metadata": {},
     "output_type": "execute_result"
    }
   ],
   "source": [
    "all_mae_histories"
   ]
  },
  {
   "cell_type": "code",
   "execution_count": 75,
   "metadata": {
    "colab_type": "code"
   },
   "outputs": [],
   "source": [
    "average_mae_history = [\n",
    "    np.mean([x[i] for x in all_mae_histories]) for i in range(num_epochs)]"
   ]
  },
  {
   "cell_type": "markdown",
   "metadata": {
    "colab_type": "text"
   },
   "source": [
    "**Plotting validation scores**"
   ]
  },
  {
   "cell_type": "code",
   "execution_count": 76,
   "metadata": {
    "colab_type": "code"
   },
   "outputs": [
    {
     "data": {
      "image/png": "[encoded data removed]",
      "text/plain": [
       "<Figure size 640x480 with 1 Axes>"
      ]
     },
     "metadata": {},
     "output_type": "display_data"
    }
   ],
   "source": [
    "plt.plot(range(1, len(average_mae_history) + 1), average_mae_history)\n",
    "plt.xlabel(\"Epochs\")\n",
    "plt.ylabel(\"Validation MAE\")\n",
    "plt.show()"
   ]
  },
  {
   "cell_type": "markdown",
   "metadata": {
    "colab_type": "text"
   },
   "source": [
    "**Plotting validation scores, excluding the first 10 data points**"
   ]
  },
  {
   "cell_type": "code",
   "execution_count": 77,
   "metadata": {
    "colab_type": "code"
   },
   "outputs": [
    {
     "data": {
      "image/png": "[encoded data removed]",
      "text/plain": [
       "<Figure size 640x480 with 1 Axes>"
      ]
     },
     "metadata": {},
     "output_type": "display_data"
    }
   ],
   "source": [
    "truncated_mae_history = average_mae_history[10:]\n",
    "plt.plot(range(1, len(truncated_mae_history) + 1), truncated_mae_history)\n",
    "plt.xlabel(\"Epochs\")\n",
    "plt.ylabel(\"Validation MAE\")\n",
    "plt.show()"
   ]
  },
  {
   "cell_type": "markdown",
   "metadata": {
    "colab_type": "text"
   },
   "source": [
    "**Training the final model**"
   ]
  },
  {
   "cell_type": "code",
   "execution_count": 78,
   "metadata": {
    "colab_type": "code"
   },
   "outputs": [
    {
     "name": "stdout",
     "output_type": "stream",
     "text": [
      "\u001b[1m4/4\u001b[0m \u001b[32m━━━━━━━━━━━━━━━━━━━━\u001b[0m\u001b[37m\u001b[0m \u001b[1m0s\u001b[0m 10ms/step - loss: 11.9714 - mae: 2.2570\n"
     ]
    }
   ],
   "source": [
    "model = build_model()\n",
    "model.fit(train_data, train_targets,\n",
    "          epochs=130, batch_size=16, verbose=0)\n",
    "test_mse_score, test_mae_score = model.evaluate(test_data, test_targets)"
   ]
  },
  {
   "cell_type": "code",
   "execution_count": 79,
   "metadata": {
    "colab_type": "code"
   },
   "outputs": [
    {
     "data": {
      "text/plain": [
       "2.501002788543701"
      ]
     },
     "execution_count": 79,
     "metadata": {},
     "output_type": "execute_result"
    }
   ],
   "source": [
    "test_mae_score"
   ]
  },
  {
   "cell_type": "markdown",
   "metadata": {
    "colab_type": "text"
   },
   "source": [
    "### Generating predictions on new data"
   ]
  },
  {
   "cell_type": "code",
   "execution_count": 80,
   "metadata": {
    "colab_type": "code"
   },
   "outputs": [
    {
     "name": "stdout",
     "output_type": "stream",
     "text": [
      "\u001b[1m4/4\u001b[0m \u001b[32m━━━━━━━━━━━━━━━━━━━━\u001b[0m\u001b[37m\u001b[0m \u001b[1m0s\u001b[0m 17ms/step\n"
     ]
    },
    {
     "data": {
      "text/plain": [
       "array([7.424346], dtype=float32)"
      ]
     },
     "execution_count": 80,
     "metadata": {},
     "output_type": "execute_result"
    }
   ],
   "source": [
    "predictions = model.predict(test_data)\n",
    "predictions[0]"
   ]
  },
  {
   "cell_type": "markdown",
   "metadata": {
    "colab_type": "text"
   },
   "source": [
    "### Wrapping up"
   ]
  },
  {
   "cell_type": "markdown",
   "metadata": {
    "colab_type": "text"
   },
   "source": [
    "## Summary"
   ]
  }
 ],
 "metadata": {
  "colab": {
   "collapsed_sections": [],
   "name": "chapter04_getting-started-with-neural-networks.i",
   "private_outputs": false,
   "provenance": [],
   "toc_visible": true
  },
  "kernelspec": {
   "display_name": "Python 3 (ipykernel)",
   "language": "python",
   "name": "python3"
  },
  "language_info": {
   "codemirror_mode": {
    "name": "ipython",
    "version": 3
   },
   "file_extension": ".py",
   "mimetype": "text/x-python",
   "name": "python",
   "nbconvert_exporter": "python",
   "pygments_lexer": "ipython3",
   "version": "3.10.16"
  }
 },
 "nbformat": 4,
 "nbformat_minor": 4
}
